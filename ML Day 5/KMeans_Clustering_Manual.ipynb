{
 "cells": [
  {
   "cell_type": "markdown",
   "id": "ddab8c33",
   "metadata": {},
   "source": [
    "# Clustering"
   ]
  },
  {
   "cell_type": "markdown",
   "id": "1563d958",
   "metadata": {},
   "source": [
    "## Problem Statement"
   ]
  },
  {
   "cell_type": "markdown",
   "id": "e4c40d14",
   "metadata": {},
   "source": [
    "Students have to evaluate a lot of factors before taking a decision to join a university for their higher education requirements.\n",
    "The objective of this project is to simplify the process of applying for appropriate universities which are of similar nature. "
   ]
  },
  {
   "cell_type": "markdown",
   "id": "df102b57",
   "metadata": {},
   "source": [
    "`CRISP-ML(Q)` process model describes six phases:\n",
    "\n",
    "1. Business and Data Understanding\n",
    "2. Data Preparation\n",
    "3. Model Building\n",
    "4. Model Evaluation\n",
    "5. Deployment\n",
    "6. Monitoring and Maintenance"
   ]
  },
  {
   "cell_type": "markdown",
   "id": "564b7c78",
   "metadata": {},
   "source": [
    "**Objective(s):** Maximize the convience of admission process\n",
    "\n",
    "**Constraints:** Minimize the brain drain\n"
   ]
  },
  {
   "cell_type": "markdown",
   "id": "538b767b",
   "metadata": {},
   "source": [
    "**Success Criteria**\n",
    "\n",
    "- **Business Success Criteria**: Reduce the application process time from anywhere between 20% to 40%\n",
    "\n",
    "- **ML Success Criteria**: Achieve Silhoutte coefficient of atleast 0.6\n",
    "\n",
    "- **Economic Success Criteria**: US Higher education department will see an increase in revenues by atleast 30%\n",
    "\n",
    "**Proposed Plan:**\n",
    "Grouping the available universities will allow to understand the characteristics of each group."
   ]
  },
  {
   "cell_type": "markdown",
   "id": "8194ccb6",
   "metadata": {},
   "source": [
    "## Data Collection"
   ]
  },
  {
   "cell_type": "markdown",
   "id": "99a6aaff",
   "metadata": {},
   "source": [
    "Data: \n",
    "   The university details are obtained from the US Higher Education Body and is publicly available for students to access.\n",
    "\n",
    "Data Dictionary:\n",
    "- Dataset contains 25 university details\n",
    "- 7 features are recorded for each university\n",
    "\n",
    "Description:\n",
    "- Univ - University Name\n",
    "- State - Location (state) of the university\n",
    "- SAT - Average SAT score for eligibility\n",
    "- Top10 - % of students who ranked in top 10 in their previous academics\n",
    "- Accept - % of students admitted to the universities\n",
    "- SFRatio - Student to Faculty ratio\n",
    "- Expenses - Overall cost in USD\n",
    "- GradRate - % of students who graduate"
   ]
  },
  {
   "cell_type": "markdown",
   "id": "0a22a6f3",
   "metadata": {},
   "source": [
    "#### Install the required packages if not available"
   ]
  },
  {
   "cell_type": "code",
   "execution_count": 4,
   "id": "c4f15a9e",
   "metadata": {},
   "outputs": [],
   "source": [
    "# !pip install feature_engine\n",
    "# !pip install dtale\n",
    "# !pip install sklearn_pandas"
   ]
  },
  {
   "cell_type": "markdown",
   "id": "2d9db3ec",
   "metadata": {},
   "source": [
    "**Importing required packages**"
   ]
  },
  {
   "cell_type": "code",
   "execution_count": 35,
   "id": "e52dfe1e",
   "metadata": {},
   "outputs": [],
   "source": [
    "import numpy as np\n",
    "import pandas as pd \n",
    "from sklearn.cluster import KMeans\n",
    "import matplotlib.pyplot as plt\n",
    "import seaborn as sns\n",
    "from feature_engine.outliers import Winsorizer\n",
    "from sklearn.impute import SimpleImputer\n",
    "from sklearn.compose import ColumnTransformer\n",
    "from sklearn.preprocessing import LabelEncoder\n",
    "from sklearn.pipeline import Pipeline\n",
    "from sklearn.preprocessing import MinMaxScaler"
   ]
  },
  {
   "cell_type": "markdown",
   "id": "92d92c99",
   "metadata": {},
   "source": [
    "### Suppress the Warnings"
   ]
  },
  {
   "cell_type": "code",
   "execution_count": 7,
   "id": "005e62a0",
   "metadata": {},
   "outputs": [],
   "source": [
    "import warnings\n",
    "warnings.filterwarnings(\"ignore\")"
   ]
  },
  {
   "cell_type": "markdown",
   "id": "54c8995a",
   "metadata": {},
   "source": [
    "**Import the data**"
   ]
  },
  {
   "cell_type": "code",
   "execution_count": 8,
   "id": "885b5cb4",
   "metadata": {},
   "outputs": [
    {
     "data": {
      "text/html": [
       "<div>\n",
       "<style scoped>\n",
       "    .dataframe tbody tr th:only-of-type {\n",
       "        vertical-align: middle;\n",
       "    }\n",
       "\n",
       "    .dataframe tbody tr th {\n",
       "        vertical-align: top;\n",
       "    }\n",
       "\n",
       "    .dataframe thead th {\n",
       "        text-align: right;\n",
       "    }\n",
       "</style>\n",
       "<table border=\"1\" class=\"dataframe\">\n",
       "  <thead>\n",
       "    <tr style=\"text-align: right;\">\n",
       "      <th></th>\n",
       "      <th>UnivID</th>\n",
       "      <th>Univ</th>\n",
       "      <th>State</th>\n",
       "      <th>SAT</th>\n",
       "      <th>Top10</th>\n",
       "      <th>Accept</th>\n",
       "      <th>SFRatio</th>\n",
       "      <th>Expenses</th>\n",
       "      <th>GradRate</th>\n",
       "    </tr>\n",
       "  </thead>\n",
       "  <tbody>\n",
       "    <tr>\n",
       "      <th>0</th>\n",
       "      <td>1</td>\n",
       "      <td>Brown</td>\n",
       "      <td>RI</td>\n",
       "      <td>1310.0</td>\n",
       "      <td>89</td>\n",
       "      <td>22</td>\n",
       "      <td>13.0</td>\n",
       "      <td>22704</td>\n",
       "      <td>94.0</td>\n",
       "    </tr>\n",
       "    <tr>\n",
       "      <th>1</th>\n",
       "      <td>2</td>\n",
       "      <td>CalTech</td>\n",
       "      <td>CA</td>\n",
       "      <td>1415.0</td>\n",
       "      <td>100</td>\n",
       "      <td>25</td>\n",
       "      <td>6.0</td>\n",
       "      <td>63575</td>\n",
       "      <td>81.0</td>\n",
       "    </tr>\n",
       "    <tr>\n",
       "      <th>2</th>\n",
       "      <td>3</td>\n",
       "      <td>CMU</td>\n",
       "      <td>PA</td>\n",
       "      <td>1260.0</td>\n",
       "      <td>62</td>\n",
       "      <td>59</td>\n",
       "      <td>9.0</td>\n",
       "      <td>25026</td>\n",
       "      <td>72.0</td>\n",
       "    </tr>\n",
       "    <tr>\n",
       "      <th>3</th>\n",
       "      <td>4</td>\n",
       "      <td>Columbia</td>\n",
       "      <td>NY</td>\n",
       "      <td>1310.0</td>\n",
       "      <td>76</td>\n",
       "      <td>24</td>\n",
       "      <td>12.0</td>\n",
       "      <td>31510</td>\n",
       "      <td>NaN</td>\n",
       "    </tr>\n",
       "    <tr>\n",
       "      <th>4</th>\n",
       "      <td>5</td>\n",
       "      <td>Cornell</td>\n",
       "      <td>NY</td>\n",
       "      <td>1280.0</td>\n",
       "      <td>83</td>\n",
       "      <td>33</td>\n",
       "      <td>13.0</td>\n",
       "      <td>21864</td>\n",
       "      <td>90.0</td>\n",
       "    </tr>\n",
       "    <tr>\n",
       "      <th>5</th>\n",
       "      <td>6</td>\n",
       "      <td>Dartmouth</td>\n",
       "      <td>NH</td>\n",
       "      <td>1340.0</td>\n",
       "      <td>89</td>\n",
       "      <td>23</td>\n",
       "      <td>10.0</td>\n",
       "      <td>32162</td>\n",
       "      <td>95.0</td>\n",
       "    </tr>\n",
       "    <tr>\n",
       "      <th>6</th>\n",
       "      <td>7</td>\n",
       "      <td>Duke</td>\n",
       "      <td>NC</td>\n",
       "      <td>1315.0</td>\n",
       "      <td>90</td>\n",
       "      <td>30</td>\n",
       "      <td>12.0</td>\n",
       "      <td>31585</td>\n",
       "      <td>95.0</td>\n",
       "    </tr>\n",
       "    <tr>\n",
       "      <th>7</th>\n",
       "      <td>8</td>\n",
       "      <td>Georgetown</td>\n",
       "      <td>DC</td>\n",
       "      <td>NaN</td>\n",
       "      <td>74</td>\n",
       "      <td>24</td>\n",
       "      <td>12.0</td>\n",
       "      <td>20126</td>\n",
       "      <td>92.0</td>\n",
       "    </tr>\n",
       "    <tr>\n",
       "      <th>8</th>\n",
       "      <td>9</td>\n",
       "      <td>Harvard</td>\n",
       "      <td>MA</td>\n",
       "      <td>1400.0</td>\n",
       "      <td>91</td>\n",
       "      <td>14</td>\n",
       "      <td>11.0</td>\n",
       "      <td>39525</td>\n",
       "      <td>97.0</td>\n",
       "    </tr>\n",
       "    <tr>\n",
       "      <th>9</th>\n",
       "      <td>10</td>\n",
       "      <td>JohnsHopkins</td>\n",
       "      <td>MD</td>\n",
       "      <td>1305.0</td>\n",
       "      <td>75</td>\n",
       "      <td>44</td>\n",
       "      <td>7.0</td>\n",
       "      <td>58691</td>\n",
       "      <td>87.0</td>\n",
       "    </tr>\n",
       "    <tr>\n",
       "      <th>10</th>\n",
       "      <td>11</td>\n",
       "      <td>MIT</td>\n",
       "      <td>MA</td>\n",
       "      <td>1380.0</td>\n",
       "      <td>94</td>\n",
       "      <td>30</td>\n",
       "      <td>10.0</td>\n",
       "      <td>34870</td>\n",
       "      <td>91.0</td>\n",
       "    </tr>\n",
       "    <tr>\n",
       "      <th>11</th>\n",
       "      <td>12</td>\n",
       "      <td>Northwestern</td>\n",
       "      <td>IL</td>\n",
       "      <td>1260.0</td>\n",
       "      <td>85</td>\n",
       "      <td>39</td>\n",
       "      <td>11.0</td>\n",
       "      <td>28052</td>\n",
       "      <td>89.0</td>\n",
       "    </tr>\n",
       "    <tr>\n",
       "      <th>12</th>\n",
       "      <td>13</td>\n",
       "      <td>NotreDame</td>\n",
       "      <td>IN</td>\n",
       "      <td>1255.0</td>\n",
       "      <td>81</td>\n",
       "      <td>42</td>\n",
       "      <td>13.0</td>\n",
       "      <td>15122</td>\n",
       "      <td>94.0</td>\n",
       "    </tr>\n",
       "    <tr>\n",
       "      <th>13</th>\n",
       "      <td>14</td>\n",
       "      <td>PennState</td>\n",
       "      <td>PA</td>\n",
       "      <td>1081.0</td>\n",
       "      <td>38</td>\n",
       "      <td>54</td>\n",
       "      <td>18.0</td>\n",
       "      <td>10185</td>\n",
       "      <td>80.0</td>\n",
       "    </tr>\n",
       "    <tr>\n",
       "      <th>14</th>\n",
       "      <td>15</td>\n",
       "      <td>Princeton</td>\n",
       "      <td>NJ</td>\n",
       "      <td>1375.0</td>\n",
       "      <td>91</td>\n",
       "      <td>14</td>\n",
       "      <td>8.0</td>\n",
       "      <td>30220</td>\n",
       "      <td>95.0</td>\n",
       "    </tr>\n",
       "    <tr>\n",
       "      <th>15</th>\n",
       "      <td>16</td>\n",
       "      <td>Purdue</td>\n",
       "      <td>IN</td>\n",
       "      <td>1005.0</td>\n",
       "      <td>28</td>\n",
       "      <td>90</td>\n",
       "      <td>19.0</td>\n",
       "      <td>9066</td>\n",
       "      <td>69.0</td>\n",
       "    </tr>\n",
       "    <tr>\n",
       "      <th>16</th>\n",
       "      <td>17</td>\n",
       "      <td>Stanford</td>\n",
       "      <td>CA</td>\n",
       "      <td>1360.0</td>\n",
       "      <td>90</td>\n",
       "      <td>20</td>\n",
       "      <td>12.0</td>\n",
       "      <td>36450</td>\n",
       "      <td>93.0</td>\n",
       "    </tr>\n",
       "    <tr>\n",
       "      <th>17</th>\n",
       "      <td>18</td>\n",
       "      <td>TexasA&amp;M</td>\n",
       "      <td>TX</td>\n",
       "      <td>1075.0</td>\n",
       "      <td>49</td>\n",
       "      <td>67</td>\n",
       "      <td>25.0</td>\n",
       "      <td>8704</td>\n",
       "      <td>67.0</td>\n",
       "    </tr>\n",
       "    <tr>\n",
       "      <th>18</th>\n",
       "      <td>19</td>\n",
       "      <td>UCBerkeley</td>\n",
       "      <td>CA</td>\n",
       "      <td>1240.0</td>\n",
       "      <td>95</td>\n",
       "      <td>40</td>\n",
       "      <td>17.0</td>\n",
       "      <td>15140</td>\n",
       "      <td>78.0</td>\n",
       "    </tr>\n",
       "    <tr>\n",
       "      <th>19</th>\n",
       "      <td>20</td>\n",
       "      <td>UChicago</td>\n",
       "      <td>IL</td>\n",
       "      <td>1290.0</td>\n",
       "      <td>75</td>\n",
       "      <td>50</td>\n",
       "      <td>NaN</td>\n",
       "      <td>38380</td>\n",
       "      <td>87.0</td>\n",
       "    </tr>\n",
       "    <tr>\n",
       "      <th>20</th>\n",
       "      <td>21</td>\n",
       "      <td>UMichigan</td>\n",
       "      <td>MI</td>\n",
       "      <td>1180.0</td>\n",
       "      <td>65</td>\n",
       "      <td>68</td>\n",
       "      <td>16.0</td>\n",
       "      <td>15470</td>\n",
       "      <td>85.0</td>\n",
       "    </tr>\n",
       "    <tr>\n",
       "      <th>21</th>\n",
       "      <td>22</td>\n",
       "      <td>UPenn</td>\n",
       "      <td>PA</td>\n",
       "      <td>1285.0</td>\n",
       "      <td>80</td>\n",
       "      <td>36</td>\n",
       "      <td>11.0</td>\n",
       "      <td>27553</td>\n",
       "      <td>90.0</td>\n",
       "    </tr>\n",
       "    <tr>\n",
       "      <th>22</th>\n",
       "      <td>23</td>\n",
       "      <td>UVA</td>\n",
       "      <td>VA</td>\n",
       "      <td>1225.0</td>\n",
       "      <td>77</td>\n",
       "      <td>44</td>\n",
       "      <td>14.0</td>\n",
       "      <td>13349</td>\n",
       "      <td>92.0</td>\n",
       "    </tr>\n",
       "    <tr>\n",
       "      <th>23</th>\n",
       "      <td>24</td>\n",
       "      <td>UWisconsin</td>\n",
       "      <td>WI</td>\n",
       "      <td>1085.0</td>\n",
       "      <td>40</td>\n",
       "      <td>69</td>\n",
       "      <td>15.0</td>\n",
       "      <td>11857</td>\n",
       "      <td>71.0</td>\n",
       "    </tr>\n",
       "    <tr>\n",
       "      <th>24</th>\n",
       "      <td>25</td>\n",
       "      <td>Yale</td>\n",
       "      <td>CT</td>\n",
       "      <td>1375.0</td>\n",
       "      <td>95</td>\n",
       "      <td>19</td>\n",
       "      <td>11.0</td>\n",
       "      <td>43514</td>\n",
       "      <td>96.0</td>\n",
       "    </tr>\n",
       "  </tbody>\n",
       "</table>\n",
       "</div>"
      ],
      "text/plain": [
       "    UnivID          Univ State     SAT  Top10  Accept  SFRatio  Expenses  \\\n",
       "0        1         Brown    RI  1310.0     89      22     13.0     22704   \n",
       "1        2       CalTech    CA  1415.0    100      25      6.0     63575   \n",
       "2        3           CMU    PA  1260.0     62      59      9.0     25026   \n",
       "3        4      Columbia    NY  1310.0     76      24     12.0     31510   \n",
       "4        5       Cornell    NY  1280.0     83      33     13.0     21864   \n",
       "5        6     Dartmouth    NH  1340.0     89      23     10.0     32162   \n",
       "6        7          Duke    NC  1315.0     90      30     12.0     31585   \n",
       "7        8    Georgetown    DC     NaN     74      24     12.0     20126   \n",
       "8        9       Harvard    MA  1400.0     91      14     11.0     39525   \n",
       "9       10  JohnsHopkins    MD  1305.0     75      44      7.0     58691   \n",
       "10      11           MIT    MA  1380.0     94      30     10.0     34870   \n",
       "11      12  Northwestern    IL  1260.0     85      39     11.0     28052   \n",
       "12      13     NotreDame    IN  1255.0     81      42     13.0     15122   \n",
       "13      14     PennState    PA  1081.0     38      54     18.0     10185   \n",
       "14      15     Princeton    NJ  1375.0     91      14      8.0     30220   \n",
       "15      16        Purdue    IN  1005.0     28      90     19.0      9066   \n",
       "16      17      Stanford    CA  1360.0     90      20     12.0     36450   \n",
       "17      18      TexasA&M    TX  1075.0     49      67     25.0      8704   \n",
       "18      19    UCBerkeley    CA  1240.0     95      40     17.0     15140   \n",
       "19      20      UChicago    IL  1290.0     75      50      NaN     38380   \n",
       "20      21     UMichigan    MI  1180.0     65      68     16.0     15470   \n",
       "21      22         UPenn    PA  1285.0     80      36     11.0     27553   \n",
       "22      23           UVA    VA  1225.0     77      44     14.0     13349   \n",
       "23      24    UWisconsin    WI  1085.0     40      69     15.0     11857   \n",
       "24      25          Yale    CT  1375.0     95      19     11.0     43514   \n",
       "\n",
       "    GradRate  \n",
       "0       94.0  \n",
       "1       81.0  \n",
       "2       72.0  \n",
       "3        NaN  \n",
       "4       90.0  \n",
       "5       95.0  \n",
       "6       95.0  \n",
       "7       92.0  \n",
       "8       97.0  \n",
       "9       87.0  \n",
       "10      91.0  \n",
       "11      89.0  \n",
       "12      94.0  \n",
       "13      80.0  \n",
       "14      95.0  \n",
       "15      69.0  \n",
       "16      93.0  \n",
       "17      67.0  \n",
       "18      78.0  \n",
       "19      87.0  \n",
       "20      85.0  \n",
       "21      90.0  \n",
       "22      92.0  \n",
       "23      71.0  \n",
       "24      96.0  "
      ]
     },
     "execution_count": 8,
     "metadata": {},
     "output_type": "execute_result"
    }
   ],
   "source": [
    "df = pd.read_excel(r'C:\\Data\\University_Clustering.xlsx')\n",
    "df"
   ]
  },
  {
   "cell_type": "code",
   "execution_count": 9,
   "id": "53119a89",
   "metadata": {},
   "outputs": [
    {
     "name": "stdout",
     "output_type": "stream",
     "text": [
      "<class 'pandas.core.frame.DataFrame'>\n",
      "RangeIndex: 25 entries, 0 to 24\n",
      "Data columns (total 9 columns):\n",
      " #   Column    Non-Null Count  Dtype  \n",
      "---  ------    --------------  -----  \n",
      " 0   UnivID    25 non-null     int64  \n",
      " 1   Univ      25 non-null     object \n",
      " 2   State     25 non-null     object \n",
      " 3   SAT       24 non-null     float64\n",
      " 4   Top10     25 non-null     int64  \n",
      " 5   Accept    25 non-null     int64  \n",
      " 6   SFRatio   24 non-null     float64\n",
      " 7   Expenses  25 non-null     int64  \n",
      " 8   GradRate  24 non-null     float64\n",
      "dtypes: float64(3), int64(4), object(2)\n",
      "memory usage: 1.9+ KB\n"
     ]
    }
   ],
   "source": [
    "df.info()"
   ]
  },
  {
   "cell_type": "markdown",
   "id": "aaed0217",
   "metadata": {},
   "source": [
    "# EXPLORATORY DATA ANALYSIS (EDA) / DESCRIPTIVE STATISTICS"
   ]
  },
  {
   "cell_type": "markdown",
   "id": "26f19a33",
   "metadata": {},
   "source": [
    "***1st Moment Business Decision (Measures of Central Tendency)***\n",
    "\n",
    "1) Mean\n",
    "\n",
    "2) Median\n",
    "\n",
    "3) Mode"
   ]
  },
  {
   "cell_type": "code",
   "execution_count": 12,
   "id": "489a70ca",
   "metadata": {},
   "outputs": [
    {
     "name": "stdout",
     "output_type": "stream",
     "text": [
      "UnivID         13.000000\n",
      "SAT          1266.916667\n",
      "Top10          76.480000\n",
      "Accept         39.200000\n",
      "SFRatio        12.708333\n",
      "Expenses    27388.000000\n",
      "GradRate       86.666667\n",
      "dtype: float64\n",
      "\n",
      "\n",
      "UnivID         13.0\n",
      "SAT          1287.5\n",
      "Top10          81.0\n",
      "Accept         36.0\n",
      "SFRatio        12.0\n",
      "Expenses    27553.0\n",
      "GradRate       90.0\n",
      "dtype: float64\n",
      "\n",
      "\n",
      "    UnivID          Univ State     SAT  Top10  Accept  SFRatio  Expenses  \\\n",
      "0        1         Brown    CA  1260.0   75.0    14.0     11.0      8704   \n",
      "1        2           CMU    PA  1310.0   89.0    24.0     12.0      9066   \n",
      "2        3       CalTech   NaN  1375.0   90.0    30.0      NaN     10185   \n",
      "3        4      Columbia   NaN     NaN   91.0    44.0      NaN     11857   \n",
      "4        5       Cornell   NaN     NaN   95.0     NaN      NaN     13349   \n",
      "5        6     Dartmouth   NaN     NaN    NaN     NaN      NaN     15122   \n",
      "6        7          Duke   NaN     NaN    NaN     NaN      NaN     15140   \n",
      "7        8    Georgetown   NaN     NaN    NaN     NaN      NaN     15470   \n",
      "8        9       Harvard   NaN     NaN    NaN     NaN      NaN     20126   \n",
      "9       10  JohnsHopkins   NaN     NaN    NaN     NaN      NaN     21864   \n",
      "10      11           MIT   NaN     NaN    NaN     NaN      NaN     22704   \n",
      "11      12  Northwestern   NaN     NaN    NaN     NaN      NaN     25026   \n",
      "12      13     NotreDame   NaN     NaN    NaN     NaN      NaN     27553   \n",
      "13      14     PennState   NaN     NaN    NaN     NaN      NaN     28052   \n",
      "14      15     Princeton   NaN     NaN    NaN     NaN      NaN     30220   \n",
      "15      16        Purdue   NaN     NaN    NaN     NaN      NaN     31510   \n",
      "16      17      Stanford   NaN     NaN    NaN     NaN      NaN     31585   \n",
      "17      18      TexasA&M   NaN     NaN    NaN     NaN      NaN     32162   \n",
      "18      19    UCBerkeley   NaN     NaN    NaN     NaN      NaN     34870   \n",
      "19      20      UChicago   NaN     NaN    NaN     NaN      NaN     36450   \n",
      "20      21     UMichigan   NaN     NaN    NaN     NaN      NaN     38380   \n",
      "21      22         UPenn   NaN     NaN    NaN     NaN      NaN     39525   \n",
      "22      23           UVA   NaN     NaN    NaN     NaN      NaN     43514   \n",
      "23      24    UWisconsin   NaN     NaN    NaN     NaN      NaN     58691   \n",
      "24      25          Yale   NaN     NaN    NaN     NaN      NaN     63575   \n",
      "\n",
      "    GradRate  \n",
      "0       95.0  \n",
      "1        NaN  \n",
      "2        NaN  \n",
      "3        NaN  \n",
      "4        NaN  \n",
      "5        NaN  \n",
      "6        NaN  \n",
      "7        NaN  \n",
      "8        NaN  \n",
      "9        NaN  \n",
      "10       NaN  \n",
      "11       NaN  \n",
      "12       NaN  \n",
      "13       NaN  \n",
      "14       NaN  \n",
      "15       NaN  \n",
      "16       NaN  \n",
      "17       NaN  \n",
      "18       NaN  \n",
      "19       NaN  \n",
      "20       NaN  \n",
      "21       NaN  \n",
      "22       NaN  \n",
      "23       NaN  \n",
      "24       NaN  \n"
     ]
    }
   ],
   "source": [
    "print(df.mean())\n",
    "print('\\n')\n",
    "print(df.median())\n",
    "print('\\n')\n",
    "print(df.mode())"
   ]
  },
  {
   "cell_type": "markdown",
   "id": "3b1338d2",
   "metadata": {},
   "source": [
    "***2nd Moment Business Decision (Measures of Dispersion)***\n",
    "\n",
    "1) Variance\n",
    "\n",
    "2) Standard deviation\n",
    "\n",
    "3) Range (maximum - minimum)"
   ]
  },
  {
   "cell_type": "code",
   "execution_count": 13,
   "id": "2d91229e",
   "metadata": {},
   "outputs": [
    {
     "name": "stdout",
     "output_type": "stream",
     "text": [
      "UnivID      5.416667e+01\n",
      "SAT         1.224643e+04\n",
      "Top10       3.776767e+02\n",
      "Accept      3.891667e+02\n",
      "SFRatio     1.725906e+01\n",
      "Expenses    2.080773e+08\n",
      "GradRate    8.553623e+01\n",
      "dtype: float64\n",
      "\n",
      "\n",
      "UnivID          7.359801\n",
      "SAT           110.663578\n",
      "Top10          19.433905\n",
      "Accept         19.727308\n",
      "SFRatio         4.154402\n",
      "Expenses    14424.883165\n",
      "GradRate        9.248580\n",
      "dtype: float64\n"
     ]
    }
   ],
   "source": [
    "print(df.var())\n",
    "print('\\n')\n",
    "print(df.std())"
   ]
  },
  {
   "cell_type": "markdown",
   "id": "2588742b",
   "metadata": {},
   "source": [
    "***3rd Business Moment Decision (Skewness)***\n",
    "\n",
    "Measure of asymmetry in the data distribution"
   ]
  },
  {
   "cell_type": "code",
   "execution_count": 14,
   "id": "86d859b4",
   "metadata": {},
   "outputs": [
    {
     "data": {
      "text/plain": [
       "UnivID      0.000000\n",
       "SAT        -0.948996\n",
       "Top10      -1.219756\n",
       "Accept      0.867538\n",
       "SFRatio     1.110628\n",
       "Expenses    0.852350\n",
       "GradRate   -0.964565\n",
       "dtype: float64"
      ]
     },
     "execution_count": 14,
     "metadata": {},
     "output_type": "execute_result"
    }
   ],
   "source": [
    "df.skew()"
   ]
  },
  {
   "cell_type": "markdown",
   "id": "d07056d7",
   "metadata": {},
   "source": [
    "***4th Business Moment Decision (Kurtosis)***\n",
    "\n",
    "Measure of peakedness - represents the overall spread in the data"
   ]
  },
  {
   "cell_type": "code",
   "execution_count": 15,
   "id": "3f45b4b7",
   "metadata": {},
   "outputs": [
    {
     "data": {
      "text/plain": [
       "UnivID     -1.200000\n",
       "SAT         0.240543\n",
       "Top10       0.700307\n",
       "Accept      0.252908\n",
       "SFRatio     2.171173\n",
       "Expenses    0.638162\n",
       "GradRate   -0.307285\n",
       "dtype: float64"
      ]
     },
     "execution_count": 15,
     "metadata": {},
     "output_type": "execute_result"
    }
   ],
   "source": [
    "df.kurt()"
   ]
  },
  {
   "cell_type": "markdown",
   "id": "cb019b38",
   "metadata": {},
   "source": [
    "***Descriptive Statistics and Data Distribution Function***"
   ]
  },
  {
   "cell_type": "code",
   "execution_count": 11,
   "id": "04fd3fc6",
   "metadata": {},
   "outputs": [
    {
     "data": {
      "text/html": [
       "<div>\n",
       "<style scoped>\n",
       "    .dataframe tbody tr th:only-of-type {\n",
       "        vertical-align: middle;\n",
       "    }\n",
       "\n",
       "    .dataframe tbody tr th {\n",
       "        vertical-align: top;\n",
       "    }\n",
       "\n",
       "    .dataframe thead th {\n",
       "        text-align: right;\n",
       "    }\n",
       "</style>\n",
       "<table border=\"1\" class=\"dataframe\">\n",
       "  <thead>\n",
       "    <tr style=\"text-align: right;\">\n",
       "      <th></th>\n",
       "      <th>UnivID</th>\n",
       "      <th>SAT</th>\n",
       "      <th>Top10</th>\n",
       "      <th>Accept</th>\n",
       "      <th>SFRatio</th>\n",
       "      <th>Expenses</th>\n",
       "      <th>GradRate</th>\n",
       "    </tr>\n",
       "  </thead>\n",
       "  <tbody>\n",
       "    <tr>\n",
       "      <th>count</th>\n",
       "      <td>25.000000</td>\n",
       "      <td>24.000000</td>\n",
       "      <td>25.000000</td>\n",
       "      <td>25.000000</td>\n",
       "      <td>24.000000</td>\n",
       "      <td>25.000000</td>\n",
       "      <td>24.000000</td>\n",
       "    </tr>\n",
       "    <tr>\n",
       "      <th>mean</th>\n",
       "      <td>13.000000</td>\n",
       "      <td>1266.916667</td>\n",
       "      <td>76.480000</td>\n",
       "      <td>39.200000</td>\n",
       "      <td>12.708333</td>\n",
       "      <td>27388.000000</td>\n",
       "      <td>86.666667</td>\n",
       "    </tr>\n",
       "    <tr>\n",
       "      <th>std</th>\n",
       "      <td>7.359801</td>\n",
       "      <td>110.663578</td>\n",
       "      <td>19.433905</td>\n",
       "      <td>19.727308</td>\n",
       "      <td>4.154402</td>\n",
       "      <td>14424.883165</td>\n",
       "      <td>9.248580</td>\n",
       "    </tr>\n",
       "    <tr>\n",
       "      <th>min</th>\n",
       "      <td>1.000000</td>\n",
       "      <td>1005.000000</td>\n",
       "      <td>28.000000</td>\n",
       "      <td>14.000000</td>\n",
       "      <td>6.000000</td>\n",
       "      <td>8704.000000</td>\n",
       "      <td>67.000000</td>\n",
       "    </tr>\n",
       "    <tr>\n",
       "      <th>25%</th>\n",
       "      <td>7.000000</td>\n",
       "      <td>1236.250000</td>\n",
       "      <td>74.000000</td>\n",
       "      <td>24.000000</td>\n",
       "      <td>10.750000</td>\n",
       "      <td>15140.000000</td>\n",
       "      <td>80.750000</td>\n",
       "    </tr>\n",
       "    <tr>\n",
       "      <th>50%</th>\n",
       "      <td>13.000000</td>\n",
       "      <td>1287.500000</td>\n",
       "      <td>81.000000</td>\n",
       "      <td>36.000000</td>\n",
       "      <td>12.000000</td>\n",
       "      <td>27553.000000</td>\n",
       "      <td>90.000000</td>\n",
       "    </tr>\n",
       "    <tr>\n",
       "      <th>75%</th>\n",
       "      <td>19.000000</td>\n",
       "      <td>1345.000000</td>\n",
       "      <td>90.000000</td>\n",
       "      <td>50.000000</td>\n",
       "      <td>14.250000</td>\n",
       "      <td>34870.000000</td>\n",
       "      <td>94.000000</td>\n",
       "    </tr>\n",
       "    <tr>\n",
       "      <th>max</th>\n",
       "      <td>25.000000</td>\n",
       "      <td>1415.000000</td>\n",
       "      <td>100.000000</td>\n",
       "      <td>90.000000</td>\n",
       "      <td>25.000000</td>\n",
       "      <td>63575.000000</td>\n",
       "      <td>97.000000</td>\n",
       "    </tr>\n",
       "  </tbody>\n",
       "</table>\n",
       "</div>"
      ],
      "text/plain": [
       "          UnivID          SAT       Top10     Accept    SFRatio      Expenses  \\\n",
       "count  25.000000    24.000000   25.000000  25.000000  24.000000     25.000000   \n",
       "mean   13.000000  1266.916667   76.480000  39.200000  12.708333  27388.000000   \n",
       "std     7.359801   110.663578   19.433905  19.727308   4.154402  14424.883165   \n",
       "min     1.000000  1005.000000   28.000000  14.000000   6.000000   8704.000000   \n",
       "25%     7.000000  1236.250000   74.000000  24.000000  10.750000  15140.000000   \n",
       "50%    13.000000  1287.500000   81.000000  36.000000  12.000000  27553.000000   \n",
       "75%    19.000000  1345.000000   90.000000  50.000000  14.250000  34870.000000   \n",
       "max    25.000000  1415.000000  100.000000  90.000000  25.000000  63575.000000   \n",
       "\n",
       "        GradRate  \n",
       "count  24.000000  \n",
       "mean   86.666667  \n",
       "std     9.248580  \n",
       "min    67.000000  \n",
       "25%    80.750000  \n",
       "50%    90.000000  \n",
       "75%    94.000000  \n",
       "max    97.000000  "
      ]
     },
     "execution_count": 11,
     "metadata": {},
     "output_type": "execute_result"
    }
   ],
   "source": [
    "df.describe()"
   ]
  },
  {
   "cell_type": "markdown",
   "id": "d623dd27",
   "metadata": {},
   "source": [
    "# Data Preprocessing"
   ]
  },
  {
   "cell_type": "markdown",
   "id": "4b9318fc",
   "metadata": {},
   "source": [
    "**Typecasting** :\n",
    "\n",
    "As Python automatically interprets the data types. There may be a requirement for the data type to be converted. The process of converting one data type to another data type is called Typecasting.\n",
    "\n",
    "Example: \n",
    "1) int to float\n",
    "\n",
    "2) float to int"
   ]
  },
  {
   "cell_type": "code",
   "execution_count": 16,
   "id": "92f18f85",
   "metadata": {},
   "outputs": [
    {
     "data": {
      "text/plain": [
       "UnivID        int64\n",
       "Univ         object\n",
       "State        object\n",
       "SAT         float64\n",
       "Top10         int64\n",
       "Accept        int64\n",
       "SFRatio     float64\n",
       "Expenses      int64\n",
       "GradRate    float64\n",
       "dtype: object"
      ]
     },
     "execution_count": 16,
     "metadata": {},
     "output_type": "execute_result"
    }
   ],
   "source": [
    "df.dtypes"
   ]
  },
  {
   "cell_type": "markdown",
   "id": "53a87dac",
   "metadata": {},
   "source": [
    "The dataset contains UnivID which is being interpreted as Integer by Python. UnivID is an identity and a unique number given to each university. Hence it should be treated as a categorical data. We can convert the integer data to string type."
   ]
  },
  {
   "cell_type": "code",
   "execution_count": 17,
   "id": "d012d89c",
   "metadata": {},
   "outputs": [
    {
     "data": {
      "text/plain": [
       "UnivID       object\n",
       "Univ         object\n",
       "State        object\n",
       "SAT         float64\n",
       "Top10         int64\n",
       "Accept        int64\n",
       "SFRatio     float64\n",
       "Expenses      int64\n",
       "GradRate    float64\n",
       "dtype: object"
      ]
     },
     "execution_count": 17,
     "metadata": {},
     "output_type": "execute_result"
    }
   ],
   "source": [
    "# Convert 'int64' to 'str' (string) type.\n",
    "\n",
    "df.UnivID = df.UnivID.astype('str')\n",
    "df.dtypes"
   ]
  },
  {
   "cell_type": "markdown",
   "id": "bcd9c792",
   "metadata": {},
   "source": [
    "**Cleaning Unwanted columns**\n",
    "\n",
    "UnivID is an identity to each university. Analytically it does not have any value (Nominal data). We can safely ignore the ID column by dropping the column."
   ]
  },
  {
   "cell_type": "code",
   "execution_count": 18,
   "id": "de35b1b0",
   "metadata": {},
   "outputs": [],
   "source": [
    "df.drop(['UnivID'], axis = 1, inplace = True)"
   ]
  },
  {
   "cell_type": "code",
   "execution_count": 19,
   "id": "4b8baffb",
   "metadata": {},
   "outputs": [
    {
     "name": "stdout",
     "output_type": "stream",
     "text": [
      "<class 'pandas.core.frame.DataFrame'>\n",
      "RangeIndex: 25 entries, 0 to 24\n",
      "Data columns (total 8 columns):\n",
      " #   Column    Non-Null Count  Dtype  \n",
      "---  ------    --------------  -----  \n",
      " 0   Univ      25 non-null     object \n",
      " 1   State     25 non-null     object \n",
      " 2   SAT       24 non-null     float64\n",
      " 3   Top10     25 non-null     int64  \n",
      " 4   Accept    25 non-null     int64  \n",
      " 5   SFRatio   24 non-null     float64\n",
      " 6   Expenses  25 non-null     int64  \n",
      " 7   GradRate  24 non-null     float64\n",
      "dtypes: float64(3), int64(3), object(2)\n",
      "memory usage: 1.7+ KB\n"
     ]
    }
   ],
   "source": [
    "df.info()"
   ]
  },
  {
   "cell_type": "markdown",
   "id": "67fdf9a0",
   "metadata": {},
   "source": [
    "**Handling duplicates:**\n",
    "\n",
    "If the dataset has multiple entries of the same record then we can remove the duplicate entries. In our dataset we dont have duplicates. In case of duplicates we will use function drop_duplicates()"
   ]
  },
  {
   "cell_type": "code",
   "execution_count": 20,
   "id": "6dca8204",
   "metadata": {},
   "outputs": [
    {
     "data": {
      "text/plain": [
       "0"
      ]
     },
     "execution_count": 20,
     "metadata": {},
     "output_type": "execute_result"
    }
   ],
   "source": [
    "duplicate = df.duplicated()  # Returns Boolean Series denoting duplicate rows.\n",
    "duplicate\n",
    "sum(duplicate)"
   ]
  },
  {
   "cell_type": "code",
   "execution_count": 21,
   "id": "ad8e0bd2",
   "metadata": {},
   "outputs": [],
   "source": [
    "# Removing Duplicates\n",
    "df = df.drop_duplicates() # Returns DataFrame with duplicate rows removed."
   ]
  },
  {
   "cell_type": "markdown",
   "id": "23349e6c",
   "metadata": {},
   "source": [
    "**Missing Value Analysis**\n",
    "\n",
    "***IMPUTATION:***\n",
    "\n",
    "The process of dealing with missing values is called Imputation.\n",
    "\n",
    "Most popular substitution based Imputation techniques are:\n",
    "\n",
    "1) Mean imputation for numeric data\n",
    "\n",
    "2) Mode imputation for non-numeric data"
   ]
  },
  {
   "cell_type": "code",
   "execution_count": 22,
   "id": "f33eed33",
   "metadata": {},
   "outputs": [
    {
     "data": {
      "text/plain": [
       "Univ        0\n",
       "State       0\n",
       "SAT         1\n",
       "Top10       0\n",
       "Accept      0\n",
       "SFRatio     1\n",
       "Expenses    0\n",
       "GradRate    1\n",
       "dtype: int64"
      ]
     },
     "execution_count": 22,
     "metadata": {},
     "output_type": "execute_result"
    }
   ],
   "source": [
    "df.isnull().sum() # Check for missing values"
   ]
  },
  {
   "cell_type": "code",
   "execution_count": 23,
   "id": "1ddcce24",
   "metadata": {},
   "outputs": [
    {
     "data": {
      "text/plain": [
       "pandas.core.series.Series"
      ]
     },
     "execution_count": 23,
     "metadata": {},
     "output_type": "execute_result"
    }
   ],
   "source": [
    "type(df[\"SAT\"])"
   ]
  },
  {
   "cell_type": "code",
   "execution_count": 24,
   "id": "21ce9654",
   "metadata": {},
   "outputs": [
    {
     "data": {
      "text/plain": [
       "pandas.core.frame.DataFrame"
      ]
     },
     "execution_count": 24,
     "metadata": {},
     "output_type": "execute_result"
    }
   ],
   "source": [
    "type(df[[\"SAT\"]])"
   ]
  },
  {
   "cell_type": "code",
   "execution_count": 25,
   "id": "6d1df238",
   "metadata": {},
   "outputs": [
    {
     "data": {
      "text/plain": [
       "0"
      ]
     },
     "execution_count": 25,
     "metadata": {},
     "output_type": "execute_result"
    }
   ],
   "source": [
    "from sklearn.impute import SimpleImputer\n",
    "\n",
    "# Mean Imputer \n",
    "mean_imputer = SimpleImputer(missing_values = np.nan, strategy = 'mean')\n",
    "df[\"SAT\"] = pd.DataFrame(mean_imputer.fit_transform(df[[\"SAT\"]]))\n",
    "\n",
    "df[\"SAT\"].isna().sum()"
   ]
  },
  {
   "cell_type": "code",
   "execution_count": 26,
   "id": "55c0c67a",
   "metadata": {},
   "outputs": [
    {
     "data": {
      "text/plain": [
       "0"
      ]
     },
     "execution_count": 26,
     "metadata": {},
     "output_type": "execute_result"
    }
   ],
   "source": [
    "# Median Imputer\n",
    "median_imputer = SimpleImputer(missing_values = np.nan, strategy = 'median')\n",
    "df[\"SFRatio\"] = pd.DataFrame(median_imputer.fit_transform(df[[\"SFRatio\"]]))\n",
    "\n",
    "df[\"SFRatio\"].isna().sum()  # all records replaced by median "
   ]
  },
  {
   "cell_type": "code",
   "execution_count": 27,
   "id": "241495a9",
   "metadata": {},
   "outputs": [
    {
     "data": {
      "text/plain": [
       "0"
      ]
     },
     "execution_count": 27,
     "metadata": {},
     "output_type": "execute_result"
    }
   ],
   "source": [
    "# Random Imputer\n",
    "from feature_engine.imputation import RandomSampleImputer\n",
    "\n",
    "random_imputer = RandomSampleImputer(['GradRate'])\n",
    "df[\"GradRate\"] = pd.DataFrame(random_imputer.fit_transform(df[[\"GradRate\"]]))\n",
    "\n",
    "df[\"GradRate\"].isna().sum()  # all records replaced by a random value"
   ]
  },
  {
   "cell_type": "code",
   "execution_count": 28,
   "id": "e66e08fc",
   "metadata": {},
   "outputs": [
    {
     "data": {
      "text/plain": [
       "Univ        0\n",
       "State       0\n",
       "SAT         0\n",
       "Top10       0\n",
       "Accept      0\n",
       "SFRatio     0\n",
       "Expenses    0\n",
       "GradRate    0\n",
       "dtype: int64"
      ]
     },
     "execution_count": 28,
     "metadata": {},
     "output_type": "execute_result"
    }
   ],
   "source": [
    "df.isna().sum()"
   ]
  },
  {
   "cell_type": "markdown",
   "id": "e7e12fb2",
   "metadata": {},
   "source": [
    "## Single code for Mean Imputation on the entire dataset.\n",
    "\n",
    "\n",
    "#### Alternative option"
   ]
  },
  {
   "cell_type": "code",
   "execution_count": 30,
   "id": "a1c4c5d6",
   "metadata": {},
   "outputs": [],
   "source": [
    "df.fillna(df.mean(), inplace = True)"
   ]
  },
  {
   "cell_type": "markdown",
   "id": "97be466a",
   "metadata": {},
   "source": [
    "### Outliers Analysis:\n",
    "\n",
    "Exceptional data values in a variable can be outliers. In case of outliers we can use one of the strategies of 3 R (Rectify, Retain, or Remove)"
   ]
  },
  {
   "cell_type": "markdown",
   "id": "8e74f4dc",
   "metadata": {},
   "source": [
    "**Dividing Categorical and Numerical variables from dataset**"
   ]
  },
  {
   "cell_type": "code",
   "execution_count": 31,
   "id": "b4437a2f",
   "metadata": {},
   "outputs": [
    {
     "data": {
      "text/html": [
       "<div>\n",
       "<style scoped>\n",
       "    .dataframe tbody tr th:only-of-type {\n",
       "        vertical-align: middle;\n",
       "    }\n",
       "\n",
       "    .dataframe tbody tr th {\n",
       "        vertical-align: top;\n",
       "    }\n",
       "\n",
       "    .dataframe thead th {\n",
       "        text-align: right;\n",
       "    }\n",
       "</style>\n",
       "<table border=\"1\" class=\"dataframe\">\n",
       "  <thead>\n",
       "    <tr style=\"text-align: right;\">\n",
       "      <th></th>\n",
       "      <th>Univ</th>\n",
       "      <th>State</th>\n",
       "    </tr>\n",
       "  </thead>\n",
       "  <tbody>\n",
       "    <tr>\n",
       "      <th>0</th>\n",
       "      <td>Brown</td>\n",
       "      <td>RI</td>\n",
       "    </tr>\n",
       "    <tr>\n",
       "      <th>1</th>\n",
       "      <td>CalTech</td>\n",
       "      <td>CA</td>\n",
       "    </tr>\n",
       "    <tr>\n",
       "      <th>2</th>\n",
       "      <td>CMU</td>\n",
       "      <td>PA</td>\n",
       "    </tr>\n",
       "    <tr>\n",
       "      <th>3</th>\n",
       "      <td>Columbia</td>\n",
       "      <td>NY</td>\n",
       "    </tr>\n",
       "    <tr>\n",
       "      <th>4</th>\n",
       "      <td>Cornell</td>\n",
       "      <td>NY</td>\n",
       "    </tr>\n",
       "  </tbody>\n",
       "</table>\n",
       "</div>"
      ],
      "text/plain": [
       "       Univ State\n",
       "0     Brown    RI\n",
       "1   CalTech    CA\n",
       "2       CMU    PA\n",
       "3  Columbia    NY\n",
       "4   Cornell    NY"
      ]
     },
     "execution_count": 31,
     "metadata": {},
     "output_type": "execute_result"
    }
   ],
   "source": [
    "df_cate = df.iloc[:, :2]\n",
    "df_cate.head()"
   ]
  },
  {
   "cell_type": "code",
   "execution_count": 32,
   "id": "101a3326",
   "metadata": {},
   "outputs": [
    {
     "data": {
      "text/html": [
       "<div>\n",
       "<style scoped>\n",
       "    .dataframe tbody tr th:only-of-type {\n",
       "        vertical-align: middle;\n",
       "    }\n",
       "\n",
       "    .dataframe tbody tr th {\n",
       "        vertical-align: top;\n",
       "    }\n",
       "\n",
       "    .dataframe thead th {\n",
       "        text-align: right;\n",
       "    }\n",
       "</style>\n",
       "<table border=\"1\" class=\"dataframe\">\n",
       "  <thead>\n",
       "    <tr style=\"text-align: right;\">\n",
       "      <th></th>\n",
       "      <th>SAT</th>\n",
       "      <th>Top10</th>\n",
       "      <th>Accept</th>\n",
       "      <th>SFRatio</th>\n",
       "      <th>Expenses</th>\n",
       "      <th>GradRate</th>\n",
       "    </tr>\n",
       "  </thead>\n",
       "  <tbody>\n",
       "    <tr>\n",
       "      <th>0</th>\n",
       "      <td>1310.0</td>\n",
       "      <td>89</td>\n",
       "      <td>22</td>\n",
       "      <td>13.0</td>\n",
       "      <td>22704</td>\n",
       "      <td>94.0</td>\n",
       "    </tr>\n",
       "    <tr>\n",
       "      <th>1</th>\n",
       "      <td>1415.0</td>\n",
       "      <td>100</td>\n",
       "      <td>25</td>\n",
       "      <td>6.0</td>\n",
       "      <td>63575</td>\n",
       "      <td>81.0</td>\n",
       "    </tr>\n",
       "    <tr>\n",
       "      <th>2</th>\n",
       "      <td>1260.0</td>\n",
       "      <td>62</td>\n",
       "      <td>59</td>\n",
       "      <td>9.0</td>\n",
       "      <td>25026</td>\n",
       "      <td>72.0</td>\n",
       "    </tr>\n",
       "    <tr>\n",
       "      <th>3</th>\n",
       "      <td>1310.0</td>\n",
       "      <td>76</td>\n",
       "      <td>24</td>\n",
       "      <td>12.0</td>\n",
       "      <td>31510</td>\n",
       "      <td>87.0</td>\n",
       "    </tr>\n",
       "    <tr>\n",
       "      <th>4</th>\n",
       "      <td>1280.0</td>\n",
       "      <td>83</td>\n",
       "      <td>33</td>\n",
       "      <td>13.0</td>\n",
       "      <td>21864</td>\n",
       "      <td>90.0</td>\n",
       "    </tr>\n",
       "  </tbody>\n",
       "</table>\n",
       "</div>"
      ],
      "text/plain": [
       "      SAT  Top10  Accept  SFRatio  Expenses  GradRate\n",
       "0  1310.0     89      22     13.0     22704      94.0\n",
       "1  1415.0    100      25      6.0     63575      81.0\n",
       "2  1260.0     62      59      9.0     25026      72.0\n",
       "3  1310.0     76      24     12.0     31510      87.0\n",
       "4  1280.0     83      33     13.0     21864      90.0"
      ]
     },
     "execution_count": 32,
     "metadata": {},
     "output_type": "execute_result"
    }
   ],
   "source": [
    "df_num = df.iloc[:, 2:]\n",
    "df_num.head()"
   ]
  },
  {
   "cell_type": "markdown",
   "id": "6a5ecd35",
   "metadata": {},
   "source": [
    "**Box Plot**\n",
    "\n",
    "Visualize numeric data using boxplot for outliers"
   ]
  },
  {
   "cell_type": "code",
   "execution_count": 33,
   "id": "9d80378a",
   "metadata": {},
   "outputs": [
    {
     "data": {
      "image/png": "[encoded data removed]",
      "text/plain": [
       "<Figure size 720x432 with 6 Axes>"
      ]
     },
     "metadata": {
      "needs_background": "light"
     },
     "output_type": "display_data"
    }
   ],
   "source": [
    "# Multiple boxplots in a single visualization.\n",
    "# Columns with larger scales affect other columns. \n",
    "# Below code ensures each column gets its own y-axis.\n",
    "\n",
    "# pandas plot() function with parameters kind = 'box' and subplots = True\n",
    "\n",
    "df_num.plot(kind = 'box', subplots = True, sharey = False, figsize = (10, 6)) \n",
    "\n",
    "'''sharey True or 'all': x- or y-axis will be shared among all subplots.\n",
    "False or 'none': each subplot x- or y-axis will be independent.'''\n",
    "\n",
    "\n",
    "# increase spacing between subplots\n",
    "plt.subplots_adjust(wspace = 0.75) # ws is the width of the padding between subplots, as a fraction of the average Axes width.\n",
    "plt.show()  "
   ]
  },
  {
   "cell_type": "markdown",
   "id": "572ed68f",
   "metadata": {},
   "source": [
    "Boxplots show outliers in: SAT, Top10, Accept, SFRatio.\n",
    "\n",
    "***Outlier Analysis***: \n",
    "We shall use Winsorization Technique to treat outliers\n",
    "\n",
    "Winsorization function rounds off the exceptional data points based on capping method used in parameters/hyperparameters section."
   ]
  },
  {
   "cell_type": "code",
   "execution_count": null,
   "id": "9e950ec2",
   "metadata": {},
   "outputs": [],
   "source": [
    "# D-Tale\n",
    "########\n",
    "\n",
    "# pip install dtale\n",
    "import dtale\n",
    "\n",
    "d = dtale.show(df)\n",
    "d.open_browser()"
   ]
  },
  {
   "cell_type": "markdown",
   "id": "41c987db",
   "metadata": {},
   "source": [
    "#### Install the required package if it is not already available\n",
    "***Package to get winsorization function***\n",
    "\n",
    "!pip install feature_engine       "
   ]
  },
  {
   "cell_type": "code",
   "execution_count": 36,
   "id": "0bf2807f",
   "metadata": {},
   "outputs": [],
   "source": [
    "# Winsorization for \"SAT, Top10, Accept, SFRatio\" column\n",
    "winsor = Winsorizer(capping_method = 'iqr', # choose IQR rule boundary\n",
    "                          tail = 'both', # cap left, right or both tails \n",
    "                          fold = 1.5,\n",
    "                          variables = ['SAT'])\n",
    "\n",
    "df_num['SAT'] = winsor.fit_transform(df_num[['SAT']]) # this is replacing the outliers to cap values\n"
   ]
  },
  {
   "cell_type": "code",
   "execution_count": 37,
   "id": "d4eb677d",
   "metadata": {},
   "outputs": [],
   "source": [
    "# Winsorization for \"Top10\" column\n",
    "winsor = Winsorizer(capping_method = 'iqr', # choose IQR rule boundary\n",
    "                          tail = 'both', # cap left, right or both tails \n",
    "                          fold = 1.5,\n",
    "                          variables = ['Top10'])\n",
    "\n",
    "df_num['Top10'] = winsor.fit_transform(df_num[['Top10']]) # this is replacing the outliers to cap values\n"
   ]
  },
  {
   "cell_type": "code",
   "execution_count": 38,
   "id": "a68ae0c6",
   "metadata": {},
   "outputs": [],
   "source": [
    "# Winsorization for \"Accept\" column\n",
    "winsor = Winsorizer(capping_method = 'iqr', # choose IQR rule boundary\n",
    "                          tail = 'both', # cap left, right or both tails \n",
    "                          fold = 1.5,\n",
    "                          variables = ['Accept'])\n",
    "\n",
    "df_num['Accept'] = winsor.fit_transform(df_num[['Accept']]) # this is replacing the outliers to cap values"
   ]
  },
  {
   "cell_type": "code",
   "execution_count": 39,
   "id": "6e64dc49",
   "metadata": {},
   "outputs": [],
   "source": [
    "# Winsorization for \"SFRatio\" column\n",
    "winsor = Winsorizer(capping_method = 'iqr', # choose IQR rule boundaries\n",
    "                          tail = 'both', # cap left, right or both tails \n",
    "                          fold = 1.5,\n",
    "                          variables = ['SFRatio'])\n",
    "\n",
    "df_num['SFRatio'] = winsor.fit_transform(df_num[['SFRatio']]) # this is replacing the outliers to cap values"
   ]
  },
  {
   "cell_type": "markdown",
   "id": "a20bfd44",
   "metadata": {},
   "source": [
    "#### Verify for outliers post the treatment"
   ]
  },
  {
   "cell_type": "code",
   "execution_count": 40,
   "id": "006ffbae",
   "metadata": {},
   "outputs": [
    {
     "data": {
      "image/png": "[encoded data removed]",
      "text/plain": [
       "<Figure size 720x432 with 6 Axes>"
      ]
     },
     "metadata": {
      "needs_background": "light"
     },
     "output_type": "display_data"
    }
   ],
   "source": [
    "df_num.plot(kind = 'box', subplots = True, sharey = False, figsize = (10, 6)) #sharey = True shares the Y axis across all plots\n",
    "\n",
    "\n",
    "# increase spacing between subplots\n",
    "plt.subplots_adjust(wspace = 0.75) \n",
    "plt.show()  "
   ]
  },
  {
   "cell_type": "markdown",
   "id": "b6c85c61",
   "metadata": {},
   "source": [
    "**Zero and near zero variance**\n",
    "\n",
    "   We dont have any values with near zero (or) zero variance. We can proceed with further data preprocessing steps."
   ]
  },
  {
   "cell_type": "code",
   "execution_count": 41,
   "id": "4ef9c813",
   "metadata": {},
   "outputs": [
    {
     "data": {
      "text/plain": [
       "SAT         9.718958e+03\n",
       "Top10       2.446267e+02\n",
       "Accept      3.849733e+02\n",
       "SFRatio     1.105583e+01\n",
       "Expenses    2.080773e+08\n",
       "GradRate    8.197667e+01\n",
       "dtype: float64"
      ]
     },
     "execution_count": 41,
     "metadata": {},
     "output_type": "execute_result"
    }
   ],
   "source": [
    "df_num.var()"
   ]
  },
  {
   "cell_type": "markdown",
   "id": "29dd11ef",
   "metadata": {},
   "source": [
    "**Discretization / Binning / Grouping:**\n",
    "\n",
    "The process of converting continuous data into discrete number of bins.\n",
    "\n",
    "The current business requirement does not justify the discretization/binning requirement for any column."
   ]
  },
  {
   "cell_type": "markdown",
   "id": "4ef8c5ba",
   "metadata": {},
   "source": [
    "### Dummy Variable Creation"
   ]
  },
  {
   "cell_type": "code",
   "execution_count": 42,
   "id": "3db725e1",
   "metadata": {},
   "outputs": [
    {
     "data": {
      "text/plain": [
       "Univ         object\n",
       "State        object\n",
       "SAT         float64\n",
       "Top10         int64\n",
       "Accept        int64\n",
       "SFRatio     float64\n",
       "Expenses      int64\n",
       "GradRate    float64\n",
       "dtype: object"
      ]
     },
     "execution_count": 42,
     "metadata": {},
     "output_type": "execute_result"
    }
   ],
   "source": [
    "df.dtypes  # Verify the data types of the fields for the entire data"
   ]
  },
  {
   "cell_type": "code",
   "execution_count": 43,
   "id": "12950757",
   "metadata": {},
   "outputs": [
    {
     "name": "stdout",
     "output_type": "stream",
     "text": [
      "<class 'pandas.core.frame.DataFrame'>\n",
      "Int64Index: 25 entries, 0 to 24\n",
      "Data columns (total 8 columns):\n",
      " #   Column    Non-Null Count  Dtype  \n",
      "---  ------    --------------  -----  \n",
      " 0   Univ      25 non-null     object \n",
      " 1   State     25 non-null     object \n",
      " 2   SAT       25 non-null     float64\n",
      " 3   Top10     25 non-null     int64  \n",
      " 4   Accept    25 non-null     int64  \n",
      " 5   SFRatio   25 non-null     float64\n",
      " 6   Expenses  25 non-null     int64  \n",
      " 7   GradRate  25 non-null     float64\n",
      "dtypes: float64(3), int64(3), object(2)\n",
      "memory usage: 1.8+ KB\n"
     ]
    }
   ],
   "source": [
    "# Alternatively we can use:\n",
    "\n",
    "df.info()"
   ]
  },
  {
   "cell_type": "code",
   "execution_count": 44,
   "id": "f38a194b",
   "metadata": {},
   "outputs": [
    {
     "name": "stdout",
     "output_type": "stream",
     "text": [
      "<class 'pandas.core.frame.DataFrame'>\n",
      "Int64Index: 25 entries, 0 to 24\n",
      "Data columns (total 2 columns):\n",
      " #   Column  Non-Null Count  Dtype \n",
      "---  ------  --------------  ----- \n",
      " 0   Univ    25 non-null     object\n",
      " 1   State   25 non-null     object\n",
      "dtypes: object(2)\n",
      "memory usage: 600.0+ bytes\n"
     ]
    }
   ],
   "source": [
    "df_cate.info()"
   ]
  },
  {
   "cell_type": "code",
   "execution_count": 45,
   "id": "fd4b5d20",
   "metadata": {},
   "outputs": [
    {
     "name": "stdout",
     "output_type": "stream",
     "text": [
      "['RI' 'CA' 'PA' 'NY' 'NH' 'NC' 'DC' 'MA' 'MD' 'IL' 'IN' 'NJ' 'TX' 'MI'\n",
      " 'VA' 'WI' 'CT']\n",
      "\n",
      "\n",
      "PA    3\n",
      "CA    3\n",
      "NY    2\n",
      "MA    2\n",
      "IL    2\n",
      "IN    2\n",
      "RI    1\n",
      "TX    1\n",
      "WI    1\n",
      "VA    1\n",
      "MI    1\n",
      "MD    1\n",
      "NJ    1\n",
      "DC    1\n",
      "NC    1\n",
      "NH    1\n",
      "CT    1\n",
      "Name: State, dtype: int64\n"
     ]
    }
   ],
   "source": [
    "print(df_cate.State.unique())\n",
    "print('\\n')\n",
    "\n",
    "print(df_cate.State.value_counts())"
   ]
  },
  {
   "cell_type": "markdown",
   "id": "f92ddaec",
   "metadata": {},
   "source": [
    "- Univ name is an identity and does not require to be converted into numeric values.\n",
    "\n",
    "- STATE column is an important field in decision making hence it is to be converted into Numeric values."
   ]
  },
  {
   "cell_type": "code",
   "execution_count": 46,
   "id": "6cf931db",
   "metadata": {},
   "outputs": [],
   "source": [
    "# Applying One-Hot Encoding with get_dummies\n",
    "\n",
    "df_cate = pd.get_dummies(df_cate, columns = ['State'], drop_first = True)"
   ]
  },
  {
   "cell_type": "code",
   "execution_count": 47,
   "id": "855dcae2",
   "metadata": {},
   "outputs": [
    {
     "name": "stdout",
     "output_type": "stream",
     "text": [
      "<class 'pandas.core.frame.DataFrame'>\n",
      "Int64Index: 25 entries, 0 to 24\n",
      "Data columns (total 17 columns):\n",
      " #   Column    Non-Null Count  Dtype \n",
      "---  ------    --------------  ----- \n",
      " 0   Univ      25 non-null     object\n",
      " 1   State_CT  25 non-null     uint8 \n",
      " 2   State_DC  25 non-null     uint8 \n",
      " 3   State_IL  25 non-null     uint8 \n",
      " 4   State_IN  25 non-null     uint8 \n",
      " 5   State_MA  25 non-null     uint8 \n",
      " 6   State_MD  25 non-null     uint8 \n",
      " 7   State_MI  25 non-null     uint8 \n",
      " 8   State_NC  25 non-null     uint8 \n",
      " 9   State_NH  25 non-null     uint8 \n",
      " 10  State_NJ  25 non-null     uint8 \n",
      " 11  State_NY  25 non-null     uint8 \n",
      " 12  State_PA  25 non-null     uint8 \n",
      " 13  State_RI  25 non-null     uint8 \n",
      " 14  State_TX  25 non-null     uint8 \n",
      " 15  State_VA  25 non-null     uint8 \n",
      " 16  State_WI  25 non-null     uint8 \n",
      "dtypes: object(1), uint8(16)\n",
      "memory usage: 800.0+ bytes\n"
     ]
    }
   ],
   "source": [
    "df_cate.info()"
   ]
  },
  {
   "cell_type": "code",
   "execution_count": 48,
   "id": "95ef86a9",
   "metadata": {},
   "outputs": [
    {
     "data": {
      "text/plain": [
       "(25, 17)"
      ]
     },
     "execution_count": 48,
     "metadata": {},
     "output_type": "execute_result"
    }
   ],
   "source": [
    "# The dimension of the dataset after One-Hot Encoding\n",
    "\n",
    "df_cate.shape"
   ]
  },
  {
   "cell_type": "code",
   "execution_count": 49,
   "id": "0de1f96e",
   "metadata": {},
   "outputs": [
    {
     "data": {
      "text/html": [
       "<div>\n",
       "<style scoped>\n",
       "    .dataframe tbody tr th:only-of-type {\n",
       "        vertical-align: middle;\n",
       "    }\n",
       "\n",
       "    .dataframe tbody tr th {\n",
       "        vertical-align: top;\n",
       "    }\n",
       "\n",
       "    .dataframe thead th {\n",
       "        text-align: right;\n",
       "    }\n",
       "</style>\n",
       "<table border=\"1\" class=\"dataframe\">\n",
       "  <thead>\n",
       "    <tr style=\"text-align: right;\">\n",
       "      <th></th>\n",
       "      <th>Univ</th>\n",
       "      <th>State_CT</th>\n",
       "      <th>State_DC</th>\n",
       "      <th>State_IL</th>\n",
       "      <th>State_IN</th>\n",
       "      <th>State_MA</th>\n",
       "      <th>State_MD</th>\n",
       "      <th>State_MI</th>\n",
       "      <th>State_NC</th>\n",
       "      <th>State_NH</th>\n",
       "      <th>State_NJ</th>\n",
       "      <th>State_NY</th>\n",
       "      <th>State_PA</th>\n",
       "      <th>State_RI</th>\n",
       "      <th>State_TX</th>\n",
       "      <th>State_VA</th>\n",
       "      <th>State_WI</th>\n",
       "    </tr>\n",
       "  </thead>\n",
       "  <tbody>\n",
       "    <tr>\n",
       "      <th>0</th>\n",
       "      <td>Brown</td>\n",
       "      <td>0</td>\n",
       "      <td>0</td>\n",
       "      <td>0</td>\n",
       "      <td>0</td>\n",
       "      <td>0</td>\n",
       "      <td>0</td>\n",
       "      <td>0</td>\n",
       "      <td>0</td>\n",
       "      <td>0</td>\n",
       "      <td>0</td>\n",
       "      <td>0</td>\n",
       "      <td>0</td>\n",
       "      <td>1</td>\n",
       "      <td>0</td>\n",
       "      <td>0</td>\n",
       "      <td>0</td>\n",
       "    </tr>\n",
       "    <tr>\n",
       "      <th>1</th>\n",
       "      <td>CalTech</td>\n",
       "      <td>0</td>\n",
       "      <td>0</td>\n",
       "      <td>0</td>\n",
       "      <td>0</td>\n",
       "      <td>0</td>\n",
       "      <td>0</td>\n",
       "      <td>0</td>\n",
       "      <td>0</td>\n",
       "      <td>0</td>\n",
       "      <td>0</td>\n",
       "      <td>0</td>\n",
       "      <td>0</td>\n",
       "      <td>0</td>\n",
       "      <td>0</td>\n",
       "      <td>0</td>\n",
       "      <td>0</td>\n",
       "    </tr>\n",
       "    <tr>\n",
       "      <th>2</th>\n",
       "      <td>CMU</td>\n",
       "      <td>0</td>\n",
       "      <td>0</td>\n",
       "      <td>0</td>\n",
       "      <td>0</td>\n",
       "      <td>0</td>\n",
       "      <td>0</td>\n",
       "      <td>0</td>\n",
       "      <td>0</td>\n",
       "      <td>0</td>\n",
       "      <td>0</td>\n",
       "      <td>0</td>\n",
       "      <td>1</td>\n",
       "      <td>0</td>\n",
       "      <td>0</td>\n",
       "      <td>0</td>\n",
       "      <td>0</td>\n",
       "    </tr>\n",
       "    <tr>\n",
       "      <th>3</th>\n",
       "      <td>Columbia</td>\n",
       "      <td>0</td>\n",
       "      <td>0</td>\n",
       "      <td>0</td>\n",
       "      <td>0</td>\n",
       "      <td>0</td>\n",
       "      <td>0</td>\n",
       "      <td>0</td>\n",
       "      <td>0</td>\n",
       "      <td>0</td>\n",
       "      <td>0</td>\n",
       "      <td>1</td>\n",
       "      <td>0</td>\n",
       "      <td>0</td>\n",
       "      <td>0</td>\n",
       "      <td>0</td>\n",
       "      <td>0</td>\n",
       "    </tr>\n",
       "    <tr>\n",
       "      <th>4</th>\n",
       "      <td>Cornell</td>\n",
       "      <td>0</td>\n",
       "      <td>0</td>\n",
       "      <td>0</td>\n",
       "      <td>0</td>\n",
       "      <td>0</td>\n",
       "      <td>0</td>\n",
       "      <td>0</td>\n",
       "      <td>0</td>\n",
       "      <td>0</td>\n",
       "      <td>0</td>\n",
       "      <td>1</td>\n",
       "      <td>0</td>\n",
       "      <td>0</td>\n",
       "      <td>0</td>\n",
       "      <td>0</td>\n",
       "      <td>0</td>\n",
       "    </tr>\n",
       "  </tbody>\n",
       "</table>\n",
       "</div>"
      ],
      "text/plain": [
       "       Univ  State_CT  State_DC  State_IL  State_IN  State_MA  State_MD  \\\n",
       "0     Brown         0         0         0         0         0         0   \n",
       "1   CalTech         0         0         0         0         0         0   \n",
       "2       CMU         0         0         0         0         0         0   \n",
       "3  Columbia         0         0         0         0         0         0   \n",
       "4   Cornell         0         0         0         0         0         0   \n",
       "\n",
       "   State_MI  State_NC  State_NH  State_NJ  State_NY  State_PA  State_RI  \\\n",
       "0         0         0         0         0         0         0         1   \n",
       "1         0         0         0         0         0         0         0   \n",
       "2         0         0         0         0         0         1         0   \n",
       "3         0         0         0         0         1         0         0   \n",
       "4         0         0         0         0         1         0         0   \n",
       "\n",
       "   State_TX  State_VA  State_WI  \n",
       "0         0         0         0  \n",
       "1         0         0         0  \n",
       "2         0         0         0  \n",
       "3         0         0         0  \n",
       "4         0         0         0  "
      ]
     },
     "execution_count": 49,
     "metadata": {},
     "output_type": "execute_result"
    }
   ],
   "source": [
    "df_cate.head()"
   ]
  },
  {
   "cell_type": "markdown",
   "id": "653c8564",
   "metadata": {},
   "source": [
    "# **Graphical Representation**\n"
   ]
  },
  {
   "cell_type": "code",
   "execution_count": 50,
   "id": "89168bf3",
   "metadata": {},
   "outputs": [
    {
     "data": {
      "image/png": "[encoded data removed]",
      "text/plain": [
       "<Figure size 432x288 with 1 Axes>"
      ]
     },
     "metadata": {
      "needs_background": "light"
     },
     "output_type": "display_data"
    },
    {
     "data": {
      "image/png": "[encoded data removed]",
      "text/plain": [
       "<Figure size 432x288 with 1 Axes>"
      ]
     },
     "metadata": {
      "needs_background": "light"
     },
     "output_type": "display_data"
    },
    {
     "data": {
      "image/png": "[encoded data removed]",
      "text/plain": [
       "<Figure size 432x288 with 1 Axes>"
      ]
     },
     "metadata": {
      "needs_background": "light"
     },
     "output_type": "display_data"
    },
    {
     "data": {
      "image/png": "[encoded data removed]",
      "text/plain": [
       "<Figure size 432x288 with 1 Axes>"
      ]
     },
     "metadata": {
      "needs_background": "light"
     },
     "output_type": "display_data"
    },
    {
     "data": {
      "image/png": "[encoded data removed]",
      "text/plain": [
       "<Figure size 432x288 with 1 Axes>"
      ]
     },
     "metadata": {
      "needs_background": "light"
     },
     "output_type": "display_data"
    },
    {
     "data": {
      "image/png": "[encoded data removed]",
      "text/plain": [
       "<Figure size 432x288 with 1 Axes>"
      ]
     },
     "metadata": {
      "needs_background": "light"
     },
     "output_type": "display_data"
    }
   ],
   "source": [
    "# Histogram describes the spread of data\n",
    "\n",
    "for i in df_num.columns:\n",
    "  plt.hist(x = df_num[i])\n",
    "  plt.title(\"Histogram for \" + str(i))\n",
    "  plt.show()\n"
   ]
  },
  {
   "cell_type": "code",
   "execution_count": 51,
   "id": "d08c03d5",
   "metadata": {},
   "outputs": [
    {
     "data": {
      "text/plain": [
       "((array([-1.9213301 , -1.50368257, -1.24941883, -1.0573306 , -0.897955  ,\n",
       "         -0.75865603, -0.63273432, -0.51614096, -0.40618759, -0.30094875,\n",
       "         -0.19894932, -0.09898372,  0.        ,  0.09898372,  0.19894932,\n",
       "          0.30094875,  0.40618759,  0.51614096,  0.63273432,  0.75865603,\n",
       "          0.897955  ,  1.0573306 ,  1.24941883,  1.50368257,  1.9213301 ]),\n",
       "  array([1090.        , 1090.        , 1090.        , 1090.        ,\n",
       "         1180.        , 1225.        , 1240.        , 1255.        ,\n",
       "         1260.        , 1260.        , 1266.91666667, 1280.        ,\n",
       "         1285.        , 1290.        , 1305.        , 1310.        ,\n",
       "         1310.        , 1315.        , 1340.        , 1360.        ,\n",
       "         1375.        , 1375.        , 1380.        , 1400.        ,\n",
       "         1415.        ])),\n",
       " (98.76659036154764, 1271.4766666666667, 0.9585447047103507))"
      ]
     },
     "execution_count": 51,
     "metadata": {},
     "output_type": "execute_result"
    },
    {
     "data": {
      "image/png": "[encoded data removed]",
      "text/plain": [
       "<Figure size 432x288 with 1 Axes>"
      ]
     },
     "metadata": {
      "needs_background": "light"
     },
     "output_type": "display_data"
    }
   ],
   "source": [
    "# Normal Quantile-Quantile Plot - Helps in understanding the distribution of the data - Normal distribution or not\n",
    "import scipy.stats as stats\n",
    "import pylab\n",
    "\n",
    "# Checking Whether data is normally distributed\n",
    "stats.probplot(df_num.SAT, dist = \"norm\", plot = pylab)"
   ]
  },
  {
   "cell_type": "code",
   "execution_count": 52,
   "id": "8752a1a8",
   "metadata": {},
   "outputs": [
    {
     "data": {
      "text/plain": [
       "((array([-1.9213301 , -1.50368257, -1.24941883, -1.0573306 , -0.897955  ,\n",
       "         -0.75865603, -0.63273432, -0.51614096, -0.40618759, -0.30094875,\n",
       "         -0.19894932, -0.09898372,  0.        ,  0.09898372,  0.19894932,\n",
       "          0.30094875,  0.40618759,  0.51614096,  0.63273432,  0.75865603,\n",
       "          0.897955  ,  1.0573306 ,  1.24941883,  1.50368257,  1.9213301 ]),\n",
       "  array([ 50.,  50.,  50.,  50.,  62.,  65.,  74.,  75.,  75.,  76.,  77.,\n",
       "          80.,  81.,  83.,  85.,  89.,  89.,  90.,  90.,  91.,  91.,  94.,\n",
       "          95.,  95., 100.])),\n",
       " (15.548174662321602, 78.28, 0.9511295549439862))"
      ]
     },
     "execution_count": 52,
     "metadata": {},
     "output_type": "execute_result"
    },
    {
     "data": {
      "image/png": "[encoded data removed]",
      "text/plain": [
       "<Figure size 432x288 with 1 Axes>"
      ]
     },
     "metadata": {
      "needs_background": "light"
     },
     "output_type": "display_data"
    }
   ],
   "source": [
    "# Checking Whether data is normally distributed\n",
    "stats.probplot(df_num.Top10, dist = \"norm\", plot = pylab)"
   ]
  },
  {
   "cell_type": "code",
   "execution_count": 53,
   "id": "f07f6d2d",
   "metadata": {},
   "outputs": [
    {
     "data": {
      "text/plain": [
       "((array([-1.9213301 , -1.50368257, -1.24941883, -1.0573306 , -0.897955  ,\n",
       "         -0.75865603, -0.63273432, -0.51614096, -0.40618759, -0.30094875,\n",
       "         -0.19894932, -0.09898372,  0.        ,  0.09898372,  0.19894932,\n",
       "          0.30094875,  0.40618759,  0.51614096,  0.63273432,  0.75865603,\n",
       "          0.897955  ,  1.0573306 ,  1.24941883,  1.50368257,  1.9213301 ]),\n",
       "  array([14., 14., 19., 20., 22., 23., 24., 24., 25., 30., 30., 33., 36.,\n",
       "         39., 40., 42., 44., 44., 50., 54., 59., 67., 68., 69., 89.])),\n",
       " (19.806179416701234, 39.16, 0.9658230149511989))"
      ]
     },
     "execution_count": 53,
     "metadata": {},
     "output_type": "execute_result"
    },
    {
     "data": {
      "image/png": "[encoded data removed]",
      "text/plain": [
       "<Figure size 432x288 with 1 Axes>"
      ]
     },
     "metadata": {
      "needs_background": "light"
     },
     "output_type": "display_data"
    }
   ],
   "source": [
    "# Checking Whether data is normally distributed\n",
    "stats.probplot(df_num.Accept, dist = \"norm\", plot = pylab)"
   ]
  },
  {
   "cell_type": "code",
   "execution_count": 54,
   "id": "b1d2e73f",
   "metadata": {},
   "outputs": [
    {
     "data": {
      "text/plain": [
       "((array([-1.9213301 , -1.50368257, -1.24941883, -1.0573306 , -0.897955  ,\n",
       "         -0.75865603, -0.63273432, -0.51614096, -0.40618759, -0.30094875,\n",
       "         -0.19894932, -0.09898372,  0.        ,  0.09898372,  0.19894932,\n",
       "          0.30094875,  0.40618759,  0.51614096,  0.63273432,  0.75865603,\n",
       "          0.897955  ,  1.0573306 ,  1.24941883,  1.50368257,  1.9213301 ]),\n",
       "  array([ 6.5,  7. ,  8. ,  9. , 10. , 10. , 11. , 11. , 11. , 11. , 12. ,\n",
       "         12. , 12. , 12. , 12. , 13. , 13. , 13. , 14. , 15. , 16. , 17. ,\n",
       "         18. , 18.5, 18.5])),\n",
       " (3.4058243652179456, 12.42, 0.9800284234738135))"
      ]
     },
     "execution_count": 54,
     "metadata": {},
     "output_type": "execute_result"
    },
    {
     "data": {
      "image/png": "[encoded data removed]",
      "text/plain": [
       "<Figure size 432x288 with 1 Axes>"
      ]
     },
     "metadata": {
      "needs_background": "light"
     },
     "output_type": "display_data"
    }
   ],
   "source": [
    "# Checking Whether data is normally distributed\n",
    "stats.probplot(df_num.SFRatio, dist = \"norm\", plot = pylab)"
   ]
  },
  {
   "cell_type": "code",
   "execution_count": 55,
   "id": "1a4a17f5",
   "metadata": {},
   "outputs": [
    {
     "data": {
      "text/plain": [
       "((array([-1.9213301 , -1.50368257, -1.24941883, -1.0573306 , -0.897955  ,\n",
       "         -0.75865603, -0.63273432, -0.51614096, -0.40618759, -0.30094875,\n",
       "         -0.19894932, -0.09898372,  0.        ,  0.09898372,  0.19894932,\n",
       "          0.30094875,  0.40618759,  0.51614096,  0.63273432,  0.75865603,\n",
       "          0.897955  ,  1.0573306 ,  1.24941883,  1.50368257,  1.9213301 ]),\n",
       "  array([ 8704,  9066, 10185, 11857, 13349, 15122, 15140, 15470, 20126,\n",
       "         21864, 22704, 25026, 27553, 28052, 30220, 31510, 31585, 32162,\n",
       "         34870, 36450, 38380, 39525, 43514, 58691, 63575], dtype=int64)),\n",
       " (14567.431669324984, 27387.999999999996, 0.96623519023699))"
      ]
     },
     "execution_count": 55,
     "metadata": {},
     "output_type": "execute_result"
    },
    {
     "data": {
      "image/png": "[encoded data removed]",
      "text/plain": [
       "<Figure size 432x288 with 1 Axes>"
      ]
     },
     "metadata": {
      "needs_background": "light"
     },
     "output_type": "display_data"
    }
   ],
   "source": [
    "# Checking Whether data is normally distributed\n",
    "stats.probplot(df_num.Expenses, dist = \"norm\", plot = pylab)"
   ]
  },
  {
   "cell_type": "code",
   "execution_count": 56,
   "id": "6e581315",
   "metadata": {},
   "outputs": [
    {
     "data": {
      "text/plain": [
       "((array([-1.9213301 , -1.50368257, -1.24941883, -1.0573306 , -0.897955  ,\n",
       "         -0.75865603, -0.63273432, -0.51614096, -0.40618759, -0.30094875,\n",
       "         -0.19894932, -0.09898372,  0.        ,  0.09898372,  0.19894932,\n",
       "          0.30094875,  0.40618759,  0.51614096,  0.63273432,  0.75865603,\n",
       "          0.897955  ,  1.0573306 ,  1.24941883,  1.50368257,  1.9213301 ]),\n",
       "  array([67., 69., 71., 72., 78., 80., 81., 85., 87., 87., 87., 89., 90.,\n",
       "         90., 91., 92., 92., 93., 94., 94., 95., 95., 95., 96., 97.])),\n",
       " (8.885437639535027, 86.68, 0.9389573388725366))"
      ]
     },
     "execution_count": 56,
     "metadata": {},
     "output_type": "execute_result"
    },
    {
     "data": {
      "image/png": "[encoded data removed]",
      "text/plain": [
       "<Figure size 432x288 with 1 Axes>"
      ]
     },
     "metadata": {
      "needs_background": "light"
     },
     "output_type": "display_data"
    }
   ],
   "source": [
    "# Checking Whether data is normally distributed\n",
    "stats.probplot(df_num.GradRate, dist = \"norm\", plot = pylab)"
   ]
  },
  {
   "cell_type": "markdown",
   "id": "02e39b83",
   "metadata": {},
   "source": [
    "### Concatenate the Entire Data"
   ]
  },
  {
   "cell_type": "code",
   "execution_count": 57,
   "id": "2a970ae5",
   "metadata": {},
   "outputs": [
    {
     "data": {
      "text/html": [
       "<div>\n",
       "<style scoped>\n",
       "    .dataframe tbody tr th:only-of-type {\n",
       "        vertical-align: middle;\n",
       "    }\n",
       "\n",
       "    .dataframe tbody tr th {\n",
       "        vertical-align: top;\n",
       "    }\n",
       "\n",
       "    .dataframe thead th {\n",
       "        text-align: right;\n",
       "    }\n",
       "</style>\n",
       "<table border=\"1\" class=\"dataframe\">\n",
       "  <thead>\n",
       "    <tr style=\"text-align: right;\">\n",
       "      <th></th>\n",
       "      <th>Univ</th>\n",
       "      <th>State_CT</th>\n",
       "      <th>State_DC</th>\n",
       "      <th>State_IL</th>\n",
       "      <th>State_IN</th>\n",
       "      <th>State_MA</th>\n",
       "      <th>State_MD</th>\n",
       "      <th>State_MI</th>\n",
       "      <th>State_NC</th>\n",
       "      <th>State_NH</th>\n",
       "      <th>...</th>\n",
       "      <th>State_RI</th>\n",
       "      <th>State_TX</th>\n",
       "      <th>State_VA</th>\n",
       "      <th>State_WI</th>\n",
       "      <th>SAT</th>\n",
       "      <th>Top10</th>\n",
       "      <th>Accept</th>\n",
       "      <th>SFRatio</th>\n",
       "      <th>Expenses</th>\n",
       "      <th>GradRate</th>\n",
       "    </tr>\n",
       "  </thead>\n",
       "  <tbody>\n",
       "    <tr>\n",
       "      <th>0</th>\n",
       "      <td>Brown</td>\n",
       "      <td>0</td>\n",
       "      <td>0</td>\n",
       "      <td>0</td>\n",
       "      <td>0</td>\n",
       "      <td>0</td>\n",
       "      <td>0</td>\n",
       "      <td>0</td>\n",
       "      <td>0</td>\n",
       "      <td>0</td>\n",
       "      <td>...</td>\n",
       "      <td>1</td>\n",
       "      <td>0</td>\n",
       "      <td>0</td>\n",
       "      <td>0</td>\n",
       "      <td>1310.0</td>\n",
       "      <td>89.0</td>\n",
       "      <td>22.0</td>\n",
       "      <td>13.0</td>\n",
       "      <td>22704</td>\n",
       "      <td>94.0</td>\n",
       "    </tr>\n",
       "    <tr>\n",
       "      <th>1</th>\n",
       "      <td>CalTech</td>\n",
       "      <td>0</td>\n",
       "      <td>0</td>\n",
       "      <td>0</td>\n",
       "      <td>0</td>\n",
       "      <td>0</td>\n",
       "      <td>0</td>\n",
       "      <td>0</td>\n",
       "      <td>0</td>\n",
       "      <td>0</td>\n",
       "      <td>...</td>\n",
       "      <td>0</td>\n",
       "      <td>0</td>\n",
       "      <td>0</td>\n",
       "      <td>0</td>\n",
       "      <td>1415.0</td>\n",
       "      <td>100.0</td>\n",
       "      <td>25.0</td>\n",
       "      <td>6.5</td>\n",
       "      <td>63575</td>\n",
       "      <td>81.0</td>\n",
       "    </tr>\n",
       "    <tr>\n",
       "      <th>2</th>\n",
       "      <td>CMU</td>\n",
       "      <td>0</td>\n",
       "      <td>0</td>\n",
       "      <td>0</td>\n",
       "      <td>0</td>\n",
       "      <td>0</td>\n",
       "      <td>0</td>\n",
       "      <td>0</td>\n",
       "      <td>0</td>\n",
       "      <td>0</td>\n",
       "      <td>...</td>\n",
       "      <td>0</td>\n",
       "      <td>0</td>\n",
       "      <td>0</td>\n",
       "      <td>0</td>\n",
       "      <td>1260.0</td>\n",
       "      <td>62.0</td>\n",
       "      <td>59.0</td>\n",
       "      <td>9.0</td>\n",
       "      <td>25026</td>\n",
       "      <td>72.0</td>\n",
       "    </tr>\n",
       "    <tr>\n",
       "      <th>3</th>\n",
       "      <td>Columbia</td>\n",
       "      <td>0</td>\n",
       "      <td>0</td>\n",
       "      <td>0</td>\n",
       "      <td>0</td>\n",
       "      <td>0</td>\n",
       "      <td>0</td>\n",
       "      <td>0</td>\n",
       "      <td>0</td>\n",
       "      <td>0</td>\n",
       "      <td>...</td>\n",
       "      <td>0</td>\n",
       "      <td>0</td>\n",
       "      <td>0</td>\n",
       "      <td>0</td>\n",
       "      <td>1310.0</td>\n",
       "      <td>76.0</td>\n",
       "      <td>24.0</td>\n",
       "      <td>12.0</td>\n",
       "      <td>31510</td>\n",
       "      <td>87.0</td>\n",
       "    </tr>\n",
       "    <tr>\n",
       "      <th>4</th>\n",
       "      <td>Cornell</td>\n",
       "      <td>0</td>\n",
       "      <td>0</td>\n",
       "      <td>0</td>\n",
       "      <td>0</td>\n",
       "      <td>0</td>\n",
       "      <td>0</td>\n",
       "      <td>0</td>\n",
       "      <td>0</td>\n",
       "      <td>0</td>\n",
       "      <td>...</td>\n",
       "      <td>0</td>\n",
       "      <td>0</td>\n",
       "      <td>0</td>\n",
       "      <td>0</td>\n",
       "      <td>1280.0</td>\n",
       "      <td>83.0</td>\n",
       "      <td>33.0</td>\n",
       "      <td>13.0</td>\n",
       "      <td>21864</td>\n",
       "      <td>90.0</td>\n",
       "    </tr>\n",
       "  </tbody>\n",
       "</table>\n",
       "<p>5 rows × 23 columns</p>\n",
       "</div>"
      ],
      "text/plain": [
       "       Univ  State_CT  State_DC  State_IL  State_IN  State_MA  State_MD  \\\n",
       "0     Brown         0         0         0         0         0         0   \n",
       "1   CalTech         0         0         0         0         0         0   \n",
       "2       CMU         0         0         0         0         0         0   \n",
       "3  Columbia         0         0         0         0         0         0   \n",
       "4   Cornell         0         0         0         0         0         0   \n",
       "\n",
       "   State_MI  State_NC  State_NH  ...  State_RI  State_TX  State_VA  State_WI  \\\n",
       "0         0         0         0  ...         1         0         0         0   \n",
       "1         0         0         0  ...         0         0         0         0   \n",
       "2         0         0         0  ...         0         0         0         0   \n",
       "3         0         0         0  ...         0         0         0         0   \n",
       "4         0         0         0  ...         0         0         0         0   \n",
       "\n",
       "      SAT  Top10  Accept  SFRatio  Expenses  GradRate  \n",
       "0  1310.0   89.0    22.0     13.0     22704      94.0  \n",
       "1  1415.0  100.0    25.0      6.5     63575      81.0  \n",
       "2  1260.0   62.0    59.0      9.0     25026      72.0  \n",
       "3  1310.0   76.0    24.0     12.0     31510      87.0  \n",
       "4  1280.0   83.0    33.0     13.0     21864      90.0  \n",
       "\n",
       "[5 rows x 23 columns]"
      ]
     },
     "execution_count": 57,
     "metadata": {},
     "output_type": "execute_result"
    }
   ],
   "source": [
    "df1 = pd.concat([df_cate, df_num], axis = 1)  # Preprocessed data for clustering\n",
    "df1.head()"
   ]
  },
  {
   "cell_type": "code",
   "execution_count": 58,
   "id": "4e524147",
   "metadata": {},
   "outputs": [
    {
     "data": {
      "text/plain": [
       "(25, 23)"
      ]
     },
     "execution_count": 58,
     "metadata": {},
     "output_type": "execute_result"
    }
   ],
   "source": [
    "df1.shape"
   ]
  },
  {
   "cell_type": "code",
   "execution_count": 59,
   "id": "8bd49612",
   "metadata": {},
   "outputs": [
    {
     "name": "stdout",
     "output_type": "stream",
     "text": [
      "<class 'pandas.core.frame.DataFrame'>\n",
      "Int64Index: 25 entries, 0 to 24\n",
      "Data columns (total 23 columns):\n",
      " #   Column    Non-Null Count  Dtype  \n",
      "---  ------    --------------  -----  \n",
      " 0   Univ      25 non-null     object \n",
      " 1   State_CT  25 non-null     uint8  \n",
      " 2   State_DC  25 non-null     uint8  \n",
      " 3   State_IL  25 non-null     uint8  \n",
      " 4   State_IN  25 non-null     uint8  \n",
      " 5   State_MA  25 non-null     uint8  \n",
      " 6   State_MD  25 non-null     uint8  \n",
      " 7   State_MI  25 non-null     uint8  \n",
      " 8   State_NC  25 non-null     uint8  \n",
      " 9   State_NH  25 non-null     uint8  \n",
      " 10  State_NJ  25 non-null     uint8  \n",
      " 11  State_NY  25 non-null     uint8  \n",
      " 12  State_PA  25 non-null     uint8  \n",
      " 13  State_RI  25 non-null     uint8  \n",
      " 14  State_TX  25 non-null     uint8  \n",
      " 15  State_VA  25 non-null     uint8  \n",
      " 16  State_WI  25 non-null     uint8  \n",
      " 17  SAT       25 non-null     float64\n",
      " 18  Top10     25 non-null     float64\n",
      " 19  Accept    25 non-null     float64\n",
      " 20  SFRatio   25 non-null     float64\n",
      " 21  Expenses  25 non-null     int64  \n",
      " 22  GradRate  25 non-null     float64\n",
      "dtypes: float64(5), int64(1), object(1), uint8(16)\n",
      "memory usage: 2.0+ KB\n"
     ]
    }
   ],
   "source": [
    "df1.info()"
   ]
  },
  {
   "cell_type": "markdown",
   "id": "6518dd3c",
   "metadata": {},
   "source": [
    "## Bivariate Analysis"
   ]
  },
  {
   "cell_type": "markdown",
   "id": "6e638e4d",
   "metadata": {},
   "source": [
    "**Scatter Plot**"
   ]
  },
  {
   "cell_type": "code",
   "execution_count": 61,
   "id": "da046ed7",
   "metadata": {},
   "outputs": [
    {
     "data": {
      "text/plain": [
       "<matplotlib.collections.PathCollection at 0x27466b4f220>"
      ]
     },
     "execution_count": 61,
     "metadata": {},
     "output_type": "execute_result"
    },
    {
     "data": {
      "image/png": "[encoded data removed]",
      "text/plain": [
       "<Figure size 432x288 with 1 Axes>"
      ]
     },
     "metadata": {
      "needs_background": "light"
     },
     "output_type": "display_data"
    }
   ],
   "source": [
    "plt.scatter(x = df1['SAT'], y = df1['Top10']) "
   ]
  },
  {
   "cell_type": "code",
   "execution_count": 62,
   "id": "cb46dfb3",
   "metadata": {},
   "outputs": [
    {
     "data": {
      "text/plain": [
       "<seaborn.axisgrid.PairGrid at 0x27466b1bbb0>"
      ]
     },
     "execution_count": 62,
     "metadata": {},
     "output_type": "execute_result"
    },
    {
     "data": {
      "image/png": "[encoded data removed]",
      "text/plain": [
       "<Figure size 1080x1080 with 42 Axes>"
      ]
     },
     "metadata": {
      "needs_background": "light"
     },
     "output_type": "display_data"
    }
   ],
   "source": [
    "sns.pairplot(df_num)   # Use numerical variables to scatter plots"
   ]
  },
  {
   "cell_type": "markdown",
   "id": "5fa0104e",
   "metadata": {},
   "source": [
    "\n",
    "**Heatmap**"
   ]
  },
  {
   "cell_type": "code",
   "execution_count": 63,
   "id": "b7c5aeef",
   "metadata": {},
   "outputs": [
    {
     "data": {
      "image/png": "[encoded data removed]",
      "text/plain": [
       "<Figure size 432x288 with 2 Axes>"
      ]
     },
     "metadata": {
      "needs_background": "light"
     },
     "output_type": "display_data"
    }
   ],
   "source": [
    "corrmatrix = df_num.corr(method = \"pearson\")\n",
    "\n",
    "sns.heatmap(corrmatrix, xticklabels = corrmatrix.columns, yticklabels = corrmatrix.columns, cmap = \"coolwarm\")\n",
    "plt.title('Heat Map of Correlation Matrix')\n",
    "plt.tight_layout()\n",
    "plt.show()"
   ]
  },
  {
   "cell_type": "markdown",
   "id": "d443c122",
   "metadata": {},
   "source": [
    "### Scaling using Normalization:\n",
    "\n",
    "The scale/magnitude of the data will be converted to min = 0 and max = 1"
   ]
  },
  {
   "cell_type": "code",
   "execution_count": 64,
   "id": "4815c091",
   "metadata": {},
   "outputs": [],
   "source": [
    "def norm_func(i):\n",
    "  x =(i - i.min()) / (i.max() - i.min())\n",
    "  return(x)"
   ]
  },
  {
   "cell_type": "code",
   "execution_count": 65,
   "id": "8c2d7426",
   "metadata": {},
   "outputs": [],
   "source": [
    "df_norm = norm_func(df1.iloc[:, 1:])"
   ]
  },
  {
   "cell_type": "code",
   "execution_count": 66,
   "id": "4c086be7",
   "metadata": {},
   "outputs": [
    {
     "data": {
      "text/html": [
       "<div>\n",
       "<style scoped>\n",
       "    .dataframe tbody tr th:only-of-type {\n",
       "        vertical-align: middle;\n",
       "    }\n",
       "\n",
       "    .dataframe tbody tr th {\n",
       "        vertical-align: top;\n",
       "    }\n",
       "\n",
       "    .dataframe thead th {\n",
       "        text-align: right;\n",
       "    }\n",
       "</style>\n",
       "<table border=\"1\" class=\"dataframe\">\n",
       "  <thead>\n",
       "    <tr style=\"text-align: right;\">\n",
       "      <th></th>\n",
       "      <th>State_CT</th>\n",
       "      <th>State_DC</th>\n",
       "      <th>State_IL</th>\n",
       "      <th>State_IN</th>\n",
       "      <th>State_MA</th>\n",
       "      <th>State_MD</th>\n",
       "      <th>State_MI</th>\n",
       "      <th>State_NC</th>\n",
       "      <th>State_NH</th>\n",
       "      <th>State_NJ</th>\n",
       "      <th>...</th>\n",
       "      <th>State_RI</th>\n",
       "      <th>State_TX</th>\n",
       "      <th>State_VA</th>\n",
       "      <th>State_WI</th>\n",
       "      <th>SAT</th>\n",
       "      <th>Top10</th>\n",
       "      <th>Accept</th>\n",
       "      <th>SFRatio</th>\n",
       "      <th>Expenses</th>\n",
       "      <th>GradRate</th>\n",
       "    </tr>\n",
       "  </thead>\n",
       "  <tbody>\n",
       "    <tr>\n",
       "      <th>count</th>\n",
       "      <td>25.00</td>\n",
       "      <td>25.00</td>\n",
       "      <td>25.000000</td>\n",
       "      <td>25.000000</td>\n",
       "      <td>25.000000</td>\n",
       "      <td>25.00</td>\n",
       "      <td>25.00</td>\n",
       "      <td>25.00</td>\n",
       "      <td>25.00</td>\n",
       "      <td>25.00</td>\n",
       "      <td>...</td>\n",
       "      <td>25.00</td>\n",
       "      <td>25.00</td>\n",
       "      <td>25.00</td>\n",
       "      <td>25.00</td>\n",
       "      <td>25.000000</td>\n",
       "      <td>25.000000</td>\n",
       "      <td>25.000000</td>\n",
       "      <td>25.000000</td>\n",
       "      <td>25.000000</td>\n",
       "      <td>25.000000</td>\n",
       "    </tr>\n",
       "    <tr>\n",
       "      <th>mean</th>\n",
       "      <td>0.04</td>\n",
       "      <td>0.04</td>\n",
       "      <td>0.080000</td>\n",
       "      <td>0.080000</td>\n",
       "      <td>0.080000</td>\n",
       "      <td>0.04</td>\n",
       "      <td>0.04</td>\n",
       "      <td>0.04</td>\n",
       "      <td>0.04</td>\n",
       "      <td>0.04</td>\n",
       "      <td>...</td>\n",
       "      <td>0.04</td>\n",
       "      <td>0.04</td>\n",
       "      <td>0.04</td>\n",
       "      <td>0.04</td>\n",
       "      <td>0.558390</td>\n",
       "      <td>0.565600</td>\n",
       "      <td>0.335467</td>\n",
       "      <td>0.493333</td>\n",
       "      <td>0.340508</td>\n",
       "      <td>0.656000</td>\n",
       "    </tr>\n",
       "    <tr>\n",
       "      <th>std</th>\n",
       "      <td>0.20</td>\n",
       "      <td>0.20</td>\n",
       "      <td>0.276887</td>\n",
       "      <td>0.276887</td>\n",
       "      <td>0.276887</td>\n",
       "      <td>0.20</td>\n",
       "      <td>0.20</td>\n",
       "      <td>0.20</td>\n",
       "      <td>0.20</td>\n",
       "      <td>0.20</td>\n",
       "      <td>...</td>\n",
       "      <td>0.20</td>\n",
       "      <td>0.20</td>\n",
       "      <td>0.20</td>\n",
       "      <td>0.20</td>\n",
       "      <td>0.303338</td>\n",
       "      <td>0.312811</td>\n",
       "      <td>0.261610</td>\n",
       "      <td>0.277086</td>\n",
       "      <td>0.262887</td>\n",
       "      <td>0.301803</td>\n",
       "    </tr>\n",
       "    <tr>\n",
       "      <th>min</th>\n",
       "      <td>0.00</td>\n",
       "      <td>0.00</td>\n",
       "      <td>0.000000</td>\n",
       "      <td>0.000000</td>\n",
       "      <td>0.000000</td>\n",
       "      <td>0.00</td>\n",
       "      <td>0.00</td>\n",
       "      <td>0.00</td>\n",
       "      <td>0.00</td>\n",
       "      <td>0.00</td>\n",
       "      <td>...</td>\n",
       "      <td>0.00</td>\n",
       "      <td>0.00</td>\n",
       "      <td>0.00</td>\n",
       "      <td>0.00</td>\n",
       "      <td>0.000000</td>\n",
       "      <td>0.000000</td>\n",
       "      <td>0.000000</td>\n",
       "      <td>0.000000</td>\n",
       "      <td>0.000000</td>\n",
       "      <td>0.000000</td>\n",
       "    </tr>\n",
       "    <tr>\n",
       "      <th>25%</th>\n",
       "      <td>0.00</td>\n",
       "      <td>0.00</td>\n",
       "      <td>0.000000</td>\n",
       "      <td>0.000000</td>\n",
       "      <td>0.000000</td>\n",
       "      <td>0.00</td>\n",
       "      <td>0.00</td>\n",
       "      <td>0.00</td>\n",
       "      <td>0.00</td>\n",
       "      <td>0.00</td>\n",
       "      <td>...</td>\n",
       "      <td>0.00</td>\n",
       "      <td>0.00</td>\n",
       "      <td>0.00</td>\n",
       "      <td>0.00</td>\n",
       "      <td>0.461538</td>\n",
       "      <td>0.480000</td>\n",
       "      <td>0.133333</td>\n",
       "      <td>0.375000</td>\n",
       "      <td>0.117293</td>\n",
       "      <td>0.466667</td>\n",
       "    </tr>\n",
       "    <tr>\n",
       "      <th>50%</th>\n",
       "      <td>0.00</td>\n",
       "      <td>0.00</td>\n",
       "      <td>0.000000</td>\n",
       "      <td>0.000000</td>\n",
       "      <td>0.000000</td>\n",
       "      <td>0.00</td>\n",
       "      <td>0.00</td>\n",
       "      <td>0.00</td>\n",
       "      <td>0.00</td>\n",
       "      <td>0.00</td>\n",
       "      <td>...</td>\n",
       "      <td>0.00</td>\n",
       "      <td>0.00</td>\n",
       "      <td>0.00</td>\n",
       "      <td>0.00</td>\n",
       "      <td>0.600000</td>\n",
       "      <td>0.620000</td>\n",
       "      <td>0.293333</td>\n",
       "      <td>0.458333</td>\n",
       "      <td>0.343515</td>\n",
       "      <td>0.766667</td>\n",
       "    </tr>\n",
       "    <tr>\n",
       "      <th>75%</th>\n",
       "      <td>0.00</td>\n",
       "      <td>0.00</td>\n",
       "      <td>0.000000</td>\n",
       "      <td>0.000000</td>\n",
       "      <td>0.000000</td>\n",
       "      <td>0.00</td>\n",
       "      <td>0.00</td>\n",
       "      <td>0.00</td>\n",
       "      <td>0.00</td>\n",
       "      <td>0.00</td>\n",
       "      <td>...</td>\n",
       "      <td>0.00</td>\n",
       "      <td>0.00</td>\n",
       "      <td>0.00</td>\n",
       "      <td>0.00</td>\n",
       "      <td>0.769231</td>\n",
       "      <td>0.800000</td>\n",
       "      <td>0.480000</td>\n",
       "      <td>0.625000</td>\n",
       "      <td>0.476864</td>\n",
       "      <td>0.900000</td>\n",
       "    </tr>\n",
       "    <tr>\n",
       "      <th>max</th>\n",
       "      <td>1.00</td>\n",
       "      <td>1.00</td>\n",
       "      <td>1.000000</td>\n",
       "      <td>1.000000</td>\n",
       "      <td>1.000000</td>\n",
       "      <td>1.00</td>\n",
       "      <td>1.00</td>\n",
       "      <td>1.00</td>\n",
       "      <td>1.00</td>\n",
       "      <td>1.00</td>\n",
       "      <td>...</td>\n",
       "      <td>1.00</td>\n",
       "      <td>1.00</td>\n",
       "      <td>1.00</td>\n",
       "      <td>1.00</td>\n",
       "      <td>1.000000</td>\n",
       "      <td>1.000000</td>\n",
       "      <td>1.000000</td>\n",
       "      <td>1.000000</td>\n",
       "      <td>1.000000</td>\n",
       "      <td>1.000000</td>\n",
       "    </tr>\n",
       "  </tbody>\n",
       "</table>\n",
       "<p>8 rows × 22 columns</p>\n",
       "</div>"
      ],
      "text/plain": [
       "       State_CT  State_DC   State_IL   State_IN   State_MA  State_MD  \\\n",
       "count     25.00     25.00  25.000000  25.000000  25.000000     25.00   \n",
       "mean       0.04      0.04   0.080000   0.080000   0.080000      0.04   \n",
       "std        0.20      0.20   0.276887   0.276887   0.276887      0.20   \n",
       "min        0.00      0.00   0.000000   0.000000   0.000000      0.00   \n",
       "25%        0.00      0.00   0.000000   0.000000   0.000000      0.00   \n",
       "50%        0.00      0.00   0.000000   0.000000   0.000000      0.00   \n",
       "75%        0.00      0.00   0.000000   0.000000   0.000000      0.00   \n",
       "max        1.00      1.00   1.000000   1.000000   1.000000      1.00   \n",
       "\n",
       "       State_MI  State_NC  State_NH  State_NJ  ...  State_RI  State_TX  \\\n",
       "count     25.00     25.00     25.00     25.00  ...     25.00     25.00   \n",
       "mean       0.04      0.04      0.04      0.04  ...      0.04      0.04   \n",
       "std        0.20      0.20      0.20      0.20  ...      0.20      0.20   \n",
       "min        0.00      0.00      0.00      0.00  ...      0.00      0.00   \n",
       "25%        0.00      0.00      0.00      0.00  ...      0.00      0.00   \n",
       "50%        0.00      0.00      0.00      0.00  ...      0.00      0.00   \n",
       "75%        0.00      0.00      0.00      0.00  ...      0.00      0.00   \n",
       "max        1.00      1.00      1.00      1.00  ...      1.00      1.00   \n",
       "\n",
       "       State_VA  State_WI        SAT      Top10     Accept    SFRatio  \\\n",
       "count     25.00     25.00  25.000000  25.000000  25.000000  25.000000   \n",
       "mean       0.04      0.04   0.558390   0.565600   0.335467   0.493333   \n",
       "std        0.20      0.20   0.303338   0.312811   0.261610   0.277086   \n",
       "min        0.00      0.00   0.000000   0.000000   0.000000   0.000000   \n",
       "25%        0.00      0.00   0.461538   0.480000   0.133333   0.375000   \n",
       "50%        0.00      0.00   0.600000   0.620000   0.293333   0.458333   \n",
       "75%        0.00      0.00   0.769231   0.800000   0.480000   0.625000   \n",
       "max        1.00      1.00   1.000000   1.000000   1.000000   1.000000   \n",
       "\n",
       "        Expenses   GradRate  \n",
       "count  25.000000  25.000000  \n",
       "mean    0.340508   0.656000  \n",
       "std     0.262887   0.301803  \n",
       "min     0.000000   0.000000  \n",
       "25%     0.117293   0.466667  \n",
       "50%     0.343515   0.766667  \n",
       "75%     0.476864   0.900000  \n",
       "max     1.000000   1.000000  \n",
       "\n",
       "[8 rows x 22 columns]"
      ]
     },
     "execution_count": 66,
     "metadata": {},
     "output_type": "execute_result"
    }
   ],
   "source": [
    "df_norm.describe()"
   ]
  },
  {
   "cell_type": "markdown",
   "id": "cef0178f",
   "metadata": {},
   "source": [
    "# CLUSTERING MODEL BUILDING"
   ]
  },
  {
   "cell_type": "markdown",
   "id": "1943876c",
   "metadata": {},
   "source": [
    "### KMeans Clustering"
   ]
  },
  {
   "cell_type": "code",
   "execution_count": 67,
   "id": "02f4075e",
   "metadata": {},
   "outputs": [],
   "source": [
    "# Libraries for creating scree plot or elbow curve \n",
    "from sklearn.cluster import KMeans\n",
    "import matplotlib.pyplot as plt"
   ]
  },
  {
   "cell_type": "code",
   "execution_count": 69,
   "id": "ba0c83ee",
   "metadata": {},
   "outputs": [
    {
     "data": {
      "text/plain": [
       "[24.479432160628026,\n",
       " 21.855973958986496,\n",
       " 19.360150666748112,\n",
       " 17.790767435924213,\n",
       " 16.14121608184872,\n",
       " 14.503710277434113,\n",
       " 12.802310724602453]"
      ]
     },
     "execution_count": 69,
     "metadata": {},
     "output_type": "execute_result"
    }
   ],
   "source": [
    "###### scree plot or elbow curve ############\n",
    "TWSS = []\n",
    "k = list(range(2, 9))\n",
    "\n",
    "for i in k:\n",
    "    kmeans = KMeans(n_clusters = i)\n",
    "    kmeans.fit(df_norm)\n",
    "    TWSS.append(kmeans.inertia_)\n",
    "\n",
    "TWSS"
   ]
  },
  {
   "cell_type": "markdown",
   "id": "e04d7093",
   "metadata": {},
   "source": [
    "## Creating a scree plot to find out no.of cluster"
   ]
  },
  {
   "cell_type": "code",
   "execution_count": 70,
   "id": "dafbb1fd",
   "metadata": {},
   "outputs": [
    {
     "data": {
      "text/plain": [
       "Text(0, 0.5, 'total_within_SS')"
      ]
     },
     "execution_count": 70,
     "metadata": {},
     "output_type": "execute_result"
    },
    {
     "data": {
      "image/png": "[encoded data removed]",
      "text/plain": [
       "<Figure size 432x288 with 1 Axes>"
      ]
     },
     "metadata": {
      "needs_background": "light"
     },
     "output_type": "display_data"
    }
   ],
   "source": [
    "plt.plot(k, TWSS, 'ro-'); plt.xlabel(\"No_of_Clusters\"); plt.ylabel(\"total_within_SS\")"
   ]
  },
  {
   "cell_type": "markdown",
   "id": "89bda1d7",
   "metadata": {},
   "source": [
    "## Using KneeLocator"
   ]
  },
  {
   "cell_type": "code",
   "execution_count": 89,
   "id": "73f60d99",
   "metadata": {},
   "outputs": [
    {
     "data": {
      "image/png": "[encoded data removed]",
      "text/plain": [
       "<Figure size 576x396 with 1 Axes>"
      ]
     },
     "metadata": {},
     "output_type": "display_data"
    }
   ],
   "source": [
    "List = []\n",
    "\n",
    "for k in range(2, 9):\n",
    "    kmeans = KMeans(n_clusters = k, init = \"random\", max_iter = 30, random_state = 1, n_init = 10) \n",
    "    kmeans.fit(df_norm)\n",
    "    List.append(kmeans.inertia_)\n",
    "\n",
    "    \n",
    "# Refer the link to understand the parameters used: https://kneed.readthedocs.io/en/stable/parameters.html    \n",
    "from kneed import KneeLocator\n",
    "kl = KneeLocator(range(2, 9), List, curve = 'convex') \n",
    "# The line is pretty linear hence Kneelocator is not able to detect the knee/elbow appropriately\n",
    "kl.elbow\n",
    "plt.style.use(\"seaborn\")\n",
    "plt.plot(range(2, 9), List)\n",
    "plt.xticks(range(2, 9))\n",
    "plt.ylabel(\"Interia\")\n",
    "plt.axvline(x = kl.elbow, color = 'r', label = 'axvline - full height', ls = '--')\n",
    "plt.show()"
   ]
  },
  {
   "cell_type": "markdown",
   "id": "021e248d",
   "metadata": {},
   "source": [
    "## Detecting the best k=4 using TWSS value from scree plot"
   ]
  },
  {
   "cell_type": "code",
   "execution_count": 91,
   "id": "ff2b7ed0",
   "metadata": {},
   "outputs": [],
   "source": [
    "model = KMeans(n_clusters = 4)\n",
    "yy = model.fit(df_norm)"
   ]
  },
  {
   "cell_type": "markdown",
   "id": "19864aba",
   "metadata": {},
   "source": [
    "We can see labels of cluster"
   ]
  },
  {
   "cell_type": "code",
   "execution_count": 92,
   "id": "b044e7c5",
   "metadata": {},
   "outputs": [
    {
     "data": {
      "text/plain": [
       "array([0, 1, 2, 0, 0, 1, 1, 0, 1, 1, 1, 0, 0, 2, 1, 3, 1, 3, 0, 0, 0, 2,\n",
       "       0, 3, 1])"
      ]
     },
     "execution_count": 92,
     "metadata": {},
     "output_type": "execute_result"
    }
   ],
   "source": [
    "model.labels_"
   ]
  },
  {
   "cell_type": "code",
   "execution_count": 93,
   "id": "def7acf9",
   "metadata": {},
   "outputs": [],
   "source": [
    "mb = pd.Series(model.labels_) "
   ]
  },
  {
   "cell_type": "code",
   "execution_count": 94,
   "id": "723e3861",
   "metadata": {},
   "outputs": [],
   "source": [
    "df['clust'] = mb # creating a  new column and assigning it to new column "
   ]
  },
  {
   "cell_type": "code",
   "execution_count": 95,
   "id": "cb7f9d0b",
   "metadata": {},
   "outputs": [
    {
     "data": {
      "text/html": [
       "<div>\n",
       "<style scoped>\n",
       "    .dataframe tbody tr th:only-of-type {\n",
       "        vertical-align: middle;\n",
       "    }\n",
       "\n",
       "    .dataframe tbody tr th {\n",
       "        vertical-align: top;\n",
       "    }\n",
       "\n",
       "    .dataframe thead th {\n",
       "        text-align: right;\n",
       "    }\n",
       "</style>\n",
       "<table border=\"1\" class=\"dataframe\">\n",
       "  <thead>\n",
       "    <tr style=\"text-align: right;\">\n",
       "      <th></th>\n",
       "      <th>Univ</th>\n",
       "      <th>State</th>\n",
       "      <th>SAT</th>\n",
       "      <th>Top10</th>\n",
       "      <th>Accept</th>\n",
       "      <th>SFRatio</th>\n",
       "      <th>Expenses</th>\n",
       "      <th>GradRate</th>\n",
       "      <th>clust</th>\n",
       "    </tr>\n",
       "  </thead>\n",
       "  <tbody>\n",
       "    <tr>\n",
       "      <th>0</th>\n",
       "      <td>Brown</td>\n",
       "      <td>RI</td>\n",
       "      <td>1310.0</td>\n",
       "      <td>89</td>\n",
       "      <td>22</td>\n",
       "      <td>13.0</td>\n",
       "      <td>22704</td>\n",
       "      <td>94.0</td>\n",
       "      <td>0</td>\n",
       "    </tr>\n",
       "    <tr>\n",
       "      <th>1</th>\n",
       "      <td>CalTech</td>\n",
       "      <td>CA</td>\n",
       "      <td>1415.0</td>\n",
       "      <td>100</td>\n",
       "      <td>25</td>\n",
       "      <td>6.0</td>\n",
       "      <td>63575</td>\n",
       "      <td>81.0</td>\n",
       "      <td>1</td>\n",
       "    </tr>\n",
       "    <tr>\n",
       "      <th>2</th>\n",
       "      <td>CMU</td>\n",
       "      <td>PA</td>\n",
       "      <td>1260.0</td>\n",
       "      <td>62</td>\n",
       "      <td>59</td>\n",
       "      <td>9.0</td>\n",
       "      <td>25026</td>\n",
       "      <td>72.0</td>\n",
       "      <td>2</td>\n",
       "    </tr>\n",
       "    <tr>\n",
       "      <th>3</th>\n",
       "      <td>Columbia</td>\n",
       "      <td>NY</td>\n",
       "      <td>1310.0</td>\n",
       "      <td>76</td>\n",
       "      <td>24</td>\n",
       "      <td>12.0</td>\n",
       "      <td>31510</td>\n",
       "      <td>87.0</td>\n",
       "      <td>0</td>\n",
       "    </tr>\n",
       "    <tr>\n",
       "      <th>4</th>\n",
       "      <td>Cornell</td>\n",
       "      <td>NY</td>\n",
       "      <td>1280.0</td>\n",
       "      <td>83</td>\n",
       "      <td>33</td>\n",
       "      <td>13.0</td>\n",
       "      <td>21864</td>\n",
       "      <td>90.0</td>\n",
       "      <td>0</td>\n",
       "    </tr>\n",
       "  </tbody>\n",
       "</table>\n",
       "</div>"
      ],
      "text/plain": [
       "       Univ State     SAT  Top10  Accept  SFRatio  Expenses  GradRate  clust\n",
       "0     Brown    RI  1310.0     89      22     13.0     22704      94.0      0\n",
       "1   CalTech    CA  1415.0    100      25      6.0     63575      81.0      1\n",
       "2       CMU    PA  1260.0     62      59      9.0     25026      72.0      2\n",
       "3  Columbia    NY  1310.0     76      24     12.0     31510      87.0      0\n",
       "4   Cornell    NY  1280.0     83      33     13.0     21864      90.0      0"
      ]
     },
     "execution_count": 95,
     "metadata": {},
     "output_type": "execute_result"
    }
   ],
   "source": [
    "df.head()"
   ]
  },
  {
   "cell_type": "code",
   "execution_count": 96,
   "id": "470ce766",
   "metadata": {},
   "outputs": [],
   "source": [
    "x = df.iloc[:, 3:].values"
   ]
  },
  {
   "cell_type": "markdown",
   "id": "d311411d",
   "metadata": {},
   "source": [
    "# 3D Scatter plot "
   ]
  },
  {
   "cell_type": "code",
   "execution_count": 97,
   "id": "a7018d4e",
   "metadata": {},
   "outputs": [],
   "source": [
    "# Cluster according to any three Attributes"
   ]
  },
  {
   "cell_type": "code",
   "execution_count": 98,
   "id": "56f1f1e5",
   "metadata": {},
   "outputs": [
    {
     "data": {
      "application/javascript": [
       "/* Put everything inside the global mpl namespace */\n",
       "/* global mpl */\n",
       "window.mpl = {};\n",
       "\n",
       "mpl.get_websocket_type = function () {\n",
       "    if (typeof WebSocket !== 'undefined') {\n",
       "        return WebSocket;\n",
       "    } else if (typeof MozWebSocket !== 'undefined') {\n",
       "        return MozWebSocket;\n",
       "    } else {\n",
       "        alert(\n",
       "            'Your browser does not have WebSocket support. ' +\n",
       "                'Please try Chrome, Safari or Firefox ≥ 6. ' +\n",
       "                'Firefox 4 and 5 are also supported but you ' +\n",
       "                'have to enable WebSockets in about:config.'\n",
       "        );\n",
       "    }\n",
       "};\n",
       "\n",
       "mpl.figure = function (figure_id, websocket, ondownload, parent_element) {\n",
       "    this.id = figure_id;\n",
       "\n",
       "    this.ws = websocket;\n",
       "\n",
       "    this.supports_binary = this.ws.binaryType !== undefined;\n",
       "\n",
       "    if (!this.supports_binary) {\n",
       "        var warnings = document.getElementById('mpl-warnings');\n",
       "        if (warnings) {\n",
       "            warnings.style.display = 'block';\n",
       "            warnings.textContent =\n",
       "                'This browser does not support binary websocket messages. ' +\n",
       "                'Performance may be slow.';\n",
       "        }\n",
       "    }\n",
       "\n",
       "    this.imageObj = new Image();\n",
       "\n",
       "    this.context = undefined;\n",
       "    this.message = undefined;\n",
       "    this.canvas = undefined;\n",
       "    this.rubberband_canvas = undefined;\n",
       "    this.rubberband_context = undefined;\n",
       "    this.format_dropdown = undefined;\n",
       "\n",
       "    this.image_mode = 'full';\n",
       "\n",
       "    this.root = document.createElement('div');\n",
       "    this.root.setAttribute('style', 'display: inline-block');\n",
       "    this._root_extra_style(this.root);\n",
       "\n",
       "    parent_element.appendChild(this.root);\n",
       "\n",
       "    this._init_header(this);\n",
       "    this._init_canvas(this);\n",
       "    this._init_toolbar(this);\n",
       "\n",
       "    var fig = this;\n",
       "\n",
       "    this.waiting = false;\n",
       "\n",
       "    this.ws.onopen = function () {\n",
       "        fig.send_message('supports_binary', { value: fig.supports_binary });\n",
       "        fig.send_message('send_image_mode', {});\n",
       "        if (fig.ratio !== 1) {\n",
       "            fig.send_message('set_device_pixel_ratio', {\n",
       "                device_pixel_ratio: fig.ratio,\n",
       "            });\n",
       "        }\n",
       "        fig.send_message('refresh', {});\n",
       "    };\n",
       "\n",
       "    this.imageObj.onload = function () {\n",
       "        if (fig.image_mode === 'full') {\n",
       "            // Full images could contain transparency (where diff images\n",
       "            // almost always do), so we need to clear the canvas so that\n",
       "            // there is no ghosting.\n",
       "            fig.context.clearRect(0, 0, fig.canvas.width, fig.canvas.height);\n",
       "        }\n",
       "        fig.context.drawImage(fig.imageObj, 0, 0);\n",
       "    };\n",
       "\n",
       "    this.imageObj.onunload = function () {\n",
       "        fig.ws.close();\n",
       "    };\n",
       "\n",
       "    this.ws.onmessage = this._make_on_message_function(this);\n",
       "\n",
       "    this.ondownload = ondownload;\n",
       "};\n",
       "\n",
       "mpl.figure.prototype._init_header = function () {\n",
       "    var titlebar = document.createElement('div');\n",
       "    titlebar.classList =\n",
       "        'ui-dialog-titlebar ui-widget-header ui-corner-all ui-helper-clearfix';\n",
       "    var titletext = document.createElement('div');\n",
       "    titletext.classList = 'ui-dialog-title';\n",
       "    titletext.setAttribute(\n",
       "        'style',\n",
       "        'width: 100%; text-align: center; padding: 3px;'\n",
       "    );\n",
       "    titlebar.appendChild(titletext);\n",
       "    this.root.appendChild(titlebar);\n",
       "    this.header = titletext;\n",
       "};\n",
       "\n",
       "mpl.figure.prototype._canvas_extra_style = function (_canvas_div) {};\n",
       "\n",
       "mpl.figure.prototype._root_extra_style = function (_canvas_div) {};\n",
       "\n",
       "mpl.figure.prototype._init_canvas = function () {\n",
       "    var fig = this;\n",
       "\n",
       "    var canvas_div = (this.canvas_div = document.createElement('div'));\n",
       "    canvas_div.setAttribute(\n",
       "        'style',\n",
       "        'border: 1px solid #ddd;' +\n",
       "            'box-sizing: content-box;' +\n",
       "            'clear: both;' +\n",
       "            'min-height: 1px;' +\n",
       "            'min-width: 1px;' +\n",
       "            'outline: 0;' +\n",
       "            'overflow: hidden;' +\n",
       "            'position: relative;' +\n",
       "            'resize: both;'\n",
       "    );\n",
       "\n",
       "    function on_keyboard_event_closure(name) {\n",
       "        return function (event) {\n",
       "            return fig.key_event(event, name);\n",
       "        };\n",
       "    }\n",
       "\n",
       "    canvas_div.addEventListener(\n",
       "        'keydown',\n",
       "        on_keyboard_event_closure('key_press')\n",
       "    );\n",
       "    canvas_div.addEventListener(\n",
       "        'keyup',\n",
       "        on_keyboard_event_closure('key_release')\n",
       "    );\n",
       "\n",
       "    this._canvas_extra_style(canvas_div);\n",
       "    this.root.appendChild(canvas_div);\n",
       "\n",
       "    var canvas = (this.canvas = document.createElement('canvas'));\n",
       "    canvas.classList.add('mpl-canvas');\n",
       "    canvas.setAttribute('style', 'box-sizing: content-box;');\n",
       "\n",
       "    this.context = canvas.getContext('2d');\n",
       "\n",
       "    var backingStore =\n",
       "        this.context.backingStorePixelRatio ||\n",
       "        this.context.webkitBackingStorePixelRatio ||\n",
       "        this.context.mozBackingStorePixelRatio ||\n",
       "        this.context.msBackingStorePixelRatio ||\n",
       "        this.context.oBackingStorePixelRatio ||\n",
       "        this.context.backingStorePixelRatio ||\n",
       "        1;\n",
       "\n",
       "    this.ratio = (window.devicePixelRatio || 1) / backingStore;\n",
       "\n",
       "    var rubberband_canvas = (this.rubberband_canvas = document.createElement(\n",
       "        'canvas'\n",
       "    ));\n",
       "    rubberband_canvas.setAttribute(\n",
       "        'style',\n",
       "        'box-sizing: content-box; position: absolute; left: 0; top: 0; z-index: 1;'\n",
       "    );\n",
       "\n",
       "    // Apply a ponyfill if ResizeObserver is not implemented by browser.\n",
       "    if (this.ResizeObserver === undefined) {\n",
       "        if (window.ResizeObserver !== undefined) {\n",
       "            this.ResizeObserver = window.ResizeObserver;\n",
       "        } else {\n",
       "            var obs = _JSXTOOLS_RESIZE_OBSERVER({});\n",
       "            this.ResizeObserver = obs.ResizeObserver;\n",
       "        }\n",
       "    }\n",
       "\n",
       "    this.resizeObserverInstance = new this.ResizeObserver(function (entries) {\n",
       "        var nentries = entries.length;\n",
       "        for (var i = 0; i < nentries; i++) {\n",
       "            var entry = entries[i];\n",
       "            var width, height;\n",
       "            if (entry.contentBoxSize) {\n",
       "                if (entry.contentBoxSize instanceof Array) {\n",
       "                    // Chrome 84 implements new version of spec.\n",
       "                    width = entry.contentBoxSize[0].inlineSize;\n",
       "                    height = entry.contentBoxSize[0].blockSize;\n",
       "                } else {\n",
       "                    // Firefox implements old version of spec.\n",
       "                    width = entry.contentBoxSize.inlineSize;\n",
       "                    height = entry.contentBoxSize.blockSize;\n",
       "                }\n",
       "            } else {\n",
       "                // Chrome <84 implements even older version of spec.\n",
       "                width = entry.contentRect.width;\n",
       "                height = entry.contentRect.height;\n",
       "            }\n",
       "\n",
       "            // Keep the size of the canvas and rubber band canvas in sync with\n",
       "            // the canvas container.\n",
       "            if (entry.devicePixelContentBoxSize) {\n",
       "                // Chrome 84 implements new version of spec.\n",
       "                canvas.setAttribute(\n",
       "                    'width',\n",
       "                    entry.devicePixelContentBoxSize[0].inlineSize\n",
       "                );\n",
       "                canvas.setAttribute(\n",
       "                    'height',\n",
       "                    entry.devicePixelContentBoxSize[0].blockSize\n",
       "                );\n",
       "            } else {\n",
       "                canvas.setAttribute('width', width * fig.ratio);\n",
       "                canvas.setAttribute('height', height * fig.ratio);\n",
       "            }\n",
       "            canvas.setAttribute(\n",
       "                'style',\n",
       "                'width: ' + width + 'px; height: ' + height + 'px;'\n",
       "            );\n",
       "\n",
       "            rubberband_canvas.setAttribute('width', width);\n",
       "            rubberband_canvas.setAttribute('height', height);\n",
       "\n",
       "            // And update the size in Python. We ignore the initial 0/0 size\n",
       "            // that occurs as the element is placed into the DOM, which should\n",
       "            // otherwise not happen due to the minimum size styling.\n",
       "            if (fig.ws.readyState == 1 && width != 0 && height != 0) {\n",
       "                fig.request_resize(width, height);\n",
       "            }\n",
       "        }\n",
       "    });\n",
       "    this.resizeObserverInstance.observe(canvas_div);\n",
       "\n",
       "    function on_mouse_event_closure(name) {\n",
       "        return function (event) {\n",
       "            return fig.mouse_event(event, name);\n",
       "        };\n",
       "    }\n",
       "\n",
       "    rubberband_canvas.addEventListener(\n",
       "        'mousedown',\n",
       "        on_mouse_event_closure('button_press')\n",
       "    );\n",
       "    rubberband_canvas.addEventListener(\n",
       "        'mouseup',\n",
       "        on_mouse_event_closure('button_release')\n",
       "    );\n",
       "    rubberband_canvas.addEventListener(\n",
       "        'dblclick',\n",
       "        on_mouse_event_closure('dblclick')\n",
       "    );\n",
       "    // Throttle sequential mouse events to 1 every 20ms.\n",
       "    rubberband_canvas.addEventListener(\n",
       "        'mousemove',\n",
       "        on_mouse_event_closure('motion_notify')\n",
       "    );\n",
       "\n",
       "    rubberband_canvas.addEventListener(\n",
       "        'mouseenter',\n",
       "        on_mouse_event_closure('figure_enter')\n",
       "    );\n",
       "    rubberband_canvas.addEventListener(\n",
       "        'mouseleave',\n",
       "        on_mouse_event_closure('figure_leave')\n",
       "    );\n",
       "\n",
       "    canvas_div.addEventListener('wheel', function (event) {\n",
       "        if (event.deltaY < 0) {\n",
       "            event.step = 1;\n",
       "        } else {\n",
       "            event.step = -1;\n",
       "        }\n",
       "        on_mouse_event_closure('scroll')(event);\n",
       "    });\n",
       "\n",
       "    canvas_div.appendChild(canvas);\n",
       "    canvas_div.appendChild(rubberband_canvas);\n",
       "\n",
       "    this.rubberband_context = rubberband_canvas.getContext('2d');\n",
       "    this.rubberband_context.strokeStyle = '#000000';\n",
       "\n",
       "    this._resize_canvas = function (width, height, forward) {\n",
       "        if (forward) {\n",
       "            canvas_div.style.width = width + 'px';\n",
       "            canvas_div.style.height = height + 'px';\n",
       "        }\n",
       "    };\n",
       "\n",
       "    // Disable right mouse context menu.\n",
       "    this.rubberband_canvas.addEventListener('contextmenu', function (_e) {\n",
       "        event.preventDefault();\n",
       "        return false;\n",
       "    });\n",
       "\n",
       "    function set_focus() {\n",
       "        canvas.focus();\n",
       "        canvas_div.focus();\n",
       "    }\n",
       "\n",
       "    window.setTimeout(set_focus, 100);\n",
       "};\n",
       "\n",
       "mpl.figure.prototype._init_toolbar = function () {\n",
       "    var fig = this;\n",
       "\n",
       "    var toolbar = document.createElement('div');\n",
       "    toolbar.classList = 'mpl-toolbar';\n",
       "    this.root.appendChild(toolbar);\n",
       "\n",
       "    function on_click_closure(name) {\n",
       "        return function (_event) {\n",
       "            return fig.toolbar_button_onclick(name);\n",
       "        };\n",
       "    }\n",
       "\n",
       "    function on_mouseover_closure(tooltip) {\n",
       "        return function (event) {\n",
       "            if (!event.currentTarget.disabled) {\n",
       "                return fig.toolbar_button_onmouseover(tooltip);\n",
       "            }\n",
       "        };\n",
       "    }\n",
       "\n",
       "    fig.buttons = {};\n",
       "    var buttonGroup = document.createElement('div');\n",
       "    buttonGroup.classList = 'mpl-button-group';\n",
       "    for (var toolbar_ind in mpl.toolbar_items) {\n",
       "        var name = mpl.toolbar_items[toolbar_ind][0];\n",
       "        var tooltip = mpl.toolbar_items[toolbar_ind][1];\n",
       "        var image = mpl.toolbar_items[toolbar_ind][2];\n",
       "        var method_name = mpl.toolbar_items[toolbar_ind][3];\n",
       "\n",
       "        if (!name) {\n",
       "            /* Instead of a spacer, we start a new button group. */\n",
       "            if (buttonGroup.hasChildNodes()) {\n",
       "                toolbar.appendChild(buttonGroup);\n",
       "            }\n",
       "            buttonGroup = document.createElement('div');\n",
       "            buttonGroup.classList = 'mpl-button-group';\n",
       "            continue;\n",
       "        }\n",
       "\n",
       "        var button = (fig.buttons[name] = document.createElement('button'));\n",
       "        button.classList = 'mpl-widget';\n",
       "        button.setAttribute('role', 'button');\n",
       "        button.setAttribute('aria-disabled', 'false');\n",
       "        button.addEventListener('click', on_click_closure(method_name));\n",
       "        button.addEventListener('mouseover', on_mouseover_closure(tooltip));\n",
       "\n",
       "        var icon_img = document.createElement('img');\n",
       "        icon_img.src = '_images/' + image + '.png';\n",
       "        icon_img.srcset = '_images/' + image + '_large.png 2x';\n",
       "        icon_img.alt = tooltip;\n",
       "        button.appendChild(icon_img);\n",
       "\n",
       "        buttonGroup.appendChild(button);\n",
       "    }\n",
       "\n",
       "    if (buttonGroup.hasChildNodes()) {\n",
       "        toolbar.appendChild(buttonGroup);\n",
       "    }\n",
       "\n",
       "    var fmt_picker = document.createElement('select');\n",
       "    fmt_picker.classList = 'mpl-widget';\n",
       "    toolbar.appendChild(fmt_picker);\n",
       "    this.format_dropdown = fmt_picker;\n",
       "\n",
       "    for (var ind in mpl.extensions) {\n",
       "        var fmt = mpl.extensions[ind];\n",
       "        var option = document.createElement('option');\n",
       "        option.selected = fmt === mpl.default_extension;\n",
       "        option.innerHTML = fmt;\n",
       "        fmt_picker.appendChild(option);\n",
       "    }\n",
       "\n",
       "    var status_bar = document.createElement('span');\n",
       "    status_bar.classList = 'mpl-message';\n",
       "    toolbar.appendChild(status_bar);\n",
       "    this.message = status_bar;\n",
       "};\n",
       "\n",
       "mpl.figure.prototype.request_resize = function (x_pixels, y_pixels) {\n",
       "    // Request matplotlib to resize the figure. Matplotlib will then trigger a resize in the client,\n",
       "    // which will in turn request a refresh of the image.\n",
       "    this.send_message('resize', { width: x_pixels, height: y_pixels });\n",
       "};\n",
       "\n",
       "mpl.figure.prototype.send_message = function (type, properties) {\n",
       "    properties['type'] = type;\n",
       "    properties['figure_id'] = this.id;\n",
       "    this.ws.send(JSON.stringify(properties));\n",
       "};\n",
       "\n",
       "mpl.figure.prototype.send_draw_message = function () {\n",
       "    if (!this.waiting) {\n",
       "        this.waiting = true;\n",
       "        this.ws.send(JSON.stringify({ type: 'draw', figure_id: this.id }));\n",
       "    }\n",
       "};\n",
       "\n",
       "mpl.figure.prototype.handle_save = function (fig, _msg) {\n",
       "    var format_dropdown = fig.format_dropdown;\n",
       "    var format = format_dropdown.options[format_dropdown.selectedIndex].value;\n",
       "    fig.ondownload(fig, format);\n",
       "};\n",
       "\n",
       "mpl.figure.prototype.handle_resize = function (fig, msg) {\n",
       "    var size = msg['size'];\n",
       "    if (size[0] !== fig.canvas.width || size[1] !== fig.canvas.height) {\n",
       "        fig._resize_canvas(size[0], size[1], msg['forward']);\n",
       "        fig.send_message('refresh', {});\n",
       "    }\n",
       "};\n",
       "\n",
       "mpl.figure.prototype.handle_rubberband = function (fig, msg) {\n",
       "    var x0 = msg['x0'] / fig.ratio;\n",
       "    var y0 = (fig.canvas.height - msg['y0']) / fig.ratio;\n",
       "    var x1 = msg['x1'] / fig.ratio;\n",
       "    var y1 = (fig.canvas.height - msg['y1']) / fig.ratio;\n",
       "    x0 = Math.floor(x0) + 0.5;\n",
       "    y0 = Math.floor(y0) + 0.5;\n",
       "    x1 = Math.floor(x1) + 0.5;\n",
       "    y1 = Math.floor(y1) + 0.5;\n",
       "    var min_x = Math.min(x0, x1);\n",
       "    var min_y = Math.min(y0, y1);\n",
       "    var width = Math.abs(x1 - x0);\n",
       "    var height = Math.abs(y1 - y0);\n",
       "\n",
       "    fig.rubberband_context.clearRect(\n",
       "        0,\n",
       "        0,\n",
       "        fig.canvas.width / fig.ratio,\n",
       "        fig.canvas.height / fig.ratio\n",
       "    );\n",
       "\n",
       "    fig.rubberband_context.strokeRect(min_x, min_y, width, height);\n",
       "};\n",
       "\n",
       "mpl.figure.prototype.handle_figure_label = function (fig, msg) {\n",
       "    // Updates the figure title.\n",
       "    fig.header.textContent = msg['label'];\n",
       "};\n",
       "\n",
       "mpl.figure.prototype.handle_cursor = function (fig, msg) {\n",
       "    fig.rubberband_canvas.style.cursor = msg['cursor'];\n",
       "};\n",
       "\n",
       "mpl.figure.prototype.handle_message = function (fig, msg) {\n",
       "    fig.message.textContent = msg['message'];\n",
       "};\n",
       "\n",
       "mpl.figure.prototype.handle_draw = function (fig, _msg) {\n",
       "    // Request the server to send over a new figure.\n",
       "    fig.send_draw_message();\n",
       "};\n",
       "\n",
       "mpl.figure.prototype.handle_image_mode = function (fig, msg) {\n",
       "    fig.image_mode = msg['mode'];\n",
       "};\n",
       "\n",
       "mpl.figure.prototype.handle_history_buttons = function (fig, msg) {\n",
       "    for (var key in msg) {\n",
       "        if (!(key in fig.buttons)) {\n",
       "            continue;\n",
       "        }\n",
       "        fig.buttons[key].disabled = !msg[key];\n",
       "        fig.buttons[key].setAttribute('aria-disabled', !msg[key]);\n",
       "    }\n",
       "};\n",
       "\n",
       "mpl.figure.prototype.handle_navigate_mode = function (fig, msg) {\n",
       "    if (msg['mode'] === 'PAN') {\n",
       "        fig.buttons['Pan'].classList.add('active');\n",
       "        fig.buttons['Zoom'].classList.remove('active');\n",
       "    } else if (msg['mode'] === 'ZOOM') {\n",
       "        fig.buttons['Pan'].classList.remove('active');\n",
       "        fig.buttons['Zoom'].classList.add('active');\n",
       "    } else {\n",
       "        fig.buttons['Pan'].classList.remove('active');\n",
       "        fig.buttons['Zoom'].classList.remove('active');\n",
       "    }\n",
       "};\n",
       "\n",
       "mpl.figure.prototype.updated_canvas_event = function () {\n",
       "    // Called whenever the canvas gets updated.\n",
       "    this.send_message('ack', {});\n",
       "};\n",
       "\n",
       "// A function to construct a web socket function for onmessage handling.\n",
       "// Called in the figure constructor.\n",
       "mpl.figure.prototype._make_on_message_function = function (fig) {\n",
       "    return function socket_on_message(evt) {\n",
       "        if (evt.data instanceof Blob) {\n",
       "            var img = evt.data;\n",
       "            if (img.type !== 'image/png') {\n",
       "                /* FIXME: We get \"Resource interpreted as Image but\n",
       "                 * transferred with MIME type text/plain:\" errors on\n",
       "                 * Chrome.  But how to set the MIME type?  It doesn't seem\n",
       "                 * to be part of the websocket stream */\n",
       "                img.type = 'image/png';\n",
       "            }\n",
       "\n",
       "            /* Free the memory for the previous frames */\n",
       "            if (fig.imageObj.src) {\n",
       "                (window.URL || window.webkitURL).revokeObjectURL(\n",
       "                    fig.imageObj.src\n",
       "                );\n",
       "            }\n",
       "\n",
       "            fig.imageObj.src = (window.URL || window.webkitURL).createObjectURL(\n",
       "                img\n",
       "            );\n",
       "            fig.updated_canvas_event();\n",
       "            fig.waiting = false;\n",
       "            return;\n",
       "        } else if (\n",
       "            typeof evt.data === 'string' &&\n",
       "            evt.data.slice(0, 21) === 'data:image/png;base64'\n",
       "        ) {\n",
       "            fig.imageObj.src = evt.data;\n",
       "            fig.updated_canvas_event();\n",
       "            fig.waiting = false;\n",
       "            return;\n",
       "        }\n",
       "\n",
       "        var msg = JSON.parse(evt.data);\n",
       "        var msg_type = msg['type'];\n",
       "\n",
       "        // Call the  \"handle_{type}\" callback, which takes\n",
       "        // the figure and JSON message as its only arguments.\n",
       "        try {\n",
       "            var callback = fig['handle_' + msg_type];\n",
       "        } catch (e) {\n",
       "            console.log(\n",
       "                \"No handler for the '\" + msg_type + \"' message type: \",\n",
       "                msg\n",
       "            );\n",
       "            return;\n",
       "        }\n",
       "\n",
       "        if (callback) {\n",
       "            try {\n",
       "                // console.log(\"Handling '\" + msg_type + \"' message: \", msg);\n",
       "                callback(fig, msg);\n",
       "            } catch (e) {\n",
       "                console.log(\n",
       "                    \"Exception inside the 'handler_\" + msg_type + \"' callback:\",\n",
       "                    e,\n",
       "                    e.stack,\n",
       "                    msg\n",
       "                );\n",
       "            }\n",
       "        }\n",
       "    };\n",
       "};\n",
       "\n",
       "// from https://stackoverflow.com/questions/1114465/getting-mouse-location-in-canvas\n",
       "mpl.findpos = function (e) {\n",
       "    //this section is from http://www.quirksmode.org/js/events_properties.html\n",
       "    var targ;\n",
       "    if (!e) {\n",
       "        e = window.event;\n",
       "    }\n",
       "    if (e.target) {\n",
       "        targ = e.target;\n",
       "    } else if (e.srcElement) {\n",
       "        targ = e.srcElement;\n",
       "    }\n",
       "    if (targ.nodeType === 3) {\n",
       "        // defeat Safari bug\n",
       "        targ = targ.parentNode;\n",
       "    }\n",
       "\n",
       "    // pageX,Y are the mouse positions relative to the document\n",
       "    var boundingRect = targ.getBoundingClientRect();\n",
       "    var x = e.pageX - (boundingRect.left + document.body.scrollLeft);\n",
       "    var y = e.pageY - (boundingRect.top + document.body.scrollTop);\n",
       "\n",
       "    return { x: x, y: y };\n",
       "};\n",
       "\n",
       "/*\n",
       " * return a copy of an object with only non-object keys\n",
       " * we need this to avoid circular references\n",
       " * https://stackoverflow.com/a/24161582/3208463\n",
       " */\n",
       "function simpleKeys(original) {\n",
       "    return Object.keys(original).reduce(function (obj, key) {\n",
       "        if (typeof original[key] !== 'object') {\n",
       "            obj[key] = original[key];\n",
       "        }\n",
       "        return obj;\n",
       "    }, {});\n",
       "}\n",
       "\n",
       "mpl.figure.prototype.mouse_event = function (event, name) {\n",
       "    var canvas_pos = mpl.findpos(event);\n",
       "\n",
       "    if (name === 'button_press') {\n",
       "        this.canvas.focus();\n",
       "        this.canvas_div.focus();\n",
       "    }\n",
       "\n",
       "    var x = canvas_pos.x * this.ratio;\n",
       "    var y = canvas_pos.y * this.ratio;\n",
       "\n",
       "    this.send_message(name, {\n",
       "        x: x,\n",
       "        y: y,\n",
       "        button: event.button,\n",
       "        step: event.step,\n",
       "        guiEvent: simpleKeys(event),\n",
       "    });\n",
       "\n",
       "    /* This prevents the web browser from automatically changing to\n",
       "     * the text insertion cursor when the button is pressed.  We want\n",
       "     * to control all of the cursor setting manually through the\n",
       "     * 'cursor' event from matplotlib */\n",
       "    event.preventDefault();\n",
       "    return false;\n",
       "};\n",
       "\n",
       "mpl.figure.prototype._key_event_extra = function (_event, _name) {\n",
       "    // Handle any extra behaviour associated with a key event\n",
       "};\n",
       "\n",
       "mpl.figure.prototype.key_event = function (event, name) {\n",
       "    // Prevent repeat events\n",
       "    if (name === 'key_press') {\n",
       "        if (event.key === this._key) {\n",
       "            return;\n",
       "        } else {\n",
       "            this._key = event.key;\n",
       "        }\n",
       "    }\n",
       "    if (name === 'key_release') {\n",
       "        this._key = null;\n",
       "    }\n",
       "\n",
       "    var value = '';\n",
       "    if (event.ctrlKey && event.key !== 'Control') {\n",
       "        value += 'ctrl+';\n",
       "    }\n",
       "    else if (event.altKey && event.key !== 'Alt') {\n",
       "        value += 'alt+';\n",
       "    }\n",
       "    else if (event.shiftKey && event.key !== 'Shift') {\n",
       "        value += 'shift+';\n",
       "    }\n",
       "\n",
       "    value += 'k' + event.key;\n",
       "\n",
       "    this._key_event_extra(event, name);\n",
       "\n",
       "    this.send_message(name, { key: value, guiEvent: simpleKeys(event) });\n",
       "    return false;\n",
       "};\n",
       "\n",
       "mpl.figure.prototype.toolbar_button_onclick = function (name) {\n",
       "    if (name === 'download') {\n",
       "        this.handle_save(this, null);\n",
       "    } else {\n",
       "        this.send_message('toolbar_button', { name: name });\n",
       "    }\n",
       "};\n",
       "\n",
       "mpl.figure.prototype.toolbar_button_onmouseover = function (tooltip) {\n",
       "    this.message.textContent = tooltip;\n",
       "};\n",
       "\n",
       "///////////////// REMAINING CONTENT GENERATED BY embed_js.py /////////////////\n",
       "// prettier-ignore\n",
       "var _JSXTOOLS_RESIZE_OBSERVER=function(A){var t,i=new WeakMap,n=new WeakMap,a=new WeakMap,r=new WeakMap,o=new Set;function s(e){if(!(this instanceof s))throw new TypeError(\"Constructor requires 'new' operator\");i.set(this,e)}function h(){throw new TypeError(\"Function is not a constructor\")}function c(e,t,i,n){e=0 in arguments?Number(arguments[0]):0,t=1 in arguments?Number(arguments[1]):0,i=2 in arguments?Number(arguments[2]):0,n=3 in arguments?Number(arguments[3]):0,this.right=(this.x=this.left=e)+(this.width=i),this.bottom=(this.y=this.top=t)+(this.height=n),Object.freeze(this)}function d(){t=requestAnimationFrame(d);var s=new WeakMap,p=new Set;o.forEach((function(t){r.get(t).forEach((function(i){var r=t instanceof window.SVGElement,o=a.get(t),d=r?0:parseFloat(o.paddingTop),f=r?0:parseFloat(o.paddingRight),l=r?0:parseFloat(o.paddingBottom),u=r?0:parseFloat(o.paddingLeft),g=r?0:parseFloat(o.borderTopWidth),m=r?0:parseFloat(o.borderRightWidth),w=r?0:parseFloat(o.borderBottomWidth),b=u+f,F=d+l,v=(r?0:parseFloat(o.borderLeftWidth))+m,W=g+w,y=r?0:t.offsetHeight-W-t.clientHeight,E=r?0:t.offsetWidth-v-t.clientWidth,R=b+v,z=F+W,M=r?t.width:parseFloat(o.width)-R-E,O=r?t.height:parseFloat(o.height)-z-y;if(n.has(t)){var k=n.get(t);if(k[0]===M&&k[1]===O)return}n.set(t,[M,O]);var S=Object.create(h.prototype);S.target=t,S.contentRect=new c(u,d,M,O),s.has(i)||(s.set(i,[]),p.add(i)),s.get(i).push(S)}))})),p.forEach((function(e){i.get(e).call(e,s.get(e),e)}))}return s.prototype.observe=function(i){if(i instanceof window.Element){r.has(i)||(r.set(i,new Set),o.add(i),a.set(i,window.getComputedStyle(i)));var n=r.get(i);n.has(this)||n.add(this),cancelAnimationFrame(t),t=requestAnimationFrame(d)}},s.prototype.unobserve=function(i){if(i instanceof window.Element&&r.has(i)){var n=r.get(i);n.has(this)&&(n.delete(this),n.size||(r.delete(i),o.delete(i))),n.size||r.delete(i),o.size||cancelAnimationFrame(t)}},A.DOMRectReadOnly=c,A.ResizeObserver=s,A.ResizeObserverEntry=h,A}; // eslint-disable-line\n",
       "mpl.toolbar_items = [[\"Home\", \"Reset original view\", \"fa fa-home icon-home\", \"home\"], [\"Back\", \"Back to previous view\", \"fa fa-arrow-left icon-arrow-left\", \"back\"], [\"Forward\", \"Forward to next view\", \"fa fa-arrow-right icon-arrow-right\", \"forward\"], [\"\", \"\", \"\", \"\"], [\"Pan\", \"Left button pans, Right button zooms\\nx/y fixes axis, CTRL fixes aspect\", \"fa fa-arrows icon-move\", \"pan\"], [\"Zoom\", \"Zoom to rectangle\\nx/y fixes axis\", \"fa fa-square-o icon-check-empty\", \"zoom\"], [\"\", \"\", \"\", \"\"], [\"Download\", \"Download plot\", \"fa fa-floppy-o icon-save\", \"download\"]];\n",
       "\n",
       "mpl.extensions = [\"eps\", \"jpeg\", \"pgf\", \"pdf\", \"png\", \"ps\", \"raw\", \"svg\", \"tif\"];\n",
       "\n",
       "mpl.default_extension = \"png\";/* global mpl */\n",
       "\n",
       "var comm_websocket_adapter = function (comm) {\n",
       "    // Create a \"websocket\"-like object which calls the given IPython comm\n",
       "    // object with the appropriate methods. Currently this is a non binary\n",
       "    // socket, so there is still some room for performance tuning.\n",
       "    var ws = {};\n",
       "\n",
       "    ws.binaryType = comm.kernel.ws.binaryType;\n",
       "    ws.readyState = comm.kernel.ws.readyState;\n",
       "    function updateReadyState(_event) {\n",
       "        if (comm.kernel.ws) {\n",
       "            ws.readyState = comm.kernel.ws.readyState;\n",
       "        } else {\n",
       "            ws.readyState = 3; // Closed state.\n",
       "        }\n",
       "    }\n",
       "    comm.kernel.ws.addEventListener('open', updateReadyState);\n",
       "    comm.kernel.ws.addEventListener('close', updateReadyState);\n",
       "    comm.kernel.ws.addEventListener('error', updateReadyState);\n",
       "\n",
       "    ws.close = function () {\n",
       "        comm.close();\n",
       "    };\n",
       "    ws.send = function (m) {\n",
       "        //console.log('sending', m);\n",
       "        comm.send(m);\n",
       "    };\n",
       "    // Register the callback with on_msg.\n",
       "    comm.on_msg(function (msg) {\n",
       "        //console.log('receiving', msg['content']['data'], msg);\n",
       "        var data = msg['content']['data'];\n",
       "        if (data['blob'] !== undefined) {\n",
       "            data = {\n",
       "                data: new Blob(msg['buffers'], { type: data['blob'] }),\n",
       "            };\n",
       "        }\n",
       "        // Pass the mpl event to the overridden (by mpl) onmessage function.\n",
       "        ws.onmessage(data);\n",
       "    });\n",
       "    return ws;\n",
       "};\n",
       "\n",
       "mpl.mpl_figure_comm = function (comm, msg) {\n",
       "    // This is the function which gets called when the mpl process\n",
       "    // starts-up an IPython Comm through the \"matplotlib\" channel.\n",
       "\n",
       "    var id = msg.content.data.id;\n",
       "    // Get hold of the div created by the display call when the Comm\n",
       "    // socket was opened in Python.\n",
       "    var element = document.getElementById(id);\n",
       "    var ws_proxy = comm_websocket_adapter(comm);\n",
       "\n",
       "    function ondownload(figure, _format) {\n",
       "        window.open(figure.canvas.toDataURL());\n",
       "    }\n",
       "\n",
       "    var fig = new mpl.figure(id, ws_proxy, ondownload, element);\n",
       "\n",
       "    // Call onopen now - mpl needs it, as it is assuming we've passed it a real\n",
       "    // web socket which is closed, not our websocket->open comm proxy.\n",
       "    ws_proxy.onopen();\n",
       "\n",
       "    fig.parent_element = element;\n",
       "    fig.cell_info = mpl.find_output_cell(\"<div id='\" + id + \"'></div>\");\n",
       "    if (!fig.cell_info) {\n",
       "        console.error('Failed to find cell for figure', id, fig);\n",
       "        return;\n",
       "    }\n",
       "    fig.cell_info[0].output_area.element.on(\n",
       "        'cleared',\n",
       "        { fig: fig },\n",
       "        fig._remove_fig_handler\n",
       "    );\n",
       "};\n",
       "\n",
       "mpl.figure.prototype.handle_close = function (fig, msg) {\n",
       "    var width = fig.canvas.width / fig.ratio;\n",
       "    fig.cell_info[0].output_area.element.off(\n",
       "        'cleared',\n",
       "        fig._remove_fig_handler\n",
       "    );\n",
       "    fig.resizeObserverInstance.unobserve(fig.canvas_div);\n",
       "\n",
       "    // Update the output cell to use the data from the current canvas.\n",
       "    fig.push_to_output();\n",
       "    var dataURL = fig.canvas.toDataURL();\n",
       "    // Re-enable the keyboard manager in IPython - without this line, in FF,\n",
       "    // the notebook keyboard shortcuts fail.\n",
       "    IPython.keyboard_manager.enable();\n",
       "    fig.parent_element.innerHTML =\n",
       "        '<img src=\"' + dataURL + '\" width=\"' + width + '\">';\n",
       "    fig.close_ws(fig, msg);\n",
       "};\n",
       "\n",
       "mpl.figure.prototype.close_ws = function (fig, msg) {\n",
       "    fig.send_message('closing', msg);\n",
       "    // fig.ws.close()\n",
       "};\n",
       "\n",
       "mpl.figure.prototype.push_to_output = function (_remove_interactive) {\n",
       "    // Turn the data on the canvas into data in the output cell.\n",
       "    var width = this.canvas.width / this.ratio;\n",
       "    var dataURL = this.canvas.toDataURL();\n",
       "    this.cell_info[1]['text/html'] =\n",
       "        '<img src=\"' + dataURL + '\" width=\"' + width + '\">';\n",
       "};\n",
       "\n",
       "mpl.figure.prototype.updated_canvas_event = function () {\n",
       "    // Tell IPython that the notebook contents must change.\n",
       "    IPython.notebook.set_dirty(true);\n",
       "    this.send_message('ack', {});\n",
       "    var fig = this;\n",
       "    // Wait a second, then push the new image to the DOM so\n",
       "    // that it is saved nicely (might be nice to debounce this).\n",
       "    setTimeout(function () {\n",
       "        fig.push_to_output();\n",
       "    }, 1000);\n",
       "};\n",
       "\n",
       "mpl.figure.prototype._init_toolbar = function () {\n",
       "    var fig = this;\n",
       "\n",
       "    var toolbar = document.createElement('div');\n",
       "    toolbar.classList = 'btn-toolbar';\n",
       "    this.root.appendChild(toolbar);\n",
       "\n",
       "    function on_click_closure(name) {\n",
       "        return function (_event) {\n",
       "            return fig.toolbar_button_onclick(name);\n",
       "        };\n",
       "    }\n",
       "\n",
       "    function on_mouseover_closure(tooltip) {\n",
       "        return function (event) {\n",
       "            if (!event.currentTarget.disabled) {\n",
       "                return fig.toolbar_button_onmouseover(tooltip);\n",
       "            }\n",
       "        };\n",
       "    }\n",
       "\n",
       "    fig.buttons = {};\n",
       "    var buttonGroup = document.createElement('div');\n",
       "    buttonGroup.classList = 'btn-group';\n",
       "    var button;\n",
       "    for (var toolbar_ind in mpl.toolbar_items) {\n",
       "        var name = mpl.toolbar_items[toolbar_ind][0];\n",
       "        var tooltip = mpl.toolbar_items[toolbar_ind][1];\n",
       "        var image = mpl.toolbar_items[toolbar_ind][2];\n",
       "        var method_name = mpl.toolbar_items[toolbar_ind][3];\n",
       "\n",
       "        if (!name) {\n",
       "            /* Instead of a spacer, we start a new button group. */\n",
       "            if (buttonGroup.hasChildNodes()) {\n",
       "                toolbar.appendChild(buttonGroup);\n",
       "            }\n",
       "            buttonGroup = document.createElement('div');\n",
       "            buttonGroup.classList = 'btn-group';\n",
       "            continue;\n",
       "        }\n",
       "\n",
       "        button = fig.buttons[name] = document.createElement('button');\n",
       "        button.classList = 'btn btn-default';\n",
       "        button.href = '#';\n",
       "        button.title = name;\n",
       "        button.innerHTML = '<i class=\"fa ' + image + ' fa-lg\"></i>';\n",
       "        button.addEventListener('click', on_click_closure(method_name));\n",
       "        button.addEventListener('mouseover', on_mouseover_closure(tooltip));\n",
       "        buttonGroup.appendChild(button);\n",
       "    }\n",
       "\n",
       "    if (buttonGroup.hasChildNodes()) {\n",
       "        toolbar.appendChild(buttonGroup);\n",
       "    }\n",
       "\n",
       "    // Add the status bar.\n",
       "    var status_bar = document.createElement('span');\n",
       "    status_bar.classList = 'mpl-message pull-right';\n",
       "    toolbar.appendChild(status_bar);\n",
       "    this.message = status_bar;\n",
       "\n",
       "    // Add the close button to the window.\n",
       "    var buttongrp = document.createElement('div');\n",
       "    buttongrp.classList = 'btn-group inline pull-right';\n",
       "    button = document.createElement('button');\n",
       "    button.classList = 'btn btn-mini btn-primary';\n",
       "    button.href = '#';\n",
       "    button.title = 'Stop Interaction';\n",
       "    button.innerHTML = '<i class=\"fa fa-power-off icon-remove icon-large\"></i>';\n",
       "    button.addEventListener('click', function (_evt) {\n",
       "        fig.handle_close(fig, {});\n",
       "    });\n",
       "    button.addEventListener(\n",
       "        'mouseover',\n",
       "        on_mouseover_closure('Stop Interaction')\n",
       "    );\n",
       "    buttongrp.appendChild(button);\n",
       "    var titlebar = this.root.querySelector('.ui-dialog-titlebar');\n",
       "    titlebar.insertBefore(buttongrp, titlebar.firstChild);\n",
       "};\n",
       "\n",
       "mpl.figure.prototype._remove_fig_handler = function (event) {\n",
       "    var fig = event.data.fig;\n",
       "    if (event.target !== this) {\n",
       "        // Ignore bubbled events from children.\n",
       "        return;\n",
       "    }\n",
       "    fig.close_ws(fig, {});\n",
       "};\n",
       "\n",
       "mpl.figure.prototype._root_extra_style = function (el) {\n",
       "    el.style.boxSizing = 'content-box'; // override notebook setting of border-box.\n",
       "};\n",
       "\n",
       "mpl.figure.prototype._canvas_extra_style = function (el) {\n",
       "    // this is important to make the div 'focusable\n",
       "    el.setAttribute('tabindex', 0);\n",
       "    // reach out to IPython and tell the keyboard manager to turn it's self\n",
       "    // off when our div gets focus\n",
       "\n",
       "    // location in version 3\n",
       "    if (IPython.notebook.keyboard_manager) {\n",
       "        IPython.notebook.keyboard_manager.register_events(el);\n",
       "    } else {\n",
       "        // location in version 2\n",
       "        IPython.keyboard_manager.register_events(el);\n",
       "    }\n",
       "};\n",
       "\n",
       "mpl.figure.prototype._key_event_extra = function (event, _name) {\n",
       "    // Check for shift+enter\n",
       "    if (event.shiftKey && event.which === 13) {\n",
       "        this.canvas_div.blur();\n",
       "        // select the cell after this one\n",
       "        var index = IPython.notebook.find_cell_index(this.cell_info[0]);\n",
       "        IPython.notebook.select(index + 1);\n",
       "    }\n",
       "};\n",
       "\n",
       "mpl.figure.prototype.handle_save = function (fig, _msg) {\n",
       "    fig.ondownload(fig, null);\n",
       "};\n",
       "\n",
       "mpl.find_output_cell = function (html_output) {\n",
       "    // Return the cell and output element which can be found *uniquely* in the notebook.\n",
       "    // Note - this is a bit hacky, but it is done because the \"notebook_saving.Notebook\"\n",
       "    // IPython event is triggered only after the cells have been serialised, which for\n",
       "    // our purposes (turning an active figure into a static one), is too late.\n",
       "    var cells = IPython.notebook.get_cells();\n",
       "    var ncells = cells.length;\n",
       "    for (var i = 0; i < ncells; i++) {\n",
       "        var cell = cells[i];\n",
       "        if (cell.cell_type === 'code') {\n",
       "            for (var j = 0; j < cell.output_area.outputs.length; j++) {\n",
       "                var data = cell.output_area.outputs[j];\n",
       "                if (data.data) {\n",
       "                    // IPython >= 3 moved mimebundle to data attribute of output\n",
       "                    data = data.data;\n",
       "                }\n",
       "                if (data['text/html'] === html_output) {\n",
       "                    return [cell, data, j];\n",
       "                }\n",
       "            }\n",
       "        }\n",
       "    }\n",
       "};\n",
       "\n",
       "// Register the function which deals with the matplotlib target/channel.\n",
       "// The kernel may be null if the page has been refreshed.\n",
       "if (IPython.notebook.kernel !== null) {\n",
       "    IPython.notebook.kernel.comm_manager.register_target(\n",
       "        'matplotlib',\n",
       "        mpl.mpl_figure_comm\n",
       "    );\n",
       "}\n"
      ],
      "text/plain": [
       "<IPython.core.display.Javascript object>"
      ]
     },
     "metadata": {},
     "output_type": "display_data"
    },
    {
     "data": {
      "text/html": [
       "<img src=\"data:image/png;base64,iVBORw0KGgoAAAANSUhEUgAABicAAAUhCAYAAADgd1fMAAAAAXNSR0IArs4c6QAAIABJREFUeF7s3QeULNteF+CaOXHCyfec+0R5iAqKiqAg4gITBkRBzCAqKCjJtARRUZcBUQHBrJiAJ6goYkDMCQwoBjCgiICAqHhPjpPnnOP6Vd+a6enpmeme6a6urvpqrVnn3jPVVXt/u2bue/tXe/8XXr9+/bpwECBAgAABAgQIECBAgAABAgQIECBAgAABAgRqElgQTtQk7TYECBAgQIAAAQIECBAgQIAAAQIECBAgQIBAKSCc8CAQIECAAAECBAgQIECAAAECBAgQIECAAAECtQoIJ2rldjMCBAgQIECAAAECBAgQIECAAAECBAgQIEBAOOEZIECAAAECBAgQIECAAAECBAgQIECAAAECBGoVEE7Uyu1mBAgQIECAAAECBAgQIECAAAECBAgQIECAgHDCM0CAAAECBAgQIECAAAECBAgQIECAAAECBAjUKiCcqJXbzQgQIECAAAECBAgQIECAAAECBAgQIECAAAHhhGeAAAECBAgQIECAAAECBAgQIECAAAECBAgQqFVAOFErt5sRIECAAAECBAgQIECAAAECBAgQIECAAAECwgnPAAECBAgQIECAAAECBAgQIECAAAECBAgQIFCrgHCiVm43I0CAAAECBAgQIECAAAECBAgQIECAAAECBIQTngECBAgQIECAAAECBAgQIECAAAECBAgQIECgVgHhRK3cbkaAAAECBAgQIECAAAECBAgQIECAAAECBAgIJzwDBAgQIECAAAECBAgQIECAAAECBAgQIECAQK0Cwolaud2MAAECBAgQIECAAAECBAgQIECAAAECBAgQEE54BggQIECAAAECBAgQIECAAAECBAgQIECAAIFaBYQTtXK7GQECBAgQIECAAAECBAgQIECAAAECBAgQICCc8AwQIECAAAECBAgQIECAAAECBAgQIECAAAECtQoIJ2rldjMCBAgQIECAAAECBAgQIECAAAECBAgQIEBAOOEZIECAAAECBAgQIECAAAECBAgQIECAAAECBGoVEE7Uyu1mBAgQIECAAAECBAgQIECAAAECBAgQIECAgHDCM0CAAAECBAgQIECAAAECBAgQIECAAAECBAjUKiCcqJXbzQgQIECAAAECBAgQIECAAAECBAgQIECAAAHhhGeAAAECBAgQIECAAAECBAgQIECAAAECBAgQqFVAOFErt5sRIECAAAECBAgQIECAAAECBAgQIECAAAECwgnPAAECBAgQIECAAAECBAgQIECAAAECBAgQIFCrgHCiVm43I0CAAAECBAgQIECAAAECBAgQIECAAAECBIQTngECBAgQIECAAAECBAgQIECAAAECBAgQIECgVgHhRK3cbkaAAAECBAgQIECAAAECBAgQIECAAAECBAgIJzwDBAgQIECAAAECBAgQIECAAAECBAgQIECAQK0Cwolaud2MAAECBAgQIECAAAECBAgQIECAAAECBAgQEE54BggQIECAAAECBAgQIECAAAECBAgQIECAAIFaBYQTtXK7GQECBAgQIECAAAECBAgQIECAAAECBAgQICCc8AwQIECAAAECBAgQIECAAAECBAgQIECAAAECtQoIJ2rldjMCBAgQIECAAAECBAgQIECAAAECBAgQIEBAOOEZIECAAAECBAgQIECAAAECBAgQIECAAAECBGoVEE7Uyu1mBAgQIECAAAECBAgQIECAAAECBAgQIECAgHDCM0CAAAECBAgQIECAAAECBAgQIECAAAECBAjUKiCcqJXbzQgQIECAAAECBAgQIECAAAECBAgQIECAAAHhhGeAAAECBAgQIECAAAECBAgQIECAAAECBAgQqFVAOFErt5sRIECAAAECBAgQIECAAAECBAgQIECAAAECwgnPAAECBAgQIECAAAECBAgQIECAAAECBAgQIFCrgHCiVm43I0CAAAECBAgQIECAAAECBAgQIECAAAECBIQTngECBAgQIECAAAECBAgQIECAAAECBAgQIECgVgHhRK3cbkaAAAECBAgQIECAAAECBAgQIECAAAECBAgIJzwDBAgQIECAAAECBAgQIECAAAECBAgQIECAQK0Cwolaud2MAAECBAgQIECAAAECBAgQIECAAAECBAgQEE54BggQIECAAAECBAgQIECAAAECBAgQIECAAIFaBYQTtXK7GQECBAgQIECAAAECBAgQIECAAAECBAgQICCc8AwQIECAAAECBAgQIECAAAECBAgQIECAAAECtQoIJ2rldjMCBAgQIECAAAECBAgQIECAAAECBAgQIEBAOOEZIECAAAECBAgQIECAAAECBAgQIECAAAECBGoVEE7Uyu1mBAgQIECAAAECBAgQIECAAAECBAgQIECAgHDCM0CAAAECBAgQIECAAAECBAgQIECAAAECBAjUKiCcqJXbzQgQIECAAAECBAgQIECAAAECBAgQIECAAAHhhGeAAAECBAgQIECAAAECBAgQIECAAAECBAgQqFVAOFErt5sRIECAAAECBAgQIECAAAECBAgQIECAAAECwgnPAAECBAgQIECAAAECBAgQIECAAAECBAgQIFCrgHCiVm43I0CAAAECBAgQIECAAAECBAgQIECAAAECBIQTngECBAgQIECAAAECBAgQIECAAAECBAgQIECgVgHhRK3cbkaAAAECBAgQIECAAAECBAgQIECAAAECBAgIJzwDBAgQIECAAAECBAgQIECAAAECBAgQIECAQK0Cwolaud2MAAECBAgQIECAAAECBAgQIECAAAECBAgQEE54BggQIECAAAECBAgQIECAAAECBAgQIECAAIFaBYQTtXK7GQECBAgQIECAAAECBAgQIECAAAECBAgQICCc8AwQIECAAAECBAgQIECAAAECBAgQIECAAAECtQoIJ2rldjMCBAgQIECAAAECBAgQIECAAAECBAgQIEBAOOEZIECAAAECBAgQIECAAAECBAgQIECAAAECBGoVEE7Uyu1mBAgQIECAAAECBAgQIECAAAECBAgQIECAgHDCM0CAAAECBAgQIECAAAECBAgQIECAAAECBAjUKiCcqJXbzQgQIECAAAECBAgQIECAAAECBAgQIECAAAHhhGeAAAECBAgQIECAAAECBAgQIECAAAECBAgQqFVAOFErt5sRIECAAAECBAgQIECAAAECBAgQIECAAAECwgnPAAECBAgQIECAAAECBAgQIECAAAECBAgQIFCrgHCiVm43I0CAAAECBAgQIECAAAECBAgQIECAAAECBIQTngECBAgQIECAAAECBAgQIECAAAECBAgQIECgVgHhRK3cbkaAAAECBAgQIECAAAECBAgQIECAAAECBAgIJzwDBAgQIECAAAECBAgQIECAAAECBAgQIECAQK0Cwolaud2MAAECBAgQIECAAAECBAgQIECAAAECBAgQEE54BggQIECAAAECBAgQIECAAAECBAgQIECAAIFaBYQTtXK7GQECBAgQIECAAAECBAgQIECAAAECBAgQICCc8AwQIECAAAECBAgQIECAAAECBAgQIECAAAECtQoIJ2rldjMCBAgQIECAAAECBAgQIECAAAECBAgQIEBAOOEZIECAAAECBAgQIECAAAECBAgQIECAAAECBGoVEE7Uyu1mBAgQIECAAAECBAgQIECAAAECBAgQIECAgHDCM0CAAAECBAgQIECAAAECBAgQIECAAAECBAjUKiCcqJXbzQgQIECAAAECBAgQIECAAAECBAgQIECAAAHhhGeAAAECBAgQIECAAAECBAgQIECAAAECBAgQqFVAOFErt5sRIECAAAECBAgQIECAAAECBAgQIECAAAECwgnPAAECBAgQIECAAAECBAgQIECAAAECBAgQIFCrgHCiVm43I0CAAAECBAgQIECAAAECBAgQIECAAAECBIQTngECBAgQIECAAAECBAgQIECAAAECBAgQIECgVgHhRK3cbkaAAAECBAgQIECAAAECBAgQIECAAAECBAgIJzwDBAgQIECAAAECBAgQIECAAAECBAgQIECAQK0Cwolaud2MAAECBAgQIECAAAECBAgQIECAAAECBAgQEE54BggQIECAAAECBAgQIECAAAECBAgQIECAAIFaBYQTtXK7GQECBAgQIECAAAECBAgQIECAAAECBAgQICCc8AwQIECAAAECBAgQIECAAAECBAgQIECAAAECtQoIJ2rldjMCBAgQIECAAAECBAgQIECAAAECBAgQIEBAOOEZIECAAAECBAgQIECAAAECBAgQIECAAAECBGoVEE7Uyu1mBAgQIECAAAECBAgQIECAAAECBAgQIECAgHDCM0CAAAECBAgQIECAAAECBAgQIECAAAECBAjUKiCcqJXbzQgQIECAAAECBAgQIECAAAECBAgQIECAAAHhhGeAAAECBAgQIECAAAECBAgQIECAAAECBAgQqFVAOFErt5sRIECAAAECBAgQIECAAAECBAgQIECAAAECwgnPAAECBAgQIECAAAECBAgQIECAAAECBAgQIFCrgHCiVm43I0CAAAECBAgQIECAAAECBAgQIECAAAECBIQTngECBAgQIECAAAECBAgQIECAAAECBAgQIECgVgHhRK3cbkaAAAECBAgQIECAAAECBAgQIECAAAECBAgIJzwDBAgQIECAAAECBAgQIECAAAECBAgQIECAQK0Cwolaud2MAAECBAgQIECAAAECBAgQIECAAAECBAgQEE54BggQIECAAAECBAgQIECAAAECBAgQIECAAIFaBYQTtXK7GQECBAgQIECAAAECBAgQIECAAAECBAgQICCc8AwQIECAAAECBAgQIECAAAECBAgQIECAAAECtQoIJ2rldjMCBAgQIECAAAECBAgQIECAAAECBAgQIEBAOOEZIECAAAECBAgQIECAAAECBAgQIECAAAECBGoVEE7Uyu1mBAgQIECAAAECBAgQIECAAAECBAgQIECAgHDCM0CAAAECBAgQIECAAAECBAgQIECAAAECBAjUKiCcqJXbzQgQIECAAAECBAgQIECAAAECBAgQIECAAAHhhGeAAAECBAgQIECAAAECBAgQIECAAAECBAgQqFVAOFErt5sRIECAAAECBAgQIECAAAECBAgQIECAAAECwgnPAAECBAgQIECAAAECBAgQIECAAAECBAgQIFCrgHCiVm43I0CAAAECBAgQIECAAAECBAgQIECAAAECBIQTngECBAgQIECAAAECBAgQIECAAAECBAgQIECgVgHhRK3cbkaAAAECBAgQIECAAAECBAgQIECAAAECBAgIJzwDBAgQIECAAAECBAgQIECAAAECBAgQIECAQK0Cwolaud2MAAECBAgQIECAAAECBAgQIECAAAECBAgQEE54BggQIECAAAECBAgQIECAAAECBAgQIECAAIFaBYQTtXK7GQECBAgQIECAAAECXRV4/fp1sbCw0NXu6zcBAgQIECBAgACBAwLCCQ8EAQIECBAgQIBAJwS2t7eLL/3SLy2+5mu+pvjf//t/F6urq8WP+TE/pvjVv/pXFz/6R//oAwb/9t/+2+LjP/7jD7mcO3euuHTpUvHmm28WH/zBH1z88l/+y4sf/IN/8Mh+f+Nv/I3isz/7s4sP+qAPKr7iK75i6Ofu3r1bXvd//a//Vbz/+79/8SVf8iVlWx2TEfg//+f/FD/1p/7U4p3vfGfxj//xP57MRU+4Ssb08z//84tf+kt/afEBH/ABU7nnH//jf7z4E3/iTxS/4Tf8huLTP/3Tp3IPFyVAgAABAgQIECAwSQHhxCQ1XYsAAQIECBAgQKCRAq9evSo+7dM+rfj6r//64saNG+Wk/4sXL4r/8B/+Q/km++d93ucVH/3RH73X9iqcWF5eLieyq+Ply5fF8+fPi2/7tm8r7t+/X1y8eLH4nM/5nOLn/byfN1K/Twoncs0EE9/93d9dBid/7s/9OcHESLKjnzSLcCJBV56pv/SX/lLxgR/4gaM3dowzhRNjYDmVAAECBAgQIECgEQLCiUYMg0YQIECAAAECBAhMUyCTwgkRskLiz//5P7834f+N3/iNxa/6Vb+qDBn++T//58WVK1fKZlThxPf//t+/+Gf/7J8dalq25/krf+WvFJ/7uZ9bfi/X/PE//sef2IXjwolHjx6VwcR3fud3lhPYf/bP/tliZWXlxGs6YTyBWYQTGdd/9+/+3VTDiTw/jx8/Lm7evFkGcA4CBAgQIECAAAECTRcQTjR9hLSPAAECBAgQIEDgzAIf+7EfW/zH//gfi6/6qq8q3u/93u/A9T75kz+5DCYSBvykn/STyu+dFE5UF8jKhi/8wi8s3ud93qf4m3/zb55YT+CocCKTynm7/tu//dvLLZ/+zJ/5M0VWbTgmL9DWcGLyUq5IgAABAgQIECBAYLoCwonp+ro6AQIECBAgQIBAAwQ2NzfLrZJ+2A/7YYcChNQByPZOWf3wE37CTxgrnNjd3S23fXrrrbfKlRSDtSsGuz4snHj69GnxCZ/wCcV//+//vaxj8af/9J8ulpaWDql92Id9WJH7/b2/9/eKbOHz9//+3y+ePHlSvMd7vEe5+iPbUqWWxh/8g3+w+Df/5t8Ui4uLZXt++2//7cW7v/u7H7jezs5O8Zf/8l8u/tbf+lulS2pp/Igf8SOKT/zETyx+8k/+yYfunfDkXe96V7ktVu6R+h23bt0qftyP+3HFp37qpxY/6Af9oL3PVH383b/7dxc/5If8kOJP/sk/WXzLt3xLka21Egz9ml/za4of+2N/7IF7/L//9//KegkZh+/7vu8rV4y87/u+b7mS5Cf+xJ848hOUccg4pp337t0r7ty5U65oyT3f8Y53lNcZFk5UYVTOTT8Hjx/6Q39oafSt3/qte9+K/Z/6U3+q+IZv+Ibymll9k+frF//iX1x81Ed91IF7DV7vn/7Tf1r8gB/wA8q/zoqHBGP5uzhk9U6eg7Q5fv1HnoGtra3y/N/6W39rOXbf7/t9v/KZyXMxWHOi2uopIVrGLH/+j//xP4oLFy6UIdiv//W/vkjfBo+v+7qvK2udZPuybHsWl8/8zM8sftfv+l3ls5VrOAgQIECAAAECBAicVUA4cVZBnydAgAABAgQIEJhLgWzN9NVf/dXF7/ydv7OcxE5x5Eww5xh15UTO/R2/43cUf+2v/bWRChEPhhOpX5Fg4r/9t/9WfMiHfEg52X358uWhnpmY3tjYKN7t3d6t+J//83+WE9gJNr75m7+5PD/tyOR0Vlz88B/+w8uw4//+3/9b9u0f/aN/tBd4ZJI6RcCzpdX169eLH/WjflSRWhr//t//+3IC+zM+4zOKT/mUT9lrQ+pgfMzHfEx5rfd8z/cs3uu93qtYX18vA4fc/+rVq8Xf+Tt/pywSnqPq40/5KT+l+Bf/4l+U7c2k/Xd913eV7c7EeFawpI05Hjx4UPzcn/tzyxoemSj/gT/wBxYPHz4svumbvqnIGKWQdL5/0pH+JlzJZH+ukWvlnt/xHd9R3L59u7xn2jKJcCJh1y/8hb+wvHbu9d7v/d5lDZNs3ZQAqSpKnbb8/t//+4t//a//ddmnD/3QDy23XPptv+23ldsvJejJipkEMtlCLCtw4vCf//N/Lsfri7/4iw9sF5ZnIKFIxjgBToqxJ6CIf56do8KJn/bTflrxT/7JPynDjgRJed4ynim0nlCjGrsYJ5z5A3/gD5TjlBApBeDz85CfjWvXrpWF2oUTJz2Nvk+AAAECBAgQIDCKgHBiFCXnECBAgAABAgQItEbg7t27xe/9vb+3fCs8k8OZbP/Df/gPl39WxzjhRN4w/4Iv+ILi5/ycn1OuWjju6A8nMvGcyfRMRGeCP1tLHbeVUyamM6GcSey/+Bf/YjnRniPFvL/sy76s/OcP//APL7eZykRygoy8xZ+tov7oH/2jxc/8mT+zPCffzxv0WSXyh/7QHyrvneN7vud7il/5K39l+fZ+anR8wAd8QPn3WQHxlV/5lUW2v8rb89WRYCXt/y//5b8Uv/k3/+bikz7pk8pvVX3MP2dVRd7Oz6qDBA152z+rNX7BL/gF5aR9jqys+GN/7I+V5/7G3/gb966fWh8pYp7J/3/4D//hsa5ZlZGi5BnTX/frfl256iBv/OeeGZOMUWxyn0mEE+nDb/ktv6Uc84x97pUjgc0v+SW/pJzYryb08/dH1ZxI6POf/tN/OuCU87NyIf3IKoqEZgkRclTPQIqlf/mXf3l5n/Q9q2SGFcSu/q4ax7QtR39AlfGJV46ER+lTgo88U1lNkyMrUn7Fr/gVZRCSQzhx7OPomwQIECBAgAABAiMKCCdGhHIaAQIECBAgQIBAOwSyLU0mWqsjb5JncvYjP/Ij9/5unHAiqyayaiGT/dlS6LijmrjPpG8ChNTBqCbRMxn9a3/trz3y49XE9O/5Pb+nSA2N6kg48It+0S8q/zWT2lVokX/PxHzalFAh4UK2BMoWPZnQzuR/3t7vP/IWfQKCBBkJNHL8kT/yR8o37fPnYIHuv/AX/kIZMmRrrKxAyVH1MdsN5R6ZOB9sa1YafO3Xfm3511X4MdivfC+hSLaP+uk//acfW88jqyw+7uM+rviRP/JHFn/9r//1A33KRHyCi7iklkdWKWQrrne+853lxH+Ocbd1qmqNDAY2udbXfM3XlKFBxqtaBTMsnMiKl4QFWbmSVR1VwFE1PlsoZauwuMY3R/UMZFwTIvQfx4UTCTNiOWyss8Il20LlSIH3r/iKryif57S5/8iWW1U7hBNH/pj6BgECBAgQIECAwBgCwokxsJxKgAABAgQIECAw/wJ54z8TwZm0zlY32TYoW/JkRUFVK2CccCKrDD7ncz6nrI2QSevjjv5VBTkvk83ZHujTP/3Ty9UFmRiuViwMXqeamE7h7WpLpJyT1R/Ztidb7mRbof4jk/FZHZHQI+FH/4R4QpXBI9s0pRZBAoFsRXTUka2Fso1SJs//wT/4B2U4kontHFUff8bP+Bnl2/z9R97AT9Hx1FtIjYUcf/fv/t1yK6lsH5QJ99S8SIAyGIQc55pVKAlPTgp4co1JrJzIaoesesiYJchJ2JFtubJN1rBjWDiRQCArdlIv5LM+67MOfSzPZkKzj/iIjyj7Vj0vWT2TACRbZfUfx4UTWRGTVSv9RxU2pG5IVmHk+Nk/+2cX3/md33ko5Ko+l22psu2UcGL+fw/qAQECBAgQIECgCQLCiSaMgjYQIECAAAECBAjMTKBaLdC/fdA44UT2+s8qgwQbCTiOO/rDiQQKmXTOW/bVW/LZsikTz9nOZ/Cowon+Yso5Z9hke/XZFE7+oi/6or1wourrKNj/9b/+17JtOVJnICFMJuXzzwknclSrPhKw/L7f9/vKv6v62L91U3W/TGxngjv9zKqK6kiNg6zCyDZMOaqCzTFNYJEQ4Lgj4VDalzakLccdkwgncv0v/dIvLYOfFBfPkRUi7//+719O8KcN/bVDhoUT1YqRk8YiRc0TAuWonoHBFTL53nHhRP/WTdX9qoAlYVRCsRy5V+qJJHjqX/FSfabahko4cdKo+T4BAgQIECBAgMAoAsKJUZScQ4AAAQIECBAg0FqBFIPOpGy2PMo2S6n7ME44kYnf1ET4Tb/pN5WFpo87qon7FCZO3YJq8j8Twin6nIn/n/Wzflb5Rv3gUU1MpzbFO97xjr1vjxNOpHBytnjKyoX0+bgjdTlSlDlhyWd/9meXRbMT4GRLqrQ/2xF97/d+b5HtmIaFE/1/V93nqHAi388KkDj+y3/5L8txyHjkSFHm1D+orIa1OVsf/dW/+lenEk6k31mpkoDkW7/1Ww/cPv1JsfEU/k5B8bW1tfL7KVSdQKGq5zEsnKjanEDj3d/93Y8cigQ5VS2Oo56BfPi4cKIq0N1/k2HhxPu+7/uWK4rSz2GBUGqYpEaKcKK1vw51jAABAgQIECBQq4BwolZuNyNAgAABAgQIEKhbIBPGKYT87NmzIm/oDx55Wz9bKeW8bHWTVQujhhObm5vldk7ZDim1DlLz4LijvyB29bZ6dX4m5LOnfybDU8chKw/6j0mEEyfVVhhse0xSSyMT1ilcnS2Z+o93vetdpekkwon+6yaYSAiTFSWPHj06UNB7mG81MX/Utk7ZIikrHNKXrPoYrDmRYOGX/bJfVm5pNTgujx8/Lj74gz94aDjR35bd3d3iG7/xG8stvhIy9RcJHxZODAsTTvrZmHY4kdoeCZziNSwwid+9e/eEEycNlO8TIECAAAECBAiMJCCcGInJSQQIECBAgAABAvMqkOLPmVw+KkCo9t7PZGwmZXOMGk6k2HSKE+fN+tSCOOk4LpzIZ7NNUOpEZPVGrpeVCtUxiXAiYUPqOaQYd974HyyIneLamVTPqogv+IIvKKpi23m7PysTBo+sFMmqgf4tnKo+jrpyIrUQvv7rv77sb4po9x8JabLdU85J3YSjjm/4hm8oPvETP7FcDVJtgVSdm7AnoUpCiYQHw8KJFPz++T//55crQlIDo/9I2z7lUz7lQDiRlS0Jo7It1wd+4AceOL8qEp5AIoWlcwwLJ6rC7MOKVeczuU4sU8y7KuA+7XAi7a0KvA8WxK6M0jYrJ076Sfd9AgQIECBAgACBUQSEE6MoOYcAAQIECBAgQGCuBRIgJEjIlkT5s5qU/+7v/u7iUz/1U4vv+Z7vKd/S/7iP+7iynyeFEwk8MnGcugFZeZGJ5MFJ6mFgJ4UTebs/xaWz53/amkCg2s5oEuFE2lTVZ8iEfVxSSDvHgwcPygDg27/928sC3dkKKG/J5235FKf+23/7b5fbQeXIKoEUdK4KXvfX2xg3nEidjhQST62Gz/u8zyuDkxwJkz72Yz+2+K7v+q6ynsRxvhmPbIeV8ewPMjI2qbmR63/4h394uYJm2DZY2VYrhaGzQiSrQRLg5Lh7924ZeqRIdP/x+e5DAAAgAElEQVS2Tl/5lV9Zjn22nEqYVBXvzoqPFLhOYfIUWs9WXTnyd9muKjVAqtUnaVvqacT70z7t08pi3tVWSllFk8+kUHt/e6YdTnzbt31bGYZkO6o801XR7axeSXsSUOQQTsz1r0ONJ0CAAAECBAg0RkA40Zih0BACBAgQIECAAIFpCWxsbJSTzN/8zd9cTrzmbfWsIsj++ZmQTiDwuZ/7uXu3r8KJrGDIFkDVkUnwTJpnEjeT+ZlIz7ZGH/mRHzlS008KJ3KRTFZnJULa9Umf9EnlSoYckwonMhGfECI1B2KRVRIpfpwVJPletjZKgHPp0qXyvql3kELaschkfCbQv+VbvqVIvYWsNMjE/Yd8yIeUBaJzjBtOZLut+CcgunPnTrk1VlY7ZII+3xul0HjumzoJWWGQ8Xnv937v4j3f8z2L7/iO7yjDjazISLsSSh1VoyPjny2dzp8/v7eNU56D1I/I9l1pX1VzImPzCZ/wCeXzdP369eL93u/9SpesNMlzEcN4VMFSde3UCsm5n/VZn1VumxS7XCefSRvf533ep+zzN33TN5WhV1ZsfMZnfMbeszXtcCI3qgq8V0XJU9g7YUv+TFiSYCrF0h0ECBAgQIAAAQIEziognDiroM8TIECAAAECBAjMhUAmlFNY+Wu/9mvLieYEC9mOKasl8tZ9/1GFE4MdyyR+JukzsZy361MjolpNMArCKOFErvMlX/Il5bZKCwsL5T9n8n9S4USuH4tMxKdAdibvMxH9zne+s3xr/mM+5mP2Vi/k3AQ7WXmQgOL7vu/7ykAj/U9okK2b0rack62Vsgpj3HAi90jQkZoWWV2Q1QoZm/d6r/cqQ5rcI+6jHAkevviLv7jcaipv+9+4caN0y6qE27dvl5c4KpxIIJLVAl/91V9d1l1IkPERH/ER5Wc//uM/vgyk+gtiZ6I+q0eyFViumVAj23AlqMr51QqQ3PPhw4flio7UtkiIke27qhUU6XtWVHzd131d8dZbb5WGCX0SWqTt/Ucd4UTul62tYpGgLP360A/90LLge7a+ylhkeywHAQIECBAgQIAAgbMKCCfOKujzBAgQIECAAAECBAgQaIFACnknfHi3d3u3vS2mqm6lVkdqt2SlzVd91Ve1oLe6QIAAAQIECBAgMGsB4cSsR8D9CRAgQIAAAQIECBAg0ACBqv5HCp1npUR1ZCunFMtO0fLP/MzPLD75kz+5Aa3VBAIECBAgQIAAgXkXEE7M+whqPwECBAgQIECAAAECBCYgkO2sspVW6l5ki6rU7kiR9tSYyPZTKUqerdH6t6yawG1dggABAgQIECBAoKMCwomODrxuEyBAgAABAgQIECBAYFAg9TPe9a53Ff/qX/2rsv5HamS8x3u8R1ljJDVWqiLf5AgQIECAAAECBAicVUA4cVZBnydAgAABAgQIECBAgAABAgQIECBAgAABAgTGEhBOjMXlZAIECBAgQIAAAQIECBAgQIAAAQIECBAgQOCsAsKJswr6PAECBAgQIECAAAECBAgQIECAAAECBAgQIDCWgHBiLC4nEyBAgAABAgQIECBAgAABAgQIECBAgAABAmcVEE6cVdDnCRAgQIAAAQIECBAgQIAAAQIECBAgQIAAgbEEhBNjcTmZAAECBAgQIECAAAECBAgQIECAAAECBAgQOKuAcOKsgj5PgAABAgQIECBAgAABAgQIECBAgAABAgQIjCUgnBiLy8kECDRB4P79501ohjYQIECAAAECBAgQIECAAAECIwrcvn1lxDOdRoBAVwSEE10Zaf0k0CIB4USLBlNXCBAgQIAAAQIECBAgQKATAsKJTgyzThIYS0A4MRaXkwkQaIKAcKIJo6ANBAgQIECAAAECBAgQIEBgdAHhxOhWziTQFQHhRFdGWj8JtEhAONGiwdQVAgQIECBAgAABAgQIEOiEgHCiE8OskwTGEhBOjMXlZAIEmiAgnGjCKGgDAQIECBAgQIAAAQIECBAYXUA4MbqVMwl0RUA40ZWR1k8CLRIQTrRoMHWFAAECBAgQIECAAAECBDohIJzoxDDrJIGxBIQTY3E5mQCBJggIJ5owCtpAgAABAgQIECBAgAABAgRGFxBOjG7lTAJdERBOdGWk9ZNAiwSEEy0aTF0hQIAAAQIECBAgQIAAgU4ICCc6Mcw6SWAsAeHEWFxOJkCgCQLCiSaMgjYQIECAAAECBAgQIECAAIHRBYQTo1s5k0BXBIQTXRlp/STQIgHhRIsGU1cIECBAgAABAgQIECBAoBMCwolODLNOEhhLQDgxFpeTCRBogoBwogmjoA0ECBAgQIAAAQIECBAgQGB0AeHE6FbOJNAVAeFEV0ZaPwm0SEA40aLB1BUCBAgQIECAAAECBAgQ6ISAcKITw6yTBMYSEE6MxeVkAgSaICCcaMIoaAMBAgQIECBAgAABAgQIEBhdQDgxupUzCXRFQDjRlZHWTwItEhBOtGgwdYUAAQIECBAgQIAAAQIEOiEgnOjEMOskgbEEhBNjcTmZAIEmCAgnmjAK2kCAAAECBAgQIECAAAECBEYXEE6MbuVMAl0REE50ZaT1k0CLBIQTLRpMXSFAgAABAgQIECBAgACBTggIJzoxzDpJYCwB4cRYXE4mQKAJAsKJJoyCNhAgQIAAAQIECBAgQIAAgdEFhBOjWzmTQFcEhBNdGWn9JNAiAeFEiwZTVwgQIECAAAECBAgQIECgEwLCiU4Ms04SGEtAODEWl5MJEGiCgHCiCaOgDQQIECBAgAABAgQIECBAYHQB4cToVs4k0BUB4URXRlo/CbRIQDjRosHUFQIECBAgQIAAAQIECBDohIBwohPDrJMExhIQTozF5WQCBJogIJxowihoAwECBAgQIECAAAECBAgQGF1AODG6lTMJdEVAONGVkdZPAi0SEE60aDB1hQABAgQIECBAgAABAgQ6ISCc6MQw6ySBsQSEE2NxOZkAgSYICCeaMAraQIAAAQIECBAgQIAAAQIERhcQToxu5UwCXREQTnRlpPWTQIsEhBMtGkxdIUCAAAECBAgQIECAAIFOCAgnOjHMOklgLAHhxFhcTiZAoAkCwokmjII2ECBAgAABAgQIECBAgACB0QWEE6NbOZNAVwSEE10Zaf0k0CIB4USLBlNXCBAgQIAAAQIECBAgQKATAsKJTgyzThIYS0A4MRaXkwkQaIKAcKIJo6ANBAgQIECAAAECBAgQIEBgdAHhxOhWziTQFQHhRFdGWj8JtEhAONGiwdQVAgQIECBAgAABAgQIEOiEgHCiE8OskwTGEhBOjMXlZAIEmiAgnGjCKGgDAQIECBAgQIAAAQIECBAYXUA4MbqVMwl0RUA40ZWR1k8CLRIQTrRoMHWFAAECBAgQIECAAAECBDohIJzoxDDrJIGxBIQTY3E5mQCBJggIJ5owCtpAgAABAgQIECBAgAABAgRGFxBOjG7lTAJdERBOdGWk9ZNAiwSEEy0aTF0hQIAAAQIECBAgQIAAgU4ICCc6Mcw6SWAsAeHEWFxOJkCgCQLCiSaMgjYQIECAAAECBAgQIECAAIHRBYQTo1s5k0BXBIQTXRlp/STQIgHhRIsGU1cIECBAgAABAgQIECBAoBMCwolODLNOEhhLQDgxFpeTCRBogoBwogmjoA0ECBAgQIAAAQIECBAgQGB0AeHE6FbOJNAVAeFEV0ZaPwm0SEA40aLB1BUCBAgQIECAAAECBAgQ6ISAcKITw6yTBMYSEE6MxeVkAgSaICCcaMIoaAMBAgQIECBAgAABAgQIEBhdQDgxupUzCXRFQDjRlZHWTwItEhBOtGgwdYUAAQIECBAgQIAAAQIEOiEgnOjEMOskgbEEhBNjcTmZAIEmCAgnmjAK2kCAAAECBAgQIECAAAECBEYXEE6MbuVMAl0REE50ZaT1k0CLBIQTLRpMXSFAgAABAgQIECBAgACBTggIJzoxzDpJYCwB4cRYXE4mQKAJAsKJJoyCNhAgQIAAAQIECBAgQIAAgdEFhBOjWzmTQFcEhBNdGWn9JNAiAeFEiwZTVwgQIECAAAECBAgQIECgEwLCiU4Ms04SGEtAODEWl5MJEGiCgHCiCaOgDQQIECBAgAABAgQIECBAYHQB4cToVs4k0BUB4URXRlo/CbRIQDjRosHUFQIECBAgQIAAAQIECBDohIBwohPDrJMExhIQTozF5WQCBJogIJxowihoAwECBAgQIECAAAECBAgQGF1AODG6lTMJdEVAONGVkdZPAi0SEE60aDB1hQABAgQIECBAgAABAgQ6ISCc6MQw6ySBsQSEE2NxOZkAgSYICCeaMAraQIAAAQIECBAgQIAAAQIERhcQToxu5UwCXREQTnRlpPWTQIsEhBMtGkxdIUCAAAECBAgQIECAAIFOCAgnOjHMOklgLAHhxFhcTiZAoAkCwokmjII2ECBAgAABAgQIECBAgACB0QWEE6NbOZNAVwSEE10Zaf0k0CIB4USLBlNXCBAgQIAAAQIECBAgQKATAsKJTgyzThIYS0A4MRaXkwkQaIKAcKIJo6ANBAgQIECAAAECBAgQIEBgdAHhxOhWziTQFQHhRFdGWj8JtEhAONGiwdQVAgQIECBAgAABAgQIEOiEgHCiE8OskwTGEhBOjMXlZAIEmiAgnGjCKGgDAQIECBAgQIAAAQIECBAYXUA4MbqVMwl0RUA40ZWR1k8CLRIQTrRoMHWFAAECBAgQIECAAAECBDohIJzoxDDrJIGxBIQTY3E5mQCBJggIJ5owCtpAgAABAgQIECBAgAABAgRGFxBOjG7lTAJdERBOdGWk9ZNAiwSEEy0aTF0hQIAAAQIECBAgQIAAgU4ICCc6Mcw6SWAsAeHEWFxOJkCgCQLCiSaMgjYQIECAAAECBAgQIECAAIHRBYQTo1s5k0BXBIQTXRlp/STQIgHhRIsGU1cIECBAgAABAgQIECBAoBMCwolODLNOEhhLQDgxFpeTCRBogoBwogmjoA0ECBAgQIAAAQIECBAgQGB0AeHE6FbOJNAVAeFEV0ZaPwm0SEA40aLB1BUCBAgQIECAAAECBAgQ6ISAcKITw6yTBMYSEE6MxeVkAgSaICCcaMIoaAMBAgQIECBAgAABAgQIEBhdQDgxupUzCXRFQDjRlZHWTwItEhBOtGgwdYUAAQIECBAgQIAAAQIEOiEgnOjEMOskgbEEhBNjcTmZAIEmCAgnmjAK2kCAAAECBAgQIECAAAECBEYXEE6MbuVMAl0REE50ZaT1k0CLBIQTLRpMXSFAgAABAgQIECBAgACBTggIJzoxzDpJYCwB4cRYXE4mQKAJAsKJJoyCNhAgQIAAAQIECBAgQIAAgdEFhBOjWzmTQFcEhBNdGWn9JNAiAeFEiwZTVwgQIECAAAECBAgQIECgEwLCiU4Ms04SGEtAODEWl5MJEGiCgHCiCaOgDQQIECBAgAABAgQIECBAYHQB4cToVs4k0BUB4URXRlo/CbRIQDjRosHUFQIECBAgQIAAAQIECBDohIBwohPDrJMExhIQTozF5WQCBJogIJxowihoAwECBAgQIECAAAECBAgQGF1AODG6lTMJdEVAONGVkdZPAi0SEE60aDB1hQABAgQIECBAgAABAgQ6ISCc6MQw6ySBsQSEE2NxOZkAgSYICCeaMAraQIAAAQIECBAgQIAAAQIERhcQToxu5UwCXREQTnRlpPWTQIsEhBMtGkxdIUCAAAECBAgQIECAAIFOCAgnOjHMOklgLAHhxFhcTiZAoAkCwokmjII2ECBAgAABAgQIECBAgACB0QWEE6NbOZNAVwSEE10Zaf0k0CIB4USLBlNXCBAgQIAAAQIECBAgQKATAsKJTgyzThIYS0A4MRaXkwkQaIKAcKIJo6ANBAgQIECAAAECBAgQIEBgdAHhxOhWziTQFQHhRFdGWj8JtEhAONGiwdQVAgQIECBAgAABAgQIEOiEgHCiE8OskwTGEhBOjMXlZAIEmiAgnGjCKGgDAQIECBAgQIAAAQIECBAYXUA4MbqVMwl0RUA40ZWR1k8CLRIQTrRoMHWFAAECMxZ4/fp1sbCwMONWuD0BAgQIECBAoP0Cwon2j7EeEhhXQDgxrpjzCRCYuYBwYuZDoAEECBBohcDiYlG8fLlTJKAoigQUi8XCQr6EFa0YYJ0gQIAAAQIEGiUgnGjUcGgMgUYICCcaMQwaQYDAOALCiXG0nEuAAAECwwTOnev97e7uTvHq1asyoOhlEgtvhxPCCk8OAQIECBAgQGCSAsKJSWq6FoF2CAgn2jGOekGgUwLCiU4Nt84SIEBgogIJILJiolocsbPTCycGj2FhxcJCEo0qvJhos1yMAAECBAgQINB6AeFE64dYBwmMLSCcGJvMBwgQmLWAcGLWI+D+BAgQmE+BKpTo37XpqHDi5LCitwWUsGI+nwWtJkCAAAECBOoXEE7Ub+6OBJouIJxo+ghpHwEChwSEEx4KAgQIEBhXoNrGabCcxO7ubvHy5ctxLzdkGyhhxdiIPkCAAAECBAh0SkA40anh1lkCIwkIJ0ZichIBAk0SEE40aTS0hQABAs0WSBhRBRPDWnracKL/Wr2C2tVWUdW2TwkreoUtFNhu9jOidQQIECBAgEA9AsKJepzdhcA8CQgn5mm0tJUAgVJAOOFBIECAAIFRBI5aLdH/2UmEE4NtEVaMMjrOIUCAAAECBLomIJzo2ojrL4GTBYQTJxs5gwCBhgkIJxo2IJpDgACBBgokmBjcwmlYM6cRTggrGvhAaBIBAgQIECAwcwHhxMyHQAMINE5AONG4IdEgAgROEhBOnCTk+wQIEOiuwEnbOA3K1BFOjBNW2AKqu8+unhMgQIAAgbYLCCfaPsL6R2B8AeHE+GY+QYDAjAWEEzMeALcnQIBAQwVG2capCeHEyWHFYlEUvQLbwoqGPmyaRYAAAQIECIwtIJwYm8wHCLReQDjR+iHWQQLtExBOtG9M9YgAAQJnEchqicXF0bZxamI4MSys6A8lElIIK87yhPgsAQIECBAg0AQB4UQTRkEbCDRLQDjRrPHQGgIERhAQToyA5BQCBAh0RKAKJUapLzGMZBbbOo07NCmwfenSxWJ1dbnY2NgsNjd3hBXjIjqfAAECBAgQmLmAcGLmQ6ABBBonIJxo3JBoEAECJwkIJ04S8n0CBAh0Q+A02zgNysxDOJE2J5y4ceNq8eLFevH8+Vq53dPS0qXiwoULxdraRvHq1YJtoLrx2OslAQIECBCYWwHhxNwOnYYTmJqAcGJqtC5MgMC0BIQT05J1XQIECMyHwLhFr4/r1TyGEwkocly7tlosLV0u7t9/VLx8+ar8uwQWRbFQbG7uCivm43HWSgIECBAg0BkB4URnhlpHCYwsIJwYmcqJBAg0RUA40ZSR0A4CBAjULzCJ1RL9rW5DOPHgweNid/dl2a0337xVBhX5uxxZYZHVFS9fFsXr171/dxAgQIAAAQIEZiEgnJiFunsSaLaAcKLZ46N1BAgMERBOeCwIECDQTYEEE5OeW29bOHHnzq3i1av9cOLixQvFzZvXyq2fsh1UL7BQYLubP0F6TYAAAQIEZisgnJitv7sTaKKAcKKJo6JNBAgcKyCc8IAQIECgWwKT3MZpUG5+wokLxY0b18qaE4PbOvWvnLhz52bx6tXrvZUTw8KJK1dWipWVpeLhwydvr7jIaopF20B168dKbwkQIECAQO0Cwonayd2QQOMFhBONHyINJEBgUEA44ZkgQIBAdwQmvY3TvIYTVcjQH05cvbpaLC9fLh48SMiwW3Yt4cTr16+L+/d72zqdFE7s7OyW52d1xeLiQvHo0bOyZoWwojs/Y3pKgAABAgTqEhBO1CXtPgTmR0A4MT9jpaUECLwtIJzwKBAgQKD9Alktsbg4+W2c5j2cWFtbL54/7xXErsKJrIBIyDBuOPHo0dNie3un/Nzt2zfKehT37j0qw4rz588Vq6srxc7OTrGxsS2saP+PnB4SIECAAIGpCwgnpk7sBgTmTkA4MXdDpsEECAgnPAMECBBot0AVSky6vsQwtZcvX+6tOmiy6rAVENMKJ+KQcOKNN24UGxubxZMnz8taHymsnXZsbe2UBbZTu0KB7SY/NdpGgAABAgSaJSCcaNZ4aA2BJggIJ5owCtpAgMBYAsKJsbicTIAAgbkSmPY2ToMY8x1OrBTLy73aEUetnLhw4Xxx69b1AwWxq5oTR62cGAwnnj59UbKlTkU++/jxs2Jra6vc/inXX1xcLLa3Xwkr5uonTWMJECBAgED9AsKJ+s3dkUDTBYQTTR8h7SNA4JCAcMJDQYAAgfYJ1LWNUzfCiaK4f/9R2dUqnFhf3yiePVsr/25YOJFVEgkZ7t17WJ7Tv3JiMJx48uRZsbmZrZ6KslZFVlPcvfugeP06qyn261UkvLCyon0/q3pEgAABAgROKyCcOK2czxFor4Bwor1jq2cEWisgnGjt0OoYAQIdFah7tUQ/8zyvnKhChv6VE7dv3yy7N7lwYqt4+vR5ec1q5US2edrczMqJ/nDiYVmrIkf+7G3JVYUT2f5pse/fO/qg6zYBAgQIEOi4gHCi4w+A7hMYIiCc8FgQIDB3AsKJuRsyDSZAgMCRAgkm6qgtcVQD5iWcOG57pkmFE+fOLRZ37w6unBg/nOi3rgKLw2HFufI0Kyv8ciBAgAABAt0REE50Z6z1lMCoAsKJUaWcR4BAYwSEE40ZCg0hQIDAqQUyWV2tmDj1RSbwwXkLJ07anun27RvlhP+9e4PbOm0Wz571akdcubJcrKwsF/01J7KtU384ce7cuSLX2tg4WzgxOETCigk8tC5BgAABAgTmVEA4MacDp9kEpiggnJgirksTIDAdAeHEdFxdlQABAnUJzHIbp8E+djGcWF1dLvI1SjiR7ZuyjVOOUbd1Guc5ElaMo+VcAgQIECAw3wLCifkeP60nMA0B4cQ0VF2TAIGpCggnpsrr4gQIEJiawKyKXh/VoRRyvnz5YpGAYnt7Z+9ragBnuPCoha1HWTlRhROPHz8ttrZ2yla98cb1Iqslqm2dqpUT0w4nBkmOCytsAXWGB8hHCRAgQIBAAwSEEw0YBE0g0DAB4UTDBkRzCBA4WUA4cbKRMwgQINA0gcXFoshXU46VlctFwole8eayenN55N93dnaLra3tMqzIPzfh2A8n+rdnWilXM/SvgBgMJ86fP18GD+vr+587bTixvLxUXL26Uq6kOK4g9iS9DocVeYh6BbaFFZOUdi0CBAgQIDB9AeHE9I3dgcC8CQgn5m3EtJcAgUI44SEgQIDAfAk0aRun1FXIhH7+zIqJZ8/WygAiQUW+Ll26UK4gqI5XrxJW7K+qmFVYMTycOFw74qhwYmNjs3j6tFdzYj+ceFaGMDkOr5xYLG7fvlmGENW2TlU48fTp87IWRY6bN6+VbllxUQUJ03w6B8OkhBTCimmKuzYBAgQIEJicgHBicpauRKAtAsKJtoykfhDokIBwokODrasECMy1QNO2cUrwsLR0qXzjPpPy6+tbZUCxu3twdUSCiyqsyJ8Hw4pXxfb2brG93VtZsbv7spYxOm4FxGDtiMXFxeLevYdlu86fP1ek2PVJ4cStW9fLc/e3dRotnLhx42px6dLF2sKJQWxhRS2Pn5sQIECAAIGJCAgnJsLoIgRaJSCcaNVw6gyBbggIJ7oxznpJgMB8C2QLp4QTfTsmzaxDCSOyjVNWH2Qye21tc2+7plEKYiecqFZV5M9M/lfHq1cJK/ZXVkwrrDguZJhUOBGft956UHYtAc3hlROXi6tXV4v+lROzDieEFTP7sXJjAgQIECAwtoBwYmwyHyDQegHhROuHWAcJtE9AONG+MdUjAgTaJdCkbZwyqZ9gIoFCgoO1tY0iWzVVxyjhxODo5Jr9Kyv6w4qXL6uworeyIv8+ieP4FRD9ha1vlMFCtQJinJUTbQgnhBWTeNpcgwABAgQITEdAODEdV1clMM8Cwol5Hj1tJ9BRAeFERwdetwkQaLxAVkn0lWuYeXsvX75Y5CsrJzY3t/fqJPQ37DThxOGw4vzeyooLF7KyYr/Adq5frazY2topstLiNMeoIUO2cJpFOJFtpPpDn9P0sY7P2AaqDmX3IECAAAECwwWEE54MAgQGBYQTngkCBOZOQDgxd0OmwQQIdECgSasl+rdxShiwvp5tnIbXhphEODE4vFmB0L+yIu2pjqze2N8GanvkCf3Rw4nrZY2MwysntsrtmHKkIPiVKyvF48f7BbFTc2L4yont4smTZ+XnlpeP3tZpXsKJwbESVnTgl5MuEiBAgEBjBIQTjRkKDSHQGAHhRGOGQkMIEBhVQDgxqpTzCBAgUI9Agokm1JZIb/u3cdrZ2S3rS2QC+qgj2y7t7u5MFao/qEgAcDCs2C2yoqIKLI5q6344sR8yrK4uF/nqDxneeGP0cCKhQ1aU5BgMJ7JV1Z07N8vvtzmcOC6s6I1TvhaLhYV87YdMU31gXJwAAQIECLRUQDjR0oHVLQJnEBBOnAHPRwkQmI2AcGI27u5KgACBQYGmbeO0tHSp3MYpE/yZVK8m3o8buTrCif77xyxbP1WBxWBYkUClv8B2FVZkNcTt2zfKralOWgGRIKNaOXHc50YJJ7a2tsvwI0cbV06c9FPdv7JCWHGSlu8TIECAAIHjBYQTnhACBA79f8rXx71KxosAAQINFBBONHBQNIkAgc4JNGkbp9R4yFZFmZTPNk5ZLZHtk0Y56g4nDgc8C8XFi9kG6mIZWCSsqI78z/Td3d7KivTn+vUrxebmVvHkyTjbM/VCjWGfOxhOXCtDk7feelDevlo5MTyceFFsbGyW5924cbW4dOliMa/bOo3yjPSfI6wYV8z5BAgQIEBgX0A44WkgQODQ/x8STngoCBCYNwHhxLyNmPYSINAmgbz5v7jYnG2cMpm/snK53NkLMGUAACAASURBVHJnlG2cBsdi1uHE8LDi4MqK/nOqGhpZXZG+p3bEcSsgqpUTw8OJ52VokePWrbOGE49OXex7nn8+emFFerDw9rZPtoGa5/HUdgIECBCYroBwYrq+rk5gHgVs6zSPo6bNBDouIJzo+AOg+wQIzExgdfViuTrhpDoOdTVweflS+dZ+Joiz3VFWGIx7ZLJ/Z2f8z417n9Oen1UhWVGRfi4tXT5wmeot/qxi6BX93j1UO+LcucXi9u3Ujji84iIrMKpw4ubNa+V9Tr9yopvhxOC4CitO+6T7HAECBAh0QUA40YVR1kcC4wkIJ8bzcjYBAg0QEE40YBA0gQCBzglkG6fV1aVyC6KnT18Ur14dXWR62jjZcmh19XKRVQFZ+bC2tlH+eZqj6eFE1af+kCG1NC5d6gUWsaiO3pi8Lv/u4cMnZVgxyXAi4ci1a6vl+B/e1kk4Mez5OxxW9Ipr76+0OM1T6zMECBAgQGA+BYQT8zluWk1gmgLCiWnqujYBAlMREE5MhdVFCRAgMFSgv+h1tk/K2/WzDCdy/6yYyDZO2dooqzjOcsxfOLFdbuOUI3U2sq1TVk1knFK3ImHEfliRVSG7ZYjRXzui+tywlRN37z4oXr/O1l0LxZ07tw58rgonnj17Ud4zx37NCeHEKM+hsGIUJecQIECAQFsFhBNtHVn9InB6AeHE6e18kgCBGQkIJ2YE77YECHROYLDo9X44sTaT+gLV/TPBu76+VYYTZz1ev341keuctR0nfb4qUJ1VE1U4sby8VFy9mpoTh2tHZLumBDkHV1b0+prwYWnp0oHPVds63b37sNwma9Rw4vr1q8XlyymILZw4aQwHvx/nHAdrVlhZMa6j8wkQIEBgfgSEE/MzVlpKoC4B4URd0u5DgMDEBIQTE6N0IQIECBwpkGCiN2m6f8wqnMhqgLztnz9fvnxZvHixObFwZN7Cif4VEMPCicHaEQko8nfZ9qpXzPzgyopcL4FFVkXkXOHE7H4pHB1WnHs7xBj4gZxdU92ZAAECBAicSkA4cSo2HyLQagHhRKuHV+cItFNAONHOcdUrAgSaIdC/jdNgi5aXL5e1Dp49Wzt1jYdxe5n75S3/bOOUifSsmJjkMd/hxOXi6tXUgHheFgTPcVJh6/Pnz5e1Qy5fvlSukIhr/5FaEiksnu2gbt++MbCt06Xi2rUrRf+2TlZOTPJpPHgtYcX0bF2ZAAECBGYjIJyYjbu7EmiygHCiyaOjbQQIDBUQTngwCBAgMB2BwW2cZhlOZNI8KzUuXDhfTqKntkQmzCd9zE84cbgGRMKio8KJ/doRi8WdOzcPhAz9n9vdfVmumMjKlP5VFZVzVlw8f/6iXF2R2hVHhRP37z+qLbCa9DMwL9c7LqwYDJnmpU/aSYAAAQLdEhBOdGu89ZbAKALCiVGUnEOAQKMEhBONGg6NIUCgBQK97X4Ob+N0OJy4VE5QT3vlxPnz58pgIpPlmTxfW9soXr3q7c8/6aO94URVO+L4cGJwxcWjR0/LsKL66vfOllrnzp0r1tc3iufP18vQ6Pr1K+UqDOHEpJ/Mk68nrDjZyBkECBAg0CwB4USzxkNrCDRBQDjRhFHQBgIExhIQTozF5WQCBAgcK1CFEoP1JYZ9KNsrpfhxJqYTGkzjyPXzlTfBU/y5mjyfxr1yzXkJJ+Lx5pu3jlwBMRgy7NeOGC+cqD5X3S+rVbKdVsKKrGKp3tDPxHiegTw32SrqwYPHU3smpjX2bbvu4DZdCwupL9IrsG1lRdtGW38IECAwnwLCifkcN60mME0B4cQ0dV2bAIGpCAgnpsLqogQIdFDgpG2cBkmmGU70b+OUVRJ5O39nZzoBSH+/5i2cyPZKWd2QY397phdFakXkqGpOHFfYetjnbty4Wq6KGQwn+u+X8c+2TgkrsqolYUV1ZGI8QUbOz9fOzk7xejqLXTr4k3q6LgsrTufmUwQIECAwPQHhxPRsXZnAvAoIJ+Z15LSbQIcFhBMdHnxdJ0BgIgKjbuNUVzjRv41TJrhTX6LasmYiHT7mIrnP9vb2tG9z5utXKxkOhgWXi2vXUhC73nAi23olPEqbEmpkVUVWUWQcjwor0m7HbAWEFbP1d3cCBAgQKArhhKeAAIFBAeGEZ4IAgbkTEE7M3ZBpMAECDRIYd7VEf9OXlrLl0qWJbutUrcbIxGm2ccpXnUcbwolnz14U6+u9lRNHrYDIaofHj5+V5ywtHQ41qs/du/ewrO8xPAzprZyowolcq7/mRCwvXry4V69iMKyoVlX0VlZMvrh5nc9NG+4lrGjDKOoDAQIE5ktAODFf46W1BOoQEE7UoeweBAhMVEA4MVFOFyNAoEMCCSZGqS1xFElqQSRMePEiWy6dbXJ5cXGhWFlZKt+2f/XqVblaYlp1LI4b4vkOJ6qw4ORwYtiKi2GhxnHhRIKphBFHhRMvX746QJ2tny5d2i+unWLa1ZEAJFs/pV1bWzvF7u7ZnqcO/RhPravCiqnRujABAgQIvC0gnPAoECAwKCCc8EwQIDB3AsKJuRsyDSZAYMYCCST65oVP3ZpJhROpVbCycrl8O7/ubZwGOz8/4URRvPnmG+VkflVzoqoBMW7IUK2cGPdzVTjx/Plasba2UVL2r5wYDCcGrc+dW3x7VUVvdUX+fT+seLVXryJ9nEVQdeofjJZ+UFjR0oHVLQIECMxQQDgxQ3y3JtBQAeFEQwdGswgQOFpAOOHpIECAwOgCZ9nGafAukwgnlpcvlYWXM/G5sbFVvjU/y6P3Bn+9W0mdtr/veMekwomjV1zcu/eoXMmSQGswDDk+nHhcvHw5XgHzrKToX1mRlRaDYUWej4QV4177tMY+d7RAf1iRYLEo8rVYLCzkK//sIECAAAECxwsIJzwhBAgMCggnPBMECMydgHBi7oZMgwkQmIHAaYteH9fUhAoJF/LW/Pb2eNvwZOJ5dfVykQnpvGGfa5z0pn0dbPMWTmQrpIcPn5Y0x6+cqEKGheLNN2+NseKi97kcg2HIpMOJwfHNFl9ZUdGrW3G+6A8rEk7016xowrNTx/PZ5HsIK5o8OtpGgACBZgoIJ5o5LlpFYJYCwolZ6rs3AQKnEhBOnIrNhwgQ6JBAXkDvewl9Yj3PW+7Ly5fHDicy4ZxQI29XZ4I5xZtfv55Ys850ofkLJ3aLhw+flH0eVgNiv7B1PeFECmQnJLl/f/yVEycNXLb/6oUVva/+t/MTVlSrKvJMVYHKSdf0/ekJCCumZ+vKBAgQaIuAcKItI6kfBCYnIJyYnKUrESBQk4BwoiZotyFAYC4FJrmN0yDAfjixWYYMoxypLZGJ5Uxcrq9vjfy5Ua49iXPaFk5cv361yPZbx23PNGzFxeDnYpuVE/0rNYatnJhmODE4vlVYkRU8+ef+sCI1Kra3t/dWV2RcHbMVEFbM1t/dCRAg0EQB4UQTR0WbCMxWQDgxW393J0DgFALCiVOg+QgBAq0XmMY2TmcJJ1LseGVlqSx6nLfcX7zYbOTb7W0IJw4WqB4nnFgr1terwtYHP7cfTvSv1LhYJMTov1+d4cTg89i/qmIwrEih9f5toDJR7pitQC+sSBsW3g6W1KyY7Yi4OwECBOoXEE7Ub+6OBJouIJxo+ghpHwEChwSEEx4KAgQIHBTIFk6Z9Jt2TdpMBmclRLZlOq6QdVZY5O38vNm+tbVdrpho6tG+cOJKud3T/fuP9mp6HFU74tmzw+HE4Ocyyb+/jdTR4cSDB4+LrF6Y1ZFnbX9lxYXi/Pn9lRWZFO+trEhx7ayu2C1X8jhmK3A4rOgV194PL2bbPncnQIAAgckLCCcmb+qKBOZdQDgx7yOo/QQ6KCCc6OCg6zIBAkcKTHMbp8GbpkhxVkMcFU5kgjg1KXJeJh7X1jaLTG43+ZjvcOJwWHD9+vBw4qTtmY7+3HyEE4PPWJ7FwZUV1Tl5NgdXVjT5Ge1K24QVXRlp/SRAoMsCwokuj76+ExguIJzwZBAgMHcCwom5GzINJkBgCgJZJVEFE1O4/NBL7ocTW+WKiP7j/Plz5aqKxcXF8i31tbWNYh72/Z+ncOLNN2+VW2Q9eFAVxB4nnDhcSPvgdlBHhRonhROrxdLS5WLWKydO+hmowoqs6klokZUVw8KKPNdND9RO6msbvl+tbDm4DZSVFW0YW30gQKDbAsKJbo+/3hMYJiCc8FwQIDB3AsKJuRsyDSZAYMICda6W6G96ts1ZXV0qNja2is3N/XAiBZjzlQng/H2+Py9Hwond3e1iHnb5GQwnUhj6xo2DNSBGWwFxqch544YTw+537dp8hBODz2NCtP6VFQnX+sOK/noVworZ/zQfHVb0xq2/OPrsW6sFBAgQIHCUgHDCs0GAwKCAcMIzQYDA3AkIJ+ZuyDSYAIEJCiSYmHZtiaOaOxhOZEIwqyXy95nkT3HlnZ3Z1R04DbNwoiqIffLKiSqcePFivchXjnkNJwaflRRu7w8rzvUtS3r16lW5miJ1VlKzYpa1NU7zjLfxM8KKNo6qPhEg0AUB4UQXRlkfCYwnIJwYz8vZBAg0QEA40YBB0AQCBGoXmMU2ToOd7A8nMkFbbeOUidvUl5jXIsPb21tztHLiVbmFUo7hYcGVshj5/fuPyy2gcqQg9kmFrUdZcdHmcGJ4WHFxL7BIeFEdCSv6V1YIK2r/dXjohseFFVZVzH58tIAAAQKVgHDCs0CAwKCAcMIzQYDA3AkIJ+ZuyDSYAIEzCsxqG6fD4cS5YnV1uZzoTlCRCcFs49S/xdMZuzqTj+dt+HkIVnrbOk07nDg61OhSODH4IGbbp/6VFdkWqjoyJv1hRRUKzeRhdtNSQFjhQSBAgEAzBYQTzRwXrSIwSwHhxCz13ZsAgVMJCCdOxeZDBAjMoUBWS2QOdFbbOB0OJ3o1J3Lk7fGslmjDW+PzEk7cuXOrdB9l5UR/gepRVk5cu3Z4xUXCkIzvw4e9AtxdDieGhxXVyorzZSH4/bDi5UBY8WoOf/u0q8n7YcVC2bGFhYxXr8C2lRXtGmu9IUCg2QLCiWaPj9YRmIWAcGIW6u5JgMCZBIQTZ+LzYQIE5kSgCiWaFExkG6dM5OVN8efP1+ditcEowz0/4cTN0jxbNvXCggvFjRvXyvoPx9WAGKWQ9lHhRFYBPHggnDjpOcpKov6VFf0T3gl4+ldWJGByzFYgP0f9YySsmO14uDsBAt0REE50Z6z1lMCoAsKJUaWcR4BAYwSEE40ZCg0hQGBKAk3Zxqnq3vLypfKt+WpCL9s4bWxsTan39V+2q+HEwVCjt3Kif8XFUaHGSWFI/SPYvDtWYUV+bvLPB8OK3YGw4nXzOtCxFgkrOjbgukuAwMwEhBMzo3djAo0VEE40dmg0jACBowSEE54NAgTaKtCEotf9ttmqZnX1cnHu3LlytURCiaye2NraLtbXhRN1P4d37hxcOZE39W/ePP3KiUmEE1evrhbLy5fL1RW7u7t1k8zN/fpXVQyGFanh0r+yYh7qn8wN/CkbKqw4JZyPESBA4AQB4YRHhACBQQHhhGeCAIG5ExBOzN2QaTABAiMING21RCZTs2Iib3xn4nR9fbPcV//q1RXhxAjjOY1Tjgon1tbWy222cly7tlosLSUseLxXD2S0Qtqn+5xwYvyRzs9UAopsy3Xx4sUixbarlRWZFO9tA7VdbG3tlMXnhRXjG0/6E8KKSYu6HgECXRUQTnR15PWbwNECwglPBwECcycgnJi7IdNgAgROEEgw0ZTaEmlqVkcknMiEXFZIJJzIce5cFU70woq2HPO1rVNR3L//qKSvVk6srW0Uz5+vlX+3HxZMI5w4XONCOHH2n4IEE4MrK6qr5mdwcGXF2e/oCmcVEFacVdDnCRDoqoBwoqsjr98EhBOeAQIEWiQgnGjRYOoKgY4LNG0bp4QPKytLZQiRQsgvXmwW/cV7q3AiYcXamnCi7sf39u2b5S1HCyf2t1ma3MqJo8OJhw+flJPojrMLLC4eDCvOnz+/d9EqrMjWavk5ZH5270lcoT+s6K2CyddikULb/fVGJnEv1yBAgMA8Cwgn5nn0tJ3AdASsnJiOq6sSIDBFAeHEFHFdmgCB2gSato1TtphJQeRMpB1VUyLbOl27tlJOigonantU9m6UcCLznvfunbxyoj8suHPnVhkyZaunHCnSfOPG1eKkwtaDocawGhfVygnhxPSeh/zcVSsr8nOaGjDVkUnx/noVworpjcM4VxZWjKPlXAIEuiQgnOjSaOsrgdEEhBOjOTmLAIEGCQgnGjQYmkKAwNgCmVxeXGzONk4JI1LQ+OLF8+U2TgkdjprgzBvdqWkgnBh72Cfygdu3b5Th0WnCidevXxX371fhxOEVEKPUqhBOTGQYz3yRrGDq3waqP6xICLW9XRXY3t6rO3Lmm7rAmQSEFWfi82ECBFokIJxo0WDqCoEJCQgnJgTpMgQI1CcgnKjP2p0IEJisQBVKNKW+RArxpr5E3sxOEd7ULnj16vWRnd4PJ3bLc9tyzEvNicFwIkWVb926Xo7Ffs2JlWJ5eak4uHLiZhk8VeHEcSFDfyHtwRUX+zUu9gtwWzkx+5+ChBP9Kyvy81wdvbBiZ+8rP+eO2QsIK2Y/BlpAgMBsBIQTs3F3VwJNFhBONHl0tI0AgaECwgkPBgEC8yjQtG2cLl++WOQrb+Jvbm4XGxtbJ7Lm3OvXV8uVFS9eCCdOBJvwCZMOJ9bWDocMDx7s16pIONG/4mJ4OHE4DJlwt11uTIGEjv0rK/rDipcv+8OK7SL/7pi9QC+sSDsW3q5RoWbF7EdFCwgQmIaAcGIaqq5JYL4FhBPzPX5aT6CTAsKJTg67ThOYW4EmbuOU1RJ56z6rJNbXN4qdndHephZOzPYxPCqcyBg+e7ZWNu7q1dFXThxccbFabu81yoqLk1ZqzFbJ3QcFemHFxSL1Ki5cuFBkBVR1pPB9/8oKYUUznp9hYcXCQmqNVOFFM9qpFQQIEBhXQDgxrpjzCbRfQDjR/jHWQwKtExBOtG5IdYhAawWatlqifxunrH5IfYlMgo16CCdGlZrOeW+8caPcguvevYflDaptnfrDiStXVoqVldG2dRJOTGecmn7VPDf9Kyvyc10d2fapP6zItlCO2QscDisWi4WFbN8lrJj96GgBAQLjCAgnxtFyLoFuCAgnujHOekmgVQLCiVYNp84QaK1Agomm1JYI8tLSpXIbp0xyZRunfI17pD/Xr18pdnd3i+fP27St0065fVHTj4QTKYZ89+5gOLFZPHv2omx+FU48evS0nGTOcedOak4Uxf37j8p/39+eqb9WhZUTTR//abUvYcWlSxfL5yL/fDCs6BXX3trq1a0YJ8ycVntdtyjH4eA2UMIKzwUBAvMhIJyYj3HSSgJ1Cggn6tR2LwIEJiIgnJgIo4sQIDAlgUwYVSsmpnSLsS6bLVzyJn1WTeQt6KyWOEtR3Bs3Ek68LJ4/Xx+rHU0+uTfp2vVw4rTbQak50eRne9y25fdXtn6qVlYMhhVZcdW/skJYMa7w5M+vxuBwWJFtoBKS76+MmfzdXZEAAQLjCQgnxvNyNoEuCAgnujDK+kigZQLCiZYNqO4QaJFA07ZxysRi6ktkcuo02zgNGxrhxOwe2DfeuF6cO3dub+XE+fPni/zd+vrxKydu375ZNvr4lROnCyeGbSM1OyF3nrRAfndcvJhtoHorKxJyVpPdmRTPKqpqVUV+xwgrJj0C419PWDG+mU8QIFCfgHCiPmt3IjAvAsKJeRkp7SRAYE9AOOFhIECgaQJNK3odn+XlS+VWLZmo2tjYKicQJ3G0MZzY2dkpV5U0/TgcTpwrstXTxsZm8fTp0ds6JZzIM3rv3nHbOh0VThwfaggnmv7UTLZ9vbDi4MqK6g75XTO4smKyd3e10wgIK06j5jMECExLQDgxLVnXJTC/AsKJ+R07LSfQWQHhRGeHXscJNFJgcbEo8tWUIwWTV1cvl2/Yv3yZbZw2yj8ndVy/vlpO5D971p5tneYlnLh163r55npVcyL/fDicWC5WVpaL/poTt2/fKN92r8KJqpD2wYLYZwsn+u83qWfNdZovkG3j9sOKi+XzORhWbG1tl1tBJbhwzF7guLDCFlCzHx8tINB2AeFE20dY/wiMLyCcGN/MJwgQmLGAcGLGA+D2BAjsCTRtG6dMEmbFRCaYMhmY7X5SCHmSRy+ceF08e7Y2ycvO9FrzFE4kWHjrrQel11nDifX1jb1xHLYCYpRC2sMKcM90MN18pgIJR6uw4tKlC2VIWh35vZGftapmhbBipkO1d/PDYUXS9l6BbWFFM8ZIKwi0SUA40abR1BcCkxEQTkzG0VUIEKhRQDhRI7ZbESAwVKCJ2ziltkQmBTPRtL6+VU4ATuMQTkxDdbRrZuXESeHE6upyka9RVk4MCycOfu5grYphKy6EE6ONXVfPOnduP6xI3Yr8+35Y8arY3k6B7d7Kit3dl11lalS/89+Q/lAiIYWwolFDpDEE5lpAODHXw6fxBKYiIJyYCquLEiAwTQHhxDR1XZsAgZMEsoVTwol8NeHIZN/KylI56ffy5cvixYvNqdZPSDiRyaunT62cqHv8xwknHj9+uldn5KhtnUYJJ/prVVThxEmfq9vF/eZHICspEqJmVUX+zEqLg2FFb2VFauTk95lj9gLCitmPgRYQaJOAcKJNo6kvBCYjIJyYjKOrECBQo4BwokZstyJAYE8gW+hcvLhYvulbFBPeK+mUzpngW1rqbeOUfd2zYmLax7Vrq2X/hRPTlj58/cFwIhO9CR5S8Pzp0+flB6qVE6OFE5vFs2ejF9IWTtQ/5m2/Y+/36n6B7f6wIrVyeltA9VZWTLJ2Tttdp9k/YcU0dV2bQPsFhBPtH2M9JDCugHBiXDHnEyAwcwHhxMyHQAMIdE4gb4+vrl4qLl++WDx/vj7z7UcSRiwvZxun8+UqhrW1zdqKzV67tlKOv3Ci/h+DW7euFRcuXNirOXF8OPGsDKxypGh2Jn3v3XtY/vt+yHBSODG8kLaVE/WPfVfueP78+b1VFXnWU3C7OrKSoqpXkZUVr1696gpLo/sprGj08GgcgcYJCCcaNyQaRGDmAsKJmQ+BBhAgMK6AcGJcMecTIHAWgaqeawpNNyGcyJvGqS+Ryebs0b62tlEWqK7r6IUTC8XTp7037ttwzEtB7Js3r5VvmVcFsatwYnNzq3jyZHDlxMFwItt+3b0rnGjD89qlPiRI619Z0V8LIb//qrAiqyvq/D3YpTEYt6/CinHFnE+gWwLCiW6Nt94SGEVAODGKknMIEGiUgHCiUcOhMQRaLZBgoqotkWAiWyi9eLFe7OzMZi/0tCFfmaDb3Nwut/Op+7h6daV8m/nJE+FE3fZVOHH37oPi9euirDNy+/bNov5w4vgVF3W7uF93BPqDigQXB8OK3bJWRRVYZJLcMXsBYcXsx0ALCDRJQDjRpNHQFgLNEBBONGMctIIAgTEEhBNjYDmVAIFTCSSQqFZMVBfYDyc2attCqbp3JuCyWiKTcXk7ONvqzCogEU6c6pGayIcmFU5k65w33rherK/3hwzLxcrKcvHo0dNycjfH0YW0hRMTGVAXOZNAfk9n66cqsBgMK3Z2dvtWVuyUW+A5Zi/QH1b0wqV8LRYLC/na38Zr9i3VAgIEpiEgnJiGqmsSmG8B4cR8j5/WE+ikgHCik8Ou0wRqE6hCicE5klmFE/3bOGWyLfUlZjnJdvXqcrmllJUTtT2SezfaDycels/AsJUTKytLxZUrK8Xjx/3bOl0vsgVUta1TnqnUodjY2NzbnuvKldOGE4c/V7+MOxLIKreFA1tAJayojvy87O7ur6zIVm6yimY8NcKKZoyDVhCoS0A4UZe0+xCYHwHhxPyMlZYSIPC2gHDCo0CAwDQEEkYsLu5v4zR4j0uXLpRFqFPjYXt7dxpNOHTNbCOVUCSTN9nGKV+zPhJOZKL78eNejYM2HJm0TLHdph/jhBNPnjzbe16ySuKkcGJ1dbnI1/grJ4QTTX9uutq+/rAiv7+zYqg68jt1cGVFV52a1m9hRdNGRHsITFZAODFZT1cj0AYB4UQbRlEfCHRMQDjRsQHXXQI1CFShxHE7SuyHE5t7295Mq2mp6ZA34POG+6tXr8rVEin+2oQjb9inXcKJ+kdjMJzICpY7d1JzYrtIGJGjWjlx2nDi8eOn5b79OXrbOi0W9+4dXUh7WKhRv4w7EjhZIL9Xe1tAXSz/zO+x/rBiv7j2Tu1b953c+u6e0Qsr0v+Ft7d9sg1Ud58GPW+DgHCiDaOoDwQmKyCcmKynqxEgUIOAcKIGZLcg0CGBo7ZxGiTIZFbqPmSf/mrydhpM2Yok98lbv03Yxmmwj8KJaYz6aNc8KpzY2tout3HKMSycuHXrelmv5K23HpTnDNvWqQoZ+sOJbP2UAKQKJ4bVqhBOjDZ2zmqeQJ7t/F5P8Jw/s7qoOlLbJ1s/JbDI7/usrnI0Q0BY0Yxx0AoCpxUQTpxWzucItFdAONHesdUzAq0VEE60dmh1jECtAsOKXh/XgIsXExosTTWcWF6+VFy61NvGaWNja6ohyGmxhROnlTv7527cuFo+HwkLMnlarZwYHk48LzY3t8qbjhdO9NequFHWtdivVdErpN1fq2JYqHH2nroCgfoF8qz3r6zIv++HFa8OFNduykq2+pWad8fDYUWvuPb+SovmtVmLCHRZQDjR5dHXdwLDBYQTngwCBOZOQDgxd0OmwQQaJzDqaon+hu+HEwkNJlv7IZPMq6uXyzd3X77MNk4b5Z9NPFZXl8q38J88ed6agrLzUnPicDixUNy5c6t8Hg+vnBglnNgqnj7t1Q7ZDxmOCycOF9IWTjTxp1SbJiGQ38fVqoqEFvk9PSysyMqKeahZMwmTebiGsGIeRkkbuywgnOjy6Os7AeGEZ4AAgZYICCdaCk+IPwAAIABJREFUMpC6QWBGAgkmjqstcVSzMiGfifmsaJhkYepMemXFRLZxyhYi2Tbq9esZ4Yxw2/1w4kW5wqMNR5vCieXlpeLq1ZUyPDp55YRwog3Prz7UI5Dt0PZXVpw/EFYkTN7e3t5bXdHUcLkeqebcpfpv1MGaFVlZ0dvCK//ddRAgUK+AcKJeb3cjMA8CVk7MwyhpIwECBwSEEx4IAgROIzDuNk6D95hGOJHaEpnsygTK+vrW1Attn8Zt8DPCiUkonu4a+ysnHpWF0lPgd3DlxCjhRN4IT7HrBG2TWzmxv+LidL3zKQLzJZD/JvTCigvFhQtZWbE/0Z2VFFW9ivyZn1fH7AWEFbMfAy0gIJzwDBAgMCggnPBMECAwdwLCibkbMg0mMHOB02zjNNjovDWbegtZNZFJ3bMc2cs89SvyZyaxXrzYnJvJq7aFE3lz9ty53qqVFCBv8jEYTqTtb755cFun5eXLxdWrq2XoUD2ngzUnqnAiKyuywiLH8G2drpdbje3XnDhuWyfhRJOfHW2bvkB/WJHAov+t/NSoyO+YanVFasY4Zi8grJj9GGhB9wSEE90bcz0mcJKAcOIkId8nQKBxAsKJxg2JBhForEBWS2Sb8Ens3DCpcCJ7mC8t9bZxyl7l2cZpno5qtcfTpy/KoszzfGRM059qL/n0Z2dnpxyXTCI2rejt9etXi8uXUxC7t3KiCicy6fno0dNyKIaHE9fKN7vfeutBeY5wYp6fWm2fF4FqVUVvZcX5A2FFgtBeWNH7assWefMyNke187iwwhZQ8z662t8UAeFEU0ZCOwg0R0A40Zyx0BICBEYUEE6MCOU0Ah0XqEKJSQQToazCiRQfzhZM4x6Z2MjEcQpr97Zx2iy2t5v9pv6wPrYlnMgkf75yVLUZLl68WK5mqY4EAPtbs2zPvEh5FU7cv/+obMvpw4nF4vbtm2W/q5UTWclz5cpKWVi7Kvj+xhtWToz7c+58AsME8t+hBIQJKhJQnz+/H1bkvwcHV1bsCisa8hgdDivy34eFsmaFsKIhg6QZcycgnJi7IdNgAlMXEE5MndgNCBCYtIBwYtKirkegfQKT2MZpUCWT1ik0fJpwov8N/UxCra1tzO2qg/1wYm1utqLqH8tMKKUPeZM54cPa2mY5SZ/ttaoQqv+N52pVRb6Xc3qrKnorK+peOXL9+pXi8uVLxbjhxM2b18pJ0f2VE0eHE0+ePNsr+H50OHF8rYr2/UbRIwKTFcjvocGVFdUdMiHev7Iiq7lez/citcnizfBqGZv+UGJhIWFFCmznS3HtGQ6NW8+RgHBijgZLUwnUJCCcqAnabQgQmJyAcGJylq5EoG0Ck9zG6ehwYrytmKo39DNxMYl6FbMes6z+yJu/z56tzXwlwbgW/SFRJv8STPTeWt7dCycGr3ncPvJ1b80yXjjxotjY6G0ZVoUTd+8+KCc5E7QdtXKiP5wYrFURvzfeOLmQ9rjj4nwCXRfoDyuqlRVHhRUJRx3NEBBWNGMctGK+BIQT8zVeWkugDgHhRB3K7kGAwEQFhBMT5XQxAq0RmPQ2ToMweYP+2rWV8q35TGqfdBx8Qz/bOG0UOzu9t/Pn+ZjXcOJgSLRVbGxs7w3DceHE4FhVbzsP25plMKyY9DgfDieK4s033yifyarmxNLS5eLatRTEHhZOPCzDGOHEpEfG9QhMViD/velfWZFgsDryM9xfryK/dxzNEBBWNGMctKLZAsKJZo+P1hGYhYBwYhbq7kmAwJkEhBNn4vNhAq0UyDZO095RYXFxoZz0HSWcOOoN/TbgLy9fKi5dujg3KydGCYnGCSf6x/Ckt52rCcRsBZV7nPXYDyce7630eMc7zhJObBdZKZGjqjlx3MqJqpD2xoZtnc46lj5PYByBhBUJRKvAIj+L1ZHt5bL1U1UfZxK/a8Zpm3OPFhBWeDoIHBYQTngqCBAYFBBOeCYIEJg7AeHE3A2ZBhOYmkACib45mqndJxeuwom8pfrixcaR91paulQWWs6kRLZxylebjv1wYv3IrZCa0t9M4K2uXi4ysXdcrY/ThhOD/azedq4mEQ9OIPYX1945ld21a1eKPF/37x8XTlwqct6zZy/Kous59rd16q2cSDvv3ElB7GHhxPO9AuGD2zpV4cRJhbSbMv7aQaCtAln91AsqLpZ/5t+rI7V0+ldW5HefoxkCwopmjINWzFZAODFbf3cn0EQB4UQTR0WbCBA4VkA44QEhQCAC0yh6fZxs3pK/fn21LFQ6LJxIeJG3z7Nqoiq03MZJoSp8ef58vZzwb+qR1R1LSxfLIqUn1fpIoetpvG2cyfz+t50Hi2tXbzrnzzwzJx1VOPHgweM9+6ycyFvTDx8+LT+e8Rk1nEhx98ePB1dOCCdOGgffJ9A0gfx3p38bqP7fNVVYkRVc+V2T33eOZggIK5oxDlpRr4Bwol5vdyMwDwLCiXkYJW0kQOCAgHDCA0Gg2wLTLHp9fDhRFNlWZ1g4kaLJKyuXy4nw/kLLbRyppocTeT6Wl5eKixfPF9nuJKsHTtqTfVrhxOD4H1dcO+FINXmYCcRMWg0e2VYsNSUOhxO7xcOHT2YaTvRvB9XG516fCMyTwH5YkZUV58vVUtWR33f9Kytevjw5GJ2nvs9zW/vDivzviaLI12KxsJCv/LODwPwLCCfmfwz1gMCkBYQTkxZ1PQIEpi4gnJg6sRsQaKxA5lf65lhqb+eNG1fKN9azaqA6qm2OMqmQvfgzwdzmo8nhRLY2yeqV/HncNk6D41NXODF43/43nRNcVJNPeZaGFdc+bThx48bVsk7I3bsHt3XqXzmRQOfq1ZXiyZPjVk4sFrdvZzuorfK8HMNqVbT5+dc3AvMocFwwmt9//cHoKKu45tFgHtssrJjHUdPmkwSEEycJ+T6B7gkIJ7o35npMYO4FhBNzP4Q6QOBUAnVv4zSskf3hRN5ETT2DbN2TN0/X1jbKP9t+pJ5GAooXL9aLnZ3mbA+S7ZPSrlG2cWpKONHfjlGKa2frsAsXLoy9cqIKJ+7de1iuJqlqTggn2v7Tqn8EhgtUYUVCy/5gNGcn2N3e3t5bXZHfGY5mCAgrmjEOWnE2AeHE2fx8mkAbBYQTbRxVfSLQcgHhRMsHWPcIDAjMahuno8KJvGWaGgbLy71tnLI9RrYOGrILTyvHcj+c2Dhxu6Q6AHrbOF0u91vPxM3a2snbODUxnBhs0yjFtfPsXb3aq4NSbet0+fKlcvuxZ8/WivX1XuH2w+HEQnHnzq3iYDhxubzW06fPyxVAOW7dulaGIW+99aD896xIsXKijqfaPQjUK3DUKq60YnAV17At5+ptrbtVAr2wIv+28PbKO9tAeTqaLyCcaP4YaSGBugWEE3WLux8BAmcWEE6cmdAFCMyNQLZwyv/xbspWyymInRAib7BnUmB9fasMJ7p0NCmcOO02ToPjNattncZ5btLXFLrOJGK2XenfQz7PYrZa6j2LC0W2f3r+fK1czZNDODGOtHMJdFsgoXtWU2Q1Wn7fnD9/cMu53sqKFNfO6ordofVxui04u94LK2Zn786jCwgnRrdyJoGuCAgnujLS+kmgRQLCiRYNpq4QOEagCds49Tcvk8NXriyXbydmMjtv6HdhG6fBIarCiUx8Z2JqVkcmzVLvI+ORFQAJik57zEM4kb5lZUNWiWSVRCahsiXL6upy2e3BYqmZPOyN0U65kiLn3rv36O1gY7SVEzdvXisnJ0dbObFfq+K04+BzBAg0T6B/y7n8PkhwUR1H1cdpXi+62aLDYUWvuPb+Sotuuuj1bAWEE7P1d3cCTRQQTjRxVLSJAIFjBYQTHhAC7RbIKokqmGhKT/vrGeT/7D958qIpTau9HbHIBPksw4mVlf1tnLKl1llDknkMJ7LVSo4337xVhmXZxikTh9nW6fz5cwcmD/PMZqXFkyfPyi3JMtmYz520rVMVTty9+6BcMXT8tk7Cidp/GN2QwAwEqto3/SsrhoUV+f1S/Z6aQTPdcoiAsMJj0QQB4UQTRkEbCDRLQDjRrPHQGgIERhAQToyA5BQCcyrQtNUSvXoGS8XFi+fLN9WrvbafPl2bU+GzN3s/nEgoUO+WVv3bOGVC/sWLzXIlwFmP+QknVsrnMSsnBsOJBw+elAxZ2XL9+tW366C8LgOLYW865+/7a1UkcBqsOXF0OLFdBh05VlaWiitXVoonT4QTZ30OfZ7APApU9XGquhWD4WhvC6jel7CiOSNc/e+ZgzUrrKxozgi1tyXCifaOrZ4ROK2AcOK0cj5HgMDMBIQTM6N3YwJTFUgw0ZTaEuloJljyhn4mXrLHdlYKVNs6WTmRlRP1hhMJiKoi5FtbvSLkkzrmP5x4VTx48PhAONFfcyJhRUKLFLqO47m+pUkJd3orT16Xqy6ePn1RbGz0bPfDiYdlMLe/ckI4Malnz3UItE0gvyf6C2wP/r5JQJHf4alZkf+2OpohcHRY0VuJN7h1YDNarRXzKCCcmMdR02YC0xUQTkzX19UJEJiCgHBiCqguSWCGAk3cxikTufnK/xnPNjiZ1M1x9epKWQy7y+FEJp0S2iQcyARTHUdCiazYmFYR8nkOJ+7cuVWuHqnCidSWSAHsYeHE/fuPyjopCd7eeONG+c/5+esvrp1rZTuWvOW8tNTbPuvu3V44kfPu3LlZ/kz8f/beBUiSqzwX/Lunn9X16ucILrAYzEVItpEB2YiHJAxGKAxr1oEvYGHAawgD5hX2dWAsri0uvmCescsah+2NIPbeXQcY2VgYi7eF/MKAkEA8JK4BYYSEZqa7p7u6qqv6NTMb30mdzlNZr6yqfJyT+Z2IitFoMk+e/P6Tpyr/7/zfx8qJJGY+r0EE3EfAIytmjgkL/F03jxz1KytIVtgTb5IV9sQiayMhOZG1iPJ+iMD4CJCcGB9D9kAEiEDCCJCcSBhwXo4IxIiAfTJOEyrxDhmc8+cvSLPZksNDf2dnuVx4ULs/v54TSZITSIYXi3Nqpz8S6aheicOE3BVyAvJJkFEyZZ3CkRMlVRWhyQntOYGk4NmztQerhAoyPz+rSIjgDlnP1wP68edkdXUx4FUxr0g7yjrFuFCyayKQIQRAjpqVFSY5ivXdJCuwNrPZgUA/soJVFXbEyJVRkJxwJVIcJxFIDgGSE8lhzSsRASIQEQIkJyICkt0QgRQR8HZr2yvjBNkJyBbpl3ENFWSdkFjZ2qqniF66l4YsEBLkcVdOmDJOSFYhHnE118gJEAra7wOVDJin6+uerJOunGg0moIPWrXan5zAMaiSqFSKStbp6OhI9YOKFTNxqPHH7uadnYYcHqK6guREXPOS/RKBPCDgkRW6smKqbc3B2txOVozvMZQHTJO4R5IVSaCczWuQnMhmXHlXRGAcBEhOjIMezyUCRCAVBEhOpAI7L0oEIkNAkxI2+UtgxzhknPCyDckafLo1khOiPAtATkDqqhdO406WQmFWJccRD1wnbvmo/JETIidPrqikH4gOk5wA6aD9PLTnxNbWzvFO56C5tpaJMsmQcePP84kAEcgvAlhjzMoKc1c+iFGTrIAsFJsdCASr7iYmIN/lGWyzssKOGNkyCpITtkSC4yAC9iBAcsKeWHAkRIAIhESA5ERIoHgYEbAQAdtknOAfgUQ7dm4iyYHd+f00r0slHDuV68oJJI6KxXjICTMecco4BR8NkhOonJiVSqWkKiKC5ETQcwKVRfgggYhnRzdtrg0JKCQQqR9v4SLMIREBxxDAdw7Iaqw3+O92suIoQFZccOzusjtckhXZje24d0ZyYlwEeT4RyB4CJCeyF1PeERHIPAIkJzIfYt5gBhGw0fQaSQ74SyDR0UvGKRgKJOVxHgyxg5JPGQxb11uKi5ww44HENhLkFxLKM4EIOTpKxtx7nHmCyp2FhYKqdhhN1mlLtIb7RRcFKyfCkxMwzEY1BRrIPXhhYDzwBjHNbn39eI+siMMvZBw8eS4RIALuIWBWVQTJCnyXm5UVef2etjGqJCtsjEo6YyI5kQ7uvCoRsBkBkhM2R4djIwJEoCsCJCc4MYiAWwjYVi0B9Nplgw6UwW+YRnJCZHr6hBSLhUhlnUxZrSRknIKxdp+cEGV2jTY7Oy2LixXlN9HpOdFOTsAzYnNTyzp1khOLi2W1Y9mvnJgQGHCb5AR8KcpleFXU1ZzwzW6x07ldP96XZPHICpjOsxEBIkAERkUAmwu8yopp5VuB9UdXViAZ7q05+I4/VJsQSFaMinT055GsiB5TV3okOeFKpDhOIpAcAiQnksOaVyICRCAiBEhORAQkuyECCSAAYsImbwmY+xaLc2qH9yiyQdgljoQrTIPzmlhF8gc7+OE3gWT0OC0oq9VotFLZXe8KOQFSCB+zcmJ1dUmFQJMT2FUMrwiTnIBcEwggmGablRNI1m1ubqvzu8k6aXLizJlNNd8Rr0HkRHA+aP14kBy9dzmDrGDicJxniecSASKA3xsTbX4VQY+cYGUFMbMHAZIV9sQi7pGQnIgbYfZPBNxDgOSEezHjiIlA7hEgOZH7KUAAHEDARhknkArY5Y3kxaiyQZCBQvKX5MT45ASSRogHEt6erFYrMRmn4CPkGjmxtVU7NgkHOYHn7cwZr3KiHzmxsbF17AMBWackyAkTa4xzenq65y5nnThEZQb+m40IEAEiMA4C+H7xZaC8ygrdkAzHOoP1Br8JuOaMg3T055KsiB5TW3okOWFLJDgOImAPAiQn7IkFR0IEiEBIBEhOhASKhxGBlBCwU8ZpTiVE8bLbbO4f6/UPC5FPTuwqA+08tigqJ9plnMLLasWFN2IJiSPbm66cgN+DliJbXV1UhFuQnNjdbUq93lS3VKkUZX5+TsKRE7vSbLbUeVFUTvTDVO9yNiVZ9PGo1EBMIMcCWRaaa9s+Ozk+ImA/Aqie1GQF1h1UUeqG3wemXwXJCrviaZIVnnQXPpMyMYEP/pvNFQRITrgSKY6TCCSHAMmJ5LDmlYgAEYgIAZITEQHJbohAxAjg3XBy0i4ZJ5jzQooJf0LOZnd3byzZIOz0R0JjZ2d3rH4ihj7R7pDMKZcLKjkOomeYhgQCfDtAcIAQQDxsSDpnk5xoSb2+q8IThpyYm5uVarWk5nYvcgLxO3myv+fEMPMheCwShx5R4enHm+baiBESh5qsoLn2OEjzXCJABIAA1hjTYNskK7w1RxtskyC1bcaQrLAtIuHHQ3IiPFY8kgjkBQGSE3mJNO+TCGQIAZITGQombyUzCGhSwqbNa0hyYoc+EqpIaDabe2PjrY20801OTEq5vDA0OQFCAkSRL+O0Z405KckJkf7kxFlFJmlyAiQBfC/QfEPshrRa4z9j5kPqm2t7hAXIC91ANnpEhVdZkVcPmLEXNXZABIjAMQIgJ8zKCnPN0QSprq6wgVhn6HwESFa4MxtITrgTK46UCCSFAMmJpJDmdYgAEYgMAZITkUHJjohAJAjYJuMEgqRQ8IyrPRmnPbX7MYqm5Yggl5PXxAR2mnrkRHjCZ25uRhFFiAeMtPGxqV244O3Kt70NJ+s0WuUEqi3g/4HmyzqlQ04E46HNtXXy0JTyCBrdYq6xEQEiQATGQaA/Qep9b2iClNVc4yAd/bkkK6LHNKoeSU5EhST7IQLZQYDkRHZiyTshArlBgOREbkLNG7UcARtlnLzd+TBZnlTkAZKsUe6oJjnhyWCEJSeQPEY8kFS2ScYp+Gi5Qk6g8qRUWhDTc2JlZVFVo3R6TmSPnAjGzdzhPDU1daw7ro1uTf14y5dTDo8IEAEHEPDIihklPzc9jWou3+sA1Vx6zQF5n1dfKlvD6JEVGN3Eg98V9KxIK1YkJ9JCntclAvYiQHLC3thwZESACPRAgOQEpwYRSB8BG2WcsDsfHyTEsTO/1RrODyEMqvPzuMasMhrOa+UEiJ9KZUElYeAZ0auZRBF2teNYW3ezu0ZObG/vHFefeOTEpJw5s6lCASJoebmqiDntOVEuF5X80sbGthwdeVVE8I5AMg3/D03LOg1bOQGjbXha1GrRyzqFeSb1MdpcG4QFEocgK3QzjW6RNNQYDNM/jyUCRIAIBBHoV82F3wgmQUqywq75042smJiAQbomL+wab5ZGQ3IiS9HkvRCBaBAgORENjuyFCBCBBBEgOZEg2LwUEeiCAGScbPKWaN+d78k4IRkeR9PyRI1GK7ZrxDHuKPvETlEko/uREyZRBJLINhmnIB6ukxOoZjl9ejA5sbm5fTxvO8mJGalWy4rQ0LJO+DtiiaqMXp4TtpATwZiCsNFEBf7sNLrV5tqHiqRhIwJEgAiMi4Bprg3iwpSeAymK703tlWMrWT8uBq6e30lWTMrEBHyOSFZEHVOSE1Ejyv6IgPsIkJxwP4a8AyKQOwRITuQu5LxhSxAAIaH9JSwZkrTLOB1JoxHv7nySE6JkLHqRE67IOLlPTtRlb8+rDELlRDdyotlsCYzb0XTlxKjkxPr6WYGeejdDbE1O7Ow0IjGdj2ttATmBigqdPAyaa5tJQ+5wjisK7JcI5AcB/GaC9JNec4JkBX1y7J4LJCviiw/JifiwZc9EwFUESE64GjmOmwjkGAGSEzkOPm89NQRsM70GENr/IUmT5dnZGSkUZtXO8qhMtlML6ogXRoK6Wi2qHfioINEt6PeBf3NlZ6h7lRMmOVFVVQHByolw5MR52djYUiEE8darciIL5ERwukP2ySQrgjuc9e5mkBauzOMRH2meRgSIQAIIeNJzU8qzAoQFvjP1uoM1BpUVet05PMS6k8CgeIlQCOjvgHbPClRWQAYK1cS+90ioDnN+EMmJnE8A3j4R6IIAyQlOCyJABJxDgOSEcyHjgB1GYGbmhExNTYpNL8rYuQ9jYLzYJ22yjGQmtPvhn4CkZR5bN3IiCb+POLF2hZwoFOaVGfn2dhhyYk9QzYCGc3BuZ+WET06AeFtcDMo6lZQXRX9yYlYqlZK6FiTVXG295Fhoru1qRDluImA3AqZPDtYfVFboxnXH7tiRrBgvPiQnxsOPZxOBLCJAciKLUeU9EYGMI0ByIuMB5u1ZgwBMr0ulObXDD2a358+nv40PL+8gB0BQpGGyTHLC2yGoKydA0iwszKmkCuYHdusfHrqn3+8ZJh9Y8+z1GogmJ2q1+rHhO8yvQdR1Vk7EQU7ASHtFEXNnz9bUMFHBlAVywsQ8rLk2cIjL38b6ycgBEgEiECkC+F3jk6Qzal03yQrTXJvrTqTQj91ZP7KCVRWd8JKcGHvKsQMikDkESE5kLqS8ISKQfQRITmQ/xrzD9BHQMk5IPCMhD+16aM6n2SCnhN3deAlstQ5kfz/5ZDISB8AEO8Qhv5DHBvWCarWkJCig24/P0dE5JXVlA4E1SkzcISfmlH9EkJwAOXTq1Ia6dcgVraxU1RwdpXKi0WgKPmiIc3vlRD7IieAc0uba2mC7m7m29qygufYoTyDPIQJEYLh154KqaNWEBckKu+YPyYr+8SA5Ydd85WiIgA0IkJywIQocAxEgAkMhQHJiKLh4MBEYCgEknlExoeVzNSGQJjmBxCAIAewiBEGCJHhaRAn0oiEp1Wzup0KODBXMGA9eXCwpkgg7Avf2Do538cd4yVi7zjo5USotqHlryjqtrS0rWTTtOaFlnfqREwjCRRdlv3Ji0GSDATl047VnRTdzbU1W0Fx7EJr8dyJABMIg4K072mB7RvB33bDOwAcLFYBYe7BhgM0eBDrJCsQOnhX45M+vguSEPXOTIyECtiBAcsKWSHAcRIAIhEaA5ERoqHggERgKAU1KmO9J2nS6Xm+m8rILMgAyTnh5wws3doOnaRKJHerF4rxKxiMpn7eGuYF4IEGCl23IOmVhxyYqPg4P7Y8nsB9cOXFCVlYWpdXaU3JsaJqcgBST9kpZW1tSMVxf9wyxhyEnsGN3czO7sk7DPtcgToGfThy2m2ufUwlDbXRLc+1h0eXxRIAIdEMAFVy6mgt/miSpR1Z4lRVYe1jRZdcc0ps79KhAUuSJrCA5Ydd85GiIgA0IkJywIQocAxEgAkMhQHJiKLh4MBEIhYCWcQpu4EqTnEAiFjuT8RKHSgUbDKjzTE5glyZ23+vdmtiZCdIqC809cqKhyAc0eE60yzrFQU5sHSe3UDlBcqL/rO9nro3nBpJ0OnGYheeH90AEiED6CIAkNdee9oouTVZ4a09a1afpo2TnCPJGVpCcsHMeclREIE0ESE6kiT6vTQSIwEgIkJwYCTaeRAS6IgAyQhMT3Q6Ym5tRhreQeknK6NhMgmO3H3bn2/IiPT19QorFguzt7Svfi7w0kESYB9gRjsQqdokjNjs7JCeSnAPz83NSqcBzIm1y4khJRKFl0RA7ypia5tpIHIJI0g0JKVQeabIiC1VIUWLHvogAERgdAfgPaem56WlUVvjyQfj+NisrKD83Os5xnJl1soLkRByzhn0SAbcRIDnhdvw4eiKQSwRITuQy7LzpGBDoVS1hXsonJ1qJyPe0J8E9GSebGnYmlkogJ9z3WQiLK/w+tIwT4gFd62q1qPwKSE6ERTGa4zQ5AaNr/WwsL1cEiSffEDu6yolKpaTIB0g/aVkQr3KiGzmxK81mK5obzXAvSBB6u5s9z4pOc23qxmc4/Lw1IpAaAiBGzcqKTvk5bbB9IKgmZLMHgV5kxeTkCXsGOcRISE4MARYPJQI5QYDkRE4CzdskAllCgORElqLJe0kLARATYTz4sEMeptgwoUZSOq7meRnMCzwmPBknLwluW8sTORGsYGk09hQhgeaRExcERulZaK7IOnWrUlhaqqiEUyc5sS+1Wl2FJ5znxLQsLlZUlRQ+aJqcgGm2NlglORHtjPdNbj2yolOKxZeAsqWCLFoE2BsRIAJpINBLfg5jOTpCRZcmKw7V7zI2exDQZMWJE7P2DGqIkZCcGAIsHkoEcoIAyYmcBJq3SQSyhADJiSyggYtgAAAgAElEQVRFk/eSNAKDZJyC40GyDN4PkFaKy/MBCX/szkdSDglQECG27tpDIrFcXlAyLPDByGpD0gKklCfj1FnBQnIincj3IydOn95QZvHYib+6CkNsk5woyMJCQToNsUXW18+qm0HMQXQMS07Mzc1KtVpSRBUrJ8afF55uvEdUBKVYsD7CXFub3DJhOD7e7IEIEAFvswrWG01YoMrCrKxAtZyWgcKfXHvsmDUkJ+yIA0dBBIjA+AiQnBgfQ/ZABIhAwgiQnEgYcF4uMwiEkXEK3ixeVEEcoJIBSeqoG2Sj8MFLsAtSST45YZ/kVFSxaTci717BAt8DkQtSq7FyIircw/TTn5zYVAkjkhNhkHTnGCQJUcGm/So6E4YHam2GSTk3N7sTV46UCNiMQBivHE1WcO1JJ5KI0eTkTDoXH/OqrJwYE0CeTgQyiADJiQwGlbdEBLKOAMmJrEeY9xc1AtgRNzkZTsapk5yYkoWF+cjJCbxUgfRA4g1VEiA/XDCD1eQEXspRTZKlhsqVYnFOJbfhL2DKOAXvs1JZUP+L5ESyM8AnJ/wqBS3rdPp0OzkB0/btbU/WCSbu+Gxt1Y5JxtXVJfVvwcqJ3d2m1Ota1qko8LnoJ+ukKyfq9V1V9cQWHwJYN4Nkhb4azbXjw509E4G8I2CSFajqgtl2cO0xKyvyjlcS909yIgmUeQ0iQASSQoDkRFJI8zpEgAhEhgDJicigZEc5QECTEmH8JbrBgURYsTivJGJQ2RBFa5dxOlJJcFckAmBmi6qBrJET8PpAxUQvGadg3D1yYkJqtUYUUyL1PlzxnOgmodRJTkwKiIcw5ATWhTNn2mWdSE6kPh1DD8A010ZlBdZW3bw5fagk6LBeac+Q0J3zQCJABIhADwT6rT34PWcSFS5sPHEx0CQnXIwax0wEiEAvBEhOcG4QASLgHAIkJ5wLGQecEgKjyDgFhxo1OYGd35BxwssryI6oCI+kIPbJiaPM7BJvl3HaD+UtAnICL8bb29khJ46ODqyXxelWpTAcObGjktVoIDC6kxMtQRUEGog4Vk4ktbqMfx3TXBtkBf7ukxXnHzS49cgKmmuPjzd7IAJEwEMAlZdYc1BV4a09nUSp9sqB2Tbb+AhMTEzK5OT0+B2l0ANlnVIAnZckApYjQHLC8gBxeESACHQiQHKCs4II9EdgWNPrfr1hJ26pVBjbDwJJfchDob/z588rSSQXd/IiIQ8zaOwEbDTclrBBTFAV48k4ISat0AlLmILjfJITya5G3ciJxcWy8iTwZZ36VU6Y5MSiIpg6KydITiQb1fiu5plrI1kIz4oplUDUzTPXPjw22EalBRsRIAJEIAoEBhGlZmWFi78Fo8BonD6wwWdy8gTJiXFA5LlEgAhYhQDJCavCwcEQASIQBgGSE2FQ4jF5RSCKagkTuyjICVRfYHc+ktlI6oOYcEXGKTiPskJOICbw/MD9jCJRlTVyAnE+ONh3oHJiRqrVsqps0P4OJCfyutoPf9947r3dzTPKu6LTXFuTFUfOrtHDo8IziAARiBsBbILQVRVYg0yiFBtWdFWFV9V1Lu7hON8/yQnnQ8gbIAJEIIAAyQlOCSJABJxDgOSEcyHjgBNCAMTEqN4SvYaoDaAhBdNs7g99J4XCrEqE4UWq1To4lpQZuiOLTlhcLAlkCep1Nysn2mOyf2yQPAzE5XJBJReyUjnhkROQdbJ79zgk0XqRE2fObCpzecRlbQ2eEweyvb2jwuobYo9fOXHy5LJKHm1sbKu+u41pmLnEY9NBAN8V09NahmVGVbVpskKba3sJwwNFKrMRASJABKJCoF9VFyo58X2sqysoQdeJOsmJqGYi+yECRMAWBEhO2BIJjoMIEIHQCJCcCA0VD8wJAlHKOAUh88mJQ2k290IjigQpdubjBXRYyaDQF0npQI+cOCf1ejOlEYx2WVNaa9yYQOoLsd3aqo82GAvPIjkxLfCvQEWG9pwol4uq6glEhNYJJzlh4eSNYEggJnzNeI+s0M031/YqKyjDEgHg7IIIEIFjBHRVlydDN91W1QUy3KysQKVF3ptHTkCqb8pJKOg54WTYOGgiECsCJCdihZedEwEiEAcCJCfiQJV9uopA1DJOQRxAMsD8eBjpH2ibI6GpJYNAali+IX2o8LtITrTLOB1Js9kaKyYkJ4aaMpEdjCokyDh1k3WCdwSSNrpyAjvet7a8ygn4vZRKC+rvviE2PCcmBRUXaJgjy8vVruTE5ub28e55khORhdPqjjCPfBmWmQ5zbT9ZeBDaq8bqG+bgiAARsAaBfmQF/XJEVXmSnLBmunIgRIAIRIAAyYkIQGQXRIAIJIsAyYlk8ebV7EQA1RLwNo1axqmTnJiQSqUoBwfwihgsYwRSAgktvDhBBgoJrKw1GGIjCbyz40blxPz8rJLe8aS1RpNxCsaQ5EQ6s1qTE41GU/BB054TYcgJyDxB7gltZWVRERkkJ9KJpWtX9WVYvJ3NpmY8djbv76OqwqusoLm2a9HleImA3Qjoigr82dsvx1uDbJdnjAJpj5zAOuxXuEXRb1J9sHIiKaR5HSLgDgIkJ9yJFUdKBIjAgwiQnOBUyDsCmpSIm5gAzmENoCH/hN3Z+BOJKpheZ1Un2CMnLsjOzq7VU9GUcQKZ0mggJtEYTZZK8zI1NSXb2/WxKjBsAtAFWadu5AQ8KEA++eTEhKytLasKiWDlRJCcwPN6+nR75QSqavTc1rJOnZUT52VjY0uFr1s1h01x5VjiQaDfzmZ4VGi9+LwkC+NBmb0SASIQRED75WgZOvwWMf1y2isrjjJLVkxMQNaJ5ASfECJABLKBAMmJbMSRd0EEcoUAyYlchZs3G0Agbhmnbi+B1Wp/A2hUSmB3Pl4OsXt2GG8KFwMMcgK71mo1e8mJ6ekTUijMCwgKJApBFkW5m7BYnFe7F2GIHWW/ac4HkhOerBPJiTRnobvX1jub8X0QTBYGyQp375IjJwJEwDYEtF+OXoPw20Q3/D4x15/DQ1RW2HYHo40HlROQZnSxsXLCxahxzEQgXgRITsSLL3snAkQgBgRITsQAKru0HoGkZJy6AdHLYwFjQgIcHhOejNOekn/KeoMHB5qt5IQp4wQJHy3jE2VcSE5EiWb4vrpXTpRkbm5W1tfPqmolEFK9Kyfqsre3ry4IWSdWToTHnkeGR8BMFmqywkwW6qoKkNnaaD187zySCBABItAbAb3+aM8ckKXm+pMNshSyTjMkJ/ggEAEikBkESE5kJpS8ESKQHwRITuQn1rxTD4EkZZy6YQ5yAnJApscC9McXFuaU7jhK6OFHkRedcY+cmJBarWHVFMULOUgDxAYyTqiWQGziaCQn4kB1cJ9ItiwuVpTfhPacQGWTSU5gHsC0urusUxhyYk92dry5XS4vKAIyjKyTOabBd8Ij8oQAvie0BAv+PKFLAEXUWmWSFVFJz+UJX94rESACvRHQ64+urMBvJJOsMCXoQFy40UBOeBXLLjZWTrgYNY6ZCMSLAMmJePFl70SACMSAAMmJGEBll9YikLSMUzcggh4L0LfHBy9F2JUPk+U8NSRssTsdkka2NJMsikPGKXif8BdBxQwImqyQUi7IOiG5srQUjpxAwuXs2ZoKHeJVKi0ojxC/cqKqksSdnhMkJ2x5rgeNo9lsyne/c6fs7m7K0dGBzM4UZPXko+SRj3yM1UkrzDu9q7mbuTbmrjbYBnnBRgSIABGICgFUDJoG2+1kKWSg/PXH5sour3KC5ERU84L9EAEikC4CJCfSxZ9XJwJEYAQESE6MABpPcQ4BvG8Ym0tTHb/2WEDlBKoloOeLhDRknNzZZRYdhLaRE5oswh3GJePUSU7MqZd7khPRzaswPWlyYne3KfV6U53Sq3LCJCdQ/YB5GwU5AckoJIyDhtisnAgTwWiOeeCB++Xf7v4HmZu+X37i4implFExNSl7+0dy3/278t0fzEqxcqlccukVUigUorlojL1AdsUkK8yEG5KDmqiguXaMQWDXRCCnCHhkxcwxYYG/62ZWdmH9iasadRToSU6MghrPIQJEwFYESE7YGhmOiwgQgZ4IkJzg5Mg6AjZUS5gYa48F/D9PxulIGo1oDZZdimm5XFA7zre26qkOGwk8nyyKV8apNzmxqxLVWWguVU5ARq1e9wzZfXJiS8mvaVmnbuRErVY/rnRaWRlcOYFqC1RdmLJOICcuXDgv6+tb6vrdfDCyMB9svAd4+/zrF26WxYVvyeMvrQqM73u1zbO78q9fOZDH/sQL5aEPfYSNt9NzTOauZpDhmqwImttijrMRASJABKJEAJWo5hqE3726abJCE6ZpytCRnIgy6uyLCBCBtBEgOZF2BHh9IkAEhkaA5MTQkPEERxBI0/S6H0SVSlHJGCExlNTOfJtDVioVlK9DmuRE0jJOwXiAFMHL+87OrjJhzkJzlZyoVEoCE3SQBb3JiTkpl4tikhPLy0huT8mpUxsqfNi9DsICFVHac6I7ObGk1gKSE8nOemD+z//4Ubnk0ffKIx5WCnVxnPP3/3hWHv7oF8rDHvbIUOfYdpBpro01B3NWN9yfm3rxtqHM8RABItALAY+s0JUVU2qTjm74zjXXoCR/D504Mets0Og54WzoOHAiEBsCJCdig5YdEwEiEBcCJCfiQpb9pokA3nWM9500h3J8bRAS2DWNFzMkgRqNllUl7WmBlDY50e75sS+t1kHiUBQKc0qGheREstD7sk5+5YQmJyCzBMkJkJwnT66ohIn2nEC8BpMTJ2RlZVFarb1js3dNTqAfvUt9bY3kRLJR96721TtulYcs3SGPfmR5qMtj7f7ULVty2eWvknJ5uHOHulBCB5vmtliDaK6dEPC8DBEgAgoBEKRmZYUpQweywpShi7OylOQEJyQRIAJZQoDkRJaiyXshAjlBgORETgKdo9u0TcZJv3whoQmCAv4S+DPNSgGbpkOxOK9eTqHff+FCciNrl3G6IJD2SUv/uFCYVXI+JCeSiz+u1J2cKMr8/JzygCA5kWw8kPg/ffq01OuoWjmQmZkFWVlZi5wEgJTeF/7h/XLtM0cjF3abB/KFr/4HecpTfzFZgBK4mtaL154VvXY1I2EYZ6IwgVvlJYgAEbAQAU1W4DeRKUOHoeI7GVWZuroCv6ejaiQnokKS/RABImADAiQnbIgCx0AEiMBQCJCcGAouHmwxArbKOOnEMxJv2JU/MzOVuoyRTWH0yYmGqihJopkyTnjZRRVLUtfudn8+OdFUUkJZaJ7Zrt0SVUh8QI7J9JyA7JpJTiAWF13Eyok45+Te3p7cffdtsrVxpzziIbuyWJn0DKkPzsn9D4hsN1bkkY96qjzykY9pkwAZdUx33XWHnCzfKo942GjkBK77qVt25IorX6/ku7LcsFYiSah3Nreba3uJQr2zOc01NMsx4L0RgTwj0MszB5gcHh61yUCNswbZSE7ceedX5YMf/HO5665vyfnz5+Qxj3msvOxlvy5XXPHU4ynx9re/VT7xiY93TJFqtSpf+tKX8jx1eO9EINcIkJzIdfh580TATQRITrgZN466HQFIOIGcwMeWhh2n8BJAcge6uUiA4s+0KgVswSU4jqTJCSTa5udnlCksPD9arf3UoYHHAeSl6vVmatUbUYPgEjnRbLZU1QpaL3Li8PBQNjdr6hhf1qmhZJvQOj0nRpV1mpbFxYo0Gk31yXr7n//zTjl936flCT81IydXi11vFzv0v3vPjtz1nTm5/IrrpFpdHAuWWz77p/LcZ504NoYepbN779uR07Ur5ZJLnzTK6c6eA0JPkxVBc20Qvfv7/q5mZ2+SAycCRMBKBPC7zVuDppVvBX5fa8IUxER7ZcXRUJtObCMnvv3tu+Q3fuPX5CEPeag873nPV0T4zTf/rXz/+/fIH/7hO+Wqq35OxeiVr3ypevd5+ctf3haz2dlZec5znmNlHDkoIkAE4keA5ET8GPMKRIAIRIwAyYmIAWV3iSNgo4wTqiOQwMRLE5K0MMXVRQFJJ+MTD8iQF9Rm0LVaQ0lexdXw8lYozKvKFVwHMcGuOxsayYl0oqArJ4YlJ1BZARIDc5bkxOix++Y3vignzv2TPOmycGTD4eE5+fTnd+SnnvhyWV5eHenCIDq++I/vkZ+/emmk8/VJSIR98taiXPWMF4/Vj8sne+ba0Iv3KiuC5tpYXzVZYcta6zLeHDsRIALtCHhrEIgK79NtDTINtnvhh34mJ2esgvc1r3mF3HvvD+RDH/qolEolNTZUGb70pS9U7xM33vgxRb48+9lXyi//8i/L9ddfb9X4ORgiQATSRYDkRLr48+pEgAiMgADJiRFA4ylWIIBksyYmrBjQg4PQ5saejNO+krwwG0yxkdCJOxlvEyb9xuKTE7uxaZhDRx2440/srEMVS5xEyLDYZ5GcQKWB7Zr0PjmxJzs7DRU2GF3jGd7Y2BZ4E6BB1gnJ1c3NbfV3TU7gHJBcaMvLFZmenpZTpzbU37GjM7whtsj6+ll1nvbByHrlxPe//21pbH5cnvykcMSEfqbw/N78uV15ypWvkkKhMOyjJq1WS+762h/LlVcMd91uF/rk52fkyme8dOgxZPUEeCl5ScIZtbO501wbEixeZUVa/j5ZxZ73RQSIgCg/N5OsMGX38JscZOnNN98slcqi/Mf/+Fi1VqHZRk7s7+/JNddcLdde+1x505ve0hba97//vfKRj3xIbrrpU4LjXvjC58tb3/pWedGLXsQpQASIABE4RoDkBCcDESACziFAcsK5kHHA4pMSNsk4mQlw+Abs7u4pGadgSyIZ79Ik0WROXGbQSJIh+W+TjFMwPpB0whiRkMbu8Cw0khOanNiXWq2uQloqLSiS7OzZmkrQoq2tLaldkHkiJ5Ak+vznPiDPfZb3XA7bdup78pVvPlp+9oprhz1V9vf35Ru3v1+uesr45MSnbp2Tp1/9kqHHkJcTPHNtn6xoN9c+32Zs2+27Mi848T6JABGIBwGsOSZZcffdd8kLXvACdbG5uTm57LLL5AlPeKI8/vE/LY997E9Y4yGEjR0PPPAjNZ6TJy9qA+dtb/sv8ulPf1I+/vHPyre+9XX53d/9bfmLv/gLedKTniTNZlPm5+dH+l6NJwLslQgQgbQQIDmRFvK8LhEgAiMjQHJiZOh4YkoIoFpihHxWrKM1E+ColNC7qbtdNO5kfKw3GkPnvhn0blcyZ9RLejJOc+rFFMlQkEW2Sov45ETL2jEOGwcXyAm8+K+sVNXzGqycQJWEni+dlROzUqmU1Dn6WV9aqqi51lk5YZITBVlYKOSenLjvvh/Iwc5H5CcvGZ0g+MTf1+VpV7++bXd+mDmKteCfbnmPXPvM0a+N62Dn/+f+ZVmefpWX6GIbjACqiXRVBaqMsMtZN1MrHt+h4xjbDh4JjyACRCCPCGDNufXWW+SLX/xXue222+TMmTPHMBQKC/L4x4OsuFye8IQnyY//+GOG/n6JG9ONjQ150YueLysra/LhD39U/sf/+KD8+Z//iaqa+OxnPyubm5sCI+xf+ZVfkde+9rXWjT9ufNg/ESACPgIkJzgbiAARcA4BkhPOhSy3A7ZRximYAEei8uCgv49BXMl4VyeGj0dTUHESRbNdxil4j1kiJ7S3x/T0CZXct1lzvpv0kpZ1GpWcOH16Q1VCQNJmdXVRSbvpyolisSD4mJUTq6ue90GwcmJ3t6kM0rPYbv37/1euuaqppK9Gbff8oCbbe8+Wxz72J4fuAtd/9pVNwRwdtX3jri2ZKf8nedjD/pdRu8j9eb3MtQEM1g5IQIGoANGpPZtyDxoBIAJEIBIEQID+6Ef3yZ13fk2+/OXb5KtfvV22tz3pRrRSqSyXXfYEeeITn6TIih/7sUenWpEAmcnf/u3Xye233ybXX3+Dkny64Ybr5XOf+7Rceuml8rKXvUxJS37iE59QRMUv/dIvyTve8Y5IsGInRIAIuIcAyQn3YsYRE4HcI0ByIvdTwAkAbDS9RvKxWJwTlI0P42OQRX+BcSZR1Hhg9zoID8jFIDHebO6PM7xEzs0KOWGSQvD0MHdGQ6YAUkZINiLpaIOMS3dyYkEZp5vkxMmTy+oZ9z0neldOnD69qXZ9a3Jib29ftrc9Wade5AQInTNn2j0nskxO/NMt75Pn/Fx5rGfLM6QuyFXPuG7ofu6//15pbf+lPP7S0asnPv7ZfXnGs16TarJq6Bu3+AQ8A0iszc7SXNviMHFoRCBzCOC7ZHISRPUJ+f7375E77viK3HEHyIo7pNHwvrvRFheX5Pd+7w/kiiuemjgGICZuuOH3VNXHs551jdxww39TY/j85z8n99zzPXnd614tCwsLx+P6rd/6LeWt8bGPfUwuvvjixMfLCxIBIpA+AiQn0o8BR0AEiMCQCJCcGBIwHp4oAkhYTE7aJ+OEZDI+o/gYRJ2MTzQgMVwsSjy0nwdeNsNUscRwOyN1iYQcCBUYdQ+qvBnpAgmcZJJCe3sHSvIIz6+WccG/t2vOnzsmKtKScRmGnEBVD0yy0TBne8k6hSEntrZq6t7RUDnRnZxoSb2+m0Dkkr0EcLztX94nz7xydGJAj/hTt07L069+2dA3gPXhls9+QJ7386N5XvzoVEP+/dTPyOMve8rQ1+YJ4RDAdyvkErF+YO0wq2xAfKKaQldl0Vw7HKY8iggQgU4ENDkxOTnd9o/4rvrOd/7tmKz49rfvlle/+nXyC7/wvyYKY6vVkre85U3ypS99QZ785KfIO97xXkXkmm11tdT29y996Uvy0pe+VN785jfLy1/+8kTHy4sRASJgBwIkJ+yIA0dBBIjAEAiQnBgCLB6aKAKalLDJXwIJEyTAIUeBBAkS4MP6GGRll3xUkyEKPIJm5I3GnmCnvisNSTj4Y7hKTmgfFZMU6uY5AY8HL+HofbQZMs5DglEnG7VZdNzx60ZOaNPqYOVEd3JiV5rNlhqm9pzwyYlJRTx0q5zY2tpR94pGcmL0KH/y81Ny5TNGS7zcd9/35dS9H5GrnrI81AB2mwfymX+YlJ/7+VdYY5461A04erBpro21A3/XDWu9rsjC2mFDVZajMHPYRCB3CHjkxJT62Nbq9br8zu+8Qb75za/L0552pbztbe/sICa83xHt5MR3v/td+YVf+AV5/etfL7/5m79p221xPESACCSAAMmJBEDmJYgAEYgWAZIT0eLJ3qJBwEYZJyQyQUxoGadGozWSaWcUyfhoULajl3HxaJdx6m9Gbscdd47CJyfgWeLtqHehQbZpYWFe7WpGQhDPhCaFBhliD5JxMSWg4toZ7ZMTpmn1gron0xcCsk4mOTE3NyvVKgyxoyAnFhVJ0ynrlM3KCczrf7rlvfKcn6uMNcXHkXXSF/63f/u61Dc/JU9/sheDQW2nvie3/LPIU6/636VQKAw6nP8eIwKeubaurEBi0ScrPHNtTz4Of2IjARsRIAJEoBsCHjmBys7RPYjiQHZ/f0/e8IbXKGLimmuulTe/+Q/aCHH8JnnVq35NHvrQ/yB/8id/3DaEz3zmM/K6171O3vWud8kv/uIvxjE89kkEiIDlCJCcsDxAHB4RIAKdCJCc4KywCQEbTa+Bz/w8ZJxmFRkByRp8Rm2u75If9b57nafJiVGqBtp37O87ldg38UCSDcQXKnG03E/UOEfdH8yE4c0AggIJwN3dvbZLDCInguNBP6YEFDwbdAPxoRONwCeqqphuptW6cqKTnDgvGxtbakianIDsEuYt2uiVE/kjJz7/9/+PXHv1Qdvu92Hn5w9+uCPrjWfI4x7308Oe2nb8D394j/zbXR+TSx5zTh71yHJbklsf2GweyJ3fasjZnYfIFU/7TzI7OzvWNXly9AigmhHrKCTy8N8m2eSZa2uy4mikTQXRj5g9EgEiYAMCtpIT73nPO+Smm/5aERPXX//Wrt9Nb3jDq+Ub37hTeUs86lGPUnDit9J1110n3/ve9+TWW2+Vcnk8fycbYsQxEAEiMDwCJCeGx4xnEAEikDICJCdSDgAvf4yAjdUS5s5wJESRgB13F7eru+TjmqqjkDXYJQszciSXkbhGgthlKQ/XyAlNKOGlvtU6OJYoMufIsOREcH6174zGrkZ/ZzvMIT0ZF++DcYzSuplWk5wYBcnhzrn33nvkQuuv5ZLHju478cm/35GnXPX6SKSVsLbfc8+35d5//1epFDYFuZzpKRDRE7J+dkompn9MLrn0KllaWhruRnl0KgjoqixNVmAtMSXkNFkBabVhZRlTuSFelAgQgVgRQOXExIRffRXrxUJ0fv/998mLX/xLMjU1LW9843/uSog//elXywMP/Ehe+cqXSaVSlpe85CUyNzeniIq7775b3vnOd7JqIgTWPIQIZBUBkhNZjSzviwhkGAGSExkOrkO3BmIihKpGoneE3ZfYmY+kKBIYICZGTYKaA3ctER036MOSNTMzXlyQbOq2Yz/u8cbRP+4JUkK2V060e670J+vGJSeCOON5xK5oPD/mzmg8k3g+tV/FMMlG6NYHfSG6kRNra8uqWqNf5cTiYlmNb3jPifxVTiBmt37u/5Ln/vxo0kiN3X351689XJ7y1OiNSZtNVMPsqjmFCgnsOg2aj8axBrDP+BDAuuURFZ4MlGmujbmYhIRcfHfHnokAERgXAdvIiU984uPy9re/te9tffjDfyMPe9jD5e67vyX//b//33LHHXeod5THPe5x8qpXvUquuuqqcWHh+USACDiMAMkJh4PHoROBvCJAciKvkbfjvm2VcSoUZlWisd/O8FER9BPR+113nI/ar6vnDUPWtMcF+Lnjz9AvPi7MCSTyi0XIOE2q6qFBniuoboAmchytX7IRJIKZbOxXUdOdnCjIwkKhzXNibW1J6db75MSMVKtlMWWdNDlx5symOtbv+0C2t3cUDMViQX3aDbHzR04Ai+985xtybveT8sTLhqK4wy4AACAASURBVKtGQHz/7rM78uSnvUoWFopxTC/2mXEEsIZ5RIVHVgTNtcOuHxmHibdHBHKCADwnZqyqnBgW+KAh9rDn83giQASyhwDJiezFlHdEBDKPAMmJzIfY2hu0U8ZpUmn/a4PfOOSCsOsbSd5Wa38s7wprAzvkwMJUDQSNl+OIy5DDjvRw2+cEEnnz87OqWgV+K5i7g1qc5ETw2kguagkX/Gma44Ig8SSgID/VLgHVjZzQBILpOQFyAkTl+rr2nBhMTmAMOA94kZzoPlu++tV/lNLMl+Xxl1YHTSf17yDFPvsPNbn4J39V1tYeEuocHkQEBiHgS8h5hEX39cNbQ2iuPQhN/jsRcA0BkBPe7xtXG8kJVyPHcROB+BAgOREftuyZCBCBmBAgORETsOy2JwL4/T85aZ+MU1AuCBI7I0rZ940+jISRACU54cGkyYleeCBxD8JIyzjFFZc0H1mbyQnTdBzSZmFlk5IkJ4Kxm5qCBJTeGQ0taS/pAIIBCW4tAQXiIijrFDU5gWuhUgItTOUE5sLyclX5qKAyI+vtrm/dJtvrt8iTLivIYnW+6+0ibv/+wx2581uT8tOXXycrK2tZh4X3lyIC2lzbq6zw1w8MyTfXHs/vJsXb46WJABEIIOBVTpCc4MQgAkQgOwiQnMhOLHknRCA3CJCcyE2orbhRTUrY9g5gJmCRJI9TLgi7NEulQugd6FYELsZB9EvMY7c+zJc9ea144xLjLQ7s2kZyAtUqqPDxTMch47SnfBfCtjTJCXOM2hzX9KvQ/455hYQEEo61Wl0RFz6BUDteB4KVE+gLMk7dZZ3OKpx05YRJTsBXBJ4WpqzTysqiOhZyUGh5Iydwz/B5+OY3/kWa9bvl0Y/Yl2plSqanTsj+wZHcf+pITm1U5aEP/1l5zGN+Us1HNiKQJAKapADhCeKzm7k2pKDwYSMCRMA9BEhOuBczjpgIEIH+CJCc4AwhAkTAOQRITjgXMmcHbKOME2RdkDDEn0jAYmd4P436KMDX5ASSls3mYHmcKK5pcx/dKklMGSckeuFvEHdc0sTIJ6z2pdU6SHMoxwlys1oFz8WwzRZyIjhuzC3ozGtzXFNvHnMM8w0EwfZ2Xfb2vOezFznRaDQFHzTfc2IwOQGZJ8g9ofUiJ5rNluzsZL9ywowPsL/vvh9Io7ElR4d7MjO7ICsrD2GlxLAPH4+PDQHtd6MNtkFW6KbNtbVnBdZANiJABOxHgOSE/THiCIkAERgOAZITw+HFo4kAEbAAAZITFgQh40OwVcbJ1NFHpQTkgpJoSIaWywtqV3ZS10zivka9RrCSBIlhVLIgiYwd7ZC3iUNea9TxxnGeTdU0UVWr2EpOmPHT1Q0Y69HR+Qf15n1pB/x/PKfABHNwff2sOl1XTkRFTmBNOH26vXIij+REHM8W+yQCcSKANUQTFfjTrOwB2aYrKrCOYAMEGxEgAvYhcOLErH2DGmJE9JwYAiweSgRyggDJiZwEmrdJBLKEAMmJLEXTvnuxUcYJZAmS30gkYKcjCIKDg+R2OCKZUaksqKTFKDvS7YvyeCMyE/PoyZdxgoFx+lUE491duLNtICewIxjVEiCHvGoVVBGNnkxziZwwpZfK5aJaHyDxBNIgKOGCY0FUgGA0yYlqtazm7pkzunJiQtbWltUc1p4TWtYpWDlBciLcc8KjiIDtCICcMP1ugubauqoCfw4jk2f7fXN8RMBlBEhOuBw9jp0IEIFuCJCc4LwgAkTAOQRITjgXMicGjF3vpZKX4LMpwYzEQbGIXfmTamzYlX/+/IVEMQU2lUqR5MSDqCMm5XLhWKcfCRuQNohPXlra5IT5XHjVKjCDH++5cIOc6CQQTNNqJBBBYlYqJQGpGTTMxD2C3MQaVyoVFTmB6grIQ+E5701O+JJRkHUiOZGXJ533mTcEIPtkkhXmGqIrs3R1xbhrbt6w5f0SgagQIDkRFZLshwgQAVsQIDlhSyQ4DiJABEIjQHIiNFQ8MCQCngGtfQl4JA7xQXIAeu8wWE6j4frValFJFsFLIe8NiRvsVEeLKjHuGqa+1FfyPiSmvFmUz4Wr5EQ30+rV1UW1bmxubiuyYn7eq7wymzbX3tlpqLUF6yDJCdeeRI6XCMSLgDbXxp+oUjMrs4JkRbwjYe9EgAhoBEhOcC4QASKQNQRITmQtorwfIpADBEhO5CDICd6iNr3GrmFbEvDtcjWejBOS4Gk1khM+8iCLoOePhkqJet0zF85bS8uHBDJOWt4M1RJRPhcukBN4Fk+eHCy9pMkJSDahgdBZXKyotQTSVzrh2J5oPKeSj9gVffZsTZ3nyzqFqZzYExAdbESACGQTAdNcW5MV+k5Nc22sIVGuzdlEk3dFBEZDAM8hDLFdbvSccDl6HDsRiAcBkhPx4MpeiQARiBEBkhMxgpujroOm1/h7tVoSJCjr9fSqAyCXgwSslnFCpYIN0gmLi8Amv8n4IGEEMivPHhxJkxN4HiBvBjknJNfxXEQtb+YSOdGdQNhRFVZoQXICicSlpUrAc6Ikc3OzAiPr6WlvV3Qw0Yi1B8dsb5vkRFXFodMQm+REjr5CeatEQP1O0UQnCFCaa3NSEIH4ESA5ET/GvAIRIALJI0ByInnMeUUiQATGRIDkxJgA8nSB6TU+wZZ2An5+HjJOs4qMQJJRJxptCFna2KSJgUkYYTcoJHBgLpxnciJJk3QkzUHY4YV8f/9Q7f6Po+WBnNjdbR5X+4CMxXqjPSdAOK2uLin/CZELHYlG+FRgzqOaguREHDOQfRIBtxHAGjIzM3PsWdHNXFsbbNNc2+1Yc/TpIUByIj3seWUiQATiQ4DkRHzYsmciQARiQoDkREzA5qRbLeOESolgg6wTXph3dpKV6sEufCT8kAS31Vw5LWzSnpam7wdICRBGlLkCuTcplUr8BA0ktBADEHbAH+REXM19csKvbuhVOdGPnNCSUboqA+sRzLY1YWoa4yIeIIlwLNas5eWq+jtlneKaneyXCLiHANaQ2dmZDhk53AkqMQ8ODtSajnXEhgpR9xDmiPOIAMmJPEad90wEso8AyYnsx5h3SAQyhwDJicyFNJEbCso4dbuol4C/IDs7u4mMCRfBrnCYK4OgsNlcOQ1sEgtClwu1yzidF/gbIJmCRnIC5ES8BvLAGDJOU1NTKvkNGSdvR398LUvkxMrKoiKQzpzZVIBpWafd3ZbU69765ldObCmprCA5gWMKhXlVJVSr1dX8R6IRRKp+DvCnNtZGghF9U2s+vjnKnomAywjg944mKzrNtc+Jrs7CWsJGBIhAdwQmJiZlcnLaaXjoOeF0+Dh4IhALAiQnYoGVnRIBIhAnAiQn4kQ3m31DwgnkRLdqCfOOsRMcrVZLhpxo3xWOHYSeXryNrVIpKqmXpLBJE4NBvh/anwRJWCTN89h8cuJIkPCOsgVltEAMJbGr1g1yQuTkyZU202pNILT7QiwKJFa0L8To5MSclMtFRU6gcgUNVRJILG5t7Sj5FiQbe2vNH8ROKkU599gXESACySDgmWtPKRmobuba+H7VZAUJz2RiwqvYjwB+C01OniA5YX+oOEIiQASGRIDkxJCA8XAiQATSR4DkRPoxcGkE/WScgveBHcJIum5vN2K9RexohoY+krDYDY7kbty7wse9IY+4mZBaLV5sxh3nuOebMk6QcNIJ2WC/efbgABZxVY8g0Q3vFfSvZbTGjWnY81E9AILC9nbRRUFyopNAQOXEIHKiUikJCNL19X6VE73JiVOnNhRUqG5ZWakqeZYLF86rRGNQa96TbvEkXJIgmmyPIcdHBIhAOwL47eWZa3ueFZ2E55FaQ1BVoasYiSERyBsCJCfyFnHeLxHIDwIkJ/ITa94pEcgMAiQnMhPKWG8Eu9s1MRH2QuVyQSXV4iQnsFMQMk5IvuIlGzrtFy6EHWF6xyVF3KR1h+0yTtDTb8nhoSfj1K2RnJgQSH1FWT0Cwg7JKUirDcI/jnniEjlxeHgom5s1BQPWk2B1wzDkxMbGlkr2Yc3srMoIQ06cEFyv1do7Ji9BWCDB6CUbp9V6h4bECq5F+ZY4ZjD7JALZQcAz1/bJinbC8/wxUYHfUbZv7shOVHgnaSNAciLtCPD6RIAIxIUAyYm4kGW/RIAIxIYAyYnYoM1Mx8NUS5g3XSoVVDXD1lY9FiyQRETCLglz36hvIAniJuoxh+0PSZBicV4RU0icopIFCfJ+DeQEktlJm6eHvae4j4tS2gq4A3/EISz+cdyfW+TEkWxubisYupMTVbXzuJ+sk66ciIOcMOODuTI97ck/dZNvQXJRV1ZwR3QcM5t9EgH3EcBvM11VgfUElRa6aXNtvZawOsv9ePMOuiPgkRNT6uNyo+eEy9Hj2IlAPAiQnIgHV/ZKBIhAjAiQnIgR3Ax0DWJikLdEr9tEghRa6tBuj7KaAUlXmMjiT1dknIIYxU3cpDX1QBZB2gY7u/vJOAXHlzeD8G7xiaJ6xKwkQoIalURptSyTE1jX4BVhGmLDR2Z+fk40OQHcw0hGac8JX9aps3KiXww9+RZPugVkhSnfgvVRS7dgPsAMnY0IEAEiEESgl7k2jkNFn5aRQ5VZlL/nGAkikCYCHjkBcu5EmsMY+9okJ8aGkB0QgcwhQHIicyHlDRGB7CNAciL7MR7lDkeRcQpexycnGpHpopvJ77STr6Pgqs/JGjmB+YId50iO4mUPpsvDmG6SnBAZl5wwDeGbzX0lc5Zmc5+caChpJTQQCNhprCsnNDkBuaydnV11zHDkRHvf6G9UciIYY5ATHlHhVVa074iGKS78KrwPd0Sn+YTw2kTATgQGVWfRXNvOuHFUwyNAcmJ4zHgGESACbiBAcsKNOHGURIAIGAiQnOB06Exuef9n1IoJ3Z/WvIfp8yBZn0FRCCa/sSP84MB+s91e9xUHcTMIw7j+3axkGVVGCIldkQtSq3mJ3jy2UckJVKlgPtlmCO8qOYHqB8xHrFsmOWESCMOQE939LOIjJ4LPTq8d0UjKMMmYx5WG90wEhkMA3zEm4YnvGt3w2w5rHKXkhsOUR9uDAConJiYm7RnQCCNh5cQIoPEUIpBxBEhOZDzAvD0ikEUESE5kMaqj3RMIgMnJ8UkJfXXtCYGdxeMYLGIncLE4N5SHwWgIJHdWVsiJ9kqWA8GO/VFapbKgTiM5cU7q9WZoCJEkAgkInwkkmiEzZIvkhivkxMmTy8qbQ3tORE9OdPOzSI6cMCcTkoyoptCJxvYkIySgvIoKGGyPs2aHnsA8kAgQAecQMM21PSk5P7EL6ThNVNBc27nQ5nDAkHWaITmRw8jzlolA1hEgOZH1CPP+iEAGESA5kcGgjnBLmpQYt1rCvHShMKtMW8chJ+bmZgSfYT0MRoAg0VOirCpJdODGxfQ9jCLjFBwzyAnEeHu7kdbtpH5dT9rqfGhTcPPZaLX2lceHTc0lcgJj3djwDLE1ObGz0zj27Aj6QviVE3uC49B8WadtOTryqrrgOQHSaBjiA4TBysqiqtpA9UaczUwygrAAyaUbMNFJRvxJCag4I8G+iYC7CHjm2lpKDubC/jrimWuD9DxQf45bResuShy5nQiQnLAzLhwVESAC4yJAcmJcBHk+ESACiSNAciJxyK27IEyv0aIkJrwk36wiFrATHC+owzQkqpH8RhIQL7OQcRrGw2CYa6VxrE9O7DpnUttuSH5OGo29se+hXF5Q2vgkJy4cexj0mpeexNm8wPwazwaqJYZ9vpKY8+6SE7NSqZQU6aANxcOQE+VyUfmugOQYRE60912R6enpyDwnxont1NTUsbE2ko1Yh3UzJaDS9jMZ5x55LhEgAvEigN9tXoXWjPoNF1xHfLLiiKRnvKFg7wMRADkx2zZHB55i4QGUdbIwKBwSEUgZAZITKQeAlycCRGB4BEhODI9ZVs6IwvS6Hxbz86h6mJVGoymHh+HJCVOqZlQPA9tjFJXkVdL3iYQDKmKQbIjSkLxcLqjdliQn+pMTUfh7JDVn3CInzsvGxpaCBqTqOOQEqiQ0kdqrciIcObEvtVo9qXB1XGeQKa4n/+TtiLaRHEsNOF6YCBCBYwT0OqLJCvy+02SF9r3RUnJZ2oDCKeAOAp6sk0/EuzNyf6QkJ1yMGsdMBOJFgOREvPiydyJABGJAgOREDKA60GVc1RLmraNqAom+RqMVuupBExp4aYVMjW1SNVGF1pe8agqSuC40TaggNlEbkpdKBWXovLWVXjI27RhA1gnY9vLdQKUEYuARQ6P7eyR1n9kiJ4LVDVOyslJVz4GWddKVE/3JiU7iY2mponYZnzq1oULjyzqlS04E5wkqm2ZmZo4rK+AFpBv8KbRsCwgLyJOxEQEiQASCCPTzvcH3H0lPzpmkESA5kTTivB4RIAJJIEByIgmUeQ0iQAQiRYDkRKRwOtEZckpJbBKChjmSqZCdOTjwNNh7NSS+FhbmVWIOia3d3b1M78YdR/Iq6UmGigYYkiMZiYRzFDJOwXsgOQHPgt6m4JrMioMYims+uUJOrK0tqzWns3JiV5rNloKnN4Hg+0KMS06cPr2hzMxtJSeC8wTrgTbWBrmCNVw3yFp5VRXeh34VcT1l7JcIuI0Afl9464jnWRE01zbJCpCgbEQgagRITkSNKPsjAkTABgRITtgQBY6BCBCBoRAgOTEUXE4fHLeMUxAcn5zYUwmqXg2axCAxkNxCWT+Iiawns3SFyCh+HElOwvbd+ofHGvxRj6FUAjE1levKiW7khEnaITEDos+VBI075MSSWm/W1z1ZJ0jRVavwnBiWnFhQXiCjVk5ocgJJ/9VVGGLbVTkx6JnHOg6NeSQZTZ15Ld2Cah98D1C6ZRCS/HcikF8EfNLTIyxMc218p/ik5wHNtfM7TSK98xMnZiPtL43OKOuUBuq8JhGwGwGSE3bHh6MjAkSgCwIkJ/IxLZKQcQoiicQ2qiEgfYIXym5NVxAggdVqHSi5mjy0USSvksalXcZpvy/BNO7YisV5ldCE50TWialeWHnkxITUag11iOe9Mq9IO1QeYRc/dta70lwnJ+r1XUUGoenKic7qBrNyopOcOHlyWVWAgbBA6+Zn4fe9qea+q+SEOS/7SbegSkVXVGC9d4Vsc+W54ziJQJYQ0ObaXmXFdA9zbVZoZSnmSd8LyYmkEef1iAARSAIBkhNJoMxrEAEiECkCJCcihdO6zlAtMTmZjIxT8ObxUomkM3YAB70jsBtuYWFOJWBd2xEeRZBtJieQDEfcPBmnZHbrk5wQKZcXFBEBggbzAx80V71XsklOeASCL700mJwADhsbw5MTe3v7sr2dDQ8WSLVo2RZU1HXfDQ1ymhJQUXy/sA8ikFUENEmBdQTVlt3MtTX5mVUMeF/RIkByIlo82RsRIAJ2IEBywo44cBREgAgMgQDJiSHAcuxQTUok4S/RDZrp6RNSLBY6yAlTKggvkaiscGlHeBTTYBg/jiiuF7YPEEogjfDCj9hAYiuJhgoBzAtUDZw/71B5QITgaHICO+0RB9e9V0BsHR31lnOLELqxulpbC8o6zUi1WpbulRNBcsKXXiqVFlSliynrhMqJ7uREp2TU6dPtlRNZIieCAUJS0deZ79wNrSWg+skBjhV0nkwEiIDzCOgKLRAWmqzQN6XNtbVnBXxw2IhANwRITnBeEAEikEUESE5kMaq8JyKQcQRITmQzwGnIOHUmoE4IjI6x8xvVE2imVBD+Xy+5p2xGxb8rTU70k7xKGgPTdDnp2IAQQYKhVttVSfk8tnK5oHaUI+ECgqLRgIyTu0SNW+SEyPr6WTXtULEyDjlx9mztWAKN5ES4J1knF2GIC2IumGD0dOYP1HPBRgSIABHohgC+P/21ZFpVf+rWLid3qEhjNiKA31swxHa90XPC9Qhy/EQgegRITkSPKXskAkQgZgRITsQMcMLdpynjFLxVSHlgNzh2wSK5hF3F+H9JSQUlDP1QlwvjxzFUh2McbIPpsiYnYEKcRw16JFRADuFF2STzxghr6qe6Qk6sri4prIYhJ7r5QujKiU5y4rxsbAw22/YrJyYFY8py5US/yYn1CCSFrqwwE4yYUyAp9G7ovBKZqT/cHAARcACBQebaeh3Bn1xLHAhoDEMkOREDqOySCBABKxAgOWFFGDgIIkAEhkGA5MQwaNl9bNoyTr3IicPDczI15e0IB0mBaoG8t35+HEli0y7jlJ7psq6oySM5YVYT4RnZ2sqGz4BL5ARI3TNnvMqJ2dkZWVxsl3XC3/H/+0kvDUNO9JOMAoGbZ3Ki83vkxINExYzaFQ3yQjdItXhVFTTETfJ7g9ciAi4i0E9OjmuJixEdf8wkJ8bHkD0QASJgJwIkJ+yMC0dFBIhAHwRITmRjetgg49SZVJqQcrmo/jfkaUBKHBxQ9xd42EBOzM/PKgkbxCZpGafgXNGSUnkiJ4IVK9poOSvkBHaiHh7a7zkBIqAbOdFoNAUfNJIT9nxPYu0EUQSiAv8dNMTVfhWHh/yusSdqHAkRsA8Bba7dbS0JkhX2jZ4jigIBkhNRoMg+iAARsBEBkhM2RoVjIgJEoC8CJCfcniBIqhmyutbcDMrpi8U5paGPpCuSznk1Ou4WlKkp7cexL63WQaJxM5PiSCA3Gnup6y9roqReb+ZCVx5m8YXCvNoFro3H4c+CeUFyItHHQVZXF1WCO1g50Y2cOHNmU61j3aobulVOrK0tK7mQoKwTKyeiibE2xPUkoGbU86Nbu8b8QS7l4qJBmb0QgewjYJpra7JC37Vpro3vaxKf2ZkPExOTMjk57fwN0XPC+RDyBohA5AiQnIgcUnZIBIhA3AiQnIgb4fj6t7FaAneL3fj46B2teJGDuS+bj4BPTvhm4UngYybFEZfd3T0rTJfzRE7g2cD9ehUr8GPxyKlicV7tBN/erovDPthtyWE3KifSJSc6qzIo6zTqWgjSyNsN7XlWgBzXDQa42lgbf7psNj8qPjyPCBCBcAhoc21tsE1z7XC4uXQUvgMmJ0+QnHApaBwrESACoREgOREaKh5IBIiALQiQnLAlEuHHYZPptTlqkBEwNkaCFbuLIeOEhOvR0TnBjng2HwG86JbLBZWYbjb3E4HGlHGC6TI+trT5eRBas0pGBx4lWWztz8d5RQzh2dDNJycamUicXrgA82IXZJ2GISfOqkqI7pUTBVlYKIhpiL22tqRiub6uDbFnpFod5GdBciKq57+fxjzIWS0B5cI8jQoT9kMEiMDwCHjEp0d6et437cSn9r0B8Ulz7eHxTeMMkhNpoM5rEgEikBQCJCeSQprXIQJEIDIESE5EBmUiHeF9yHgnSuSaYS6CSgAQE3hhQ8J1d7elCIrFxZKSDNrZITlh4ogX3XJ5IRGDcCTFkfhGjPDSHEyKh4lv3MfoagJU2GRRMgHxRgz084H7DO7cJjkR9yzr3v/KyqKKCySb0JB8WlysKKIs6DkB6ae4yIl+klHpIJO9q+pd0EgygkTXTcu26MoKkzTMHgq8IyJABMZFAL+nTLJCVwqjX6wfBweoijxUBD2rtMZFO57zPXJiSn1cb5R1cj2CHD8RiB4BkhPRY8oeiQARiBkBkhMxAxxh97bKOOld7/ihH9yRX60WFUkBzwk2HwEkQyuVhWO/gbiwMUkjm2ScgvebZXICyW5UrSB5gecD5uPd2sLCvMzMTEmt1siEP4srlRMgJ0AenT7tkRNIYC8ttZMTqHbAHO0kJw5ke3tHnVcsFtRna6umklJow1ROdJITft9xrQ957hd+L2Zy0ZRtOXfOq/rRCUbuhM7zTOG9E4HBCIDsnJ2dUd8f+G9NVuB3McgKVmkNxjDpI0hOJI04r0cEiECSCJCcSBJtXosIEIFIECA5EQmMsXZiq4xT0Fi52478SqUoIhekViM5YU4SYAdstBlyHBNIe3+gb9tknIL3iwR+oTCnKm4ODo7igCOVPnFPuDe8BOP56FcVgsojJDZITiQbql7kxO5u81iOLkhOgFwE8YDnKmpyolvfySKSz6uBnNDG2p5sy8QxEEdHkIDydkFzJ3Q+5wfvmgiERcAz155S5Gc3c21TUi6LlaJhcUr7OI+cwFp/Iu2hjH19Vk6MDSE7IAKZQ4DkROZCyhsiAtlHgOSE3TGGhBPICXxsatgZhsQrEjj9duSjOgAvatvbDZuGn/pYgAmqSuIwCx/kbZD6zXcZgE9O7DnhUzAIQzwXkGlCwhOyZo3G3kAdap+c2B147KDr2/DvrldOtJMTJeWJsr5+VrCrXhMI2A27tRWsnNg5NjkPVk5gZy0MsOv1XUXEoWlDbF05QXLChtkravdzr53QTC7aESOOggi4gIBXpQWvCs+zotNc+0hVaYH4pKRcchElOZEc1rwSESACySNAciJ5zHlFIkAExkSA5MSYAMZ4ur0yTrNK4qSbjFMQDvgq4MWM5EQ7MnGRE67IOAXnCV7ckZyHibqWxInx0Yq1ayQ1cS+I8TCVMSQnYg1Lz85XVqoqWRSUdQJ5ABIBrVqNlpzo52fRjfhIBxleVSPg7YSePq6swDqrGySfTDNckJFsRIAIEIFeCHjm2j5Z0W6u7UvKYV0BGc4WHwKonJiY8M3N47tSvD2zciJefNk7EXARAZITLkaNYyYCOUeA5IR9EwBVEpqYsGl0eIFCAhWJGbwwIXk36MWpVCqo47e26jbdihVjgVk4dsnV69GYhWsZJyTS4GsAyRlXWlbICXhLaOIOMRiGaNESUPBnGfRcuRBXdyon4iYnRFVcoOnKCZITLszg3mPsn1yEvrzvV0EzXLdjzdETgbgRMM21p6eDknIw1+Z6Ek8MIOs0Q3IiHnDZKxEgAikjQHIi5QDw8kSACAyPAMmJ4TGL8wxbqyWgn4vkqd4Njh3uFy4MRoLkRG+MoiIn2mWc4G3Qck4aAPMLhtDNJhL67pAqOrpRSGllj5y4oKQqbG/L/gIIcgAAIABJREFUy1Ul4XPq1IYaqjbE7l85MSFra8tqrvaTdVpdXVJ9kpywfRaMN76pKUhAYSe099FmuOjVlIBCkpGNCBABItAPAXwfeZVaM23m2no9wTqC757Dw8NQv8OJdi8EQE7Mtq3XrmLFyglXI8dxE4H4ECA5ER+27JkIEIGYECA5EROwI3QLYsI2bwnchmnqO+xucOju40ULsk7cQdo+KeA5AUmQnZ3RKydMGSdUYTQaLSdxxhzBXHGt4gMRhSRQsQj/lcm+/iuDloRCYVYlI7JTOeEmOYG5CMKiOzmxpTxEIFVHcmLQjM7vv5sSUJhPuuE70JeAOnCORM5vRHnnRCAdBPBOgGoKj/z0yApzPQH56ZMVR+kM0tmrkpxwNnQcOBEgAgMRIDkxECIeQASIgG0IkJxIPyK2yjhBugK72fFnWBmnIJo4H7via7WGnD8fotQi/XAkNgKPnLigktGjNCSy5+dRkj6hJJyQ2He1uUpOIGEAKacoYqAloSDzlQVTTC8R617lRDdyolIpqTivrw9PTmB9P3OGsk6urk3jjtszw/WMcEFamGa4+F41JVtAVrMRASJABHohgN8afpXWjJJN1Q2/J1FNoWXlsvA7Iu6Z4Mk6TcR9mdj7Z+VE7BDzAkTAOQRITjgXMg6YCBABkhPpzgFbZZzMpCtedCDjNErLmsnvKBj0OqdSKYrIBanVhiMn8B5VKHikD15GERvsnnO54QUbEmB7e/vSatmf0AbWem4jCb+7O34MskZOeIkS+2MZlHXS5ESz2TomDoPkBJIZJ0+2yzqBiC2VFpTMk5Ymg6zTIHKiWi0rnxIQGEhOd6vKcPnZ5tjbEQA5oXdBg6xAvHU7Ojp6MLEIjXlItpDQ5/whAkSgNwK+/41XWYG/+2TF+WOiguba3TEkOcGniwgQgawiQHIiq5HlfRGBDCNAciKd4CJhNTlpn4yTl/ieUzs8kRhB4vvgYPTEd9Z09KOcLZXKgohMqKqSsM2sZsGuOEjPZKEixScn7K8AgXwTZJyQZITED6S0oogByYmwT0G0xw1DTmxsbKmqFk1OIOFz9mxNDUiTE9vbO8dm9Kuri+rYfpUTmpyALwV20pOciDa+tvcGMgxVcPjOxX/rXbz4/jX9KlwnoG2PA8dHBLKAgGeu7REV2MCC3ys++emba+O7K4rfLa5jduLErOu3oMbPyolMhJE3QQQiRYDkRKRwsjMiQASSQIDkRBIot19DkxK2VRKb2vlRJb6zlnCNcraUywsqEQk/jjAtSgmhMNdL8hhXyAkkD1ExoY3hUTERVYNE19zcrGRF1smdyomK0vTWhth+5cSe7Ox4zyaqnObn52R8cmJaFhcr0mg01QeN5ERUT5D7/WBdMf0q2iVbtASUJ9sCYpSNCBABItAPgTDm2pBfxCakPFZqkZzg80MEiEBWESA5kdXI8r6IQIYRIDmRbHBtlXGCrAg+UWjnm4iSnOg9v8rlgtp9v7VV7zsJg9UsUUgIJTvrB18NFSEgayCH02za6Z2h5zJe4Ic1hh+MgKjnD9dAJUYWdkm7Qk4sLVVUQjg9cqKkSClWToR5SvJ1jC/Z4nlWmLugQU5obXn8mcfEYr5mA++WCIyHgDbX9ghQz68iWKmVN3NtkhPjzSmeTQSIgL0IkJywNzYcGREgAj0QIDmRzNSw1fQaLybYCY7dVXH4F2Qt4RrlbIHHAl4O+5ETWZVxCuLokxOj+5tEGRuzLzwjkHGamsIzcl6RB5Dfibpl7VlxjZw4fXpDIPGPOK+sVJWk3WiVE3XlnYIWlHVCUghkSHvlBMmJqJ+lrPaH7wstAYW5ZBq5mhJQSDCyEQEiQAT6IdCvUgtkp0dUwP/mQMkZZrGRnMhiVHlPRIAIAAGSE5wHRIAIOIcAyYn4Q2ZrtQQSHSAmsBszKhmnIJpIpBQKs8obYRzvivijlPwVBpET7abk9lYURIEc5iA8OPAyHKVU0rhjM58RJP8wtrh2KJOcGDdao52vKydOn95UsUXMV1YWYyUndnebSr4LrVptJye6mW2Pdmc8K+sImBJQ2GCgm04s6l3QWU0sZj2+vD8ikCQC+B2G353asyJorm2SFXFs0EjyXvW1SE6kgTqvSQSIQBIIkJxIAmVegwgQgUgRIDkRKZwdnYGYsM1bAoPUiVAkMfb2Do4NXKNGAy86MMVGUpe7OdvRLRbnVcUKPCeCCW+QRlGZkkcd0zj6g/cGdP1tIidMcggyTnhO4mxZI/Lcq5xoJydarb1js/pyuajWMd9zQuTkyRU1XzsNsf3KCZAcSPicObOppo6unCA5EeeTlM++sYbCBFcnFyEZqBsSiZir2AGNndCoAGMjAkSACPRDAGuIT1b0kpXz1hUXzbWxEWByciYTk4CG2JkII2+CCESKAMmJSOFkZ0SACCSBAMmJeFC2VcYJCYyFhXm1OxgJCpAGce6qRDIOiXZIpCApwuYj0I2cMGWcoCneaOzlIpHkkxOoTmilPk1Mcigpjw+fyMtGlVE2yYltOTo6UvPzoovayYlCYV75pmxvhyEnWlKv76p+elVOmMRH6g8EB+AcAn5icUZmZqba/Cowhz25Fu8TVzWYc6BxwESACPREQJtre5UVnbJyej1xZU0hOcHJTgSIQJYRIDmR5ejy3ohARhEgORF9YG2VccKLBXb/IhEct0SNRhVJEZAhSew8jz6S8faoE+C1WkPtOsPLHiSw8MKExBEInbw03HO1WlTzEp4OaTXscgdpBJIoLqmzXveWtSqjLJITm5vbx2blICcODw9lc7OmQqrJiVqtrtY7NFROYC5BMgrNr5zoRk5sCQhJLetEciKtVSCb18X3v/arwH8HjXD39w8UUYE1mI0IEAEiMAgBTVLgtwu8mrqZa2vCYlBfafw7yYk0UOc1iQARSAoBkhNJIc3rEAEiEBkCJCcig1LJN01O2injND8/q6Sc4pZxCqKJJAiSvSQnOueZJid2dnZV0ggveIhPs7mfOwksG8gJEGkg79Iih7JIThwdHSiTaZvb4mJZPX9Bz4lusk4kJ2yOJMcWFoF+RrioqNQJRZDkIMzYiAARIAL9ENBrivbBAVmhW7sHzuFx9WHaiJKcSDsCvD4RIAJxIkByIk502TcRIAKxIEByIhpYNSlhm79EUMYJMkFJJhsgHwXjZ+j1693E0SDufi9IhCMhDT1w7K7Gn5A0yorR4LARWlwsqZfWej35ygmTvEuLHMqaBBoqJ1wiJ+ALgTFrQ2ysV6iCQINcEyojOsmJI/X/0PA8w5uClRPDPvk8Pm0E8P2jTXDxnYQKMt3we8GTgPL8KigBlXa0eH0iYD8CWEM0UYE/TQ8cGwhQrGOTkydkcnLafjBDjJCeEyFA4iFEIGcIkJzIWcB5u0QgCwiQnBg/irbKOJk7wbETEjJBSe9iJjnRe35B7goxQrPJCHr8J2K0Hjxy4pzU683ROhjhLOycQ2UP5mna5JCWQMuSP8vBwX7ia86w00BXTmhyAkmU1dVFRaaOT05UVVKmn6xTpVISkGPr65R1GjZ2PD4eBLAeagmobtryWgIK31tsRIAIEIFBCAwy18Zaon1wQF7E3UhOxI0w+ycCRCBtBEhOpB0BXp8IEIGhESA5MTRkxydMTU0qKacLF+L/IT3sKPWufPwAR5ItLTNq7MjEruO8eSgMihe8JZD8QWNViYdW0uQEEnCQ1sIOv6Q8WPrNi2ySE5B1slvXyScnzirzeU1O7O3tK3NrtNErJ8KTExsbW4qco+fEoNWT/540Av4O6BmBVKNu7XItB2r+shEBIkAEBiEA2SdUaXUz10YFrSYq4jLXJjkxKEL8dyJABFxHgOSE6xHk+IlADhEgOTFa0KemJmRxsSgHB0dKiseWBjIAO/JtkQlC4rdSWWBlwIMTpF1mC2XlE9JoNOXwkEkdGGIjObyzE3/lBPxX8EEi2BY/lCz6s0AKxj1yYlJWV5fEJCdKpQW1roaTdWoI/CrQVlZITtjy3chxRIMAvrNmZmaOJVtMuRZUn3l+FZ4EVBI7oKO5K/ZCBIhAmghokgJ/4reQaa4dJCuiGKdHTkypTxYaZZ2yEEXeAxGIFgGSE9Hiyd6IABFIAAGSE8ODDBkn/HAGOYEd142GHeQEdiFBHiQtQ99uSCKRUanYR+IMH/Xxz8ALF3bqIz5I4CCRg3hh/mAe5b155MQFgUF4XA2VTvAOQJUCrgVi0ZbdviQn4op6/36r1bIiqs6c0ZUTvcmJs2drx2b1F120op7bTs+J3uQEYry8XFXzrl735rmWdWLlRDrx51XHQ8CXawFhgWSf71eRxA7o8UbPs4kAEbANAdNcW5MVeoxmtRZ+R4/629lWcuLOO78qH/zgn8tdd31Lzp8/J495zGPlZS/7dbniiqceh6lW25Y//dMPyBe+8I/SbDblJ37ip+Qtb/k9ufjii20LJcdDBIhAigiQnEgRfF6aCBCB0RAgOREeNyQ2tb8EzkpahqbXSL2E65zayYgf3NCsR0WHDQ0vGUg620TipIGLabisZbYg6wR5JyQqbYlXGtjoa2KeYP7WavGQE2ZVEQgJ4A6CwpaWNXLC06q/cCzPYGsFhSYn1tfPHpvT96qcGJacABGBuJ46taGmmSYnms3WMQkH8nZ+fk58ckLk5MkVRYLgemxEwCUEMMe1X0VwBzR+B3ja8gcjJxVdwoJjJQJEYHwE+lVrjWqu7ZET08oU25b27W/fJb/xG78mD3nIQ+V5z3u+QPrq5pv/Vr7//XvkD//wnXLVVT8nh4eH8pu/+Uq5557vygtfeJ1Uq4ty440fknp9R/7mb/5GHv7wh9tyOxwHESACKSNAciLlAPDyRIAIDI8AyYlwmHUzvU5ShqbXKLFrEbvxkXi1MeGKcdtC4oSLdLRHtcs4nVdVEqiYQEOlC0il3V2QSTQWhfwXWhzkhGkOj8RYs7kfbaAj6G16+oQUiwVrZKbGuSWsSSAndEMiAIlJbaQ76m7HccbU69xqtSRzczCkHo6cOHlyWc6dOycbG9uqaxAMIBp2dhqKIEYjORFHxNinKwiYO6BBWMDnR7dRk4qu3DvHSQSIQDwI4H0H0nLas8Ks1sJ3sict5xls95KWs5GceM1rXiH33vsD+dCHPiqlUkmBt7e3Jy996QsF1l033vgx+bu/u0n+6I/+UP7oj94nT3valeqYjY11ue66F8iznvUsede73hUP6OyVCBAB5xAgOeFcyDhgIkAESE70nwOoSoBKAf4Mtrh3eg+anaZuvs2mynklJ7BrFOQDCApURmC3tOkNjOQtkrhIZKZlWD5ojiX57x45MSG1WiPSy2rzca+qaN9aIgiJu1Kp4LRBOpIExSLI0hOKLIWfit5JHUxMeoaX6WvTB8kJ3MPaGjwnDmR7e0fNRe05YVZOkJyI9DFlZzlAAM+Wl1D0EovBpKK5JthaaZWDMPEWiYBTCOC3hV5TpqexrvgvbPgd8sADD8jXv/4NJZFULpeP7w2VExMTvgxdmje9v78n11xztVx77XPlTW96S9tQ3v/+98pHPvIhuemmT8nb3vZf5Ic/vFc++tGb24553/veLp/61Kfki1/8oszOzqZ5K7w2ESACliBAcsKSQHAYRIAIhEeA5ERvrEBKGPLJHQfGlUwdFD3sRkRSG0k/yNIguW3TTuRuJE7cXgKDMEv639tlnJCAPegYAnbzw2SX5IQHTbm8oF4qt7ejISfMqhVUq0DGSVetJD0fwlzPdXLC9FRBktGTl/MNsfvtdjTlXpKuIgpHThRkYaGgZJb0+Dxy4rySY0KLqnICfcHPgrJOYZ4aHuMyAljztASUJwPnJxXNSquk1wSXMeXYiUDeEQhKy/3+7/++fOQjH1HrC3wZLr/8Z+Snf/oJcumll0mh4FXspt1Q4fHAAz9SUk4nT17UNhwQEp/+9Cfl4x//rLz4xf+bPOEJl8vb3/7utmM+85m/lf/6X/+rkna65JJL0r4dXp8IEAELECA5YUEQOAQiQASGQ4DkRHe8usk4BY+MOpkaJnJ4mQcxgR2Htso4Be8j7QqTMLhGdQxeforFeSVfgZcNSDb1MlzOmsfAuBhG+Tx5z8m8IjuQ5AIxYVatjDvWOM53mZxAFRcIOex21p4qwMgkJ4KY9dOm15IMOD9uw3KfnNhSMk26cgKE4taWrpwIQ07MKnPrcLJOe+o4tKDnBP4fyYk4njD2aTsCICh0ZQXWB91ME1w8l3GvCbbjxPERASIQDgH8Jt/YOC033nijfOUrt8l3vvOd4xNBBMBM+olPvFye9KSfkcc97lJFDtjUNjY25EUver6srKzJBz/4/8mzn32lvOAFL5Q3vvF32ob5ta99UV772tfKBz7wASXvxEYEiAARIDnBOUAEiIBzCJCcaA9ZPxmnYHAhwYKE4tZWPZG46wQgLoYEIGRHXGhpVZgkjU1nQnxPJWt7NZIT7ciUywUlBzTu86TlztA7nhFXnhPcOzCw1ROj2zzGegkSyKvi6iTj+pETZn9IIJhyL8BCN60hjWoMYBO13AsIBRAr6+u9yQl4geDTv3IiWnICxpebmzTETnod5/XsQKCfCS4qljxd+fRl4exAi6MgAkQgDALb21ty551fk9tu+7LcdtttcurUA8enzc8XVEUFyIonPvFn5NGP/vG2aq4w/Ud5zNHRkfz2b79Obr/9Nrn++hvk8sufLM9//nPkuuteJq9+9evaLnX33V+VV77ylfKe97xHnve850U5DPZFBIiAowiQnHA0cBw2EcgzAiQn/Ohrb4lu/hLd5gh2yCMpt71dj3VXdtBUud9ufBvncpQ74m28P4zJ3DkeNiHu8k75OOIwLtk3KFEex5ij7BOyR3hWXCEnPH+JecG4PX8JVKe0k3FhyYkgjiAnQFZoyRct94L+8cKuiYoo5Ow0OQF5JtwH1tu1tWUVB105ocmJra3asT9Mp6zTuOTEtro3NFROkJyI8uliX64joNcEaMtDEtH0q9BrgjbCjZrAdB07jp8IEIFOBCYmppWU0le+8mX1ueOO26RW8zcELC4uybOedY28/vW/lThJgTXthht+T2699RY1hhtu+G/K+Pr5z79WXvKSl8urXvXathv69re/Jq94xSvkve99rzz3uc9luIkAESACQnKCk4AIEAHnECA54YUsjIxTMLg+OdGIfDevvpZpquzJ0/TfjW/jBIxqR7yN99bu/9Ffxik4fpIT7YiMQ04gQY4d/P0S5TbOH3NMPjnh+TXY3Nr9JQ6U0Xi3Nio5Eeyrl9wLqjV0QhJkwiieIsOREzvH/jEgMHB933NCkxO70my21C0sL1cEBp2nTm2ovwO35eWqiq+WdSqXi1IozMnGRpCcOJLNzW2bpwHHRgRSQ6CfLJzpYRMFgZnaTfLCRIAIxIbA5ORMG+mA7/Pvfe87Sv7p9tu/LF/72h0yNzenjKiTlHtqtVrylre8Sb70pS/Ik5/8FHnHO96rfkfs7jaUafYLXvAieeMb/3MbLlrW6c/+7M/k6quvjg0zdkwEiIA7CJCccCdWHCkRIAIPIpB3cgK7rQ0FkaHmBbwfkDSr1XZVkirqZpoqh92NH/UYouhvnKRzFNePqw/T/2MU4si1nfJx4aj7HbUSCc9goTCrXjLxnEDyzMXmCjlhrksgJfqZ1UZFTpjx1HIvurKifQf1uWOpF4wrzA7qoOcD5hGqIrpXTpjkxJLqH3JQaMDF85zoTU4gwbGy0p2cABGhE6le5QTJCRefY445eQTwzOJ7wCMxZ5Tcpm7tBOah8pVhIwJEgAicODHbFwRUL+I7HtVaSbV6vS6/8ztvkG9+8+vytKddKW972zsVMaHbc57zDLn88p+Vt73tj9qGpA2xb7rpJnnc4x6X1HB5HSJABCxGgOSExcHh0IgAEeiOQJ7JiVGqJUwUsdsVCTIko0bZsdtrTgZlnBqNPadfqJOoMEn6+da+BkiKjOr/4UoyOilsR5kn+hnECyR2ox8ceLI4LjYk2eHPgqQ6KqRsa8EqIcg4DVr34iAngrggEanln5CcNCWgkOAHyQBMe+2gjoqcmJubFZhrm+TE0lJFJUx15YQmJ1qtPanVPENsXTlBcsK2Gc/xuIoA1lLTw8YkMEFOQBZO+1WEITBdxYHjJgJEoDcCg8iJpLHb39+TN7zhNYqYuOaaa+XNb/6DjooN/PupUz+Sv/zLm9qG9773vV1uvvlmuf3229vIjKTvgdcjAkTAHgRITtgTC46ECBCBkAjklZwAMRHWW6IXlHoHcb3eVFrlUTRoKSPhigQbEmpIuPbxVI7ikrH3MUrSOfZBjXiBcWScgpe0PRk9IkQjn6bnCZK258/3NhLHBUwCDwny3d3BifKRB5bQibgnJMptJCfaZbOOBIRpmKReEuSEGZ5BO6jNpKSudutFTiAOMMBG8z0neldOaHKiXt9V8xFNkxOnT2+odRxEysrKopCcSOih4mWIgHjPXTcCE+CYBGa/KjACSQSIQLYQsI2ceM973iE33fTXipi4/vq3tvnqaOTx7zju3e/+P+WKK56q/je8KK677gXyzGc+U9797ndnK0i8GyJABEZGgOTEyNDxRCJABNJCIG/kxDgyTsEYzc/PCBJSUZET5i5w7MZHIi0LzZe/Gpx0tvl+TRmnXgbAw4zfT0bDS8RLZua5hZ0n09MnpFCYVwRFVgg8xN3W+WASpsPKZnnSStFL3oV9TkCqQJLB20U93dVEF0a7qITSng9a1onkRFiUeRwRcAuBXh42IFxND5uoNp24hQ5HSwTygYBN5MT9998nL37xL8nU1LTyk5id7ZScevrTr1a/Z379139VfvSj++VXfuVXpVQqyY03flgajbr81V/9lTziEY/IR/B4l0SACAxEgOTEQIh4ABEgArYhkCdyYlwZp2DskNBC9QTkTcYxXTR3JWdlF7iJVVzyV0k+S6aM07AJ2l7jRBK0Wi2quYM5lPcWxsNFP3NIIrVaB8fmxFnAzsb50O4vMbxsVtrkRHBe9DLRxXEYK55t6EzDtNokJ2C2XiotyNZWsHJCZH39rLpM/8qJTVVpwsqJLDypvIcsIaA9bDRhAbJSN1RXdau2ytL9816IQF4RsImc+MQnPi5vf/tb+4biwx/+G3nYwx4uW1tn5Y//+P+QL3zhn9Xmj0su+Um5/vrflYsvvjivoeR9EwEi0AUBkhOcFkSACDiHQB7ICVRLTE6OL+MUDC524yLxjl3vo2rdow8kAJGYxEswZJyy1mBWDEmFnZ2mc94Z7TJO8DUAERWNhBfmJTTqSU54M74fiRWlnJatz5dN5MQo/hLdcLWNnDDHqCWgSqVCh64zjgNRDIkmSFPNz88pcmJ7e0cRGGhrazDENsmJGalWy+qcTlmnfuTEgqoEoueErU8mx5UnBEBOaL8KVI2ZfhVHR/CwgV+F9wkjbZcn7HivRMAVBPD9PzmZnNF13LisrpbivgT7JwJEwDEESE44FjAOlwgQASRW6pmGQZMS4/pLdAMJO+2w2xuEwrASTBgPkrHoIwtmvv0mURzeHElMWlS0wAcByQnIOyDhOMgLYdhxLS6WVN+QBst780msdoP5YBxQZZLFpJAt5ISJN4gzmHOPijeqELS3g63zWxtSg3jwjHQhA9WetICJLpKWjcbucZXT6uqSuiW/coLkhK0x5riIwKgI9Kq2wpqI9REkxf4+Kq6ORr0EzyMCRCBhBEhOJAw4L0cEiEDiCJCcSBxyXpAIEIFxEcgyORFXxYTGHC+tSF7DH0Lvpg0Tj3Zz2XiS3mHGkdQxvvxVM7Kqg7jHbla0RCXj1G3MJCd8VLqRWEnFIe75FKZ/GyppQJaCJMKLexTz3g1yonflApKOICqw1usGghIJSeyqRjtzRss6kZwIM895DBFwFQFdbeVJQM0omTZ/XThv+FUcOlcl6mpMOG4iMAoCJCdGQY3nEAEi4BICJCdcihbHSgSIgEIg6+SEIR8cecRhzFssFoYiJ+LwLoj8xiLuMCpvjoiH1bW7YEULdo3HuSMSnhNIdu7s7CZxe1ZfI0hOmAbxccfBFmDSJKt05Qp2BEeFt9vkxKFsbtbU1MA6jw9ICVRQgGDWDVUVIDHwHOOYcLJO+1KreVWL5TJlnWx5/jgOIjAMAl6l1bQyqcWfpgSUty5A/gneSJSAGgZXHksE4kZgYmJSJien475MYv1T1ikxqHkhIuAMAiQnnAkVB0oEiIBGgOTE6HMBu+agVx5mh3Gnd0G8Se/R7yr6M6Pw5oh+VJ09plHRQnLCj4MmJyDbBEILzxd0//F326WBopqfaZATWJtQAabxhnwZcI+iuUBOwEsChtf9PB+0Ifb2dl329vYVVktLFVVhgqb/xH8jKQmpPxAZ6Bu7rE+fDnpO+OREt+ufPLms5N4wJjYiQATcQADrAioq8MzjY64L2OQAElP7VbhxRxwlEcgeAtiAMTl5guRE9kLLOyICRMBAgOQEpwMRIALOIUByYvSQIZmNXa944Ww293t2hBdWeFPE6V0w+l3Ef+Y43hzxj867Qrsxef94RjmmSmVBdVersXJCV9jgxRFJHSRxsIM/Ty1pcgJVAMWitzZ5/hLw84gOcZfIibNna2rOoV100YrCQ5MDMKzGWq/JCRyzurqo5ik8J7DGwTR7bm62DTw9l3d2GorExvE4D1KAunKiFzkBkmNjg+REdLORPRGBZBHw5J+8ygpTGg7rgiYp8PsRRCQbESACySBAciIZnHkVIkAE0kWA5ES6+PPqRIAIjIBAlskJwDHlS4WPgE7/U5DQQ3K5XxLVlHEa1psi8gGn1CG02bHzeBTj8CSGDOJIG5NHJWcTdtyYP0hYbm83wp6S2eOwex8JHLw44lkZ1mQ+C8CAnEBSemcnfoN0k5CLa23KGjkBQgFYmeSE9pzAjunFxbIieI6Ojo6Ntc3d00hCgqzGd8bWVk0RQZqcMMkRVE5OQd/wAAAgAElEQVSQnMjCE817IAIeApOTE4qk0IQFiGHdUBloSkDlpVKQc4MIpIEAyYk0UOc1iQARSBoBkhNJI87rEQEiMDYCJCdGhxAvm5VKUQ4OvB3HZsO/ISGPRBReNJH0zuvuuFGNw0ePTLgzTRknJAIbjb3E5YOwGxtzJc/khCl5hsjFlSgPNyvSPcqT+TofOzmRlJ9HdsiJOSmXi6raYRA50Wg0BR80kBUgLXZ3mzI9Pa3IN01W6N3T2mSX5ES6zx6vTgSSRADkhFdV4X1MvwqQmx5Z4X2wVrARASIQDQIeOTGlPllp9JzISiR5H0QgOgRITkSHJXsiAkQgIQRITowONJJKSCZC/gO6+LohAYXkH5LOnlTKXq5fLrVxOLTaW62D0QGP8EwkA2AAjBgiCYCqjjRauVxQBrtbW545bt6aKSsEnwMQRiD6QPjlscXtQRL0l4jbzyP75MSknDmzqaaqrpzoRk7gGBhmT01NycpKVRHVsKvo3D3tmeeC9GblRB5XAN5zXhHA70btVxEkMfE7EiQFJKDw32xEgAiMjgDJidGx45lEgAi4gwDJCXdixZESASLwIAIkJ8abCkGNeG3qix+/0BjHJ+9tGOPwJLAyd417xrXpvezDUB345JGcMGWF8JygYgCxAZmntf+TmA82XSNOcsL0vsGcbzaj9ZfohqMb5ERBFhYKEqxcMA2pMS+DlRMrK4tqt/Mw5ATIt9XVJWWqDf8KkBOonkJSUvtTaBzxd4+o83ZPsxEBIpAPBHQ1lScBNaN+I+iG70nfr+JQkZhsRIAIhEfAIydQreQ/V+HPtvNIVk7YGReOigikiQDJiTTR57WJABEYCQGSEyPBdnySlmHBDmRTxgkSQXxp9GAKaxw+XiQGn41EIsx/kRBMS8YpOErts4BEZZ6UG7r5fLhgnD54lo13BHbMi1yI3CA9CX+JbnfuAjlRLBYEn36ySr3ICaxtp0/ryolpWVysKEmnoKwTfCmQVAySE8DM9JzA373nYP5Y/gn/D1UXXkLSq6zgd8t4zxnPJgIuIYDfLtpYG3+aElBYC0y/CkpAuRRZjjUNBEhOpIE6r0kEiEDSCJCcSBpxXo8IEIGxEcg6OQHPQchnxNVATugdr9jthgQSduPnKdE8CFufnEhPPgmm3Egwpi3j1JucaORC+quTIGqpxKuXlLXbOH3QPI/i32GQjlar7UbRneqjnQhqyeFhcjttXSInYFCtTdiDhtQ+OdGQVsuTgEPlRNTkhK6Q8K5/XpEcOimJa+mmE5KQeaEmfWSPCjsiAk4ggEoKLQEFMlP72GDwkH3S6wIrrpwIJweZAgKonJiY8L9TUxhCpJdk5USkcLIzIpAJBEhOZCKMvAkikC8ESE6MF2+QE3gxBEEBo1Sd3Bqv12yd7RuHHyrJnqRbu4zTvlUSKdghjaR8rdY4TtInjU9S14OONhLlmsQLzgVbjdOTwgfX8ciJCTUfxm147nQ1l1cp5BNB4/Yd9nwYu9q+y19XTmxt7aikHpomBzY2ttTf5+fnlA8E4tKLnECScGmposyv6/V2Q+ywlRNBckJfH2PolZDEdw816cPOSB5HBLKHgCf/BGPtGcH3qG5YG3wJqAPldcNGBIgAZJ1mSE5wIhABIpBpBEhOZDq8vDkikE0ESE6MFlfsYkXiD3/iBRDJKOx0ZetEoJdxeNxYte/SP6/0222Lkd7Vjp3ykH3JajO9WHqReCQnRPkPgFTY3h6PnPD8JeZVX0hOpUEKYi5njZzY2Wmoyjg0GFtDIk7LOnUjJ6rVsszNzUgU5IS5NqAacHra06NHUhJG27ppTXoQLSDLs7yuZHW95H0RgVERwJoPkkITFlijzLXBlIDi2jAqyjzPbQRATsy2VRy5fT8irJxwPYIcPxGIHgGSE9Fjyh6JABGIGQGSE8MDbOq34+UOSfA8GhqHRQ6JtGq1pHb3Yvd2Em3QLv0kxhDmGrqqY2dn1zriJMz4Bx0DYgoEDOKBZwXx70UQTU+fUNr/IC/yaiQfBTmBZDg+aMAxTSxdJSfW1pbVfPUrJ2alUilJOHKiJfW6J8ulyYn19bNq3vueEweyvb2jjimVOg25g9cf9JxpTXot9WJq0iMGOiHpSUAN6o3/TgSIQFYQADnhVVV4n+5rA/xssDZwcchK3Hkf/RHwKidi1PxNOAAkJxIGnJcjAg4gQHLCgSBxiESACLQjQHIi/IzA71gkk/GCh5c47KDFfyPxmjdD4/CoeUcuLpaUpICWOxn2/GGOLxRm1Y5iF6S29FizSE54u/fnVDIExBR27/dLfuB4JGqRTAdBkcdWLhcUXqNWTuhKHPh4oFIobRkPd8mJJTVX19e1rNOo5ERJ5uZmRZMTiO3a2pKa41GSE8FnBd9J3s5pT+ZFJ2Eo85LHVYX3TAR8BLAeaBIzuDZQHo4zJS8IkJzIS6R5n0QgvwiQnMhv7HnnRMBZBEhOhAudKeOEhB8SrdhZWyzOP0hO5MPQOBxanUfBmwN47ex4WuxxtHaNfTtlnIL3reWOQNqknUiOMiZmddHe3r60Wp6Wf79GcgKyTgUlFTRsJRbmPtYinOutT8n7S3SLrQvkBOSvSqUFMT0nQCAMIieWl6tq7T91akPdui/rZFZODCYntOfF2bO1Yz8cVE5cuHD+mBwZ9Oz0+3cQE1riBUlJU+YF1RwHB578E/7U5vTjXI/nEgEi4AYCem3Q60M3eThUVGB9sN07yA3EOUpbECA5YUskOA4iQATiQoDkRFzIsl8iQARiQyDr5MTkpAg+4zQtk4IXueCu7rx4BoyDH871yIkLggqBOFq7jNORNJstJ+RLskhO6GcCyV2QeNiNGaYhaYrkPLTym818Vk6gcgQkzTDkBOSwkGDvZTQeBvu4jnGJnEAlg5bAipucwBwHGYLmG3LXVBIQLXj9KOMDot3bOe3p0oPY0g3PKsamTXSjvC77IgJEwG4EtDwc1gZsMDAloEBOmPJwJDLtjiVH1x+BEydmMwURZZ0yFU7eDBGIBAGSE5HAyE6IABFIEgGSE73RbtfL92ScgonWrHsGRDUXK5UF1RWMn6NuYcyWo75mVP2B+ML44cUQNokf1bWj7sczIPdM4kfZvY/z4LlAciI8OaHnj60SZiQnuldOpElOBJ97rUWvJaD0v2sJKG2szZ3TUa+Y7I8I2I0AiHItAYV1wtTo9ySgdNWVR6qyEQFXECA54UqkOE4iQARGRYDkxKjI8TwiQARSQ4DkRHfoTb38fonWLO58j2MyRmH0GxyXKeM0yGw5jnuKos+skBNm5Qp2V4LIG7b55MRo5w97PRuPD1s54fnfzMvMjGc0jgoVG2XB3CIn6gIJMjSvckGUVwQafCOqVRhi76qqLLRxZJ26kxM7ipjzr+97XiQ1V7Gm6l3T+PP/Z+9NoCzJyqrRL8fK6d6bWZVZVdDQD5CxoZl6YBBocABs5bdVHg1II4MgMtj6xF+f/v4IumiWsh4/zqKMziAI2ihCY9tMdjeDzSxDNzQKVFVmVWbem3lvVmZW5Vv7nD4ZcSPvEMOJiBMR+6yVq4aMOHFin3Pi3vj29+2NPWmayZw2lRU0z81qVngdIuAGAkb+Cc8GfOabRi8bN+aHowiPAMmJ8FjxSCJABIqJAMmJYs4bR00EKo0AyYmD098t4zRYL396elIFrjY22rKzc67Sa2nQzSc1+g32DSkbBGcRTAtjtuzqxEA6AdU38AjY3g4nf+TavfgrVyDHBEmYOA2VF6iwwfkItlexeR42rb6yZMEKFVTduBooLio5sbR0WC2/IDnRam2qvYoWJCcQrMP/4fc4Dg2EhjbEXlWa7cYQ21VyIrjnQNJ7ZIWXOY31RvPcKj6heM9EQCOgicyJ/eeD38sGhLmRgMKf+DcbEXAJAZITLs0Gx0IEiEAaCJCcSANV9kkEiECqCJCc8OANZuKHyUYuS+Z7qotMRMJmhIcZhz8YDo14oxMf5lzXjvHIia3YQf287gkSDwimI4Bpo3IF+6/RmCM5MTEua2sbPQkHGxUqWa6XIpATIDlR2bW25lVOJCEnUFlhvHUOkhMjArPropATwbWiM6e1Hn0v81wTkITRNhsRIALVQQDkBJ4LRibO71eBzwH9bNA/rpLp1Zkt3inJCa4BIkAEyo4AyYmyzzDvjwiUEIGykxOQPxkbGz5xCPohgz1qJn6Rg8vDUbF3RK2GIDaCrv0zwoddLRgMD0MeDesz79/jRR4G0pBBMma4eY8pzPX9sme2KlcwvzBOR3+oBqhi8yonDpITrvtL9JqvIpET6+st6XS0rBPICXx2nDrVLevUXTnRkImJCTlxYkWdYyon/OREo1FTnjJe5USxyQn/HA8yz4XEmGesvd23CqiKe5z3TASqgACeh8avAn83fhWsuqrC7Lt9j1iLo6OTbg8y4uhoiB0RMB5OBCqAAMmJCkwyb5EIlA0BkhOigkcI/OGlKWomflGDy1mv40FB1zBjSSMYHua6aR8Dz4DZ2WmBHJLRm0/7mkn798ueIZhrq3KF5ISoShQEcvyVEwiSY43g/3WFypaSCCpCKwY5MSX1+px0kxMLKpjmkROTMj9fV3JNRtbp8OGGyhKuKjkRXH9Yn6ayIhiMNBnTeMa56I1ShL3EMRKBoiKAZ6mpqOhXdYVnBBI0ivLZVtS54LhFfbaTnOBKIAJEoOwIkJwo+wzz/ohACRGoMjlx0FA5etAPQRgEFG0GaUu4zFR1AF5O19c35Pz5vUi36M8Yj0oeRbpQDgcXaf1oE2Y9j5hDBGltBhrRP2Rwqlw5ARIChJXZJzAkxv/hT2Dtsr9Er+1TBXLi5MkVVRngVU5sSbO5oeAwlRMrK6tq/hAUOXasuLJOYR+RJhipZV4mlfSbaZB82t7e3tekj/p5EHYMPI4IEAE3ERhUdQVywsjDgbDg88HNOSzyqEhOFHn2OHYiQATCIkByIixSPI4IEAFnEKgqOYEAIAKt+JKKFyDI6iDAFLXBmHlubobkxBDgPHJiM7Q5IuYG55mM8TLIOAVhKsr6CQbJQUykETRYWKipIG6r1Y66FUtxvJ/Eg4Y3/o19gIxzVNcUrZWFnIA8ycJC78qJkydPq6q73uTEnExPT0k8csIz5C7avAfHi+eHkXgBWYHEANO0sbYhK3aKfqscPxEgAhERAHnpPR8m9iWg0A2fDxHB5OFDERgZGZXR0YmhxxXpAMo6FWm2OFYikA0CJCeywZlXIQJEwCICVSQnQEogoxMBJVQ8JNH6x0sVzJ6R0W/0yi1OT2m6mpk5pF4+YRQbxiy1rDJOwQktwvrxE3lpB8lJTujKFDyTzDMKpAQI1CK2YpETG9LpbCmYl5a6ZZ1skxOYzzNn1tW1QG7jZ3W1uS/tdvToYUWWLy9rz4uyNaNHD1zxd9PwmazlXTRZQYmXss0874cIDEfAk4Dq/XwwzwiblZvDR8UjyoAAPmNGR8dITpRhMnkPRIAIDESA5AQXCBEgAoVDoOzkBCZk/K7Yhz/7GwFyZH+HCZQPmlT0Wa/PFjazOasFa3w9kBE/7IUyLU+DrO41ynVcJycMqYQXuiyC5CAnEJBsNqtZOWGIU6wh7S+R/BkVZT3aPhZzCYLC5QbMteeER04sLi4IpEdOnTqthm7IiY2NtuAHzXhOmMqJ8fFxWVycV1V4nqxT78oJPzkB2a5abbaLnIAhN1pZyQn/ekBlEPDVElATgooh0/wSLyAr8BxiIwJEoDoIoMpKkxX6GeF/PuAz0khA4U/8m40IDEKA5ATXBxEgAlVBgOREVWaa90kESoRAVcgJvNQgQK4lUrSMk42GAFajMauyPSE7xNYbgTDkRLeMk31PAxfnxlVyy+/HYovIC4P//PyckotChU3VGtYCqrCwD4roL9FrvopATkB2qdGYU4SC+VwAOYH5APGAFoWcQPUFiA409NtL1qkXObG21tw3l68SORFcNyBsTSASQUnsBzQElbTEi66swN/ZiAARqBYCICcMkYnnA76DmwYiXJMV+odkZrXWRpi7JTkRBiUeQwSIQBkQIDlRhlnkPRCBiiFQdnICcY16XUul6OzvLdnethfUQBAXASj0iUoMtt4IGFNrZIL3Cir5ZZzKEpgNsxY8csIeYRbmuoOO0XMxrXThMVdY11klLFeVnPBLZ2FuwsqfJZ3rtM+vFjkxJiA1kpAT2Gtf+uqX5WvLd8q27Mp6c1PG4T0yMimPffAlcs973LNLjz3t+XOhf3x2Gz16vwQUsqQ1UYFA5HbiKkgX7pVjIAJEIBoCRiIOzwn8nWRmNPyqdrQmJ8bVT5kaPSfKNJu8FyJgBwGSE3ZwZC9EgAhkiEDZyQkE/RqNaZWJjMoG22XfID/m52sqiIvAO1tvBBBcgkQQgm9Bcgi/m56eVC+VVfPu8MgtNypvjKQWZhFzgZ8sG4g+kT1ZX69O5YSpKsJLM55TCLBA1qoMevvFICcOSaNRC1ROzCv5kGiVE/HJCayBd73/H+RLJ74pckFdLrjfhep5aAjvc7vnZPWb35Gp1R255N4Plkc+5OGVIynwHEKWtM6a1hIv3VnT51RFBbOms3xi81pEwB0E8Mz0/ComBFJ7phky0xCaZfh8dQf54oyE5ERx5oojJQJEIBkCJCeS4ceziQARyAGBspMTgHR6ejxVCYiqm/iGWbYIJEHbHQSRMfcFsTMzMy0gkCDlg6qWqkl1GHIib3ILc4FqCQTGMRcIig7zBgkz71GPgUQaWhXICQRS5uamVADFSGchsAKCKIw3S1Rs8zi+POTEhCwsNJTfhPGcWFioq4x+z3PiIDkBLws891ZW1pT3Bub82LEj6hloDLGhSvLXH3qvtC+clUNzev1jL6L1qsZb+6+Tco+NKfmRJz6lKzifx/zmfU08r0xlRa+saWOs7brvSd448vpEoIwIDCIzPT8bXXmF7z1s5UdAkxMgtj1vozLcNSsnyjCLvAciYBcBkhN28WRvRIAIZIBAFcgJ+GveJVudCqJaiuZ8ZU18w4CKANLs7JQiICDDATmjuTlIB43eVdXSqeTLIYKVWD95khN+o3hdYZTfXICcACZra1qzv6zNv/61dNaWkp0L481SJEzKQk7g+QUD7F7kBEyzEdiCHFpQ1mkYObGzsyN/9cH3yMylF8reXc/CYeQEft86dUbufnpMnvZ9P1Sk5ZDqWE3WtKmswHyYpo1zdVUFjXNTnQZ2TgScRQDPBCMR5/ezwYC1n832vmeFszfBgSVGYGQEsk4kJxIDyQ6IABFwGgGSE05PDwdHBIhALwRITiRfF1WUoomKGrJaQUZ0Omf3g7BVlHHqhZuuvNmVVit7WTC8oENuSxvFb0u7fTbq1Fo9vl6fVV4XZSYn/JgHZcxITlhdTqE6A+Za1mlT2m29B48cmVdkg5F1ikZOnJX19Zbqx5ATp0+vqeAXSPJjxxb3Kyf+8cYPyOr/NSnzS4eVhJrJ8B9UOWFu6swd35EnLV4kD37ARaHus2oHgQD0G2v7JaAYiKzaauD9EoGDCHgSUJOqatQ0JAoYeTh8L8qjipTzlR4CqJwYGfGM1NO7UnY9s3IiO6x5JSJQFARIThRlpjhOIkAE9hEgOZF8MWgpmhFZXy93tncSpAw5gUxqaLnj5Q/Z4lWTceqFYV6yYCAlkEWYhlF83LVSr8+oapqykhN+zHutf884vi07O+fiwujMeUWonJiaOqR8g1qtzX0ZJZATeGadOLGisDTkxOZmW0luoRlZp1OnzqjKOa9yoj85gfOOH9fkxHe/e0r+5EN/I3d/zEWq/6jkBPbt2U9/S17wtGc5M98uD8QY56KyAlJqfuNcXVGhKysYiHR5Fjk2IpAOAkiK0GSF9rPB91TTdOWVln9i5VU6+GfXK2Sd4HFHciI7zHklIkAE8kCA5EQeqPOaRIAIJEKA5EQi+NTJVcj2TooSfCVMNnDe0kFJ78X2+SAnEMSFCXIWDS/hmAsEU43XAf50odVqM2pcq6s687wsTftLeJhvbEA66yDmHjnRKQVxVz5yoqNIDLQgOYFg1tLSgqoO61c5gfMMOXH9B/9FPj91Ro7cbSkWOYG+lr/0TXn2Q39AlpaOlmWrZHIf2I9+Y21/INLToteBSJBAbESACFQLATwT9DNC//grr/Ad1pCZIDT5jCjS2gA5oauFy9RYOVGm2eS9EAE7CJCcsIMjeyECRCBDBEhOJAe7rAHV5MjoHvCCB+kUvAxkGYS3Nf60+9GeJXtKVibtNjExpkzIQVDgpRoeIC7F3sq4l0C2wG8FwQ3tL9HpiznJibR3wMH+o1VODCcntrbOytqakXWaVfvNyDoZcgJeE6976x/K7GX33g9+Ra2cQF87Z7elcUdbrvq+K7MHrkRXxB71S0D5qyq0BJSurGClX4kmnbdCBCIgYCqvQFTg73xGRADPsUN15QTJCcemhcMhAkTAMgIkJywDyu6IABFIH4EqkBOjoyL4SashIxovKwhIuRToTet+o/SLoCxe5pBZpn0NdECczUMgK88SE/jGXHQ6yAredm4ayraX/MQcMuoRgB7USE5kvySB+fx8PaSskz1y4tVv+z05fOl9ZWJiQhG4ccgJoHXutu/INT/09OyBi3nFlZVl+c8v3SR7507LiOyIyKicOz8h9cMPlIsuulwOHToUs2d7p+Ezyxjn+rXoUe1kTLUh8eJKxZm9O2dPRIAIDEMA32U9vwotE2eaeUaY5wQSctjcQoDkhFvzwdEQASKQDgIkJ9LBlb0SASKQIgIkJ5KD6wVUN1jefRecMCOFdBD+xMsZjJaRFY8XNmjts3kIaM8SkfX1dCon8CINkghBNrw4A39XddXLtJdmZqZU0DmKvwqOx3mortje3i38NimGrFMvcqKhSIODnhMeOQFCA8TG8vIZFaTGs25JGVsPr5zAc/BVb/9dWbr0fonJie3b/lue90PPcH6t3HnnV+X2r/6bHDuyKg+9CNhNdI355PKGfO5Lu7K7d6FcctmVMjs758Q9oeLJLwEVlHcxOvSUd3FiujgIIpA5AoOeEZ5MnPasQJUsW74IkJzIF39enQgQgWwQIDmRDc68ChEgAhYRIDmRHExTHYDgci8d+eRXKFYPyCiD8a+/UgIyQqgQgCwG9PbZPATS9CxBwBQBf7w8g5AA9i7rI5eBnOj29ADmW6GfCyQnsn8yIEMe/hF+Q+zDhxsqM9aQEyD2YJIN0sh4ToQhJ2q1WUXSHpR12pXXvP33ZOGS79knJ/yyQcafB9cb1s5/9rvynKf+xLDDcv39bbd9TCbOf0Iue8TCUDmNTmdHPnhTWx5+6TWyuOielwaypLFPsW56ybtgHlEhuLtbfHIx10XDixOBgiIAmThTeYXPEb+EkJaJ088IEJps2SMwNpZ/dZ7tu6bnhG1E2R8RKD4CJCeKP4e8AyJQOQRITiSfcpMhDc+Aqss8+LPFUS1hXr7wcgZvBZITB9dbWuSEnySCZAxkhVxvHtG3UcgMQ+0v4Xl6RK0S8siJrVIELopQOWHIiY2NtuAHLRw5URP4VQyqnBhETlz31j+QucvurQLcGIOfnIBPBZ6Zm5t6PP3a7vaO1L7ekh/7/h9xdmt/4fO3yPTYR+ShFy2EHiM+R//phnW59DE/I/V6PfR5WR/YLe8yKdj/piFRQQcgdSCSiQtZzw6vRwTcQMCTgNKEpmlIFMF3ZONp42pFqxso2hsFyQl7WLInIkAE3EWA5IS7c8OREQEi0AcBkhPJlwbMniHv0Wq1nZXLSX6Xg3tAZv7c3JSMjY0pggYZv0GiZmGhpvABTmweAmmYQMeRFHJhTopchYQA8/T0pIIRZNAwf4leeCOIAQzgy4KAZtFb0cmJkydXlI+QqZxotzv7xvXz8+HJiTNn1vfJpuPHFxVJ+w8f+Gf54syqLBxbjE1OLH/5Tnnmg58kx44dd3KpnD69It/4yp/JFY9djDw+yJr9840j8gNP+ZnI5+Z1AirV/Mbafgkov7E2M6bzmiFelwjkiwAqKzVZMakqsPCd2TQSmtnMDcmJbHDmVYgAEcgXAZIT+eLPqxMBIhADAZITMUALnOKZ2LZlZ6d65neTk+NKJx9ZpIM8JUhO9F5rNsmJbkmh80rGqUgZu0WtQjKkCvSkQczFzYAsHzlxXnZ33SZZBlVOnDx5WsmgRSMntmVtrak2u6mc6EVOfPvbJ+RNN7xT7vboB/YkJ7CXTSVHrycHxrX1qW/JC//Hs5J/iKXUw8c+8nfyhMuWZXq6218i7OU+fdsZWbjbNXLs2N3CnuLUcaYqBvs6KAHlN9aO+7xw6mY5GCJABCIjAHJCe9ron6CnDSrqTHWFy5KckW88xxNITuQIPi9NBIhAZgiQnMgMal6ICBABWwhUgZwYGRHxJSfZgm6/H4+c6KiM2Co1eEsguIeXJr+MUy8MIOuE4C3kr9g8BDyfhZbK0o7bEPxCkHwYSRS3/yzOKxo5gQAy5k9XDGlPjySGlyD6IAtVnsqJspETW9Jsbqit4FVOrKq59wyxw5ET8KF474ffL837zMj84sIBWadh5MSZO78rT6jfXx560cVZbM3I14Cc0a0f/115ypPmI59rTjh7dlf+9d/n5QlPfGbsPlw5Ec9lv7G2P2PaM83VElAMQroyaxwHEcgWgUGEpr/6qmrvGjZngeSETTTZFxEgAq4iQHLC1ZnhuIgAEeiLAMmJ5IujbDrxYRAJZuj3knEK9gNDbJE9gXE4m4eADRNoyAlB/x5BLXhLFFUSyJBdRfBvSeov0WsPeOQE5nC78NsE0m7uV05MyMJCQ1UpBD0nDlZO9CcnkPF69OhhNW+rq8MrJ0BOIID/lx98t9Quv7fsjY7uk9vwnBhETrSWV+XYKZEf/f4rhxpM57WIvviFW+WCIx+XC+5WSzSED/7bmlz+vdcq4/AyNTw/kCltjHONaS6e4TDTxjPc70NSpnvnvRABIjAcgXit0r4AACAASURBVG5PmwkZH/f8KlARC+k742kDgpNtOALAdHRUy2+WqdEQu0yzyXshAnYQIDlhB0f2QgSIQIYIkJxIDnbZpFiGIRLM0EeWd5iM/0ZjVkRGZH1dZx6zaQSSmEDjRQvnY07wsgoD5iJLhBTFvwXVUvhBs0kGYR5BVqHPOJ4Vru2pIpATeH7DAHsQOYGg0OLivKpoMZUTjUZNsF6Xl3XlRFhy4tixI2qPgpxA29s7J3/74ffJ2Xs3ZGJmWv3fIHJi7dvLcrfVUfnR7//hLgkQ1+b+4x97nzzpUSdkYsLTVI8zxk/+xxm5+71fLPPz8Ssw4lw363M0UaG16P2muToI6ZnmBr2csh4nr0cEiEA+COAzxl995ZeA8qqv8KzYTlTBmc/dZXNVkhPZ4MyrEAEikD8CJCfynwOOgAgQgYgIkJyICFiPw8sWUByEiAkex8nQr9dnVTbw2hrJCT/GcU2gISODQDZeUFHiD2Ki6HIgRSAnbPlL9NpnZXuWILC6s+O254QhJzY329JqtdW0LCzUVUa7qZwYRE6srKwqsiEKOYFA0sqKJicgZYZ1/87r3ydfXr5TRu+xIHe7zz2UTJSp5Dh/7pys3XlCxle25BEXPlAuf/ilzlZMmHV9041/Kz/0xGbicX72i6tSX3quHD16LPmHdUF6wFoyZAXWYVCH3mRLg7Qo+jO/IFPCYRIB5xBA9ZWpvMLzwlRfYaBaAkrLxOE5waYRIDnBlUAEiEBVECA5UZWZ5n0SgRIhQHIi+WQiM3RubqY02c69EIkj4xTsx6bxc/JZc6eHOD4LyJ5DQBMvWsiwR6Z9GZrL5vIIEM7NTSl/CQSjIWWWxF+i13yRnMh+FXvkREdaLS05Z8iJU6dOqzlGEGhxcUE6na39yi9TOTGYnJiR2dkZ8Rtio3IiSE7U63Oq31ZrQz7/5S/K11e+KbtjIuvNDRkfHZOZkQl5zEWPlHtdeK/Ewf6sEP74x94rT3rUSVZOWADcBCERiAwaayMIaUxzqUNvAWx2QQQKioAx1TbPCXMbIDD91VdFrq5NOjUjI6MyOlouiUBgQlmnpCuD5xOB8iFAcqJ8c8o7IgKlR6AK5AQm0SfVan1OEThA4L1MQWI/SAiGIIAOggIat+12J5SME8mJcEstqs+CydzHCyeqJcoUkHLVXN4vZYZMRMj7pNG8Z8lZ6XSK7zlRrMqJqOTEnExPT4lHTozI0aNHujwnQFrjJyw5AfIDDRJSIMFQuVHUBs+Jeyx+Qu5+HF5D8VtZPSfiItKtQz+piDPTsN90prTOmMa/2YgAEageAvi+rsmKSSUFhc+Tqj8n8J15dHSM5ET1tgPvmAhUEgGSE5Wcdt40ESg2AiQnks8f5DcgWZRm0DL5KOP10C3jhIBH/ICpDePneHfh9llhpYz8mfvIvN7Y2Cpd8MlFcsKMKY6UWdSVVzaic29P6+W73AZXTpxRe6x35UQScuK8IjXQQHA0GrpyokzkBALkn/zE78qTnxjfKwJk+A0fb8gVT3qWy0so17Hh+4cJQGIt+yWgtLSLNtZ2fR/mCiIvTgRKjgDICe1XoX+CUnHmGVFmqTiSEyVf5Lw9IkAEuhAgOcEFQQSIQOEQIDmRfMrwJR9mz/hSj0z2MjRkZ4JMQFAOwTkEwhEQT9JmZ6dlcnJcBeFsy+EkGVfe54YhJ4Im5GVZZ0Hs8fKMKh1IJiEwmWcbGYFZ+XSmZuMkJ7Kf8SzIidXVdUVeo2lZp4PkBIy2TUVOGSoncK8f+8jfyRWXL8vUVDwZjU/fdkYW7naNHDt2t+wXRkGviM8Ko0MflIDSRIWurKiytEtBp5bDJgLWEBj0nPCTmmWqzCU5YW35sCMiQAQKgADJiQJMEodIBIhANwIkJ5KvCATy5+fnlLzOxkYneYc594AAKYKyKAu3abQc1/g5ZzhSv/ywaoEkJuSpD97yBTxyYivXTF9dpTKtTIkRxMO+zsJ4luSE5QUVojsEaY4cmVeE2EHPiWDlxFlZX2+pXlHt4Jd1wucAiAdkoK6uNtUxRtYJ/zZVZ1UiJ1ZWluXOr75ZnvDYxRAz0X0IyMl/vlHkB57yksjn8gSNANakzpY+KO0CgswzzN1mwgAXDRGoKALdUnETMu7TwUVyEp7F5lmRNEkpT4g1OTGufsrW6DlRthnl/RCB5AiQnEiOIXsgAkQgYwRITiQHHBnW8/O1UpATfgkbeGjgx1aLY/xs69ou99OPnMALIwgdBE9tVa+4jAPGhix23DMyyE2medZj7vaX2JZ2OzuzcU8iLtvrpoVxEWSdDDkBL51mUxtiz8/XBfvy1ClNTkASY2kJhti9yIk12d3dVYFgEA/ITofHBFpccgJkCYiqIntOmDX1+c/9u8xOfFwuflB4eScEzv/5w+tyyaNfLPV6I63lWbl+jbSLqazAmjXNb6xNCajKLQ3eMBHYRwDJGX5S0y8BBXJCV1/pCqwiVUFrcgKSVp7/RlmmneREWWaS90EE7CFAcsIeluyJCBCBjBCoCjkBLzjfe7h1dBcWairDutVqW+87iw6DgXDIBtmWfTDGz8DIdt9ZYJTWNXpJGenqFZiQj1qtXknrHmz1mzc54a9SASmRdZCubP41xSUnajI1dUiWl88oCaZe5ES9PqckyE6fXlN7ND45cUgajZr4ZZ1AToA0OXFixdbWyrWf2277qEzu/btc+vAFhdOg1unsyIc+0paHXXKNLC4ezXXcZb+40Z8HWYH1ZhoCjib4iIof7AE2IkAEqokAvo8aQhPPjCCp6VVgue0vRXKimuuXd00EqooAyYmqzjzvmwgUGAGSE3YmD7JOyLBtNotHTmQVCA/jrWBnNorVS1DKCP8GVngB3No6K52OveoV15GBJwkkxUAMJDFfj3qfB6tUOrkE5EhORJ255Md7lRNbiiBAQyVcL3IC+3FtTcs6xSUnjh49oj4rPEPs8pMTwOub3/yK3PG1f5Pji2ty8YNQmdLtQ3FqZVM++8Vt2d27UB556Q/L3Nxc8sllD6ERgIyjZ6w9qSTtTEMygT8AmYXEXeiB80AiQAQyRaAfqYnngiY14W3jpq8NKidGRrxnW6bApXgxVk6kCC67JgIFRYDkREEnjsMmAlVGgOSEndmH/rjInqyva1mQojRIl+AHwVlIltiUcQpiMMxboSiY2R6nv1oARBH+jZc8VK+UyYwwDG4IFMPrIe216B8LgnAgRLS/BHxjtjLxl+iFByplGo1Z9XJfBtPzYlVODCInRmVp6bAiC5OTE4fV+lpeXlVLAERk2Ssn/Gt9ZeWUfPmLN4mcPy0jAtP7ETl3fkLqCw+UB110uUxNTYV5VPCYlBHoly2NteuXgKraZ1TKsLN7IlAoBAb52oCE1xJQ2+pP/DvvRnIi7xng9YkAEcgKAZITWSHN6xABImANAZITdqBEQBFBlvV1nXnrestCximIAcmJ3qvCVAvgxQ3BaWj6woC5SFq+ttZ71uQEsIc0j65S2VakSJ6tbOQEFHx2dnZyqUIJO4/hKidIToTFk8eVDwHsY50trY21g4a5rgUgyzcDvCMiUAwEjK+Nqa7w+1WgAgsVFaa6IvsKLHhOIBmLlRPFWE0cJREgAkkQIDmRBD2eSwSIQC4IkJywA3u9PqMCy2tr7pMTfhmnLDPFg/JFdpAvfi9G7gp3giAPzKCr2rA2a7WZTOSsuv0ltmR7G1nc+TZIq6AKqwyVE9Conp7WVVkuy8Ig0Lq4OC+dztY+uezJOq0qshBVNQcrJ2ZlZmZ6oOcEKnJqtVlZXW3uy5QdPVrtyol8dxivbgMB7AdPAgoGs34JqF31OYYgJIjJvT0bV2QfRIAIFBEBkP/GrwJ/N34VpgLLSEBlU4EFckJLppatUdapbDPK+yECyREgOZEcQ/ZABIhAxghUhZzAu7Pv/dk6ygioIrC6uqr1yF1tfhmnrDPF8zY7dnFO/MQEAjmQFKpy88iJ9KoYXPGX6DXPHjmxK5ubncIuBZi5Y7+j+gfr2m+iaXSpTbY1iIs8G9bc4uJCFzkBmSXsTUgvhScnRI4dW1TE0pkz6+qWopETm9Ju6zkvmyF2nvPLa6ePQDAACRmXTqej5MvGxhCQHHVWgz59dHgFIkAEgAC+e3l+FQcrsJAgYiSg8LmbRtOVEyQn0sCWfRIBIuAWAiQn3JoPjoYIEIEQCJCcCAFSiEOgk48XdOiRu5gp2B2Q3VNBsJ2ddL7894MrL7PjENOX+SGYD6wZBEaNnFPWZFHmNx3igmmTE8j4Be7I9EWmHnwdspcW6A8E1sX8/JwaG6S9itb86xrBhWazI2fPbu0HJVA9hSxKSD+YhuNMpjUC+1nPxyByAqbVIE+wXlDxgD26ttZUQ0dFBMiH06fX9r1hjh/vTU7gHOPn079yguRE0dY7x+shgCrMz3328/LZT3xWtps7Mj4yrj7f9sb2pLY0I49+0qPk4oddrMg+Q0xWUbqQa4YIEAGNAD5X8Z3AVGH5K7C854T2rLD1rCA5wdVHBIhAVRAgOVGVmeZ9EoESIUByws5keuTERubBtWF3gEDg3NyUehFAoA0Z2ba+6A+7tv/3WfsJRBlblsf6ZbUQhEbQEpU3kMFot/P1PMgSh17XAnlQr8+mggUy9mZmdEm/q0RQkckJ/3MGGZDmObOzs31gqo0utZF7CEo9YC8ggImAZ9qtNzkxJ9PTUxKGnECVBEgVNJATqBQ5fbq7cmIQOTE1dUggI9VskpxIe67ZfzoI3Pyxm+W2j31WJs/OSGNmviszeWR0RMZGR6W5tSZ7c7vyuKc8Wh7z+MeogfiNtc0eSmeE7JUIEAHXEcBnsflO4K+2NM8KU1WR5FnhOjnx+tdfJ7ff/nX5oz96c9d0vfa1r5Z/+qd/PDCFjUZD3v/+DwtlnVxf3RwfEcgeAZIT2WPOKxIBIpAQAZITCQG863QjY7K+vqky4V1pyEqCPIkLAdm0s+JdwXzQOPw6/DBfRpDcC8hX228CuKWFBUgJYI+sfFRLZKNvHH1FQm0AgeqiVU74iR+zrnH3WtbpIDkRRAbnY36CZrvnzp3fl3kAYZFGVYVHTpyV9XUtywffj17kBMYA/wg0UzkRj5wQWV4+o/ox5ESrtbkv5UVZp+h7h2dkjwD2479c/0H5r898R47MLoUawJmtFbnoCfeTp/3YD6tqU9PwrNBGuZqYTEvWJdQgeRARIAK5I+BJQE12PSuMNKTxq4giDTk2dij3++o3gOuvf5+87nW/KRdf/LAD5MSLXvRc9Uy8+uqf7DodVSdPetIPkJxwdlY5MCKQHwIkJ/LDnlcmAkQgJgIkJ2ICFzhtZmZKBdaQ/YqAWt4NQU6MCV/uXQnIVpmc8M8HgjDIKjcvVKhoaTRmS2GCnHTd28aiW2bovMLdhf05CKeFhZpaG61WOymcmZzvNxYPEj9hyQn/QLvNdicFPhxoeI6hksIz27VTVWGfnNhVUk9oxnMCcn9bW7oqSss6kZzIZHHyIqki8NF//ah89WN3yMLMkUjXWdk4JQ/9gQfJY5/wWJ+xNuTePGPtvOXeIt0QDyYCRCBVBPBdzi8B5ZeGREKYkYrDn4MSxFwkJ/Cse8c73iJvecub1PecIDmB/3vyk58gP/IjV8m11/5iT5xZOZHq8mPnRKCQCJCcKOS0cdBEoNoIVIWcQHDYJ3NufdJNgA4BxShZPNYHclf2OYJieNHPU8YpeG9pZcWngaHNPnHfg+bDM0HeUVn9VW42sfDLDGl/CRi0uo9uUcgJv48NCJ9exE8cciI4Q/2yJ6MEJAbNOtbJ0tKCIg9AIqAdrJwYkaNHjyi5seGVEzbIiYZMTEzIiRMr7i9YjrCSCDSbTXnHG/5S7j57z1j3/532f8kLXvlcmZmZ3T+/n6wLgnN+CShXK99iAcGTiAARiIyAkYY03w/8fhV47/noRz8qa2vrKtA/Nze3379r5MTZs2flxS9+ntx++9fkyiufJp/85C1y/Pjduionvv3t/5arr75KXvnK/1euuuonSE5EXi08gQhUEwGSE9Wcd941ESg0AiQn7Ezf1NSkkk/a2GhnbjTtvwO/jJNrHga2s+LtzFy6vcAEHBUsCOQio6vdPkg+FNlnwDZ6HjmhyYS4zb8P/DJDcfvL8rwikBN+wm2QsbgNcsKPvTHQNLrU/oBEXP36XuREvT6n9q3nOWGPnFhaOqxuabCsE8mJLPccrxUdgQ/8wwfkzBdaMjU5Hf1kEdnsbMg9Hn1UnvSD39fzfCSU6MDjQbk3EJNG0mVYpnSswfEkIkAECoUAJOKMPCRIzksuuUTa7bby2nvIQx4il112uTzykZfIRRc9XBH/rrRWqyUvfOFz5GUvu1auuOL75OlPf5osLR3tIic+9rGb5Fd+5RflD/7gT+VhD3uEdDodmZrS7xWmsXLClRnlOIiAOwiQnHBnLjgSIkAEQiJAciIkUEMO88iJTm569sb3whUZpyBkNrPi7cxaur34fQ5gdN3PxI/khDcPNrAwEmuu7oNhq851cgJBADxrwvjY2CYngthhLMarwh9w8IKXWsN+kJQXiBYQBv7KCY+cWFNSUnh22aqcwLUQUzh1qr/nxOHDDRVoYeXEsN3C3+eBAGRI/vT1fyZHxy5IdPkV+a789P/zQhVAHNYGEZNG7g17HZ+zRaiQG3a//D0RIALxEMB3k6985ctyww0fkltvvUW+8Y1v7Hc0PT0tj3jEJXLppY+Syy57lNzrXvfuCvLHu2L8s/BdBT/j49p/pxc5AcmnN73pD1XVxE033Sirq2ekXm/Ij//4/y3Pf/6LRCdY1OIPgmcSASJQSgRITpRyWnlTRKDcCJCcsDO/yNRGUBSyPP2C0HaudLAXfxYzggYbG1tOmXKbEdsIPKeFoc1+4/gcuB6QtonPoL6SrBEEkCGfhaw5BKM3NjpO7oNhWM7Pz6lxN5vueU4YEhbEzyDCzdxj2uSEH0vMv8myBmHRLfPgeVUEn8+DyAl4R6AiA+vy2LGgrNOMzM7OyEFDbE/WaWZmWur1WSUXZTwnDpITkzI/Xxe/ITbJiWG7hL/PE4E7br9DPvT2f5Ol+tFEwzi5/l35Hy+5Ui64IDrJYYhJkHj4u8kiTmKWm+hmeDIRIAJOIrC8fEpuu+0zcvPNN8unPvVJWVvTnlBoi4tLiqTAz6WXXi6HD0fzz7F9w73Iid/4jV+TG274F3nAAx4kz3jGsxSR8eEPf0g+8pEblRTUr/7qq0hO2J4I9kcESoAAyYkSTCJvgQhUDQGSE3ZmHC/IyCaGbA9kBrJquC4y9AfJBmU1ljDX0UH4XWm14kv2hLlOXscgMI51gMBoFJ8DkhPejMXBwo/79vautNvF8JfotU41ObEnzeZmXsu453VB/ECmDMQJCFAQocNaluREcCx4gQdpDKKiV/ASsnf4QetXOREkJ0BsgIxAm5ubUT9hyIn19ZZAXkxfa0E9r73Kif7kxMmTK8wCH7bI+PvMEfjMp/9DPnv9l6Qx20h07TPN0/K9z7xcHnTRgxL1g/1kJF2w5/1muSCqUVFhDHPxTGIjAkSgeghoAnNcvv71rypvB/x87nO3qeeDad/zPfeVX/iF/ykPf/gjcwGoFzlx4403yB133C7PetY1MjMzsz+uV73qV+XDH/6gvPWtfyWPfewluYyXFyUCRMBdBEhOuDs3HBkRIAJ9ECA5YWdpIPg1NzetAlBbW94XXTu99+7FL18DUgRBWddbnMCz6/dkxoescvygYQ1EWQcuZ8tnjX/UNVJkf4le2LpGTqAiAc82BPxgNImKFGQnh2kIBO7ubuceYEdQAuvEVFZ0By/PqXsD8bC6uq7GimoHVD2EISdwjiGkUV0B0mZlRWdm4hkNiSiSE2FWC48pCgK3fOIW+c8bbpfaTD3RkNdaq3LZjz1MLn74QxP1EzzZM8udVKQFnmGmxfWmsTpAdkYEiEDmCOB7wOio/o5u2tmzW/K5z31WERWf+tQt8tWvfkVe8pKXy3Oe87zMx4cL9iIn+g3kM5/5lPzcz71EXvGKX5CXv/wluYyXFyUCRMBdBEhOuDs3HBkRIAJ9EKgKOYHbv0vSM5W1MDExprJosyAnkJU/NzelAmouyzj1ArqMQXgkYyGrHAQVgrEwckYQN0pzLSAdZey2j41CTnT7rMDvJRrutsduo79GY05E9mR9Pf/KCV2RMq2Ce/0M3QfdsyvkRHCMuC9jqo3gZVASxmRihyMnmvsVGPbJidOhiSAba499EIEwCHzxC1+Um9/5KVmoJ5NAWV4/JT/4/CvkPvf5njCXjX2MNtb2qqhMR3g+gZQ0lRVhqsFiD4InEgEikCsCIyOjMjo62AwbzwIkMeTVopAT3/jGHXLNNc+Qn/7pl8gv/dIv5DVkXpcIEAFHESA54ejEcFhEgAj0R4DkhJ3VgWBXrTajsuWNfIednrt7gawKsnGLIuMUxABBeGRduxB4tTE/fr8PEBIgJuLIRrgUkLaBS5I+whBY3f4SOps/Du5JxpnWuY3GrOo67z1iKlIwFjzT4srVbW+fzb1yYtBcGc8JE5gMSsJA+gkBzPn5mvozKOu0upqMnABJsrDQ23Pi5EmSE2ntM/YbHwFotv/VG/9Wjs9G94rwX/XE5n/LT73yOTI7C0I2m+b3pkEQEvvfNDwD8Jwzez5shVg2I+dViAARiIsA9vLo6NhQciJu/7bOC5ITeCa95CXPl7vf/QJ59auv67rMTTf9q/zar/1P+fVff4085zlX2xoC+yECRKAkCJCcKMlE8jaIQJUQIDlhZ7bxggspkDjZxWFH0C3jdDZz4+2w4xx0nCuBVxv30u33sa0MguM2jcuIrK9vxO2iNOcNqyLxZ/MjWAwT+jI1F/aIedbErQTyzwcyEV0O8qES7ejRwyogCaIB5ASe5SANMG5TVYF7gt8GCEgcOzV1SFXLHSQnzsvKyqqCIIysE8mJMu3e6tzLX7zpL2RqvS6jI15wP8rdnzt/TnaXOvKs5z8zymnWjx1URQUJKHzGYL/j72xEgAgUE4GikhNA+9prf1Y+//nPytve9ldy4YX3UhOA71Uve9mL5M47vynvfvf1cp/73L2YE8NREwEikBoCJCdSg5YdEwEikBYCJCfsIIsAF4KKaQRLu2WcdHAMJo9FbAj6IXNxba3YQXiYkJvgpQ2/j7LgYmNNDqoiSeLrYWNsWfSB5wgC4nnsEVwX/hII2GnJuOQVKe6TEyNy9OiRfXICc1yrzSo5K1MlgXUHDwp/A3GDZ9nmZnvfh0PLOsUjJzY20E9bXeLw4YaSoWHlRBY7jteIg8BX//MrctPffEKOzC3FOV1OtU7IU5/3/XKve9871vlpnASJxokJLf+EyrFxnxYoiElDVODPon4HSwM39kkEXEegyOTE7bd/XV70op+SWm1OfuInrpapqSn5wAfeL1/72lflf/2vV8tTnnKlLC3VXJ8Cjo8IEIGMESA5kTHgvBwRIALJESA5kRxD9ICgHjK+kV2HgJ6tBh8D6Oqj/zSID1vjDNtPvT6jMpNXV1thT3HquG45IXtEEXABCZVHQNopgEUUyYcWlDUy/hI2svldu2f/ePIiqlD9BWIC69Dmc6zo5ASeu2jHjy+qZzAkrhC4RADT71UBzPC87k1ObEinoyt8lpYWBNrXp06dVv82lRMkJ1zelRxbEAEE69/ye2+RWueITIwP1nEPnru9c1Y69ZY876U/1VWZ5BrKeBaava6Ntb0qkd3dXVUpi+cbngt7e66NnuMhAkTAIKDJiXH143Lr5znx5S9/Uf70T/9YVVDs7Z2X+93vAfLc575AHvOY773rewXJCZfnlWMjAnkgQHIiD9R5TSJABBIhUCVyYmwMJEIiuPqejH6hSW4zqOfPzk+i+Z7OHcfrFb4cyMouIjnRLSe0K+12x1pAosi4xFsJ/c8KSlyBEELQHKRWEl8P2+NMq788yAm/RBmeNfDOsdVcJydAMKDiwcg64b79lRN+cmJnZ0dOn15X0EDSCT9bW2fV2gQxYRoCt9qjY0+mp6eUXJshJxYXF1SQk+SErRXGfvJCoNVqyTt+/89lafTuMj4WLui3s7sjq6Mn5bkvv0ZmZjQRXZSGPe431vaTk9pYW0tA4XOKjQgQAXcQ0OQECMYxdwZlcSSsnLAIJrsiAiVBgORESSaSt0EEqoQAyQl7s72wUFMvpa2WluaI29LKzo87HpvnIciMF/y1tZa1wL7N8fXrC7Iu09OHlAY9Arc2g7e4JskJD3l/cH5iYkzJ65SlcijMWs26igbrGusbaxv+Hba11YtCTvjNrvuTE7ty+vSamkasSxy3ttZUzwMQDiAedEMgpNtoF6QPrlGvzykTXkg2obFyIsyu4DGuIgBz7He++Z0yuTkr9ZnGwGGut9fkXGNLnvnCZ8rcXHYm2Glgh88kTVToKioQlKahegrPPVNZgWo/NiJABPJDgOREftjzykSACOSDAMmJfHDnVYkAEUiAAMmJBOAFTh1m5BvmSkEZJ/gZlEkuwCMnNpw2yTVzhQAE5IQwL9oMdyuVrMii4RJmLcc9xgTnEfA1hFBZKofCYJIVURVc25CjS0NHvZjkxIzMzs4oz4nuyon+5ATmFt4VkFxYXl5Vzwz0AeLH34w5eLO5qQKY0LVfWKgrvwl6ToTZITzGNQSwjj99y6fkC5/8spxb35MjM4sydlclxe65XTnTXpGJwyNy8eUPkUdc+kjl61C2BsIRJMXkJH6Qoe2V6YLwRUWFqa4o273zfohAERBA5QQkFcvYWDlRxlnlPRGBZAiQnEiGH88mAkQgBwRITtgDfZCRb5ir+DOYyxqMNb4BkDlxPZvQr8GPihgEb01gMcx8RjmG5ISHlgnO43/SJISizE+Wx2ZBTmBtI/MffyJwBtItrbVdRHLCSDZFJycOKxxBTqBB0gmfC63WpiJ+kGU9NXWoS2cfxuPIuobsCHdcPAAAIABJREFUE56LaDTEznLH8Vq2EMDa/9add8rnPv0FObsFj5URmZo+JA+77GFyj3vcw2l/CVsYmH5AUPgloMz/AyMj/4TKCux/NiJABNJGANWM8IkiOZE20uyfCBABNxAgOeHGPHAURIAIRECA5EQEsIYcGtTKD9uzX8YJwdi0MpjDjifN42ZmplSADlnDaWRp2xq7X4MfGfwgi9JsRSJt0sQBUjionEBWf9qEUJr3kaTvtMkJf3UWsnnb7XTXdpHJidXV9bu8I7QhNoicg7JOLeU7gXb0aJCcOCSNRk2azQ1BFRwapJ9ACqFKApnWmI+gdj1+j4oKSD+lRRolWaM8lwgQgfAI4DseKirw3Qd/Yn+bBnICJIWprOB+D48rjyQC4REgOREeKx5JBIhAGRAgOVGGWeQ9EIGKIVAlcgIS4D4ZcOszHUcrHpr6MzPTSgIg7Qxm6zcco0Nj8u0yOWEIFAQJEFDc3t6NcafRTvHIiU1VLVDF5g+a4/6LaJpuY97SJCf83ikgJYxkkY1x9+vDfXJC5NixRYUFKiXQTOXE6mpTBQ3R7JET86pSwnhOYE7m5+vq+Y/PAb92PQg6v3Z9mST+0lxz7JsIuIzA+PiYj6yA1IyWgMJ3DjwHTGWFbf8flzHh2IhAugiAnOiuWkz3etn2TlmnbPHm1YhAERAgOVGEWeIYiQAR6EKA5IS9BRE1qOiXcUrDZNnendnrydwzTMMReHOpBY3IUcGSFVFQlIqStOZrenpSyd0gOAPMEaAtmmm6LWzSMo03BFjWUlmukxOGeBhGThw7dkQ9s5JXTnSTE8imXlho7HtOIHA5P19TlRPYD8GqCmOy69rz09b6Zz9EoGoIGPknPAuw703Ds1oTFTuKpHS52rRqc8b7LR4CWtbJ84Ip3h30HzHJiTLNJu+FCNhBgOSEHRzZCxEgAhkiQHLCHthhg4r4coxjEYTKOlBo727j9WSC0JA02dlxh5wIGpFDgz/L5lWUtCulQY33RHgfGMPxjY0twRrBv9fWimGabnud2PYfAemGPkH4IKC9uQnSbc/2sPv2VxRyYmdnR06f7l85AXICEiwrK2vqXlHxVq/PKhKtW9ZJZHn5jDoGZOxBWafB5ATOg0E2JJ/QD4KVCFri3/6qCsrBZLaEeSEikBkCkDY08k/4E/82Dc9vv7E2JaAymxZeqAQIkJwowSTyFogAEQiNAMmJ0FDxQCJABFxBgOSEvZkwQcVBZs8gJJDBjBfOKsg4BdE1sjKoSnBFssAvdZOXEbnLFSX2dkh3T35TZr+/BMiKyclxZQ6cZRA9rfuM2q9NckI/b7RsHDJwsybdcO/FISc8P4lesk79yIn19da+J432nIhGTiBrGgbYIGzx4ycnTp063bUHQE4YogLnBeVgELjED6sqou46Hk8E3EQARL3fWJt73s154qjcR4DkhPtzxBESASJgDwGSE/awZE9EgAhkhADJCXtAD/MN8AfBqyLjFEQXgTVIGCF7Owsvh0Gzi5d8zJnJ2kfgNq+gnqkocVHuyt4O8XoaZMpcdXNwW+QM9hpIL7Q8nzdFJCcwB7XarPg9Jw6SE1NSr8+Jn5xYWjqs8D5YObEp7XZH/e7IkXn1zDlxYkX925ATm5ttwf4fRE4E92I/ORjIvxivCpAVzLBO4ynGPolAtgjgO4ve89pYG+SzaajC1eSkloCqIrGf7WzwakVDYGxMfx8qY4sj63TNNdfIrbfeOhSOl7/85fKKV7xi6HE8gAgQAbcQIDnh1nxwNESACIRAoErkBCRkxrx3uRDoRDukn9mzS0HwaHdk/2iPnIDR9I79C4TsEVn7yFBHBcvu7q5ATijPAJ6LFSUhoYx8mN9rpZcp8zCSL/IFC3aCDXLGb+oOIjBPCbVykRPnZWVlVa0oYNyLnMDnzKlTWtYJPirwj2g20yEn/EsbzzQELE3gEtUyaDTZLdgDgMMlAiERwJ6H3BsIC/z4JaC0sbYhK/L7rhXyVngYEUgdAZIT3RC/5z3vkW9/+9s9ccd70Vvf+lY5e/as/MZv/IY861nPSn1+eAEiQATsIkBywi6e7I0IEIEMECA5YQ/kXtI8VZdxCqILuR5kJbfbWyrDL49mMspBGiGjHFJOeTdDTrhQUZIWFkGSDtJevQw+q24OnoSc8fvZANssTd37rRuQkHt759NaVlb6PX58UcnMHTS7bqpnBJqunIhHTrRam6paDK1/5URHcBya8ZwAyYGM6DjNn2GNSg3TdIa1zq7Gn3H7jzMmnkMEiEB6CGCfg6zAd5yJiYn9C4Gg1Mbaes/Dr4aNCFQNAZIT4WcchMRf//Vfy+WXXy5vf/vbu4jP8L3wSCJABPJEgOREnujz2kSACMRCgORELNh6nuRlv2uzZ/wbPwgYIgBuglz2rli8nvDyjIqFvPAwgV+8rEPGyRXfC1cqStJaUf5KlWFeK/0qkNIam2v9xiUnDmLcUf4HebeykBNHjx5RgfzBlRML6nkfrJzIg5zwz7sx2TVZ1sEMa7/Jbt7rhdcnAkQgOQJ4Dvn9aeBXYxrICT9BmWfVaPI7ZQ9EIBwCJCfC4fSP//iP8spXvlIWFhbkfe97nxw7dizciTyKCBABpxAgOeHUdHAwRIAIhEGA5EQYlMId489+R9aq9jJAELyTm5dBuJFnd9TExJjAbDZrcgISJyBF8IKOF3PIOLmUMYz1gqB0nhUlaa0CVMugGiJspUoVzcH92MepHImKcVpz3avfIpATQT8J4zmxttaSrS1dWaXNrvdkeTko67Qhnc6WOmZpyU1yIjgv/TKs8UzUGda6sqJXZVOWa4fXIgJEwA4CqOL1ZN8m1OcxGmXf7ODLXtxGAOsdhthlbXE8J3ph8a1vfUuuuuoqabfb8id/8idyxRVXlBUy3hcRKD0CJCdKP8W8QSJQPgRITtibU5P9DkICwXCYK0NWhVlpHsZ4Qa7VZjKVU/KbLyPwhooJ15oLcldpYNLtLwGfkd2hlyE5MaUyXuFTECY4HAfjoZNg8YCdHfelg6pGTvinF59VJmiJygp/VQV0p0FUmMoKi8uCXREBIpAjAlr2TftVBGXfSFDmODG8dCoIkJwYDisSEuAt8YUvfEFe8IIXyC//8i8PP4lHEAEi4CwCJCecnRoOjAgQgX4IVImcAAbjnvS29UVh5FjQsSteBtZvMmGHkJ6p12dVsAtmyGk3f+AW1Rp5+VwMu8+85a6GjS/q77X3wZSMj4+rADuqh8IE2nEdkhOHVNBoGDmBxFdk+OsKLe0vERbjqPOZ5PjikBN+yaZp9ZwaVDkxPT0ljcacrK8PqpyYlPn5uvKSyNpzIu6cYc8aORisLX+Gtadbz6qKuPjyPCLgGgJG9s2QlN0EJSSgtlVFla6Cc0Ar0DUAOR7nESA5MXyKrrvuOnnb294mF198sfKb8PvWDD+bRxABIuAaAiQnXJsRjocIEIGhCJCcGArR0AP8QUIcjAA45HnYDiLgkRPpYnTQfHnLaRPIMpETUfwleu0Rz7ul44wnSJZ7OQw5g+CRlikbdb5Cq+zkRLO5sf+8PyjrFI+cAKGBfZDEENvGmjW69SZo6detR2WgF7TcdsLfxMY9sw8iUHUEBhGU8IwyxtqorGIjAkVAgOTE4Fm66aab5Gd+5mdkdnZW3vve98o973nPIkwrx0gEiMAABEhOcHkQASJQOARITiSbMn8gFl4GCN5Ao7zT2U7WcUnPhoQIso3TlFeCdBSqWBDAHWa+7ArMechdpXHvkIiAoXVYfwmSEwcRGEZO+GXKsqpASrJWiklOTEm9jqqIlvLHQQt6TpjKiYPkxKicOnVanQOC4WDlRENlJJ44saKOwZ45fLihKitQYYHmCjkRnHc8p4wUDMZ9sKpCe1WAuGAjAkSg+Ahgj2sJqAkl/4ZngGmo2PMba7vk41V85HkHNhEYGRmV0dEJm1061VcSz4lTp07Jj/7oj8qZM2fkDW94g1x55ZVO3RsHQwSIQDwESE7Ew41nEQEikCMCJCfig4+XNQQSTSAWgfCs/RTijz6fM4HV/PycIg0gQ2O7dc9JcUiiMpATICUQuITsA3w9MMdxGvpAXwjWhvGoiHMNl88ZRE6YqhJg7LJMmR/fIpATR48eUdJYKytBs+sgOSGyvHxG3R7mqdGoiZ+cWFxcUNUsJ09qcgJreWEhKOsUnpzAtVyU6sK9+YOWuE9/VQWIer9XBaVgXH7icGxEIDwCeL75jbX9ElD4zDfSb/iTjQi4gAA+f0ZHx0hO9JgMfO95/vOfLzfffLNcffXV8prXvMaFKeMYiAARsIAAyQkLILILIkAEskWA5ER0vCHjNDMzpbLJ/IHYrCSLoo/YnTOA3fx8LRVywnh+JA2O54FW1l4cNu9R+0tMq4xKBFJBOiXJoDTG8tUlJyZlauqQtFrtrgx0s76BLcifomSnF4OcOKye5cvL/cmJpaXDatvEISc2NtqCHzRUSeCzw1ROoBLmyJH5QOVETa0Bl8mJ4DME5ITxqghWVXhSMKyqsPnsZV9EIG8E8PwCOYm9DzmoXh41ICqK8nmVN568vn0ESE70x/QP//AP5Y1vfKPc//73l3e9610yNTVlfwLYIxEgArkgQHIiF9h5USJABJIgUDVyYmwMGZ/xEUMQGSa0RusdAdTz57VBIDLIGo3ZVCWL4o/cnTMXFmrqRRXBVxtN6+9PqcxdZOzq4HixTBuLSmwdlNDqJNae98iJLbWXqtaCnhuQQtP+EmNq3/ifOUXApkzkBD474AOBFqVyohc5cfLkitorhpxotzvKBB0NBG7RyIngWtRSMAhadkvBgMCE9JOprGBVRRF2McdIBIYjMMijxlRTmb3PfT8cTx5hBwFNToyrn7K2OLJOn/70p+Waa65RlVB/93d/J/e9733LCg/viwhUEgGSE5Wcdt40ESg2AiQnws+fXzKol9Z72pJF4Ufq9pEgJ/Ci2mwmJye69ffTNdlOE9UiElv+/QCJoa0tOz4rCGqiSgCm8ghgVq35yQm8VIMMBUGRpk9LmhgXm5zYkE5nS8ETNLv2yIlNAbGA1k/WqYrkhH9NdUvBTKr1jIb17ZeCiSsFl+b6Zd9EgAjEQwDJC4akDFZTwUzbEJTc9/Hw5VnhECA5cRCn9fV1ueqqq+Q73/mOXHfddfLjP/7j4cDkUUSACBQGAZIThZkqDpQIEAGDAMmJcGvBLxmEoGkvLfw0JYvCjbIYR8FzApUNJks47qiNNn+R9Pf73WsWRuFxce51HmTNQE6kIaE1OTmuAvJVJydAgJqAjk3yx+Y6CNNXccgJv2TTlDQaMMSOSk7MqwqXoOdEb3LitNo/Za2cGLQ2/Aa7uH/Tug12twtXARdmP/AYIlBVBPxERXDfa6+KHVVV5arPTlXnrej3rcmJCeU7UdYWtXLita99rbz97W+Xo0ePyjOe8YyBsFxwwQUkL8q6cHhfpUaA5ESpp5c3RwTKiQDJicHz6pdx0pJBWwP19G1LFpVx1UH6Cm19XUuYRG1+jwMEsyDjVPSX2aJU3YBEAXGg/SWG74eoc4vjEbSAjFGRA/Jx7tucYwzB8W9N/nRkZ+dcki5zPbfI5ITf7DpYOQHZJcgvtVqbao7QFhdJTkRdbKga83tVBA12QdIhcFlFibeoWPJ4IlAUBMy+N+ba/n0P+UIj/4R9Twmoosyqm+MkOXFwXn7lV35F/v7v/z7UhF1++eXy53/+56GO5UFEgAi4gwDJCXfmgiMhAkQgJAIkJ/oDhSyvmZlDyuAPGV3I5B7WbFUFDLtOkX8PcgKYrq1tRL6Ngx4HW6V4cS1C1Y3GPn2JoSqTE9gXtdqM8rQB8dZqJTMXj7zBUjihCOREGLPr9MmJLQEZglYGz4m4S8kz2J1URKVp2A8muxqEBf7NRgSIQDkQgJm2ISmx7/3G2pB9wp7H93DIQbERgagIoHJiZGQ06mmFOT5q5URhbowDJQJEIDYCJCdiQ8cTiQARyAsBkhO9kffL1vSTcep1JqRARPZiVwXktQ6yvG69Pqs0x6OSE8gon56eVC+tZcyqd7nqxmCPdQJvCVv+Er3W3cTEmMzNzZRyjgftMxASqBgxGaSbm+UwBEcwCVU2LjeQE8PMrsOQE0eOzKuA+okTK+p2EWxbWGhIOFknkhPBNYLPCZNZjWdQd3a1p1nPqgqXdxfHRgSiIYDveEgOMjJQSIwwrVv6bYckZTRoK3o0ZJ3w7kByoqILgLdNBCqJAMmJSk47b5oIFBuBqpETo6Mi+OnXEPyYm5tSuuGQCoJcRxTJIC1ZNKK0ytl6I4DMcLxsrq62QkNkPD/gVQHz2SLL3PS7aVfJCT/22A+QXEizYW1gjYAAAQlVhQafDRCiCMogSxQBbpIT2c18f7Prjf2KOZhd4/Ph1KnTamC9ZJ3skxOrzhM72c2SlnwzActgdrWuqkB2NTXrs5wTXosIpI0AiHtDUmL/B6XfzN4nSZn2TBS1f5ATugq+rI2VE2WdWd4XEYiPAMmJ+NjxTCJABHJCgOSEB7w/QIiXHAQHo7Z6fUa9OEWtCoh6nSIfH4Wc8Ht+ICiO4DgIijI2LQl2XprNthO3h6xlZPJrog7+EtlgXzVywm/srqXj4OsxVRpD8GJUTiyowMWpU2fU3sOcNBo1JbNk5PxATuB5ZMyup6YmZX6+3uU5ESQnEEg7fDhJ5QTJiX4PQ8wXKlN00HJSzY1p+KzwvCq2Za+cHxlOfE5wEEQgawSM9Buer71JSm2snXYiRdb3zevFRYDkRFzkeB4RIALFRYDkRHHnjiMnApVFgOSEnnp4SyDAAeO0dvtsbPPNKIH3qi46BLzxQgkCZ5DRoZ8sCuv5UWRMXfIrycpfotd8gQwByYfgIvZiWRuS+ODhgb3gN3bHusf/IyiOdV/0VkRywlRFNJubqlILLQk5sbnZllZLk44gKxBUA8mB5x/mH6QG5vug5wTJibDrH88sfIbjhwHLsKjxOCJQbAS6ScoJlUxhGpIqvIoqGmsXe6aTjV7LOrFyIhmKPJsIEIEiIUByokizxbESASKgEKg6OYHscAQCEdiII+MUXEZe4L3FbM0+ewx4IwAL6at+VRC2yKIibXMtCSa5+5UgIxw/aJBVyjpAjgxo+JKUmZDS8nGoShlV2Z2oSjFEnUdOAPvtIi3hnmMtMjnRam2qai20IDmBIPjCQrjKCT85gXNwriEnYAS7uNhNTqBqA9Uby8skJ+JsAKNZbwx2gwFLPFtMZcUggjzOtXkOESAC+SGAvW72PUhgv7E2PovM3od8Ilt1ECA5UZ255p0SASKgESA5wZVABIhA4RCoMjmB7ErIp+DlBdlVyFxNKv8QJvBeuEViecDGw2B9ffOAmSHmAkFbW2SR5aGn2p0LfiVZ+0v0ArTs5AQMv/GcwFrvVR2C5xL2QFlM34tAToTxkwCBgMCXkXUy5ITf7LqfrBMIDhAdaIacgHcFyFmSE6k+VlXngwKWCFIarwrKwKQ/F7wCEcgSAe1Ro+Xf8NlqGqoV8b3fVFZE8ZbLcvy8lh0ExsYO2enI0V7oOeHoxHBYRCBHBEhO5Ag+L00EiEA8BKpGTqCqF1Xffp13m9nhgwLv8WaofGfB+Bcvi5BM8b8QaimhKeXZgYARAnpJyaIioYdqAVTy5OFX4jeCz9vbA2MBURPX98XlOUdFCp49yNbu99whOZH9DB6UbDok8/O1Lj+J9MiJMVWV0elsqWoyNFM5sbKySt30FJaDMdUGwYTPHdPweQStepNdzaqKFMBnl0QgJwTw3cKQFdj7fmNtfO8xex/fPbj3c5qklC5LciIlYNktESACziJAcsLZqeHAiAAR6IdA1ciJsbERqdfTy8w3ckTBwDtXoIeAIYagwW4yVf1SQltb24KfqjX4LCDDd3W1lemt+yuIXJBSAkHTaMyVjpwIW5VCciLT5a8uFtZPAoHswZUTDZmYmJATJ1ZUv8YQe3DlBMmJ7GfcuyIqtYypNuYLzx80BCdBkpvMasrA5DlLvDYRsI/AIJ8aU1GF/c+9bx/7rHskOZE14rweESACeSNAciLvGeD1iQARiIxA1ciJWm1KpqYmZHt7Vxmd2s7M7xV4jzwpJT/BjxEMC2dmtAcFJE4QxKuqtEYeZuphMvmzXo6QO4I5OAIC8GIoevP72oSpSoHs09zcDGWdMpz4YFUE9sX8/GA/iV6yTsbsOjk5MSfT01PCyokMF8FdlxokAwPyVmdXb/f1S8p+xLwiESACSREwPjWmqspfUQUJKG/v7xyQI016bZ6fPgIkJ9LHmFcgAkTALQRITrg1HxwNESACIRCoGjkxOgpJp4nUTH5NsBc65Ds750LMQPUOMRjB4wMBPmMKDGKin0F2FVDKkpyAvBl8D5Cljxfvzc0tZ0ihMpETfqmysDJVOAdrAdVDkH4qeiuG50RvPwm/IXbQT2IQOXHy5IoivgdXTpxRew/zfVDWieSEC+sesi9+c12/DIzfq4KZ1S7MFsdABOwh4FVUwa8CFVWj+537jbXxuc7mPgIkJ9yfI46QCBABuwiQnLCLJ3sjAkQgAwSqRk4Yz4m0oPXIiQ5LwfuAjKAe5K8gm9HPFDit+XG5X5gggyyA50Saesd46QYxYUghVCekeb2omGOPQu+/6JUTCGqiSghrPIq5NcmJqCsm+fEgHoZLNs2r/WmqIgaTE6fVniI5kXxuXOoB8495x08vc13jVQHSiY0IEIHyIGD2Pp7p+Ds+19HwnNfSb7qqqqqVvy7PNOZqdHTS5SEmHhsNsRNDyA6IQOkQIDlRuinlDRGB8iNQNXICMzo+nt68IiAJw2dkojOjqjfOtRo8P8bVSx2qJyCxxSZiyAmY4qZVQdLtL7Et7babmfkLCzX1kg9fkiI24z2DNY5nQZTMapIT2c94mKqIg8dMyMJCQ1Alhx80I+sEXwrMPfYbzuvtOcHKiexn2t4VIdemvSomFFnBzGp72LInIuAyAgh2Y9+b/Q+vMNPOnTvvM9am/JsL80hywoVZ4BiIABHIGgGSE1kjzusRASKQGAGSE4kh7OoAWVUwvkXQHZlUbB4Cfu19/G+UbPIq4GgMk9MiJ4zXhyaFzjpNnhWVnMBLMEgmEAwIUqAqJWoWNQIdMEeHrr2r5FGU/VgEWac45ISpighDTsDfqNncVLAtLNRVMPvUKZITUdaR68eCiDJ69b0zq7VXBZ4LbESACJQHAXxm++XfTFUF7tBvrM2EpXzmnOREPrjzqkSACOSLAMmJfPHn1YkAEYiBAMmJGKANOAVBCQQnGXjvBklr708LCApkxOPfxKgbI1Tc4AUXQUybASy8mIH4MP4SCJjb7N/uDtK9gZyAWXqzWZzKCchkYe8jgxoBCWTLw3cgakM/9fosyYmowCU4Phw50ZCJiYl9WSdPsqm9X+HTr3LCT07AaBvyfwfJibOyvt5Sd9Fo0HMiwXTmfmp3ZrX2VTINn38gKSABg2BlnGdE7jfIARABItAXAXw2+IlKcyAqYrHnsfdJVGa3gEhOZIc1r0QEiIA7CJCccGcuOBIiQARCIkByIiRQIQ/zJFnOSqezHfKsch+GQBx+0GDyi8A4CZyDc54GOdHtL7ErGxtbTvlL9Fv58/NzStrKZJu7vkMmJ8eVnBtegpMaWXvkxI6qwCp6O3du13kd7iiSTcZzopefRBRyYnn5jHoWeobYJCeKvtb7jR9z7PeqoF59WWea90UEuhHwy79BBipIVGqiAoQFiMoY2QwEfCACwHR0dExGRydKjRQ9J0o9vbw5IhALAZITsWDjSUSACOSJAMkJu+iXTS8+CTrwC0S1hMnYh/a+qZqo1WYSB3GTjM3Fc43sEnwWbJgq2gyYZ41XkciJbrms5B4q5SMnzgmknVxuR470roroJdlkm5yAJMjS0oKqJGPlhMurxM7YQEzorGrtVdGtV4+qCpjrmqoKBivtoM5eiIAbCBii0lRX+IlKvwRUFJ8qN+7MzVGQnHBzXjgqIkAE0keA5ET6GPMKRIAIWEagiuQEvOsQOE+jlS2wGBej7oz9c0p732SFkcDpjapNcsJ2wDzuOoh7HmRtRPZkfV3r9LvYguSbLbksyEI1GrMqkxKEXtEb5LlcJydMxUOQeOjtJ7GipHh6VU4YP4mgITYqYJrNDTWV8/M1mZo6JKZyYjA5seY8dkVfn3mPv59ePT4vTbASZIUNwjrve+X1iQAR8BDAdwhNUkwqsnJ8fHz/l/CqwncA7H0QllG9q4izRoDkBFcCESACVUWA5ERVZ573TQQKjADJCbuTV7bAYhx08LI1M3Oor8QNCZzeqEL6CqQCAqI7O+fiQK8wL5q/RK8bRXAezVVyAvsc0mRYywga+sm3WBPnOwkyECBnSE4kRTL8+Z4cU5B46O8nMYicOHXqtJIlQ9UYJKPCkBNbW2dlbU17TtTrc0ombGWF5ET4WSz+kQhWwtfESECByDcNEmBGqx7BSkrAFH++eQdEwI8Avk8Yrwr8ie8ZpoHgN1VVOzv0qgm7cjQ5Ma5+ytwo61Tm2eW9EYF4CJCciIcbzyICRCBHBEhO2AUfwWFI0iDjEQHLqjXjm4AXAgTktrcPyrmQwOm9KjxyoqPWT9R20JC5GP4Sve4ThtAI0q+t6Wxzl9rEhDZ3x15HsMC2L4RHTmhT7aK3IlVOmIqHMH4SWZATp0+vxXoWFH3NcPwaATzTQVQgs1oHK3XJp6mqMJnVcT4viDERIAJuIwByW+//CUV0B71qzP5nVVX/eSQ54fYa5+iIABFIDwGSE+lhy56JABFICQGSE3aBReYjZDuqRk4gaIKALTI9keEJYqZfGXrZgq+2VhBeQlFxgoB0L1Jn0HWGVavYGmNW/bhKTvjN3eERAHLCdisbwVlWcsJURWC/tlpafszIOpnKCch0LC7Gr5wgOWF7dxW7P+NVAbIC6880fNZqU11IwGyrqh02IkAEyoPysUj+AAAgAElEQVSA51WjJaC6vWpMVZV+BnD/e/OuyQkQu14VWnlWhXcnrJwo46zynohAMgRITiTDj2cTASKQAwIkJ+yDvrBQU1IvMDauQkMm+czMtMrqDCNFU7bgq605xgsnKk/gMwAcwzYQGiA28BKGc8uQRVuvzyhJA5cqJyCXheAgXvwRkE4rW7Fs+6Ps5ES73ZFmM0hOnFHkbDhyYlSWlg5LL1knkhNhn4LVOw7PR2OqHZSA8XtVlOHzoHqzyzsmAoMRMF41waoqnOU31o7yXbKMmJOcKOOs8p6IABEIgwDJiTAo8RgiQAScQqCK5ARkXH1SrtbnA7JOCGCagJX1CzjUoZEiwgtAlEzyqhE4YaYMASYEwCETFCYjH0Fs+B6YahUEzFG1UoZWq82o+1pd1Rr8ebbuqiDtL5FmZiLJiexn2/OcOK1Ivmhm14PIiTFZXFyQTmdL1teDhtirAuIG0j0kJ7Kf87Jd0UjAgKgOVlVo+Rdtrktj3bLNPO+HCBhjbe1X073/91Syi66q2lGfOVVrqJwYGfH8O8p4/6ycKOOs8p6IQDIESE4kw49nEwEikAMCJCfsgw4zW5E9Z818bdxx0HgZGftRMslJThychcnJcSWNFYacQNbc3NyUqi5AlhyIib0SKXm4Qk6AIAFhBJzDVAXZ2VtaGg4GmK0WPSdsYDqsDyPHZDwnBkk2BY8ZXDlBcmIY9vy9fQRAqCKj2lRW9DPWrXpWtX3k2SMRyB8B//7HcwAEuGkgJwxRif0PMr7cDbJOkyQnyj3JvDsiQAR6IEBygsuCCBCBwiFAcsL+lDUas8q4ziVJGpt36TdeRgB1YyO68XKVqkvCYo+AKCohUIGytbXd9zQEnKanD6k1NuzYsNd27TjgADzW1lq5kS5+H4+scS4TeVcEWaegV4QhJ3oTD6dV5Yx3zJY0m7oqwuvHyDodJCcajZrav8vLrJxw7blT1vFgrWq/Cp1V7TfW9XtVlKXyrqzzyPsiAnEQQJKFMdbGc8C//5HcYoy1yykBB3JCf18uc2PlRJlnl/dGBOIhQHIiHm48iwgQgRwRIDlhH3wX9fJt3aU/MI4AOoK2cVoVqkui4hKGnIAnBeagTP4SvXDyyImNXDL78vbxIDkRdfckO94WOTE/XxdI3Z06lZScmFU+PvScSDavPPsgAgjS4TNEV1Z0Z1Wj+hHST5CA0VnVRJAIEIEyIYAYPQgKU1kFXyTTIPlmiAqQluWQgCM5Uab1y3shAkQgPAIkJ8JjxSOJABFwBAGSE/YnwhVJGtt3ZjMwjuoSkZF9HXbbYy1if8huw9rpRfp0+x6cv8v3oBz+Ei6RE365MmQR5+XjQXIi2x0crHgYXDmhiYdelROGnFhePqP8X7Cng54TpnJiZWVVSeF5nhPbsrbWVDder5OcyHYFVPdqJqu6V1WF8aoAWRFFtrG6aPLOiUCxEIDkm5F/A2nRSwKu6GSllnVi5USxViZHSwSIQFIESE4kRZDnEwEikDkCJCfsQ5531rftO0JgHPcEnwNItEDGKWlGFYJv6Les0ldx5qAfOdHte7ArkJope0YrfB7wogwT4TTNp/3z5Jcr0z4e0eXK4sx7r3O07Nl5aTbbtrrMpR+sXVQSIFBvMrJdlI7pT04Mkmwal8XFeeURY2Sd4BUyNQXJpiA5cVbW17W5O8mJXJYiLxoCAQTwtPyTloDCZ75p1dOqDwEYDyECJUNgkAScNtbeUZ/lRSIrSU6UbJHydogAEQiFAMmJUDDxICJABFxCoIrkBBJofO/c1qcDpsYwN84ysGr9Ju7qEC8qCBQjaGHTEBjSVwh8rK7qgB0b1uSoypjGi1+7reWyquAv0WvuPXJiMzERFmZt+dd5ErmyMNcKc0wZPFn8a9d/z/CpwRrXWvc7YeBI/Zgw5MRBySZNTnQ6W/sVYOHIiTmZnp4SUzmBTNWjRw+riilWTqQ+1bxABATwGe3Pqg5q1et9XKxAZYTb56FEoNIIeGQlJOAmAmQlJKDM5/h2ZkkkcSZkbOxQnNMKdQ49Jwo1XRwsEcgEAZITmcDMixABImATAZITNtHUfWUdWLV/B7pHmLYi6xn+BvCWQDDRViur9FUSfDxyYkdlY5t1pP0lOrKzcy5J94U610iINZubKus+zYY1jrUOnEEKuRAwLzo54X92tFptFcRAJnZQOsYVjet+xEN3VcRwP4kgOYHg7tLSgnp+epUTvckJBHlXV7WsU602KyC56TmR5s5n31EQQFLHxISuqMAPqqJMwzNaByp1sBLPUjYiQATKhYAhK+FXoSWgPKkkVJvq6kh3kg4M+iQnyrUOeTdEgAiEQ4DkRDiceBQRIAIOIUBywv5kGDPdLAKr9kcvqkoCgXFkkyN4CBknSDrYbGWTvrKBDTKo4cWBlzv8HcEfLaPVcTorzca9B/vIipww61Cv807qREhYrEBOIMC3vr4Z9hQnjkMAE0F1PDuMZ8f29q7s7nrEpjHkNUFOv8a1CXAgyIG/Z9X6VzyEqYrofwzJiaxmkNfJGgGQ6djDwUAlnlvYu0b+Jct9nDUGvB4RqDIC2lhbE5b4zDcNUpw7O1r+CWSl7feHqJiTnIiKGI8nAkSgDAiQnCjDLPIeiEDFECA5YX/CTdYwMoaLpMsKJBBMm5ubUsHxNHX3SU4cXHfIQms0dFDatoyW/VWebo9pE3x+HxXsURATLmX7Yh2IFIuc0JhCrm1UIN0EUhOYgqTwkxPBlYOghg5y6kCHF+CATwWyMHVGdpreI/bJiVUVkDHkxNbWWVlbM54T4SsnzpxZd6KSJ93dzt7LgIDxqgBZ0R2ozG4flwFH3gMRKCIC+PzH3of8E/7E9wDT8varITlRxBXFMRMBIpAUAZITSRHk+USACGSOAMkJ+5AbmZiNjXahpHj8GvFp6+7nYXhsf6bt9uiXFwL++KlqS5PgQ0UKyDEQQAh+Q7rHtYYKGrSiVE5o0/ZpJfMQxHQYOeHH3gtw6CBHVlUVJCdc2wEcT5ERwL71e1VktY+LjBnHTgTKhAC+E/iTDoJ+NVlWVpGcKNPK4r0QASIQFgGSE2GR4nFEgAg4g0AVyQmAP+5VIFufC4+cgE9AdtIkSW6k299gK/VxZyXbkwSTLM81+OOayORH1U2VW1rkBF6Wp6cnFbS2fVRszpcmJ0b2jZZt9m27L0Nq9sM0CjkRHJupqjgoG4FsbC0ZgT+TVr145ISueEBgZXERXhFhZJ38fhI15V+yvGwqJ0ZlaQlm16ycsL3u2F9xEBi0j02QEnsZ8npsRIAIlAuBbr+aCRn3vYB5vlO6StK2xxhIkdFR/Z2vzI2G2GWeXd4bEYiHAMmJeLjxLCJABHJEgOSEffARrEPwfXNzy3lJDmQ0QsYJ8iNZ+ht4sj3t3PVo7a+A8D0G5YUQFCU5IcqIHUFem9VHhgCCPBAMxl2WXKvXZ1UVwtraRvjFlMORZh8PMm1PQk74b6lfNrbRuDdkBSSlorb+5IRHPIQ5ptHQ5MTKyqpaX5C2CJIT9fqc+nxYWVlT8leY56NHjyiSJWiITVmnqDPJ411HwC//AtLRX1WB/WAIR5AWbESACJQPAfNZbmSgej0DQFTgGbC3l+z+SU4kw49nEwEiUFwESE4Ud+44ciJQWQRITtif+snJcSVxArkYvGi72pDNiIBtHvI2aWXGu4p1r3FNTGgpHL+/xMJCTZE1zWa1KydsVh8BX8g4Fclg3HVyImh8rU3be2c94/9hjmm79TPjBBlifCrw/A1TVWFIBa/iYUyWllA5Magqov8xJCdszzb7KysC+B7iN9X1y7/4PWdsZ1SXFU/eFxEoGgKDngEgKEx1VZyEEtfJide//jq5/favyx/90Zu7pm19fU3++I//QD7xiY9Iu92WhzzkofLSl14r97vf/XtOLysnirbqOV4ikD4CJCfSx5hXIAJEwDICJCcsAyqizCARDEVgy1XfAEMOIHCXh7xNGpnx9mcyvR79/hJ+/Ofn55Txb7O5md7FC9CzLXLCb/C+vb2rKiaK0Or1GZVR7GLlhK62mlZVAZCtQ4XYIAIgLXLCP486E9Mz40R2Nlp3VcV232qZgxUP4cmJQZJNgyonTp9eU/ixcqIIO5JjzAIBBBI9r4puU10EJlFdZCujOov74TWIABGIhgCeAZqs1MbaSCoxzUs80BJQ+K48rI2MjMro6MSww3L5/fXXv09e97rflIsvflgXOYFkjpe97EVyxx1fl6uv/kmZn1+Qd73rr6XZXJc3v/kv5IIL7nFgvCQncplCXpQIOI0AyQmnp4eDIwJEoBcCJCfsrwt8ma7VZpTOeKfjlqmxP4scQUNkPOeRkWgr+Gx/9tLtERnnMzPTguoa4I/Arj8bDOQEAqpFMUJOCy1PGq0jIBXiNLzgQnYIa95lorDXvYGcALGyutqKc+upndNtJr4t7fbZodfKgpwIDsJkYmMd+fWtUZXkl40xpEqjMSfT05BaMnJMmpzoJh6Ckk29jgn2Y2SdtmVtramGaWSdSE4MXTo8oOIIGFNd4znjr6rQ2dQ6SBkno7ri0PL2iUAhEADBr4218TOhyHzTQO7rKkldXRFs+HwfHR1zjpzA95B3vOMt8pa3vEl93w+SE9df/1553et+S173uv9PHve4J6jbWllZlmc/++ny+MdfIb/+6685cK8kJwqxnDlIIpApAiQnMoWbFyMCRMAGAlUlJ8bGRBAoTqN55MS2Coq60jAuyDghyzhMxnOa47YRfE5zfGn07c84RzAFxFAw41wbIQvJiYS+Lf7KIBBARTGmN+sO5Cb2q0vkxDDj6357Zm8PMkv2ZZ3C7lET3NABjglFVqFh75kAJ8jCqanBXhEHCYzwZteooOtHTmA8x47RcyLsfPK4aiLgz6jGXgZ5a1o/0rGaSPGuiUB5Eegn57i+vi5veMMb5Pjxu8kjHnGpXHjhhQoE18iJs2fPyotf/Dy5/favyZVXPk0++clb1Jj9sk7XXvuz8l//9S15z3ve3zWRr33tq+XGG2+Q66+/QQ4dOtT1O5IT5V3zvDMiEBcBkhNxkeN5RIAI5IYAyQn70CMYBs14ZPPAd8KFhpf56elJZ7LI8YIBosR1Xw5bcxfW3wPkBIIwLsr52MIiTD9x1weww7oC3qgIgoxTHpVBYe5x0DGukRN+42uQalEylfMmJ4I4e1UV3ZIROE5X2JxVRtVBI+u0yQkQJTDARqvVZpUfDQ2xk+4knl9WBEBOeBJQ3aQjyGhIQOEnyrOqrFjxvohAGRFAFYUx1f7KV74iz3zm1fsJP8ePH5dHPerR8shHXiqXXvpoaTTmnYCg1WrJC1/4HHnZy66VK674Pnn6058mS0tHu8iJpz71ifLIR14mr33t73SN+d3vfqe84Q2/LW95y1/I/e//QJITTswoB0EE3EWA5IS7c8OREQEi0AcBkhP2lwYy5BFkRrAJWdt5NwRrEZCDPmu73ZGdnXN5D0nJGhXBNNwGUCCFkJUdxt/DdSNkG3iE6SMOOQFSEGsqrBdCmHHkdYwr5EQU4+t+WLlGTvjHaQKcet14mdjYqyC6EORExQMIriTkBIKkq6tG1mlWSbsZWSdTOdFNTszI7OwMyYm8NiCvWygE8JyamIBOPXxn+unUa/mXQf44hbppDpYIEIEuBP77v78lt9xyi9x6683ymc98Rkk+oeEz9oEPvEguv/zRcvnlj5EHP/ghXXKPWcIImUv8GLnJIDkB8+snP/kJ8vSnXy0///O/1DW0m266UX7t135Jrrvu9fL4xz+x63esnMhyFnktIlAMBEhOFGOeOEoiQAR8CJCcsL8c8EUY3gEIbCHLOK8WlBFCFnkYA7ksxlsE0/CkOPgDu9rfY0sgPzGouRKUTnrvSc/3yKuzKvt1WPNXpkBCxyU5tWFj7/V7GE7jntbWWrI33PMxziWGnhPV+Lpfhy6TE2bMxgei2dxQclpB2Ridfb2nAgqeL0V/P4mVlTVVfQEMjx49rNYwyYmhS44HEAErCPTTqQcxoXXq4VexXTi5PyvgsBMiUAEEtra25Itf/LzcfPPNcuutt8o3v3nH/l3Pzs6qygRUVoCsuPvdL8gNkSA5sbKyIldd9VT5yZ/8KfnZn31F17huvvkT8spX/pz87//9W/LkJz+163ckJ3KbQl6YCDiLAMkJZ6eGAyMCRKAfAiQn7K8NBKXn52u5khMI7s7MTKmMIZfkpQzaLpuG21gR/iz+fv4Sva5DckKjEoW8MubqCDzBoDlPfwMbawd9eOTERi6ZvnGMr8tATngm1ZpUQCATxGLQqwLP1J2dHSW/NMhPIi45MTc3I/ihrJOtHcV+qoyAlnKbUBIw+GwxDXsbexlEBbKsXUneqPJc8d6JgC0EtCE2TLTH5OTJE8rfAVUV+LPV0pWMaPe//wPkjW/8Y6nVarYuHbqfg+TEslx11Q/Jc57zPHnJS17e1c8tt/y7/OIvvkJe9arfkh/8QZIToUHmgUSgogiQnKjoxPO2iUCREagqOTE6CqO09GZuYaGmtI5brXZ6F+nTs98M2NVgraum4TYmq5sY2lYB87DNhYz5sGNN87iw5ATkeIB32MqUNMdss+88yYm4xtf97r9IlRNBcsJUPOhquJqqqMBaA+lgGgKanc6WCnBCvg2ksNfPiBw92tvsepCsE8kJm7uJfREBDwHsXb9XhX8v+70q8Hc2IkAEiouAn5zw3wUqmL/ylS8rogI/zea6/P7v/6nMz2fvSxEkJzY3N+QpT3miPP3pz5Sf//lXdoFvZJ1++7f/jzz2sY/r+h0rJ4q7TjlyIpAWAiQn0kKW/RIBIpAaAiQn0oEWsk4IWjWbm+lcoEevCKAhqInAv+tmwJ5peLTgfWZgxrxQUmIoz6B0zFtO5bRhlTUwQgRW8AmIUpmSymBT6DSvdZDE+LofDMUgJ7p9IHpXPMztEw8IeoCIAIlg/Clw/+bvGxttabfhN7SXiJxYXV1Xmd1sRIAIpIMAiHDjVRGsqjDyT9iDICXZiAARKBYCqJwYGUkxEy0hHL0NsZ8kl132KPnN33xdV+/GEPutb/1Lud/9HtD1O5ITCSeCpxOBEiJAcqKEk8pbIgJlR4DkRDozDPNUBKbW17MhJxDMhfE1gmrI+IO/RF5a9WEQ9ciJnbuCeGHOcvcYEEPAH8ENncXfUQRR1GYqAdbXNyotMTGoskav9WkBQeGiZFnUOe91vDGxz2od+Ncv1i3Wr61gHAL2xpjSBjZp9AEjer9JNdZWsOLB+FL0qq5A5QQCnCAsgKVp8J2AT0W32fWsWr9GsqmXIbapnCA5kcZss08i0BsB7HtIP5nKimBVhSEryiAdyDVABMqPAGSdJgtHTlx77UvlxInvyN/+7Xu7pui1r3213HDDB+WDH7zpgKE3yYnyr2beIRGIigDJiaiI8XgiQARyR4DkRDpT0GjMqiDV2tpGOhfw9QrNffygQf8cP643BAFA4OAlf3MTGcbFbSBakOnuEUNbsX0CvKD0prXgcBGR7UdO2JYcchWbLMmJg8bXdonNIpAT8I4AYTBIjukggdHf7Lrd7qjgAchKQ1aA7MHzDv8GkUFywtXdx3ERAY0A9q/2q9BeFd5eBuG6o0hXyLnFSUQgxkSACKSNAMiJ7oSBtK8Ytf9elRPvfe+75fWvv05+53feKI95zPeqLldWluXZz366PP7xT5Bf//XfPHAZkhNRkefxRKD8CJCcKP8c8w6JQOkQIDmRzpTW6zMqWJ0mOYEEXWT7as39PVUtAYmbIjSt4T6Xq2m4DZz8/hIghTqd8P4Sva4PvXoE4CEHVuWARy/ZL4NN0dZ6nHWWFUk1MaGrULAfEWSL4o8S9r6KRE4YwqB35USY6ore8lDQuAbG/kxsPKu3tmDgvi2HD893VVd4lRNNNS9sRIAI5IuAJhU1UYHqCnxGmYa9bEy1QVq4XLWaL4q8OhHIFgFdOeFVM2Z79eFX60VOoOLyhS+8Rr7znW/Ls599jTLqfte7/kaazab82Z+9Qy644B4kJ4ZDyyOIQOURIDlR+SVAAIhA8RCoKjmB76pjY+nNV602o7wfVldbqVwEL8YIKuJPvBiDmEDQtigN+MNgFhJUkJApYuv2l9iS7e3kBppG85/kxKggUx2yTSB8PC+Vc3dJDhVnrcdZ21mQVFlVoeC5tLPjdoDdVE4EqxmMITbmMJz0Uzc5EZRsQvY1roVs7GADGdlqbaogJ57tIChWV0lOxNk/PIcIpI0Avt/5vSpMAFSTsTvqswvEY1ESRtLGi/0TgTwQKCI5AZxWV8/I7//+/5FPfOJjAt+uiy66WF760p+T+973fj1hZOVEHquL1yQCbiNAcsLt+eHoiAAR6IEAyYl0lkWahrb+bP20sp3TQaW714WFmnpxb7XaWVzO2jXSNB43hAcwqXJQAxnmkEYDeQUCzkhmFZXIirr40iYnsqxCKTI50csrwkg/GeLBT2AE5aF6+UmYY0A8oELDeFWYNYLgJiSgYPbebG6UwpMn6vrn8USgSAhgn2v5J11Zgb1rGqqmQFToygpUVZSbWC/SvHGs5UfAdXLC1gyQnLCFJPshAuVBgOREeeaSd0IEKoMAyYl0pjotY2OTWY8X3HbbTrZ+OggM7xWyTgjCNZvFISds+kv0QojkhEbFeJJgnSPwg+qJInipDF/14Y5Iq4JGE2tTyg9BG1+3U6+4Khs5Mcgrol8FxiBDbKyI48cXFRGHAKbRt/eCm/Cq0Nr2CHIyuBluD/EoIpAXAiAnPAmoiX1ZGexds8+xn6ucgJDX3PC61UJgbOxQJW6Y5EQlppk3SQQiIUByIhJcPJgIEAEXECA5kc4s2NaMR7AWhAekBBBUhIxT0T0JNDmxp/wVitCQGYmgMQK8Nvwlet0zjM1BUKBCAEGMqjY/CQfD9Kph4ZETbUHmrY3ml4IDnniGZJHEWwxyYkZmZ2cGmlTHIR4GVU4YksMjJ3bk9Ol1NdXmWiA1QCTh+Y/G4KaNncA+iEB2CEDCEt8d4FMB4hHf4UzDdzgSj9nNBa9UPQRITlRvznnHRIAIaARITnAlEAEiUDgESE6kM2U2M5/xMgtiAgEq+Bq029kEFdNBxusVsj1o6+vukxNZBcurTk4gmAtiD9r8aEX2JEmyf2xX0PiNr9Mi1vrd7/nzuwKDx/PnxVljSmNAbbsqojc50U2EADddOeGRE0FDbC0Zg+DmhCIrvOAmJWOS7DOeSwSyRgAksTHVxr4OEo/ar2K7coR81vPA61UDAZIT1Zhn3iURIAIHESA5wVVBBIhA4RAgOZHOlNkKLiJYjR80BBXLJG0Dg1m8mK+tbaQzCRZ6DfpLoKIBUlRpNQQf4QeArHYbBttpjTONfoMm7yDlSE4k9x5BIGx6Wj9DII8FaaCsmvFPgKGjkSPCn6jYMJJdWY1l0HU8MmBd4YNs52PHFpVGPAgLNFuVE0EiBH0bWSf4WaAFyQn/2P3BTTwvaMTrwgriGIhAPASMVwUqKwwpj57wPcPzqthOXX4v3uh5FhFwGwGSE27PD0dHBIhAegiQnEgPW/ZMBIhASghUlZwAnL4EVOvoJs2AR3AM1RJ4WcVLKqRtyqZPXK/PKKNjV8kJXbEytW/GnIUMjkdOwE8kuyCy9Q0QsUOsc2CNQKsxeS+qYXrEW+95uC1yM0vj6+CNQM4JpIRItwGsJifM/8H8WZMVJshuA7+offQiA0AYdJMTcaSfDpIcScmJ4L15VRVByRhUVWifCkjHZCHhFRV3Hk8EiICHAL4P+b0q8G/T/F4VVZM55BohAnERIDkRFzmeRwSIQNERIDlR9Bnk+IlABREgOZHOpBtyIk4GfDCDHNn6ZTRBrdVmlP7y6mornUlI0CsCBAgQZ23GjEAjgvQwO88ywz0BVIlPNXtFm7yf3SdlqkxOeORmW3Z2ontOHKz4Sd/42r8QQKiCdBgZ6SYmgotFP9c0OYGWV1VFP3LCL7WE51W3L0WY6or+5MTqqq7SQAtWToCYRqXG6mpTEQxhm6mq0LIxvaoqNFlhy8ck7Lh4HBEgAtERAGmv5dwOVlUY+Sfs5zSrOaOPmmcQATcQwPeg0VFdNVr2RkPsss8w748IREeA5ER0zHgGESACOSNAciKdCYibAZ+F6XI6dxy917k5XRmyttZyKqvXZJsjUJq1GfPkJCoIplWQPkpQMjr6bpxhjON7VQeRnIhnjI4ANfYWsm6zNL7GigIhocmGeNJn/qoK8/csqirCkBMHfSl6kRO9/ST8FRhBCSngZouc8O9qbcSrfSoQ3Bwb84x4UYWnqyq2K1Wh5cZTj6MgAtERgASmMdXGng5WVRiyokoVl9FR5BlVQoDkRJVmm/dKBIhAEAGSE1wTRIAIFA4BkhPpTJkXZA6fAe8PiiNzvuyeAx45seFEZQhe/kEMoJoDmcUbG1uZZySCrAEu8AYok79IcJcBa9wnAqYIlKLCSAe2vTY/P6fwbzbb6WxSh3uNKwvnl8fK3vga8+d5SySFNyj/pH0q0vGq6E9O7MpBH4juiodexIMx1vaIh/5m14PIibW1prXnAJ5rhqzoX1WxLefOxSOWks43zycCRCA8AnjWG0k3/N3I4uFzFM8kSLmBfOR+Do8pjywXAiQnyjWfvBsiQASiIUByIhpePJoIEAEHECA5kc4kRAkydwfFz0vapsvp3HH0Xk3W/Pr6Ru5mj9pfAtnmI+rFHhUTebSJiTFlhltmciIs1pqc2JNmczOPqcj1mnHIiX7yWFnciDG+DvpL2Lz2waoKe0RFLxmlMCbV+phexENQsil/csI/FwjaeF4VE4Gqil2fEW91fG9srlX2RQSyRAD72fOqQJWU51VhqqRAVuC7Db1nspwZXitPBEZGRmV0dCLPIWR2bco6ZQY1L0QECoMAyYnCTBUHSgSIgEGgyuQEVC4gfZFGQwAWGuVbW2el0+mvGY5g9MxM/i3/5/MAACAASURBVEHxNDAY1qdHTmxmXqHgHxskT6antS4tss3zrFjw1s22IijK1oyXB+4L+2KQdFWjMackgtbXq0dOeLJwnVAVVC4aX6e5dntVVZjKmzjG2oac8FcqhCcnelVXeF4RcfrpNZ408cRzx69t352FrX0qsFepbZ/mLLBvImAHgX77Gc9Nv1cFvWfs4M1e3EMAa310dIzkhHtTwxERASKQEQIkJzICmpchAkTAHgIkJ+xh6e8pTJDZn+k8LFCbzijz7XVm5pAKiCEzPi/pAc/zAP4SHSUxlGcLs27yHF+Sa/tly1AdNAzrRmNWXa7a5ATk3fpnr3cbX0OK7KA8VpI5G3ZuWOPrYf0k/X3SqoqqkxN+/AdlYcPDxPhUUNs+6arl+UQgfQQGVUmBnDDEo66q6JZWTH90vAIRSAcBkhPp4MpeiQARKA4CJCeKM1ccKREgAnchQHIinaWAsvp6fVa9+ME/Ihj8QVAc0k+9jIDTGZF7vU5PHxIQNK1We2ig2vbo/Z4H2l8i26Buv/sZtG5sY5BVf90B9PCyZZqcGBHIflWteZUT/cmJIhtfpzmfB6sq9uT8eVTJ9S+T88iJlqp2Qzt27Ih6Lh30nEhWFRHG3yLryolB8zE+Pr4vGdOtbX++KwubVRVprmr2TQTsIACfJ08CamL/uYjnpiEfQUAOSx6wMxr2QgTSQYDkRDq4slciQASKgwDJieLMFUdKBIjAXQiQnEhnKSD4DVmaoH+BP6CIlz8ExauarQYppampQ5mTE2E9D9JZGYN7NeREnr4XNu87SQAd5B720dpa9cgJ+AGAwASxCYIz2MpkfG1zvQX7Ms9W/5+9TLX7kRMgLldW1lS3YUiFuMeACPFfq9d40sQpbN+6qmJyP7g5Oupp2/sDm/g7GxEgAm4jAL4WnzWTk9jTk4LvRqahmtWYauMzqKrfU92eQY6uHwKanBhXP1Vo9JyowizzHolANARITkTDi0cTASLgAAIkJ9KZBARxYOiLIA0ICDSjt4/fwdegjJ4CUdCMY/obpf9ex+Ka+EED/r0Cv0mvkeT8fqRWkj7zOndyclwg5aTX+2DvlV5jrNdnBMFPkhPd5ETZja/TXK8H5Z/2lEEsSIVabVbW1rorJ3oRBqurySoneplvF4WcCM4NSDK/V4X5PaooPLkYeFVQLibNdc2+iYANBJBMgP2syYreVRVInCD5aANt9pEmAiQn0kSXfRMBIlAEBEhOFGGWOEYiQAS6EKgyOYGkT1/ip9WVgYy0+fma7O7uSqvVUUFavOzhC/Pm5hZf7hRZMynwnYDXw/Z2+pm2rvlL9FpwvUgtqwszo86MZFeS9Q5DeWRyrq62Mhq1O5cBsYMgdrBywlvD59VzJEvpDcyllu4pR6BZZwJrcqLRqKnnEciJTmdLEWqaMDgvKyuramHY8qUoEznh3zEgVv2BTVNVYeRijBEvA5vuPGc4knQRwNpvNpuytdVRz5SpqWmp1WoDJebSHVG03lFVoff0hJIhNY3kYzQceXT2CGhyYkKZYlehsXKiCrPMeyQC0RAgORENLx5NBIiAAwiQnEhvEhYWQE6cExAV0PnV3gZbdwX40rtuUXoOo6tv414QJJubm1JzgPkAGeJqJm/RyQmsdQRfjZ8Kqobimp2TnJhW1T2osqLxtY0nwcE+gCvkwyYmJtSzYXV1fV++ZGnp8FByol/Fg7+6Iuhd0YvkKGrlxKBZ6VdVQbmYdNYye3UHga2tLfnkv39S/vM/viq7zXMysjcqYEHPj52XQ41xefBlD5ZHXPoIOXTokDuDHjISfI/ye1VQ0q0wU1fZgY6MQNaJ5ERlFwBvnAhUHAGSExVfALx9IlBEBEhOpDdrkHVCQwCsLB4CNtHqlx1u8xp+bf5e5uQ2r2WrL0NqwSi8SE2TQNMCaQgbfipVJiewboElyAlkmuPvwNcvE5fF2tAkHqoLUDFRrgY84QsE0nJnZ0eazU1FTOD/6/U5VbUDObJms6WqK2ZmkPUM6SdkQm8rMPqTCnGO6VWl4clMFRn97sDmpPKSQaMJb5FnlWMPIoD1/G8fulG+fOvXZHavJrXpek+Q1tvrsjW2IRd/74PlcU98XCGBHCTpZqqk8J1LV9uxEYHsEUDlxMiI54uU/QiyuyIrJ7LDmlciAkVBgOREUWaK4yQCRGAfAZIT6SwGv6yNi94G6dx1tF79AVgT7IvWw+Cj/dr8RZqDIpIT3STQtrTbZxNPJQLy6BdSO0qBp0LN7A0Ed0Di5eFTo4mJ86U0Qh0fH1cVEwiag4DY2NBEIAgJEBP6/7dlY2NT/b82qq+pP1FdYQxijx9f7GNknYycABGC8fk9MP5/9t47SrKrvhb+dVVXdVfqMNOTRzPKWUJolJBksDBCJIGMEkkEBcAGg5eN/d763vvnrbfs7xnj94EDBisggQCRQQiBMMGA8mg0SBrlAEiTQ6cKXV3V4Vv7nDlVp/LNdcPvrDWrpe4bzt3n3Ft1f/vsvcM0/ZVdDFZiYyxUg6pifr4i/qHAySG8YRr1cF8L5uoPvvUDmnx2lsZSKwxd7GTpIG141Rp609vfFBirp3YXBrJRhWrjnm5WVSiyAj+5MQLeIICFBkkmJ7wBm8/CCDACPkSAyQkfDgp3iRFgBLojwOSEszMERUT4wqO4qAorUQz0NYKqW+REs7WQ1978Rq692zYgJ2ABNjsbDOWEWyRQnZwoRK5ImUjERUgzGp4jIHu8LOyAmJBqifCxQvBQB7Z4VsPiDRkTaCiYQxmB35dKcyLvo93vsQ/GBNuPjY2IXKEDB2QuRT1Ym8kJo89BED56YRP4q3kPpZAiK7zMVzHad96OEVAI/PSue2j39v00kho3BcpU6RAdf+HR9Eev/yNT+/l5Y6WqUFkV6p7G5wo+xyoVSUBatXz087Vz3/yCAMiJoUCTfmaQZOWEGbR4W0YgGggwORGNcearZARChUCUyQmZBeHccMIeBNkGyn4Fq8nw30xOtMcYq5Rh3YMVylA2ONFQ6IKnu1PWQk70yewxYAeGl3jYzPi9uRnQjHGEamBmpuDbjBC3xkcRMyiCI7fDy8Js2IKv9TFKp4eFPROuMZ8v1gifVGpYPDck3iVROEODAi6TSbf8fngYv0+JbXAcqC/QQE7g+M2ZE+2DteuWTc3h20o5MTODgG5nno1uzVWnj1tXVSSFkkU1ELaSqJDFzaipqZzGmY/nHAKTk5P0tc99g9bnjrB00N3FV+hDn7qGMhlpBRqmBmKinlWRFN/NVMPnmlRJKaVUmK6cr6XfCEjlhCS7w96YnAj7CPP1MQLmEWBywjxmvAcjwAj0GQEmJ5wZALx8oZCl269E2TPfCKogc0ZG0uLl1AkbIDeshYxch9PbwAcfK9ZnZvxLToB4k/kS7oWMK+IjSuSEHnyNeeXUvWF0jsIfHMTYwED4FBNQRUA1gWucnS3UCB8QCiAbuv0eBARW8aOBlACZAZzy+ULb309OTtPS0qIgNVavhvVT9zwJJifaz1AUMjFm+AfSQldV6L72IC64MQL9QuCH3/khFZ+rUDJhLeC6VC7R2rNW0Bve9IZ+XYJn5wXhqO5pfGfje9oz6CN3IiYnIjfkfMGMACOgIcDkBE8HRoARCBwCTE7YHzJVREUhChZCqogVZVsaI6hKH/eMWAmrLFSM7NduGz3jw2sLHKt97rTf6GhG/Mmv5ASKCyjQgqBwM+i9Tk4UIxGqiftBBV9jRakMZHZOVdRtnoY5+BrFL+RIoBAGXEFMgIiQv89QIpFo+T2IDBTDpb1aQZALWICZy2Vbfg9cFfGB7eT2kpjA70F84D5BVoUM1h4W/dHzJFavXin6dPCgtIdS20RROdFpngJ/XVUBYlQ1tQJbZVU4/Uzm4zECnRCoVqt00z/eQmuSG2yBtH9pN334U9c35DXYOmAAdsYzWM+f0e9pqZSqcv5MAMbRr11kcsKvI8P9YgQYAS8QYHLCC5T5HIwAI+AoAkxOWIcTlk2wccILFV6kYL8ii3yyRdmWxgiqwA+FeDsFbj3jA8U9jEHQfYxlUO+AL+3AdIUQ7GbcCDJXcwcFWpwP9lZBH9Ne94Ou+gGmIDihvPJCORHm4GtJgGbFMxrPGSgdQBC0/r4oyAQ8k7A9iCGMAYgG+XtJcCC8udPvkT0hiQ8oT1oJEbW6f2wsJwgRkBUYa2wLcgIZHyq7gsmJXncMxlCtwE50UVWwr31vJNtvgfn8zJNP04F9B6g8V6bhTIo2bFxPxx5/XKQK6L3we/655+iXX7mPJkZX9dq069/3zeyhSz/yZtq4caOt4wR55273NOfPBHlk+9P3eNyakqk/vbV3VrZ1socf780IhBEBJifCOKp8TYxAyBFgcsLaADdaCLVf+R+1ld9mkUTBDxZGeOkEqWC2NeZL4BjlUAQnw+rKj1kliiyQCqE5qlbdtVJJp4eE/UPYyQk9UBwKokpl4XDxHKoiZyzPOt1bYQ6+xjMaSgc8ZxB6jTmLJn8PAjAmsiKQMYEGQgIERLffYzxg8YQmbelAfMTEONV/354Q0YkPECXT07PiOPj9ypVjQjmxf/+kICuYnDD3adBtBTaK7PoKbHNHjt7W09PTdO8v7qNXnt1JyfkUpZJpisfitLi0QMX5PC1lF+m404+hcy88J5QZCWZH/JGHttKT9zxPufSI2V0btj80e5D+6N3n0YknnWjrOGHZWSmlkklp69aYP7NUC9XGvY3vJNwYgWYEmJzgOcEIMAJRRoDJiSiPPl87IxBQBKJMTsiClPmB0y2EsHocL0ftWlSKq+YRlHugoITwZyvkBIKSUcDTMz6s9sNv+/ktq0TPQYCCQSqEllyHTd1n+XzJ00Bo1y9MO4EeKA5yTa2ud9LyrNP1hDn4GoQPgqzRQEqowGoUuZAxgTldLJZqYdOwFgFhgd+XSnM1m7lOvzdCfOCzAeeQnzO9iQ+cF0QJxgWZFiA+2NbJ2t3YydceZBzCdxVZ4cVzzNoV9Gevh+5/iB6+ZxtNDK+hoS75CaVykaaWDtIlV11Mx594fH8665OzPnjvg/TcL39P2ZS9MOup/CSde8WZdOppp/rkyvzVDZU/I8mKxvwZpaoA6atsVf3Ve+5NPxBgcqIfqPM5GQFGwC8IMDnhl5HgfjACjIBhBJicMAyVKFzBxgnWHkYshKJQXDWOXvstx8dzovCMArTR1pgvIVeah6n5iZzQcxDw0o9Cr1eLFMN8/+iED+Y/cNUt4dwmJ3AumbsQvhWnKrAaRX6oGVCwQgOZmU6nRPFf/z2IAOyD34McgAoCDfMP26Ppv0eGBLZHa0d84PcgGkBOoOkEB7aHiqP59zohgs8XqeAYENZP6L+aGyo8NkzPO7evBZihmClDtZNC6aIanmmKrFDzxO3++PX49/7yN/TUr5+nicxqQ13E/bK3uIsuuuK1dPKpJxvaJ4wb7Xh8Bz30nUdpPLfC1uUdmNlHb7z2IjrqqKNtHScqO6usCvwEWawaPtfqSqlKw+dqVLDh65QIMDnBM4ERYASijACTE1Eefb52RiCgCDA5YWzgZAjwsLDgkEXa3hZCyq4FK815NVd7nM2QE2HMl2iHSj1IPe8ZEdCuH/1Wp4SVnNAJn055K07ksXR6sqF4I3MRwkdMIK8FBWg9mBo4qMBqXDtyIUAIoUFFAbJB/r5IsABCg+oC8w+/B5Ghnt+K+AB+yK9QvzdGfBRrKjud4GgkPloVHygCK9sS+d8k/p+JCmOf3c1bdVZVwCpGBvCiuBklVcVTO56i33znflqVWWsa1N2Fl+mKj7yT1q4zv6/pk/lwh9nZWbr9s1+ntWl7gdh753bSB//6/ZROS8UXN+MI4POyTkAmGjJR9KwK/h5uHNMwbMnkRBhGka+BEWAErCLA5IRV5Hg/RoAR6BsCTE70ht5qCDBWasLaCatlw7a6vzdqxraArRMKfSgMdmutK/h7k0PGeuC/rerkhAzj7UfzgzoljOSenlXTLVBc5bHYCYtvnjdy9T2K2+5bcnk9Z/XA6l7B1FIxgsDqjAimBlEhg6zxexAZWaF2gMUWfq/C2BXBYY34qBMinQmOlFB34J7HedsV0nSiQo4lFDDSIo+beQSkqkLaxOAnipyqRaWoiTl0yz9/icarxhQTzSgvLi3S0uoyXf3Bq80PQEj2uP3Gr9LwdI5iA/X5Y+bSFhYXaGB9la685kozu/G2HRDA56y8r5MtqoqoEpBRmyx4tsdiychcNgdiR2ao+UIZAcMIMDlhGCrekBFgBPyCAJMT3Uei7gm/LHzIzay8QsEDxSaoLKJuGdEJZQRio8g2M9OZnEChECRPGPMl2uFSD1JHwdRbcgI1ThRP8XJvxLrMzedY2MiJdsHXnfBzmpyQ82ipb2SXm/PESjA1njvYD89lKCNQoNUDq/GcB0Egfw8iIyvs/IwSHyAyFMExM2Od+OiFG6sqeiFk7u/1oiasYhK1ncNsFbPzlZ10180/odVZ68qHvaWd9IG/fl9kA7Kff/4F+uXtv6aJnDWCZ39+D1364bfQhg321BfmZns0tsbzW4Vq4zt5MwHJtm7hnAdMToRzXPmqGAFGwDgCTE4Yx4q3ZAQYAZ8gEHVyIh7HqtPWwcALDFawY8V+O094I8MHWxwUekFqdArNNnKcMG8zOppBNDahgNeuqVBxFOFA8pghh4KKW52cKHpqLdI852FH1i/lBsYuTMqjxuDrudpq/E5z1E5YfPMxwxx83RhYXRZZD2idAqtlnkNGFKgQkg1LJTQ9sBq2PiAs0KwQH5LIiFO1WhWKsGaCQyc+pIIjK/qrEx9Wnl3NqgoQUhBesarCCpokSCmVU9Fa1IT9k7SACvpn0je//C0a2JOgeLzu228WMQRkrz97Fb3+kteb3TUU2+Peu/Xzt1JqdpSSCXOrtcuVOVpeXaH3Xv/eUGDh94tQBKTKqlDPRzwvQVZLsqLS8zPa79cZ9f4xORH1GcDXzwgwAkxO8BxgBBiBwCHA5EQrOaF77aMAAXLBSsNLEAiObvYtVo4bpn1koXCApqcbyQk9MBg2KrDGUvYqYbr+dtcCtQ2KYShsenXNut0QXsxLJRnm289WVx4F1xatV/B1J3ydIidkgRo2Tt4qcLyYN50Dq1tzG9AfFJqRMQFsjQRTdyI45O8lwYFne7HYSnDoxIdZgsMJ7CSpKMkJNM6qsI9qN6sYlVOBn/0kdK1c5Y3/dDOtXF5jZdeGfeZGZum9H36P7eME9QClUpG+/G+309jCKsMERblSpmJ6mt7/Z9fQ0NBQUC89sP2Wtm7S0g3qCixGUg2LkuR9XWHlcwBHeGAgRrFYXf0WwEsw1WW2dTIFF2/MCEQCASYnIjHMfJGMQLgQYHKikZxo9Nqft/VSgtWzuVyayuWKKGJxa0UA+ACnqal87Y+t4eNYwR8d9JRaxCtyQrcbwjz1i8on6LZoRoKvO81qJ8iJMAdf60HW7QKrUSDG75WdXufA6iERfo3tG4Op8fuUGB4QGSAb0BoJjlLtud6o4JirEdooaEMZgfEEyd2o7GglONx6yrXaP7Gqwg7WnQJ4gbOeVaGC1+2cy+19v/B/vkirB+3bCeVTk/SBj73f7e76+vjFYoG+ftM3aGA6QWPp8Y6qJcyTqeIhSqwdoKs+cBWlUvJZw62/COC7p55VoVQVGC89qwJ5RNz8i4BUK8aZnPDvEHHPGAFGwAMEmJzwAGQ+BSPACDiLAJMTkpxwY6U+kxO952ozOWE1fLz3mYKzhSLI8vmSsBRzs+mZKijCun0+M9eCgi/6F0RbNF19ZUU5hWfS2FhOFDphr2WmhTn4Gs9pPc/BqcDqdgQHcMzn68HU9giOkiCp0ToRHGbG2M62raHaUFZIdQVbQFlDFs8qtQIb1mGqQfmmr772o6rii//wH7Qqvt70hS/TMhULRSqXy7S4sEBzo3m67hPX0ujoqOljhWkH2LPteGIHbb/vtzR3sEJjyXFKDEqrp0p1nmYqU5RZk6ItF55JJ51ykrCO4+Y/BPAslPc1grVhe1YfJ5ATSi0F0sKP97X/EPWuR0xOeIc1n4kRYAT8iwCTE/4dG+4ZI8AIdECAyQn4k8dFERSrIVEMRJHWiZX6WDkN2yI71lBhn7iwvcLqYtg6oSiPl8Ao5Uu0G18vyAlYaWFlOAg0q5kqbs/NoGa2pFJJGh4eEvMYxEqlsmAJqvHxnBgbkFRGW5iDr90KrNYJDjyvYe+BorL8vSQHQYigSAU1Cn6vSDxdwQGlEwqTaLi3UqlhEWhvhOAwOr5ubMeqCmdRxee+HsCrr762oqqYn5+nbU9sp52T+6i6tEjxWIyG4wk695QttG6t9RBrddU3f/YWGl8wHuS8sLhAe3btof27DtBSeZliFCfEdk0nD9DJZ5xMI+uydM5rz6Jjjz+uIXzYWZSDcbR9+/bSU489RYV8SSyCyYxk6LQzTqWJiVXBuADuZQ0BfFeS93VCkBZ272uG1j0EmJxwD1s+MiPACAQHASYngjNW3FNGgBE4jEDUyYlMJkkoJuJFw8oK524TCQXg0dGskIMjzJlbKwIo4qEIjSIgVqahKIiV4igCRrUpmyXg4EbYqm6b5ee5GcTMFrPB193muFlyIszB13pgtbU8BxVMDcJYBVYvCKKhObBaD6ZuDKxeFNvj2YRCYy6XFUUqPLuMKDgaiYw6weGn51w7VYUkvDhY2+o41VdfJwUZrJpcfS1Dtdutvj548CD9avuDtKt8iIaPXkXZFWO1fReqVZp+aQ+lZ5fozKNOojNOeZVlIuDu799N00+VaDg53PMS9+/bT79/9g+UXB6ioUR9+0I1T6uOHacjNxxNS8tLNFk8RDS6QFd+8AoaHx/veVzegBEIEgJ4/uO+ViRk4329VAvVxv3NqgrvR1Z+pg+Kf1FpnDkRlZHm62QEjCPA5IRxrHhLRoAR8AkCUSYn8IIxPp6pBaQ6bWnjhG+8T6aJa91QygmcACvM4cnuhGrFtQ57cGA3yYkg2WYFiZxoVqKAWLJblDBDToQ5+BpzNputP6fn5iTR25jz0DvPwT7BASKDRBG4HcHRSGRI4gPjIn+foUQiIRQXiuDw4FFi+xStqgq2f7IDKlQVytO+efW19LSXZMXjTz9BP31+K6089UgaTHYOdcX4zOw5QCN7qnTVG98hiqVm28zMDN3+2a/TuszGrrvu2rmLdr+wl7LJXMt2B5b20AWvuYDicd3SaoH2Leymd33kSlYKmB0U3j5QCKj7Wikr2qkqcH+7sdgkUEB51FlJTiRE7kRUGpMTURlpvk5GwDgCTE4Yx4q3ZAQYAZ8gEGVyAkOQSMRoYGBZFJHcaLLAuED5vDnfeDf64rdj6oVyFGRKJQ4NxxjVg6DnLFsCtRtrFbQdFNss2K1htbnTiian7wMofrJZaQvnpBIFzw65Kr+7rVOYg69hjQR1VbfAaj3IWuU5YIxBdGLuoHUOrE4I4kAq58rC0k9+LgwKKyeMqa7U0AkOPLOQVYEmLfyyQv1VqVQIFk9o2B/qOfn7qtjeLmnl9Pw1erxWVQU+N1lRYRS/5u301dcgpJWn/WNPPk4/ePp+WnnykeL+x79ehH25UKTYUwfpmrddZSnD4PYbv0rDU7mO6otDhw7RSzt+R9nESMvlVhYrRBNVetVJr2752+LSIoG4+OAnrqF0OmMVKt6PEQgUAnpWhZ5Bg8/qelZFxbX3jkCB5UJnmZxwAVQ+JCPACAQOASYnAjdk3GFGgBGIOjkRi6GA5N48MLP62b1e+O/Iyv5GhbB6Ef7sPxTa96hOTiCvoGq7281h70GxzQpCoLzd4Otugzs2lj2ccdCenAhz8DVw6WSDlMmkRT5Na55DihBajWcKSAB17xghOIrF3oHVnQkOEBlZgnpGJzg6KTVs39A+OIAiWPSfHKptb2BAThQKs3TrfT+gDeee3HAwEBRQ3eBnp4UUpalZWrOP6NKL3mS6IwcO7KdvfOHbtG74iJZQdARfb39wOw0vZWhApEvUGyycDi7vpvPOvYCGEkNtzzs3P0cTrxqhS952iel+8Q6MQNARAEGN73QgzvEZgv9XTc+gYVWFsyMN5cTAgIsvd8521/bRWDlhG0I+ACMQOgSYnAjdkPIFMQLhR4DJCXfJCVlgXK6tpA3/jOp+hbr9jSq44KWNyYk6bniBBXmDMGXYfNhpWNEN6yynw97t9Mnovn4nJ1RwuVtKlG7PjjAHX9vJecDK1JmZepC1U4HVGOt0OiWmbielBlQXUFmg6UQGfq+sqIzO/aBtx6HazozY93/+I5o5Ok3J1LBQ44CwwHNQ2cTgLLj3dbJCP/PBR1+gG15/JaVScq6aaS+98BL96Ks/oXXpjRTTinqwfXp++4uUSWYbDre4tEAHl/fSli1nUy7davWkb7x/cTfd8KnrLKk6zFwDb8sI+B0BqPKUtRv+WzV8dklrt4r43hfl3DUnxpDJCSdQ5GMwAoxAkBFgciLIo8d9ZwQiigCTE+6SE6Oj0spgZkbafES5ySBmFMoHavY3buYrBBVrrMYHTnbtjPRV/eVypWZxExRcUJgbGUmLl3W/WX6pIHcUEKBEQZC7060TORHm4OtGe6S6DZKdnAcUckFYqGIPbJzgDY4xm53N18YOuRZ4HmE75EKoDKK6UmNJKDLUCleQFWaUGk7PD78eT6oplmtWRJK44KyKXuMFO7Av3PN1mjjruJZNMf/x+YlnIu4R1YCrsn7Cz/zkLJ2Qz9Jrz7mg1+na/n3P7j30g6/eSbFCglZkJwRJseOxHTRQGKwRFrBqmlmYpOX0Im151dmUGupNhEwWDtG5l72aTjvjdEv94p0YgTAigO/CKlQb6opmVQWeCSAqnFDQhhG/zteEzIkkKyeiNeh8tYwAI9CEAJMTPCUYAUYgcAhEnZyA73Pcxcw0FMLwAjI9XQjc3HCywyj64R8aCuX4h8bkRCvKWlxUAQAAIABJREFUTgRB66v6ocBA2HjQmixUZ8TLOa7BDw33MpQoKBKieO1E8HWn60JWAYq8OrEZ5uBrazkPOVGslXkO7QKrq0K1Jj2oEUydJXiAg2AAAaFs5fB7nF8PrMZnA+yaoIKQ2R9QZEgSCnkUWP1qVKnhh7nbrz6wqsIY8g9t30q/je+j3KoVXXeAiqKzqmKJJh94jj5y6fssh+9ivF54/gV6+NcP08zuPO148CnK0AgtDSzRYrxKqdFhOubIY2l8ZEWLBVSnjuOYi6vn6KoPXGUMDN6KEYggAkpVgc8c/LdSTOFzH59xkqyouLIYIlxw4/N+yPDzKQzXzrZOYRhFvgZGwFkEmJxwFk8+GiPACHiAAJMTbpMTabEaKsrkhMqXwAsWLE7UimRMb6fzFTy4ZVw/Rd3OaJ7m5iSJY7ShoIpV/XixdXNVv9H+2NnOb+SEVP44H3zdCaNm1VWYg6/NB1mby3mQKhwEU8dEcad9kLWu1DBCZEiCA8+1ZiJDV2rYuQfCtm9rqDYUFayqwDh/654fUOW0CdMFtWZVxf5Hn6f/9s7rayHsdmxi8vk8/dvffZ5WJtbQYHyQUkNpSibkIgOzbW50lt57w3vM7sbbMwKRRADERD2rItmgmMJ3aHlfV1hV0WF2SOVEY0ZOmCcSkxNhHl2+NkbAGgJMTljDjfdiBBiBPiLA5IS75EQulxZ2DFNT+T6Ocn9O3bzKHMREc5ink/kK/blK589qNWsBRSq5qj/m+qp+56+69Yi4HhTosWKwWOyvcsLN4Ovu5MTA4WcHrHGct47yYhx7ncOsPdLw8JAg4ND0nAdFcKAgoec8NAZZl6lUmhP7QkEhlW0xkRWBLAk040RGO6VGXZHR67r575KU4FBtORO+fs/3aPn0NbamBeb+5NN/oL/4k6tpYmKl7fBdEKL//ndfpHWpI2z1CzszOWEbQj5AhBHA90I9q0IV3vH81LMqoPLjBrteJid4HjACjEC0EWByItrjz1fPCAQSASYn3CUnUCzGKnYoJ1QRJpATxWSnEwmZL4EXqG7FZZWvgEwBrALjpoqj5rIWdLz9ZINkZzxBbsHaqN/khNvB150wAjGD+2dqaqaF1LODq5/2VfZIMv/BepB1KjUsnjd4xkIVoTy6G4mMUs1OrpHIKNXyWBqJjLmanZhuOYUsmGJREhkoGEGRAYJDV2T4CeOg9KVVVbFMS4f5uCisgP3mPd+nhdNX2x6ug4+/RDe89nIRil0P34VNTKJ2bJAO0sterr5uXjSgd+Lf/98v0prEBlv9wtgurCrR1R+82tZxeGdGgBEg8b0An1WSrEg0BM2DnFBqKXwORum9Q58bTE7wncIIMAJRR4DJiajPAL5+RiCACDA54S45oYJzpc0HgkLD31SOBF6KUMhDEaRTcyJfIWyImrUz0vM8euEdJKzwAo5QaOQDINuhH02Ri/2wyFKqK9xHwEB6Tldrwc79wMOpc+r5DwsLuj0S7JQyopDaPci6E5GhB1mnCKQFnrvIo6gHWQ8T1BrdiAyoKBRZapbIcAqjqB8naqqKH//qP2n/pkFKDA/ZGvpDW5+nj73tmgbVBA7YPXy3Kj6nMefVfaI68fVbvk6Jg1JhZLVNF6fo1ZeeSq8+89VWD8H7MQKMQAcEQJLLYO2EIC10VQXuZ2UBpVuqhh3MeNzeczRo+LCtU9BGjPvLCLiPAJMT7mPMZ2AEGAGHEYg6OQE4BwcdBlU7nMpbQKgtCpxhbrB3RdEPaghcK6x4er0MWbUwCjOOZuyMuuV5BB2jfpITXgZftxsnGdQsA+NRbIDVkGq4p0BSVKv4F8Sg83r+A1ZuI7BaFk9h44VciLi4tnZB1p2IDKNB1tlsmqCmwPMJSg31fAKJ7ASREfR7zq/976SqCJOi4tChQ3T79p/QqlOOsjwMC9UqpZ6episveUfPY9RVFUmhsFBNqiqgqJBkxUsvvkg/ve2XtCpn3XJq/8Iuuv5T1wkrNW6MACPgHgL43oDvDJKsSAp1n2pQKMqcCnl/h1lVweSEe3OMj8wIMALBQIDJiWCME/eSEWAENASYnHCXnEinh8QLAgpteDEIa7Oad8DkROuMMGJnhG1QUAV+WGEOZUHYlDl4yR4by3munPA6+Lp5BrQLvoaaRhYcEqLAp4qy2FZXVfi92KDbJs3NlUU2BJrZ/AedyABRAysnXLuuyAAuICAk0VNXZLhFZIT12e6369IzKtA3SVyEI1T7S3fdQckzj7Ac5HrwmT/QlSddROvWrjU1bLif6uG7iZpKQvnZf/Z//wuNVlZZWmBRrpRp7OQ0veWyt5jqE2/MCDAC9hHAdwe8gyhlRTtVhVzsELyFDt3QYXLC/tzhIzACjECwEWByItjjx71nBCKJAJMT7pITyq8+ny/1VBEEdQJi1SVW8OOlx2zegVkLo6BiZKbfvRQD/S6em7kWu9uOj+fEfYP7x4uG4jkIRYwBLLLKZe9yUCS51Dv4WvlNo6+495TdivB1P6yqQLHBb8GYxvIf5gikBZpTQdZOERnoEyynUOQBtjIjI7yEsxf3mxPnaLV/kmRFEFUVTz77FP1y6mlasXmdaWiWFhepvO0Vuv4d7zG9b/MO0s9err7GM+ax7Y/TPbf/glZn14m5v7iwSAsI3u3hVLm0vET7qjvpA594P2WzWdv94gMwAoyAPQT0rApdyaQrpqCsCPpiFyYn7M0T3psRYASCjwCTE8EfQ74CRiByCDA54S45ofIXsLI9bCuTcLOkUklhk2IkX6LdzWXGwigqN2c3cqKfxfN+4O8lOdGv4GvgKgsBS5ZsFlBgqKsqGi0cZE5Fq4+812NpxzYJ4dOKJDKW/1CmUskbRYbXOPL5uiPQaP8UPFUF+v/te35AM5uGKT0+Yni4sd+Brc/Re85/K61eZT9UWz+xVFUk6cF7H6DHf/4UrRmRxMkyLdPS4pIgKUBW6MVMUeislGn33Mt01Q1X0qbNmwJJFhkeAN6QEQggAp0UU7gUPasiaO8u+A6NQOwoNc6ciNJo87UyAsYQYHLCGE68FSPACPgIASYn3CUn8FKPldiwL6lUwiObhuUOCo5YVSnDgsuWVmobsTDy0e3iWVfaFeWVRRgKUcjzCNoLoxXwgINcpe6ucqKfwdco6i0vYwV+j2XIBgBEsUERFbg3Gy0cZKC2DNW2fy4D3RG5GblcVvSpWW2Qy2VE0dOt/IdORAbCtqGAADalkk5kyCwMYFguzxNCsdGQgYHfQ+UFv25YSHELBgJBVFXgPvnGj79LhU1pyq4a7wk0FBMHt71Il515ER15xOae29vZ4NGHt9FD/7mVViRW02h2pCEke3FpkfYfOkDPPv8MHTpwiCi+TMefcjylMsM0mI7TCWccT2effzal02k7XeB9GQFGwCUEuuXQ4HuDyqLxe34ekxMuTRA+LCPACAQKASYnAjVc3FlGgBEAAkxOoPgECwh35gOsEdLpYVFMxpf7MDQU6UBM4CdsZKAKsep138vCKAx4WbkGnZwARrDNwosjbGRAdEXFTmZsLCsK6So02QqW3fbxQ/C1fNF3hyxQRAV+Kvsn4IFgaUVU9Aqtt4o5zoeiPmzIWvMfsmI+G81/cIPI0BUZuoUU7i9lLYU+glzBPNEzMqxiwvv1D4HWUG2lWPKfBRSeCT+7/7/omalXaGjzSsqtWtECXHW+QtMv7aZccYAufc0baNXEKk/ALZWK9NB9D9Hzj71IlI9RKpmh0nyBnnrySVouD9DKsQnafPQmWrUaGRXLQlmxvLRMhbkCFWiaNp1yBL35HW8SpB83RoAR8CcC+MzTsyr07w8y50qGavvxvYbJCX/OKe4VI8AIeIsAkxPe4s1nYwQYAQcQYHLCXXIimUQeQ0qs0MUX+aA3XA/IFpkvUaFSad72JXlp3WO7sx4dQBblQUSUCav68WKIF0L8v1UiyKOuO3oaN8kJmd0BbM1npThxke2Cr504bqdjoBioqyrUduiHIiqq1arw67fbgK1SIehqA5kxAxVCXJwzn0dgNYn57RSRkc2mhdWcUUVGKjUs5gHuK6giVLEFlnyZjFzlDcICagpu4UGgVVXhv1BtFAC3P/kYPfbKs1SOLRIl4rS8uESxhWXakF5JF55+Nq1evaYvg4L76+WX/0BP/PYJeuDHW2ljbhONjY3RyOgIDcbjDWQosidUTsVMYYYGVi/Suz50NUHFxI0RYAT8j4BSVaisK6XKBAGp7CPxWe+HhTNMTvh/PnEPGQFGwH0EmJxwH2M+AyPACDiMAJMT7pIT+EKP4rLX4boOTxNxON2TH6SEUyummJxoHS0U5VE8w0sW/sFzH3Moam10FCGqyzQz46yVTj+zO4wGX7s51nqoNrBotH+qqyqs2Dc0BlnPCWIWrVGFME9QLqAZJzKK4p4AmSSJjME2ioyMKHjqigycQykvUDiRQdaL4tydiIx0OiVIWJwP20fBQs3N+eb3Y7eqKpYJgiY/hWrLwNp5Me/9UtTfs3sPfeem79G61BEtWA3EBgRJER+MC5XlAEl5KrIq8sVZGli7SFe87wpHyFC/zy/uHyMQJgTwXIQqXCkrcH+rhs9eaf9UcewdwSx2AwMxisWiRXxy5oTZWcLbMwLhR4DJifCPMV8hIxA6BJiccJecQOEtl0sHuris2wrJfAlnbYWUSsDtXIEg3bzABLijaIbibpjySsyMw+hoRmzuJDnR/+BrlTFhBgl3twVxoFQVut0Kivh1VUXvzBxdhYDMBhQo0FT+A/5bVyF0JzIyhvMfoLwAkVVXZLQSGbCyAtEAcgj3FggLlYUxM4Pfw16rM5Hh7gjw0f2EQBBUFX7A6+Z/voVG5ycoNlAvTrbt14DMbhmMxwRZge0Pzh6g177rPDrjzDP6Xsz0A5bcB0YgqAjgPQef8fjXnHWlZ1WoRQFuXqdcwADlFpMTbuLMx2YEGAH/I8DkhP/HiHvICDACTQgwOcHkRLebAiui3LYVUioBJwvQQb3R9aBxaTNT8oVMvl94IrgYK+Wnpwu2u9Aa4u4sydarg1IxseR7Wy7c84qowCpt3b4Btk+KrGi2F2tUIRRFrgWarkLQbZNAEsE2CcfpRGSUSsh/kIqhRiJDD7IeFAHXRoOsGy2kqiLPRKmUoMiQWRh1IqPXuPLfw41AEFQV/RiBXbt20Q9vvJtWZ9eZPj2e6bF4jMojs/QX//3PG5RbsL+Uq679YRFj+uJ4B0YgwggoVaYkKxIN2TIgJ1SoNr5HuGFRyuREhCcfXzojwAg0IMDkBE8IRoARCBwCTE64S05Ij/WMyJtQ9iZBmSR6voSbtkJurI4PCsZ6P/VwZvXS5kRRPohYqD47RU6EPfjarTFGoUFXVahQTMxP2DegwADLIxnYbs1OCYSFsk2ClRLIjNb8BxAZKXGZ7YgM9NNIkLVuIYUMCRwLrVMWhlu48nGDiYB8LkP5JPsviQv/ZVV4ge63b/82Le8apHh80PLp9hV20xUfu4w2btxYW3ndaBGzIL479dMixvLF8Y6MACMgbBuTSUlUtLOQVBZQ+D7hRGNywgkU+RiMACMQBgSYnAjDKPI1MAIRQ4DJCYSxyn9uNBRFYTeCIh7CjIPSGvMl3LUVcqoAHRRs2/UTL3BQqMig8SoNDsIzN+aIYiDIuIyMpMXKu6mpvOXL6H/wNfzrl2hgwIGkacsoOLOjLDSgyJAURQe9YVUkCAI86/RciG52SjL/odFOya0gayMWUlBpqCwMZxDjo4QZgVb7J0lW+Cmrwg38cd2f//sv0LqhI2wdvrpQpewJSXrrn761dpxOFjF4LugWMVbycGx1lndmBBgBWwhAvaq+P0BZoX+HwPcApZjCd2CrqgpJTgyKf35un/jER+nRRx9p6eIJJ5xEN9/8FdNd58wJ05DxDoxA6BFgciL0Q8wXyAiEDwEmJ9wlJ1CkgG0RVgYjq8HvDf1FkRwvDXhZQLFRFQ/d6rsTBWi3+ubFcfGSlkolxalQHMWLGXJKMAZ2ivJe9N3tc9jFAav1QLRJbGVIo5cNBTSZcRB8YqIZNxQZYOUEEk3ZImEbVVSQRFuFoIxAa7RTkrZJrXZKizQ7mz+MGfIfsrVcCJ3IMBtkbdZCyss5wucKBwKt9k+4F8KpqiiXy3TLp2+ltemNtgdvYfUcXfX+K9seRw/exeekUm5hY3ynUquuObDe9jDwARgBzxGASkqFauO7miJ18SxV97dSZxrtnCQnEiJ3ws/tbW+7mI4//gS65JK3NHRzZGSUXvOaC0x3nckJ05DxDoxA6BFgciL0Q8wXyAiEDwEmJ9wlJzBjxsdzwgIF+QF+bl7kS7S7frsFaD9j2qtvsMNBkRcFbBBBStoeZUx0zOzgwMHXvWaf9b+rgGtpp1QSpBrm8dDQEMEOTl85jjkN9QT+3poLAds7PcgahAWeyQPi98i8QJGikcjImLKQQq4F5gKIIiMWUtZR4T0ZgToCYVZVFIsFuu0zX6W1mQ22h7y6skhXf+hqQ8eBxZwsZkqLGNVwb4PUR04FCAuZ78ONEWAEgoSA/A4hLaDw2d94f+Pelvd4t/s7COTE1NQUXXrpxfSJT/wVXXXVexwZIiYnHIGRD8IIhAoBJidCNZx8MYxANBBgcoLJCcx0vBSk00OiqOhmvkS7uwpKDRQdpqfzNS/vsN99jQqVRaGq0V+46pjI1eVRbVbmhh587ZX6Rx+foARfW51TRnIh5ubK4l7GcwUKIH1FpPKPx7yGMgJEBLYHOYem50I0Ky9gkQebL6ymBNHQLcga88Cs8sIqJrwfI9ANgXaqCvW8D6IFFMjGL/79jbQubc/WSeCyvkJXvPdy0xMIzw3pZS+LmayqMA0h78AI+BYB3M+4rxUZaeb+hnJiYMAlr14HENu2bSt98pN/Rv/0T/9C5577GgeOSMTkhCMw8kEYgVAhwOREqIaTL4YRiAYCTE64T07A1gmFiNlZaW/itwZSAi8AKBQgF8Nri4SoFeJRXM1mh0UxpVJZqBVl9XkRNUw63RNmcZDB18ipiInV+oUCiuTekTs4l/RC9+6cXj5PcrmMeFZYyYWAggJzH2OEpsYFREOpJO3jGnMhyuL3zYRF5yBraSFlVXnhJY58rmgj0KqqCJ79003/3820YnGNrYGcKU7TaW86kc469yxbx8HOSlWB5xP+WzWpqpCrrvHTy88D2xfFB2AEGAGBQLv7+84776TPfOYzdNppp9E555xHW7acTRMTKykWS/qanPjWt+6gz33uM/Sd79xFa9aspVKpROl02tZIMzlhCz7emREIJQJMToRyWPmiGIFwI8DkBMIrieIu2pOOjmbEJJqZ8Rc50ZwvIVfvy3BaL5uyNpqZKYTejkFXqMAKByqVdi1KmHSba2bICT8EXy8vh5OYwLMCNksoEMiA6+LhkG+j6oSi2A8tm83Q8LAkQ/VV4zI0XBIXhUKplg+C1ZPYR1pIzQmVhSpWtFNegACBwgLknxHlhZfPOj4XI9CMQKuqAgSn/0O1H7j3AXr2Fy/RSHrU8qDur+6i6z51rbBpc7J1WnWte9mDrFDPJCfPzcdiBBgBdxFQ9/fDDz9E/+N//D80MzNTO+Fxxx1HW7acS+eddz6dfvoZQl3lt/YP//B3dPfdd9I73vFO+ulPf0yFQoEmJlbRNdd8kC6/3JjFXfM1MTnht1Hm/jAC/UeAyYn+jwH3gBFgBEwiwOSE++TEyEhGrBaeni6YHB33NpeFXLl6H0oJFP08XGDecGGwiUEBEgVPt8O33UO095HNZCDUyQlZBI5qM0rSNAZfy1BxL1uYg6+hQmmfCyF/j2eJ1VwIFAtB2KVSw0Ltohp+D0UFmlJ1QRWh/w4KGTQ8u6CmQGtUXsxRqSSJDN0qSldeeDlH+FyMgBEEgqKqmJ+fp1s+cyutGbKWO1GpzlPm+CRdevmlRmCxtY3KqGhWVeD7hsqpwGcGqypswcw7MwKeI7C4uEjPP/8cPfLIw/Tggw/Qjh07avdxKpWiM888i84993xhn7Rhw0bP+9fuhB/96LW0Y8fjtGXLOYKgqFTm6Uc/upO2b99G1133EfrQh24w3U8mJ0xDxjswAqFHgMmJ0A8xXyAjED4EmJzwgpxICxLAL+SEKuRiJXK31ftezXZlKxVWcgI4o8iOVedGMxCiQtj0mmNGSJpGW7I5qlYXex3Wsb9L3/hlkoqJ8DXMWS9zIaCKQBCmCs9WiMISCiqIarUqVkLi/kAhUScshoeHKJNJiV105YVOWOjKi/CNFl9R2BDwe6j2PT+8h/b89iCNpMypJ3Bde+Zeofd94j00Njbm6bDJVdcypwLPEt1mDiSrtICqEJ453BgBRiBYCExPT9O2bY/SQw89QA8//CBNTU3WLmDjxk103nmvEUTFmWeeTUNDQ325uB/+8Ps0PT1F7373NbXgbyxw+djHrqdnnnmavvvdH9H4+ApTfWNywhRcvDEjEAkEmJyIxDDzRTIC4UKAyQn3yYlcLi1W7k5N5fs+eVTRu1/5Eu0AUIqCfL4UuoIAVoOjYIqfUqFiLAOhTtiUCCvDotq6kTTNwdde25KFPfhaL/YbUycMklSJxYSSAQQBmlRe5MRPrFI2kwuhFCl4fuoN2COPQikmcI9BfYHf5/OFWm4Ofoe/4XmnExZRvZ/4uoOLgFzVDyJUXoMkLvqbVYH7847bvkGLuwYoM5w1BK4gJgo76Y3v/hM6/sTjDe3j5kYgLxVZAWJUNXzuqpwKKLZYVeHmKPCxGQHnEJCZEwNCdQxVxYMP3ifIiieffKL2ffr88y+kT3/6s86d1IEj3X33D+nv//5/0d/93T/S6153kakjMjlhCi7emBGIBAJMTkRimPkiGYFwIcDkhPvkhBnffLdmF1YHokiHIh9euhEU7Be7IPjPg6BA8dDLVe9uYa2Oi1XnWPmPlyRkS0ClYrSFmbAxigG260ROoACO+8os6WPm3N22DXvwdediP9QJ6ZZiP4p7sFkymguh2yw150IoqygUBCWRsXyY4MiKQG09q0KtLMd8wHNtdrZQs4ZDf0CwyPDueuaFU3OAj8MI9BMBv6gqkNvw/Tu+T5PPz9LK7KqGHJlmfOar83Souo8uufpiOu6E4/oJX9tz4/NEEhVJod5SGTjKZg5kBQhWVlX4bui4Q4xADQFFTjRDks/nadu2h2nr1ofopJNOobe97R2+Qu2BB+6lv/mbv6T/+T//F73pTW811TcmJ0zBxRszApFAgMmJSAwzXyQjEC4EmJyQ46ktmHN8gFHoSyYHqV+Bz3pQMAp+WL3vp1YnJ2DJI0Nzg97UNaGoUSrN17zyjV5XKpUUhdWwETZGr19t105BgvkMYgKFIxS2ga+XDavzwxt8jYDrjLA7gQWZLPZL5Y5e7AdpoO5VEEjptFQnNNosJQWRgWZMeREXGRbtlReSmJCERUFYIagioh6qjaIhrJ/wd2mjtnj4uRtO2y0v5z2fy78ItIZqQ1HhnaoC53/mqadp62+2UWFviVYMTVAyIS1T8LeZ0jRVhkq06cSNdMFFF9LoqDkbqH4hX1dVJMXCDtWkqgL2T5Ks6FdeV79w4fMyAn5GIB7vj12TEUympqboE5/4iMjB+PjH/7JhlzvuuJ3+9V8/S//2bzfRq151hpHD1bZhcsIUXLwxIxAJBJiciMQw80UyAuFCgMkJOZ7ukhPDYhVePzIVUMBDoRsNq/fxz28N3s8ocKKAWakEn5xQZBRWbEOhYsWWKYyEjZV516wg4eBrKyga2wfqKqlaGGwJuJaERaJFnYDf4xkj1QmF2opipbxAYRK/V0QGxhNEBpqRXAiZeSGtoqA8KhaVVZQkMqRVVFUcH/1DAbF5tTP+zrYsxuYAbxUOBPoZqj05OUlb799KhZmieF4kkoO0+djNdPoZp9f81YOIMshRfP50VlXIrAqQutwYAUagfwj4mZwAKldffRkViwW6/fZv1zJ3CoUCfeAD76JYLE533PFdsRjDTGNywgxavC0jEA0EmJyIxjjzVTICoUKAyQn3yYl+BT6rMGGs9Ebh369WBHVyomxaYeCnmxHFXWk1FBdYIwPBqk81CiCYN2EhbKyOk05OQH0EXGR+gLfzOezB10ZslqBIAMGqbJVADoA8wFwHAaFs4hRh0ay8gIoC44ntdOWFnguhKy+UVRTmDvIllC2akZBuFEVBUoDUQEOfYT+jiAouIFq9I3m/oCHQqqpYpqXD9XNddRS06+pnf5F3BHWZIiv0QiKehypUG88bbowAI+AtAn4nJxDU/dd//Re0YcNGuuyyy8V3E4Rk79+/jz7zmX+mLVvONg0YkxOmIeMdGIHQI8DkROiHmC+QEQgfAkxOuE9OeJ0foBfJZb7EnAiK9WtD0RkrrUulsrBJCGLTrbNwDbgWOy0shI0dDLCvUpBgHqMAhKIyB1/bRbVxfygOQCigUIl5CyIATScsWgOudZslSVjoygu8bEvCYplQyMvlsm2VF425EHXlhVNWUSAyEolETVWhrhzzSREVYbGSc3ZW8NHCikA/VRVhxRTPSqWoaM6qUNZPrKoI6+jzdfkNAb+TE8ALAd233XYzPfvs0xSPD9Kpp55G1133UTrllFMtwcnkhCXYeCdGINQIMDkR6uHli2MEwokAkxPukxNeWvT4PV+i3V2EAiIUB1gZ7UfbqV53vhtWQyhwQPkSZMKmF25G/q6IPWyLIjLyUqyqUYycr3mbsAdfA1/zAdfdbZY6BVxj/EBYKOWFsorqpLxotoqCHRRICxAeyJ1QpAKyWUBuoulWUc1jCRUF7iv8wzOnnf0T1CF+JnKtzGHehxHohEAnVQUrKqzPGWBXz6pINNizgLQFWYFnJKsqrGPMezICnRCQiklpZRulxuRElEabr5URMIYAkxPGcOKtGAFGwEcIMDkhBwP2nljh60bzyqIHJAj+oaHQHxQVQiKBgON0IMkJFEtBTjgA3FYCAAAgAElEQVRtnRUGNYnde0kPvkYhGooJL1vYiQmzAdfdbJZg8YSiwNxcWViRoXljFZUi2EI1Exa95gme9UpRgUKisn/Cfrr9k1+t8HpdH/+dETCLgCJ99Z9ehmqb7W9QtleqCjw/dVIUzyyEaatgbWWLF5Tr4n4yAn5EgMkJP44K94kRYAT6gQCTE/1Anc/JCDACthBgckLC5y45oQKf3ctUCEq+RLvJipf3XC4tVBPKV97WpPZgZ7wAQe2BvrthnRV0NYndIdDVKMDa6+wNFIqkJZF/7dCsYgw8OwVcZ7MZQXB2Ui2gcKnnQuiqBYRVK+VTo1XUXM3mzLhVFBQWIIxlSLfMtqhbReHaR0YQ0p1sCem2ggv6pVQVCARXDTjU7Z+qok/cGIEoINBq/7RcuyejcP1uXCOeZ/VQ7STF4zITBw0EvMqqYKs5N9DnY0YBASYnojDKfI2MACNgBAEmJ4ygxNswAoyArxBgckIOh5vkhJur4LHiN5sdroUwo4gbNFsSvKCj0IgX81Jp3lf3R7vOIPsAmAP7SgVWQ86v6I8yOaEC5FEcg/oHxXLYOXlhgxH24GvMWRT7UYy3H3DdXrXQySpKJyxwz0BlgSYDrqVVVPdsC0lY6NkWulWUUw8OHF9XVej2TzifIit4pbNTiPNx/I5Ao/2TDJhnVYX9UQMRqsiKRlWFJEUVWRG073T2keEjMALWEGBywhpuvBcjwAiEDwEmJ8I3pnxFjEDoEWBywn1ywq1CM44LxQS+jDsRwtyvyV4nJ+wHSbt9DSiwonguLWzcy8gIoprELvbAFPMZ81oFX8sMFW+yN2QBaMnTTAu7mJnZH4UwkIC9SQAZcN1JtSADrpVqYYlmZ/NivNCQXwFyAoV7KCzUCmBYLyEXAsctFIo1yzllFSXVMaWackoSFllBROhWUSAGQa7gmaFnW5jBwey26ItSVeD8qsHyCQQPioi80tksqrx9kBFgVYXzoydVFckaWaFbzbGqwnm8+YjhRGBgIEaxWCKcF9flqjhzInJDzhfMCPREgMmJnhDxBowAI+A3BJiccJ+ccKPQrEK2USQIUr5Eu/mPAuToaFYU+bBC3q9NhTMDc/TTzYKkG3PGr7iiX1IBlBJFZxl8PSdW5rqpOtLxADGxvIwCezh9expJAKOqhZwYD9yXCKDuplqQhEVWFPFhc4bga0VY6NkW+L3KcUBeC0Kum62i9GwLzAOoKdA6ERZezmvgods/KVUF5o8iKoCXl6HtXl4/n4sRaEagNVSbaupNDta2Pl/wvJNkhcyqUA3ErwrVBkHLzxrrGPOe4UIA90IsFmdyIlzDylfDCDACFhFgcsIicLwbI8AI9A8BJick9rGY/OdGU4VmJ2yLUATECmS8rOIlFUXyoIe2ooAxNpYVRWmvQ4+NjLe+oh+Yo4+q8GpkfyvbBM3qyso1qn0QiI45LRVAjdZedXICAe8VO6fpuG/Yg6+NkAClEgiL7iRAJ9VCo1WUzIVQygs922JmpiCeWWhmCQuQsVBloOmEhSsTwuBBMV8xPxOJpPipVjrj2vFMVvZPIGu4MQJRQaBVVSFtoJiosD4DsIBDERUgR/VnjVJVsILLOr68ZzgQYHIiHOPIV8EIMALOIMDkhDM48lEYAUbAQwSYnJBgu0lOOGVbhOOgiIufKH6hSB6GVXMgXMbGcr4kJ3TM5Yr+sieYOzVnPHyUWDqVHnzdTgHkliWa6myYg69xjSAHUNSyFnBdVy00BlyXCWQGmh5wrdssdc+2yIhMBzzDQGQowsJIX7G9m4olS5P48E6wzaqrKur2TyAyJVFR8W3f7Vw37xsOBDA/H//t47T75T1Uma9QcihBazaspTPOfBUNDQ1ZushWVcUyHeYnmaywhKjcqZOqQj5rKoezKljBZQNi3jWACEhyAgsF6kqjAF6GpS6zrZMl2HgnRiDUCDA5Eerh5YtjBMKJAJMT7pMTTtgWNeZLBCM42swdMz6eE8XKfL5kZjdXt+0n5ijujo5mfG91ZWcAsKIf5AQscbAavp0CyC1yIuzB1415Ee1JABSypP2SXNkP4hPZEMAGNk6KBBgeHhJ/QysUSjUFSyNhMUelkrRk0wkLPeBazmnkRcQPW0W1y7Yw1lc7886LfXGtiqjQg25RPNHtnzjo1ovR4HN0Q+DgwYN078/vo53P76LhapZyqRzFY3FaXFqkwlyB5gYLtP6YNXTBn1xAa9assQUmqypswdd2ZzxrVKh2MpkUOT1o8lmzUAvVDrrC1nnk+IhhQ4DJibCNKF8PI8AI2EGAyQk76PG+jAAj0BcEmJyQsLupnLBrW6RnHZRK86KwF7YGckJ61fuDnNAzPfqBeZ3QkvkLYWq4H7LZYcJKcxl8Xap5lDdfZz17Y57m5pyxdQp78LVU3egkgMyL6BRwDcwRlI3CllHCAs8k2CzJgOv2hAXmLcKs0YyHcffuaxDvBUVU6JYsuI6FhYWa/RMXD4M4ssHu89aHttL9dz1Eq4bXUjKR7Hgx1YUqHSjtpS0Xn0EXvO4CRy66k6qC7Z/swYtnjArWxnNXNXy/UlkVnItjD2Pe258ISHICtmd15aI/e+p8r1g54TymfERGIOgIMDkR9BHk/jMCEUSAyQk56G6SEzi+FWVAP7IO+nULIHMCRePZ2WK/ulA7byYzLFY99zPTwy6h1XcQO3Sg1SZLBl93ak4Hg4c9+LoxNHqeikVJ9ul5EbD9yOehWsBzb0AQGShioVAubZbgD28s4BrHUQoLqC6gsGgmLLCqN5vNCHLEDmHh1zlttl8YC11VofbH80blVADTMFj2mcWGt/cOgQfufYC2/3QHrc4aV0McLB6gEy88hv744j92tKNqrus/8XzirAp7MOPzFkQFiGc8hxXxw6oKe7jy3v5EgMkJf44L94oRYAT6gwCTE/3Bnc/KCDACNhBgckKCh2Jc3MXFNmbJicZ8CQRFe5N1YGMq2doVFkZoMzP9IydQqM1mkekR73umh59zOKwOtB58XS5XagHM3Y7nJDkR9uDrTqHRjYRFuabE6RxwXScsUCTvFHAtLaHaBVwXBdGBphMWIDKU6gsFM4RiS8Ki1BTGnRGBr8ggUeSK1Tnn9/1kqHZC/EMOR7Mli7KAUjj7/Xq4f8FA4KUXXqS7v/xTWpvdYLrD+4t76Y+vuIBOPu0U0/sa3aHV/mm5pv4yegzerhWBuqoiKez3VJOqCmRVyGycbgsGGFdGwM8IQDkxMBDzcxdd6RsrJ1yBlQ/KCAQaASYnAj183HlGIJoIMDkhx91tcsKMMiCZHCT48aNwZbSIG/TZC3IC1zs9XejLpeBFHau+URxEARXB1/1uZgmtfve32/lRjE6lpG1Iu+DrTvvWg8Ht5ayEPfha5UWgqKeTAHpeBFQLyIBAsxdw3ZmwmJmpB1yDfMD5W8O4hymdlgqLdoQF+ofAbcyTqDUQSYqsAHmkFw91VUXUcOHrdRaBWz9/G2XyY5ZCqXHfzgwfpOs/eZ2znepwtEb7J6mmYFWFfeiVqkIqKxpVFXjWKLJCZRLZPyMfgRFwGwHYOiWZnHAbZj4+I8AIBAIBJicCMUzcSUaAEdARYHJCouE2OWFUGdCYL1GmSkWuQA57g+c9iIF+kBOwOwDuaMg1wEu5H1pYyAkjwded8K6TE9Va4LLZsQk7MZHLZYR1h9G8iEbCoiQIUDQjAde4N0AooEHdIC2h4iLkGZZsyoYFfcLxkKMgraLaKSwKtRB0zJF2hIXZsQ7T9pj7iqiA7ZayZIHtlh6qzfZPYRp1969lcnKSvvbZb1hSTaje7cvvoT/9s7fR+vXmlRd2r5BVFXYRbN0f33+V9RM+S3RiFM9wSVRUQpl35jyafMT+IQByYsgS6dq/PjtzZlZOOIMjH4URCBMCTE6EaTT5WhiBiCDA5IQcaLfJiV7F9yjlS7S7tXK5tChyTk3lPb3zVOFc+uTP1Yqlnnaiw8nMqG380N/mPsjg65QY117B1536jwI4iD0rahYZfI1VtrIwHrbWPS/CfMA1yAG0TgHXUDOUSirgOi6ICYwP1BjYB60bYYFnIKyLjBIWYRsvO9eDe0lXVQBn1WC9pVQVvMrZDsrR2PfOb91JhefmKZmQhLyVtrC4QPGNi3TlNVda2d2xfVpDtUlk5qBxsLZ1mPGZrciKzqqKSs3Wz/qZeE9GwEkEmJxwEk0+FiPACAQbASYngj1+3HtGIJIIMDkhh919ciItVqO1K75jhSyKuCg4odAES6GorYb1mpxoLZzP1VZ3++VBEGRyonVOdw++7oQ5CvCjo1nT5IQsUC2F9j4ynxdhJeB6iDKZdEvAta6waAy47k1YoIguw7gRuo1si/aEhV/uQb/2QxYPZVYFVBWqgQTUVRV+7T/3q38I3Pqvt1G2NG67A1ODB+mGv7rW9nGcPECrqoJDte3iq3JxoKiAyrRRVbEgcipYVWEXZd7fKQSkrdOAU4cLzHFYORGYoeKOMgKeIcDkhGdQ84kYAUbAKQSYnPCGnOhUfEdxKZ2WMuSo5Eu0m7sgZ7AyGLZObhMzThXOnboHOx3HqBWY2/0we3yMYybjTGZKnZwAaTdnqCthD752Li/CCmExLLJZpNKoVLNAs0JYgHRCoUsnLAwNMG/UgABIbeQUYaUz7j1VmMEY6aoKZa3F8EUbgRv/7y00vjBhG4SDy3vpo//tw7aP49YBWlUVywR3uSgWLp3EGMSoJCoanzdYEIAwbUVW8PPGSdT5WEYRYHLCKFK8HSPACIQdASYnwj7CfH2MQAgRYHKiPqjaAlTHR7pd8R2kBF7w8BINtQQKSVFtKHiiwCYDdaUtgxutMWx8XmRM+LVJcmJAYBKUNjyM4OshMadLpXnbHtUoJEFBgnsDtlu9GuaOtHFybw716oObf9fzIjrbL5VFoDQaCknKfqlzXkTngGvkRWA1PlpjwHWRFhbk8yqVcoawcBO3KB0bRBHss/ATRKxqsNOS9k8VX9nXRWls/HCtt3zuVhqZX2G7K5Ox/fThT11v+zheHYBVFc4jjc9nqClkqDayKhrt5pSiAs8dboyAFwjE49bt6rzon1vnYOWEW8jycRmB4CLA5ERwx457zghEFgEmJ+pD7yY5gZXkKBah0Ly8jEJf3YsfK8JVATCqE7GOT9E1eyU9bDwIZFCvnBK/zRU7wdedrsUMORH24GtYLGEO4zphjaTITPzOal6EFcJCEojOEhZ+m8th6Q+UKXX7p7gWqr1Uy6nAPHJbrRYWPMNwHbd9/suUKYzZvpTZoUN07Sc/ZPs4/ThAs6pCktqsqrA7FrCYU2SFruLC5wUIChmsXXXtO57d/vP+wUeAyYngjyFfASPACDiDAJMTzuDIR2EEGAEPEWBywhtyQhVuQUSgmFjPl7Dmxe/hFPHkVAqf2dmi40QN7GehzMDLMl6SsQI/CGTQyEjnnBJPBsXgSRrzOxYFvk6qX8bHc2Kldz4vQ5ebW9iDr4FvLoeA6wQh8LiTmqGZsOiVF9E54LpChUJRwNwt4Frvkx3CwuA0481sIqC845WyApZpaCjUQgVTD9UOZ4C8TfhCs/tDDzxMT/zkGRrLWCcoCnMF2nz+Orro4osCj4sk5iQ5oe4H/LfKxQn8BfbpAqSqQuZU4Cc+S1QDISqJikqkFcN9GppQn5bJiVAPL18cI8AImECAyQkTYPGmjAAj4A8EmJyoj4ObygndwgkvbXNz8yJjgptEQKkaUIBGIdqphhdiqFRgN4ACXKEQnLBxr0PCrWDuRX5HN3Ii7MHXjeSAefulRsKit/1SZ8JiXmRMoDlJWFiZc7yPMwiArFWqCj3kFgSYIiqibDXoDMr+OwpsvW789M20JrnBcuf2zO2k6/7mg5ROpy0fw687tto/sarCibHC80bPqlDHxIKReqh2xdGFDU70m48RLASYnAjWeHFvGQFGwD0EmJxwD1s+MiPACLiEAJMTdWDdJCfUKnjOl2g/kd0gJ/RgZqzQQwZCkFouB+svhITna6s6/dR/J4Ovu11XJ3Ii7MHXfsmLME9YdCZRdIWFn+Zy1PsiQ7VlTkVzqLYiKvCT7Z/CMVPu/NadlH92noaS5v3ZqwtVim9coqvef2U4wOhyFa2h2lBUsKrC7sBDtaVyKqCs0FUV6nnDqgq7KEdzfyYnojnufNWMACPQigCTEzwrGAFGIHAIMDlRH7J4HJ7Dzg4hXsJgKYRCI1qpVBarxLg1IqCClGEJ5MRqXT2YGSqVIGLeLkTdL/PG6eDrbteFQGysrpydrds6hT34GkVi2CZBZeUkOWAs4HqInLeEqhMWfpnD3I/2COAzUAVqYx4227FUqwjVrjqqcOOx8BaBUqlEt/7LbbRyeS3FY/K7iZGG5/C+hV30wU9eQ7nciJFdQrUNh2q7M5zdVRXS/gnf4ZgcdQf/sBwV35disWRYLsfUdXAgtim4eGNGIBIIMDkRiWHmi2QEwoUAkxP18XSanAAhgaBnFHdglQHrDGROVCoL4ZpEDlwNVtHB+soJfFS4NgopCL520ibKgUs1fAiQWsnkoAhRdzLDwXAHOmxYx3dZjJfb+EpyYpmQR4IW9uDrVKq3/RJwn5srCzx0hUW5bN5+yW3CQg/dtjv3eH/vEcD8qodqD9Y6oEJuQVSAsFCe/d73kM9oBYHJyUn66r9/nSYG1lBisHdBb3FxgfYv7KErb7ic1q5da+WUDfscPHiQ7v35vTS5d4oWqtLKMTE0SEeeuJnOveBc31tGtVNVqM9pFEm5WUMA35dVTkUyiayKejaOnlXh9vcOa73nvfqJAJMT/USfz80IMAJ+Q4DJCb+NCPeHEWAEeiLA5EQdIifJCbxcwapI5UvgRRahzyiWo5jDrREB4GUXH7zEynyJuCiYo4Drp6K+2TFXJIBfyAm3g6874TM6mhWBpVNThcPBpeEN7M1m0zQ8PHRYKVKoET/9JCygosCzDMXo5tDtdDolhg15FCAh0DqpPszOf97efwjgGasCtfFTFWHx+YbCobJkwVzh5j8EME4v/u5FeuS5J2h+cYHm5uboyV89RulSik7ZdCqlU60ZEguLC3SodICGVyXondf8KY2Pj9u6sJdeeJF+9ZPfUHF/mVYMTVAy0UiMIGw7T9O0+sgJuuQdb6SxMevB3bY6anJnVlWYBMzg5njOqGBt2FyqtriIrAqpqmDLOYNghnwzJidCPsB8eYwAI2AKASYnTMHFGzMCjIAfEGByoj4KTpETqqgs8yVgU7QoVsBjJTzbOrWf9XgBBW5W8ZEqlZRYZYcXVZBAQW8ga0DaQDGAF/F+tubga9hvedVGRzNENEBTUzOhtXXAS/XISEbY6YBYg5pBFXi9JSz0vAiiXC4ritFQfukKi06EBYgV3IdoOmHh1Vzh83iLQD1UO0l4RqiGOayIioUFVgp6OyqtZ8MY3LftQXpyz0u0MDFMY5vWUgxfeA63vS+9TC/c9QjF9i3Q5pWbKZfO0tLAEtHgEq05ahVd8Cfn0/r11gO01Xkeuv9h2vqTbbQms75GbHXCBqTIgYU9dPm1l9H6DfbP7eUYtKoqlgl8HSsq7I0CnjFQUyiyopkcVWQFqyrs4RzUvZmcCOrIcb8ZAUbADQSYnHADVT4mI8AIuIoAkxN1eO2SE3q+BIp5KOCqlfso4mBVP/IPymW5wphbHQE7+CiVCo4GbMOCL2yu8BLeb3LCq+DrTveDHiZfX51dCbQqRr9WFFxGRrJC8YOCLtQJKG4ZJyyKpArARhQWnTMsKlQoSOssWGugTyD9gDmICdmnboRFinB+PPPy+YIj2TH8jAwOAqpwCDIL80YVDkGy6aoK9o33dkyRL3H7T75DS8eNU3ZFd9VDZW6e9mx7hi7YcAqdceqrKJORhKkTbfsj2+mBOx+m1dl1hg+3tLxEe8o76X0ffzetXLnS8H5+2lDNd/0nh2o7M0J1VUWyluuGI+P7t8qpYFWFM1j7/Si4v2KxOMVizjyv/H69zf3jzImgjRj3lxFwHwEmJ9zHmM/ACDACDiPA5EQd0FgMRTlrAPdauY+/53JpUTgHQcGtEQGr5IRSF+gqlbBgCysdBE/n8yXXcx06YeZl8HW7PqDQDdJveDghVkw2rs6u28gEdaUk5j2Cr0EG6HkRfiEs9LwIjIMkLAYbCAuMG1QfGJ9mhUVY7kW+DnMIgJhQORWY4ypUG89pqaqQViz9VoSZu6rgbT0/P09fuusblHzVBkqmhg1fwP4dv6M3bj6TTj3xZMP7dNtwZmaGbv2nr9CG7CbTx1tcWqSZoYN0w19eHwrlQav907LIa2FVhemp0bADPjOloiIpnj26qgLPGkVW4DOKW/gQYHIiF75B5StiBBgBWwgwOWELPt6ZEWAE+oEAkxN11K2SEyjg4h9ap5X7WBWNFeB4QSqVmJxonutmyZvG/IOlwyqV/lofOX3/9puc6HeweLvga9xHetFTYa6H8wYl0wVFFFg2YS4Xi6UaadmJsECBF/kbzigsYL+UFmoII3kR8vmFc8fEMwzqDrRuhIXT9wMfL7gIgNCqh2rX7YRQKFT2T1BXcHMWgTt+/D3KH5WhVA7WeObavkeepete905HMh/u/v7dNLmjQMNJ4wSJ3tsD+X30pmvfQEcddZS5i/D51lJNIckJNElcyJ9MVlgfPCj8dFUFPr9UAzkqcyqQV8H5b9ZR9teeTE4wOeGvGcm9YQT6jwCTE/0fA+4BI8AImESAyYk6YFbIiXoBV+ZLdFrBLVdCZ8TLEHIVuDUiYIacaM4/AO7q5T5MuCrVAorHyC3xqvUr+Fpdn7RCQ5GmO9mEwjgsR2DrhZ/NKyVV0dOPNjIIkobqB31DoV8RKp0ICxR38fxoVljohEW1WhUWYKqwBUWGyouQoeoSTz3DQg+47pQX0RhwXSbYQqF1Iiy8mqd8nmAigDmrE4zt7lvMZWWJGMyr7H+vZ2dn6ab7vkerTz/WUmfm58q06uUKvf31b7a0f70YvED/8embaPXgesvHgXpicXWZ3nPtuy0fIwg7sqrCnVHCZ5XKqeisqqiwkssd+D05qiQnoNKrh6Z7cmKfnIRtnXwyENwNRsBHCDA54aPB4K4wAoyAMQSYnKjjZIacQGEUGRJ46QEhgQJ5t2IKtseq57CENRubXca3MkreIFgcRV0UtMJukVUnJxCq7s2qYp34qVQWxLz2ssl7aMlS8LUqeOKnspFB33W/ez9YOoA0QKEEZAGyHBShiXkN0qI7YTFHc3OS3OxGWNTzInTCwkhexJIgS9R860RYSHVHVign0B+v54mXc5LP5R4CWOEMYlHdu/p9ixyVeqi2d+Sse1fr7ZHv/q+f0u71AzScSVs+8aGtz9Ofv/W9tnIndjy+g+7/9lZakbWXGbF3bhdd97cfpFQqZfl6grRja6g21b5jsqrC+kgqyzlFVrRTVUhlBasqrKPs/Z5MTrBywvtZx2dkBPyNAJMT/h4f7h0jwAi0QYDJCfPkRCIRp0wmJQrkRskGbDs2lhVFPwRlc2tEQK4Az3TFU9kc4SUE6hMUz8Pc8PKMUGwUfr241n4HX4OYkGqJwx4XNgYXSpy6jUx9JV0/bWRkwHWWgDMKryAmFKHpHGEh7ZfaKSycCrgGaQZLKDTMTWRlcGMEnEBA3bcgLHCfqKbbtkFVEUalnBP46Xj96w++TCvOOc7WYWf2HaTzBjfRltNfbfk4P/vxz2jftikaSg5ZPgZ23J/fR5d//O20Zs0aW8cJ6s6tqgq2f3JiLPHMUVkVeOYo4gefzcr6CWSFUh46cU4+hvMISHICC1PqFl7On8W/R2TlhH/HhnvGCPQLASYn+oU8n5cRYAQsI8DkRB06rOLUrGnbYqoHBCPY2oxn7fh4TqySRsAxt0YE6sqS1tX6GBeQQXhxxAsiyJ0oBKnCrgir6YtFEDHuruJrDL72nvjBi6V8+bdPTDTfW51sZFB8QKHTC/sn3QIJBQ+oE1QIqlOEhW6/BNKgrrCoExZG8yIUWYL7bHY2X7vfdDsqkCteKXr4eRk9BJRtmyIZdfsnXQ3FRcPWuVEoFOime79PE6fZy2hYWlyk7LMz9M6LL7U8Ae/67l1UfLZC8bg9u5X9M3vp7X/2Ftq4caPlvoRlx1ZVBT4/5dWxqsL6KAM7fO+SodpJkbGkmnzmyJwKt7+PWb+C6O7J5AQrJ6I7+/nKGYH2CDA5wTODEWAEAocAkxPGyAkUyFGYg60QiiEoGHfKl+g0CZic6Hx7dFKWoLAs7bNiAm8QE37MEHDjxkdRDpkmUImYIcHM9kUPvi4UyuS19VG74Guz12B0+042MphTmF8oPqDw4CT51ckCSVqZ6QHXhTaExeJhhUVrXoRuCZVKDQsCz82A60bCouD5PDE6xrxdOBHAfaSIimYrFkUyMlkmx/7QoUP0ld/eQxMnbrY9GQafOEDvetNllo/z8x//nPZsO2Q5DFudOOrKiW4DwKoKy9Oz646dVRVL4nsCyH58N2OC1B38zR4VyomBgTqhZHb/IG/Pyokgjx73nRFwBwEmJ9zBlY/KCDACLiLA5ERvcsKpAjlsnbBaG6G13FoRaCZvdJshvASWStGyjwERhoKzW+SEHnxtJDfF6TlrNPja6fPqx0NuQ93+qW4H4JT9k57ZoFsgWSMsMsL7HWMlLaHaERZFYRmFBhs02C91Jyx6B1x3s6Nyc2z42IxAJwRA7Om2bboVSzs1FO6B+fl5cS8MDQ01ZNKEEeV8fpZueuBOWnWKPeUE8Eo9OUlXXPJ2yzA5lTmxZ24nXf+3H4pM5oRVwDupKlhRYRVRuZ9UVSRryormXCtJVFRYTWgPZht7w9YpyeSEDQR5V0aAEQgXAkxOhGs8+WoYgUggwOREd3KisUBeFYViqw2ZCmgzM0xOtMNQJyfs2GdZHR+/7Ye5B9UI7MMQ/u1kawy+rgolkJfNTvC1W/1U9k+wdQBpUS94YrlX5e8AACAASURBVJWktHTAymyjyh0QS1A04Frz+boFUqfMBklYZEThFGNeLEr7t1aFBSyhlkX/sD2KtCBTZmbqhAVICZATIDDsBFx3Une4NQZ8XEbALAK4D3RVhSoaYu4/9+xz9Iu7f0X7XzlEBM5umWg5tkTZlRk668Iz6eTTTiFdhWH23H7dHgTlv/7odpo4y17mRGm2QMdNpeii819r+VLxbPrip2+k1fH11o+xtEiLq8v0nmvfbfkYUdxRfVbpP2EnqD4/ooiJU9eMZ44iK7BoQDU8d6CmkKHayKpw3qrSqWsI13FATgxF1taMlRPhms18NYyAEwgwOeEEinwMRoAR8BQBJifqcDdnTqRSScLKZ7zImc2XaDeIIyMoPA7Q9HTB0zEOysmUsgTFDBRcrdpnBeV6e/XTLXKiMfh6nubmnCU+el2Xk8HXvc5l9e8oeKqV2Sg84L5Fw7Ogl989niO5XLZGGkDloGyiFGGB40BBhVXeaChyZLMyZLpUQl6EVAnphAWCpwsFSVigAFsPuK6KY8mCU+9z2yVLrGLK+zECXiAAYvF3L75Iv7zrV7Q0E6OJ7CpxvywtLwsSD/fi4sICTRUnaSE1T2e+9gw674LzvOiap+f4+o+/S5WTVlJcCxY324EDv32BbnjdOymbtednfvcPfkyTT8zScDJltgti+/35vfTW6y6hzUfat6my1IGQ7NRq/7RcsxIMySX25TLw/QAZFYqsaFRVgKiQZAXbzrk5PExOuIkuH5sRYASChwCTE8EbM+4xIxB5BJicaJwCg4OQbzcHMDvjwz8ykharNKem8pGfd+0AGB3NCuxRGO6HzZDfBgV+x7lcWqgmVLHabh/DHHxtF5tu+3fzu5eB2hUxZxtJgwVhv6RWrYKcRAFDhkzXMxv0kGmoHFTYpiIscD9ARaHmAOYFiAmcqzNh0enc0hJKkSWNAde9yRI3MeZjMwJOIPDIQ4/Qgz96hNZk1ol7BJ+5UADF4jEaoMMkIy3TEkiKxUXaP7uPNpyxlt7yjjcf/uxZENZosH8KshXOK7t20nee+w1NHL/JEqyLC4sU37Gf3vfWKyztr+80OztLX/rMbbQha55cWFxcoJnhSbrhL68L9HjYBtHhAzTaP0ninVUVzoBcV1UkxQID1aSqQuZU4KdRFaYzvQr/UaStk3zGR62xciJqI87Xywj0RoDJid4Y8RaMACPgMwSYnGgckKGhmPD5dyOAGYVmFBaZnGi9CYALLIzwYoHirNc2Qz67LUV3nCYnGoOv5xwNfTaCn5fB10b6Y3Ub6XefFMoIjJFu/4T/xj8UHkA0oGFVpVQ5DIqip8yLkFYPnUKm0+lhAnGA4oVOWOCc2EcSFlBYSDsunbDodG6s2tTJErPntooX78cIeIXAUzueol9889e0NtveQqhOVMQpphWxfrf3RSoMztLI0AgtzC8RLQ8QxZZoeGSYTj/vNHr1ljPEPR+khmfHF79/O6W3bKZYvJ6nY/QaDjz7e7rsmAvoqM1HGt2l63aPPfoY3fv9B2lNdp3h4y0tL9He+Z30vo+/h1asWGF4P97QPAKsqjCPmZE9QJDCKhKLDfD5rVQVSoWpsiqwuIGbPQSYnLCHH+/NCDAC4UKAyYlwjSdfDSMQCQSYnKgPczKJFcmyQO5GADOK71hFBVsnXjFVxx0vbvDHB+7AhW2vJDbS7z9jey5y8LV7j3Jl/wT7N52oUIUHEAL4G8ZSJw26hUwr0gBkDsgEVbRAfgWIUxlwXRSrL9F0wgKWUCoXB4VYkCJmzg1rKfS3+dzuIchHZgScQQAWaV/4P/9Ba5MbDa2eHYjFqFjO0+M7HqflIriIQTrndVsonUrX7Z+Wlmi6MEXziSId9+pj6A1vfkOgwrT3HzhAt9/3Q1p11vGGMFEjkd93iDbNDNFbL7rEmcE5fJStD26lB+9+hNZm1vfsT3WhSgcW99BV119Oa9cZJzQc7XBED9Yaqk01Qj2qK9Odmgr4vMZ3XpCduqoCakZFVGCBDr8jmEc8Hh8yv1NI9mDlREgGki+DEXAQASYnHASTD8UIMALeIMDkRB3neHyAxsbSwoNfWas4OQpq5boMruWQPGCbTg+JFWV4EUNBlG2v9PmoyAnrQez+CL6GXcSSk7eSr46lkwawXlKEBbBXDXMbFkyy6EA10gD/j7Bs/K6RsJD2S9gPrRNpAFIPCgs05FGguIGGogeICRwTZAVIC7ROAdfy3BlCvgbIEP3cvgKbO8MIdEBg28OP0PYfPUljmXFDGB2cOkBPPPYErRqE/VOcsEp/eGKQTjvj1FrhfFnZPy0t0VR+koaPiNNV778qUCHav3/lZfruI/9JK888juKDvRUU0zv30/qZQfrTi9/Wk0AwBHTTRr976Xf063t+Q/k9RVoxNEHJRGNBMT+Xp+LADK05ejVd8vY30sjIiJXT8D4OItCqquBQbSfgVSpMlVWhiB9WVVhDl8kJa7jxXowAIxBOBJicCOe48lUxAqFGgMmJxuFF5oRbDVYtWDGF8Frl+e7Wufx+XH01P7AoFOYI5A3bXtVHDvL/0dGMZZurZHKQMOeANYrmyK7wskkCbinUKwAbSYOisG1Cg/oAKgc0Rbop7GVwdaP1kxXSIJNJC8URjg/rJxW2qZ8bWRVq3PVwbdhBwRYKTc4zKCziYq7hWLxq08s7hc/lBAI3fe5mGi1PGCqozxZnaNvWbbR6sHEFf2ExT1sueDUlkol6VsVAnWScLc1S+qhBeue731lTNDnRd7ePceDgQbrr/p/R9FCVRo9ZT8nUcMMphWJx136i3bP06iNOoAu2nGcIR6v9LhaL9PQzz9D9v3qAZicLlIwN0tjYmFCBHX3yUXTO+efQ8HBjH62ei/dzFoFWVQUWlkhynZs9BKSqQgZr47uwasjGUTkVrKrojDGTE/bmH+/NCDAC4UKAyYlwjSdfDSMQCQSYnGgcZlgzu/WOpVQCUScn9NX8KKiiSIqV42x71TgXkVWAonGlIjEy01KppCiQo5CAlfM4hpdNKWGIwqkQ0pUGKBxINZRUObQjDTCW6XRakJNo+gpJEBogBkASgEQCoYDWGK5dFaSmJDaQVZEVhTycWw+4BiECJQeIISgyFGGhwrVxXMwlqDjQOoVrezlX+FyMgF0EJicn6Wuf/WbHrInm49/70G9orDpBMY14wDZzlTnaePJ6WrNmdW2XgdiAJCpiMlT7wMx+euMHX0ennnYawUoKxcKgFAyB06+3P0A7C4eourxIyAePD8Qos5yg8044g0487gTXVCF4dr38yit070PbaG++TPHUKMUTCfHcXKzMU6KSp+M3r6cLzj2Lstmc3SnB+3uEAKsq3AEa35MVUYHPev07A543iqzAdwBuEgEmJ3gmMAKMACNQR4DJCZ4NjAAjEDgEmJxoHDI3yQmsch4eTlI+XwrUqksnJ7W+mh8rulGMVY3JiUak8TI6NpYVBWYoS4y2/gdfS4uugYFwEhO60gDFSSukgbJ+gu80iAvVMNYoPKDgAFUGzgUiAZZNaI2Ehb2A607h2kbnGW/HCPgFgVdeeYV++IWf0OrRNT27NJ2foie2Pkkrh1a1bIucg9FNOTryqM3tjzMwIIK0y2Oz9PG//bOG/Al176r7t2dH+ryBKiqrgF43uzM3N0df++6dNLs8TGNrNnQkQOZKBSrse4W2HL+ZXnfh+bwa381BceHYzaoKkOTKstCF00XqkCqnAu8QIEtVgw1jpVIRlo7KNjJSwGgXy+REVEeer5sRYATaIcDkBM8LRoARCBwCTE40Dpmb5AReKkBQoNCsVjQHbsLY6LAiZzqt5udMjkZwsUJ+bCwnrILy+d7kBIrcWDmP1fB4YcU889qeB6QEChJhJSYGB5HlkDFFGmB7kBCwL5MqB7nSEVkRsN3CGKGogIKDbuWAbfCcQF4EfuoqB7fCtW3c3rwrI9A3BF566SX6yU2/oNVjdcVDp85se3wrJWfSFI+1ejgugBRcP0xHH3t012vZU9hJ7/3Ld9Hq1auEggn/8GxQDfe6rqroGzA+ODEsnL70je/S0NpjaGhYWt31atP799Ax40l66yVv6LUp/92nCMjvHpKcQJPEBWdVODFc+K6gciraqyokWREl+1gs+IjFkk7AG8hjcCB2IIeNO80IuIoAkxOuwssHZwQYATcQYHKiEVU3yQm8TMDaCbYqXtvsuDF3jB4TRXYUzeF5j+I1iubtXpo4k6MV0fFxkBOLQm3TreFlNZsdFkVzFLqLxbLR4XFkO5kvEe7ga2WNhJdg3MPIbUDrRBqALEIoNYqWIJhkyLSs1ORyGVFcwP2A32OM0XTCAv+vWzmo/wdZAasuNJlVkRM/OxMW3cK16zkZjkwEPggj0AcEdu/eRd///N20eqS7cgIF0l/9+r9E1kS7Vlmo0MqjxumITRu7XkWlOk9jp2bpLe94c2073O+KqECwfHO4rbJ/UvZvfYDJ81PiuXfzV79Jg2uOpkSyMfi6V2em9+2iM49cRRe+5txem/LfA4BAq/0TqyqcGDalwlRkRbOqAt8LlKrCifP59RhMTrAVnl/nJveLEegXAkxO9At5Pi8jwAhYRoDJiUbo3CUnEmKlNArHKFREoaFYDrsmFE97reavZ3KUaqvLo4BRt2sEOSFzBTqTExx87f4swX0L4gAFFgRGq/tXt0ZqJA3igpjoTho0EhaN4dpSYYEiJ86NgkNzTgXup6GhIWELZSTgGvuDFFFZFXpOhvsI8hkYAfcQKJfLdNOnb6G1w71IhQo9eN8DNJFY27YzxUqBTthyHI2MjPTs7PK6ebrymis7bod7V5EVeA6oJm1YZE4Fivdhbo/+9rd073P7aGyit6KlHQ6HfvcUfeyaK4XyjFt4EGgN1YaiglUVTowwFkuorAosCNK/N9RDtcOnqmBygskJJ+4fPgYjECYEmJwI02jytTACEUGAyQnvyAkUkaEgwKpnvCSEvSUScXG9eGnA9arV3p2umzM5WpFB5gRW2yPXoF3TrbJAenltFxb24Gtg3knlgOBpzG9ggEwIrE5EayQsysKWCU2qHEBYxEVhEoHVyo8b1k8oZqJwKRUWreHauH9A9kkLmbrnNLZFfosiTMzaToX9OcTXFw0EvvWVb9HizjgNxlvtmhQC5cocPXzfVppItldYzMVLdOZ5r0ZOdM+2MFGid137rp7byXs/rtk/1YlG3Lu4b6UF1ILnNnyGOm9jo//4yh00tP54y9kRs1MH6exN43Tu2WfZ6AXv6ncEOFTbnRFqVFUgq0InSRfEdxZ8Nw/DYqmBgRjFYgl3gAzAUdnWKQCDxF1kBDxGgMkJjwHn0zECjIB9BJicaMQwFkPorH1c2x0Bq5igIkAINIqJYW7I18A/NFyvETKmnslRompV2txEvYGcwIv7zEwrOYHCOAivblZZbuInwy5RRA9n8DVe7EEm4L5tJg0aVQ51a6Th4SFBWKAVi6XafY5j5HJZEyoHkCLZmspBZlVIwkK3fsLvUHDQV0fiv/F8gdc7yI9OtlNuzg0+NiPgNQKwdvrev99Fa3LrOp56YXGB7vvNvbQq0bpNuVqm1cdO0MaNG3p2Xfjpb6jSle+7oue2zRuogiFIRhCSUD6h4ZhQUihVhdt+8Tjfiy+8QC8++zsqFUviOTe2cozO2HIGZbNZ09fVvMPevXvpa/fcRxNHdM/v6HWi0s5n6CPXvMsywdHr+Px3fyHQTlWh7BDV55y/ehyc3nRSVSiSVJEVQbOew5yJxeJMTgRnKnJPGQFGwAMEmJzwAGQ+BSPACDiLAJMTjXi6SU7gxSCXS4vCIQr2YW0q2BovlPDmV376va436oHh7fAZHc2IX+vkBIpZ0iqLg697zSmrf7encoD1U6GmYlFZFegL7odyWd77ncO161kVUMKAmFDB5krFoYdro2CTyaQFGYjtdKIC1lDKEkq3nbKKC+/HCPgZgdu+8GVKHEpRMtE+3wD3x2/u/xVNUCM5gd8Xl/O05fwzxf3Sq82WZumUi4+lcy84r9emPf8OUkARFboiCveuIiqcVMTNzc3Rw/c/TE8/+iwtz8ZodHiUBgcTtLy0RHPzc1SgWVqxaYzOv+g1tPnIzZZJgXt+/kt6eX7IcAh2J6AO/uE5+vCVb3WEMOk5GLyB7xBgVYU7Q4LvCSqnAj+hylQNzxuVVeHks8edK5HELpMTbOvk1vzi4zICQUWAyYmgjhz3mxGIMAJMTjQOvpvkBIoeIyNp8aW/VAofOYGiOVaNo8CCwgqCr9WKNyO32NCQyuSIVmB4N2ykRc8ATU8XDhe0YZXFwddG5pPVbdxSOehZFWbDtRtVHN2zKnQrB73gIL3upf2TUcLQKoa8HyPQDwRKpRLd+i+30fjiKkoMts8peOalp6n4yjylBqXCaZmWKV+dpVPPOoWyWUkG92p7Kzvpw397veNZCMq2TZIVjX7xdaKiaupzVb+WPbt307dv+R7lFscpm+qsjlhcWqSDhf204bQ19PYr395QuOyFjfr7d374I8qn1lraVz/HwZ2/o/e/5bU0MTFh9NS8XUgRaFVVLBMcEFlRYX/A8bxRZAUUXapBRSGtn2Swtpnv9PZ7ZewITE4Qsa2TsbnCWzECUUKAyYkojTZfKyMQEgSYnGgcSHfJCXjOZwzlLwRteoGQsFs0R0EGx4hKJoeRMdbJCQ6+NoKYvW2gPoAKAc2YykHmSGD+G1E54Ljmw7U7Z1WogOvWrIoUIRMDhQQUFUCMoo+qiKNsHFTB0x5qvDcj4B8ECoU8fe3Gb9DgzDCNpFuDrSvVCj1w//20anAdVRcXqEwlOuXMkwyvzMf+6WMH6bKrL3P1ogcGSNg+qVDtRqKxbv9klGjctXMXffvG79G69EaKDRjzrszPzVL6qARddc1VpgvA377zLipm1pverxlUJidcnWYBPjhsJeWqeTRJXHCothMDigUxCKFXZEWjqqIq3mFAVPhFVSHJiUHxL6qNyYmojjxfNyPQGQEmJ3h2MAKMQOAQYHLCO3ICX/hHR7Ni5TLCi8PSUDxJp4dEEcJOnkbUAsONjD9swFBUhhWYsu3h4GsjyJnfBqofFPTxouuVykEVFvWsCj1cu5uKo06KVEVguirSgNBCYQHqJT2rQve6xz2r2z+hyKBUFX5cGWl+NHmPKCOAufzwAw/Tk1ufoqWZGK3MTNRW8OM+uW/7b2hpNkbr16+lTUduMqWA2FV4md73yXfTypUrPYUYnwOKqIAlnGo60Yhg7cO12oa+IX/m5v/7JVqblMSESgkyEvw9MzdNR5y9jt74lotNXe9PfvYL2llNUXJo2NR+LeTEy8/Th694i2HyyNbJeOfAItBq/yTJClZV2B/SuqoiKRRd+rNH5VTgp/oOYv+M5o7A5AQrJ8zNGN6aEYgGAkxORGOc+SoZgVAhwORE43BitaIBy2lLcwAvSQg4RiEQlkdhaCAlsLpKeHYXy7ZWUkUpMNzo2CtyAttz8LVR1Mxth3teKhBQ0F86XNCXgezmVQ6wbsuKkGoUSEEaoElbpoxYCd1Z5bAkSBG1GrFzVoU8B1YzIr8CZAYayE9JWAy2qDjaISK97pOi4In+qqZCebE6EgQHN0YgqAjgc+n3v/89PfrAdqqWK6IoP5iI03EnH0uPPvhbGpxMUXpIKqWMtD35XXTRFRfSqa86zcjmrm2De11XVbQSjbBhgf3TkujDT+/+Kb3wX3+g/QemqQhrlsPsBLK4M0NJ2rxxPeVynT3L987vpBv+9joaGmqf5dHuQnfv3k13/OxBmth4lC0ciq88TR99/7u5yGwLxWjtLIvkkpxAY1WFc+OP7x2wYMX3E3x3UKoKYFzPqoB15IJzJ+1xJElOoC+984I865THJ2LlhMeA8+kYgQAgwOREAAaJu8gIMAKNCDA50YiHm+QEzjQ+nhPFyXxeFhSD2lAMyWaHRSEUBV2ZLyELIVZbPTB8nubmKlYPE5r9ZLE5I4oymDPA2OuVaRhTrKQfGFBrbUMDr7iQ5oI+gqyVckCFTwMDKBCUyiGVGhLWTxgLoyoHKKZgrYSCIQgIGVwNUiQrXvCbVQ5GSBHYTs3NSQWWzLORpAhWMOIcZhr2R8EBfdFXZePeltZP/rFwMHNdvC0j0AkBzOlv3vZNKr2yQOOZ8a7F7+pClfaX99DrL38dndZnYqLd9ahQbUk01gt0eGY99sQO+t//7R9pdGAjDWdHWgp4S0uLVC7MUoIW6OhNG2nF+HjLKWaKM3TSG46h8//ofFMT6otfvoOGNxxvmVjIT0/SmRty9JpzzzF1Xt6YEdARYFWFe/MBzxz53aFRVSG/O8icCix0cPO7K5MTrJxwb4bzkRmB4CLA5ERwx457zghEFgEmJxqHnsmJ3rcCCqDZbEqsmMJKKSgmnHjxqJMTFWEPFeWmZ3gABwRiO4GxUUxlgR4rD+0RTkbP14/tOhX0G8OnpTWSIt6y2TTBggn/r6scdFsmY1kVnVUOTpEiVjGVftP1YoO+KltlVOCnl/PR6rXwfoxANwRwH29/5FHa/sBjNH9wgVamV9FgvG5bMluapVI8T+uOWUOvvfiPaNWqVb4HFJ/P6v59eNuj9PUf/JTyT5doJL2SlpfkM72ddRuCwUszk7R5zUrasG5ty3VOxvfRDX91vSmiYeuj2+nBFw/S6EprYdaTv3+a/vx9V5iy3fL9AHEH+4pAa6g2lBWcVeHEoEhVBbIq5PcHfJdAa1RVVGoLPZw4pzoGlBMDBrN0nDyvX47Fygm/jAT3gxHwDwJMTvhnLLgnjAAjYBABJicagXKbnICtEwoDyu7F4DD5ZjOs0ERoNQqWyEFwkkRAUUUGhleoVIouOaFneGDlK4iKmZn6in63J4MsXC2FuvgMjEECYB4jgL1UkjZrcg7qKgeQQtKWSYVPN6scVFYFcIPyotmWCfsaUTm0kiL5WhFRJ0Xw7FCWCZ0CvJ2cI8rnvtnCAXNTqSqwSpIbIxBkBHbv3kUP/+YRKhfLQsmUSCZo/ZHr6Kxzz6LhYXu5Cf3AZcdTT9N/PvIU7XlpF6UOpCgWj5OeMYGCIZ5ZICv0nIrS7BQds34VrV7VSCjsKe2kG/77taawwHPqxtu/Qcm1x1IimTQFw8z+vXT6xlF63YXm1BqmTsIbRx6BVlUFExVOTQqpqpBkRaMic7EWqu3MQgfYOiWZnHBq4Pg4jAAjEAoEmJwIxTDyRTAC0UKAyQlvyYnR0Yw44cyMOdsVP8zKVCopVo3jZQ4F3UrFWU9ZRU6ELTDczNjBMkgPvkZIOF7wMF/s2mYZ6YcsWKHQHE4bJ2AAjNPplICjsy3TPBWLKstBEhYgiUA8QEmhVANK5WAtq8IIKdLN+iklMjHQF/RJkSJGxtnqNvVQ3qTAQzUUc5Wqwot+WO0/78cIRAGBcrlM//aVb9KqY06j7T/7BWWnZJ4ECNCB2ADF8BMrMQ43uXJcKipEftTUPjrn9FMaCor7irvpfX/1bhodHTUFYaGQp5vv+B5lNx5PiaSxzIqZg/toU5bo7W++xJRSw1THeGNGoAmBVlUFvg/JjThY2950wfd7SVTIrIpmRSasn7AwyVrOFciJId+P0d69e+nzn/8cPfroVqpWq3TWWefQX/zFX9HatevsgUts62QbwP+fvTcBl6wqr4bfO9WtW1V36gm6GZqZBpFJRhEcQCRGBgUZBVQ0Ijj9+Uz+P18+459EjU/il4QvGk0EUQGxIyjijKiRGQSZmm5kaLqhu2ns4U5169ad+n7P2rv3rVN161Sdc+qcqjOs/Tz9tNLn7GG9+1TVedd+12IHRCCGCJCciGFQuSQiEHcESE4sjHBnSdXB9/CjMgClzpDpiUpDDgOnw1E1EaQpM3CBNn9SyQlIZVVijOQzTp3htHzQp9OTQEzYyzKllI8EWrksU33zaZwO1tJPmtApr3IoeVVYpZ8WkiL4XGhXlUiNkCLN/EzBfE1VBfatSTYAB7x4G7KC8k/NjArHIgIi99z/oKz5Y1Fy/QPyxK9+I9mduYWwtIm0t7XPkxXWC4oTBVmW7ZR99tprnojdmt8i7//LyySXszfOtsN+fHxcbvn+nVLoyMnAshXzJrqV108WJ2R060Y5cv8VcsZbTgt9spF7Ld4IsKoiuPiWqioWHnQwPhXwrLBWddWaja6csNaGBTd3Lz2Pjo7Ihz50hUxMTMgFF1ykiN/vfvcWJX91443fkb6+Pi/dzt9DWaeG4OPNRCCWCJCciGVYuSgiEG8ESE40m5zIKMPKoaGxSGwsJCCRNMepp6BNmfFiAdkrnLyG+XNSGkgZjXHHAowzmW510ixociLuxtdOZJmQiICPBJLqaFbpJ+eyTFnp6upScbR6VdSTfsJ4kJYyMmmoSkC1Bp4/q8F1ufRTOSnSyucF87Ka8mLeaMAU5A0wxcnIZlT/tBIHjk0EWo0Anrl//9at0rvvYWoqzzzwgLS/LNLZ0VVzavMVFe3tSv5pamS7nHz80cqnAqeZN+U3ykf+6sNl1RRu1op5vbh+vdz/6BOyfXxaOnMD0tmVkrldu2R6sijtxRE5cK895NSTjnddneFmHryWCHhBwK6qIswJcS/rbMU9+O2LQzj2VRXaWLvWAZ2wkxNf//pX5aabbpQbbrhZDj74EAXz888/J1dd9T654ooPyoc+dHVD0JOcaAg+3kwEYokAyYlYhpWLIgLxRoDkxML4Blk50dubUXIoUSAnME8kzfHyhcQipJyCbDj0NDDQmyhyQhtfw1y8OsZG5mlsrBCIiWASjK+RKHcry9TTk1ZxQUKivMqhS/mi4JmYmCiqKgs0jIGqH7xkIxEPkgP3Yk/39uYU0VHpVYGqGMhL1SJFQFiY587ODyPIZ9Jr31aiApiYVvKpmJ73zfA6Bu8jAkRgIQKbN2+S1b96VJbsvVL94+jQTll7532yOONcOkR9vuWH5ehD9pPBcUDiEQAAIABJREFUgQFFKk4vGZerPvYBi3zbtONTzZWzHB0dlU2bNsvY+LgiNft7e2XlypWeiQ/uAyLQTARMNaD1b5pq+xMBfPboqgpNVlT+fnjllVfkhRdelEMOWSXd3SWZuLCTExdeeK4sXbpMvvKVr5cB9YlPXC2vvbZVVq++oyEASU40BB9vJgKxRIDkRCzDykURgXgjQHKiueSEke6BrFOY5U7wUgCPCTSc5gY50Yw2ONirkvBIxse9WY2vgTEMxitbkOREEoyvrRUIxeKkIhrQQAZpwqJTJcndyjJBesnEC31oubZ2sRuj0qsil8sqbxEk/TA29jyaW+mnKDwjIFWM/BOwKsk/7fIl0RkFDDhHItAsBJ5es0Z+s26LDCxeOj/kwz/8qQxOLnElezJRGJcDlvXJsmXLZGd+m5z9kXfIEa9/XZlWPD7XjHwbq6KaFWGOEzYEFso/wbuFPhV+xAm/4YxXBYjMa665Rn79619LOp2W448/QU466WT194oVmowNYwMZ+853vk0uuuhS5TFhbV/5ynVy6603yU9/+uuGpJ1IToQx8pwTEWgtAiQnWos/RycCRMADAiQnFoIWZOVENpvebXBc0qj3ELZAbzFzRPIaJ8NN4jTQQXd3DlknnbCNNzlRaXxtZyKMBDauhcyVn0bD2vg03sbXeKGF/wOS4UHLMrkbI6dOC9tLP+1SlRcm3mYdeESs0k/NeB79HsOcigRZAfkrkERoSO4w0ek32uwviQj87vePyyMbdkrvwKL55W964Tn54wMbpLdn0DEk8H/Ye6BHlu+5h2xv3ypXf/rP1GepXVUUKsMMUeHnd5XjCfNCIhACBMrln/R3G6sq/AkMPn82btwgt932X3L//ffJ9u3b5zteuXI/OemkU+Tkk0+RI488Wnk5hKWtX/+CXHHFxfKxj31KLr74fWXTWr36Fvm3f/sX5Tth5J68zJvkhBfUeA8RiDcCJCfiHV+ujgjEEgGSEwvDChWSoHzVmmlw7HbD4oc/KjtwUgmJBiTEjcmv2768Xq/JiTnlsRDH5tZcPAhyIgnG11bJpHx+fL7yx+oj0RxZpqIiFND8lH6Ky7NhL/9UOpHdTHI0LrhyHclFYO3adfLLNRtlcMke8yCA8H/s53dJZjgrqa60I3AmCnk5cI9BmUkX5U/ed4YcdMjBC+6zr4oC2Tg9T1aEuUrUERi8iAh4RIBVFR6Bq3MbPtM2bFgvjzzysCIq1qxZM+9p1dPTI8cdh6qKU+Skk94oe+yxZzCTcNjrmjVPydVXf1A+/en/T84774Kyu+644zb50pe+KF/96g3y+tcf5bDHhZeRnPAMHW8kArFFgOREbEPLhRGB+CJAcmJhbIMlJ4zBcUERAGFp2vsgrRKoOP04Ph6sv4Tduvv7s+qfRkbiR05o42sYojs3F4fuLhLtOPk/NTXT8HaJu/E1AHIimdRsWSZv0k8ZJfNUKf3U8CYIaQfQljbyTyAtTMP6zYlsY1Ye0iVwWkSg5Qjs2LFDvnnnr2TpynIyYWZ6Sh796V2SHe+VdFem7jzzwztkxd7dcvqFb5Fjjz+27vWVVRX4LYGG5KzVayZMv3vqLooXEAEfEVhoqi3zB4BorN0Y0HhneeSRh+TBB++Xhx9+QIaHh+c7PPDAgxRRcemll0t//0BjA3m4++mnn5SPfvQq+fSn/0rOO+/8sh7uuON2+dKX/kG+9rVvyBFHHOmhd30LyQnP0PFGIhBbBEhOxDa0XBgRiC8CJCcWxjZIciJIDwGvu9SJ94HXvt3ep7X72wSeHHFq9Yyv7dZaIieKKkHrtSXB+Bov9/CRqC2ZNCdjY/kFkkn+yjLVGqOgPFzQkIzHfEFWTU5OKSknNL2OrJI9qpR+8hr/qN1nlX/C55NJ3Gj5p9KJ7GZXdkUNR843mQh8/ebVklp+8AKPidmZGVlzz31S2DwqfR2LJNVVMpQ1SOEZG5vYKePTm+Uv/+aTcsiqhRUTTlDFd54mG1OqGtO02VlNNprn2ElfvIYIxBGBhVUVmswjUeE+2h0dpc8yHGh49tm1iqh46KEH1P8Grh/5yLVy+eUfcN95g3e88MLz8v73XyIf//j/IxdddFlZb0bW6dvfXi0HHHCg55FITniGjjcSgdgiQHIitqHlwohAfBEgObEwtkGSE0HI9DSyOzMZXcmBH+44edRqrei+voyq3ogTOQGCAaQU2sTElEpEO21I7qCipVAoejYlT4LxNRL8OtHfoRJfSPTrl3yR3t6cSpLhxC7Mp5EcQ7NKP+F6Q/5YpZ+Au5Fl8nMMEA8gIJCEsI5hJ/3kdL/E9TrgZaoqEAfTrD4VPJEd1+hzXW4ReGrNGvnvZzbJwNKStJO1D0g2rX/yaRnZ+Edpn2qXjrkOmWubk5m2GekcTMnAXkvkgrefJEcf6f0kr3U8fK5Zq6LKyUaaaruNL6+PHwILqyrmZNcummo7iTQ+T9rb7T0mhoZ2yrp1a+Woo46WbDbnpEtfr8nn83LWWW9RlRvXXPPJsr5piO0r1OyMCBABCwIkJ7gdiAARiBwCJCcWhixIcgJEAAgBv2R6vG44/JhH0hunzJGsxXxM0tZrn37c19ubUacsh4bG/Oiu5X04Nb62m2gq1SnZbI8UCpOuSA3TXxKMr7GHe3tRcdMuxeKk5PPaTB3/H4QF9hOS2CAmjPY5rsezWCmZBBkl4I2GfgyRZD+GrtaAbFPlGJDwqibLZB2jXF5KV1JUrqPlmzhkEyidyO5SuJumT2RP7T6V3bgEWsiWzekQAccIgKj78o23SP9+h0t7e6lqobKDXbtmpVgYl+mpKWmHrFp3WrpSKRndsFau/cBliuwNopWIii5VOWbazAy9ZoLAm31GDwFWVTiPWT1ywnlPwV150UXnyZ57rpDrrvv3skE+8Ymr5bXXtsrq1Xc0NDgrJxqCjzcTgVgiQHIilmHloohAvBEgObEwvsGSE9pDoJGT8I3uSCQDkIDF30ioomIiLIaVMORGInh4eEzm5hpdaevutxpfN0L+AAtgAimgYtF5xQVWngTjaxAMIAHQUOFgJJOQwDaJ/oWSSXbSTxlV4QJCx176qTFZJjx3PT3pBWNYqzVAFMKsm60+ApCAg2wM8MOzYj2RbfWpCMvnW/0V8Qoi4A8Cr732R7nphz+XJQe8ThGeThrI2u0vPSNXnPsnsmzZUie3NHyN1WsGn9vmGbZ6zeB3Cp/hhqFmBxFFgFUVtQMXBXLia1/7stx6603yjW/cIvDAQHv++efkqqvep6SmPvzhjza0O0lONAQfbyYCsUSA5EQsw8pFEYF4I0ByYmF88R7v8F3e9eYonYT3LtPjelDLDUjgoWICP+aR7DbJ3Eb69PPeEjlROuXuZ//N6MuL8bXdvLq6OlTy3S05kQTj60ymRxF9SiPdVpZpQhGBaAtlmbDHIJvgn/RTLVkmU60BskrLS82qeYGsAGmBdeTz457lu5qxt8M8BuJolX9aaMirqyrCUCEWZhw5t/ggsGXLFrn1x7+U/n0OUVURtdrUZFFGNz0nF7/r7bJi+YqWgGD1msGzjO9SNG2qXaqq4DPckvBw0BAgoEm6ufnDO5q4SLZXRVtbu7S3d4UgOvZTGB0dkSuuuFj97rvkkstVDG+99WZJp3vkhhu+LX19/Q3Nn+REQ/DxZiIQSwRITsQyrFwUEYg3AiQnFsY3SHKikZPwje5E43eBlxnIBDVisNzoXOzuB3GCU9AjI3l1ujxqzavxtd060R+krtwQSUkgJuwT/ZBlyuxO9FeXZQLRAzkltEaln5zIMpUbdWt5KbO3y6WfxlUCjs0fBLT8k66qKDfknVWffdqUl3j7gzZ7CSsCY2Ojcvc998uGrTula2CZ9A0uKZvq6NB2mRn+o6zcc5Gccdop0tvbF5ql4PdSyWvGaqrNZzg0QeJEWorAQvknTVYkxVQb64d0XdjJCWySzZs3yZe//C/y6KO/U59rxxxznFx77SdluQ9kMMmJlj6GHJwIhBIBkhOhDAsnRQSIQC0ESE40l5zwkmz2YwfjZDaqNpC4zueL86e2/ejbzz5K5MS4mmuUWrnxNTwiphuevtkvkCYCoVSr6YQ3XkyjhZsbkHCS1ng8IJFvl+hHJYVJPFulnyCZBF8KNG/ST+5kmXS1Rq+q2oAfwujouBobiQMQLMaoW5Nx8Y2bmxgHca2dIS8w16baqKqgdEwQ2LPPcCAwPT0tv3/yKXnmuRflhfUbZNvwmCoRHezvlxV7LpNcOiXHvf4wef3rDg/Ma6IRJPAZaiqjrBJu+N7D2gzhSPmnRlDmvVFGYKH8Eyoq4l1VESVyIsi9RXIiSHTZNxGIJgIkJ6IZN86aCCQaAZITzSUnoK/c15dRRrv1ks1+bEwtMQR/iQ6ZmZmVfH4i1NrNMAtHMhlJ3ChJN5h540UJCfDpaS3Z02jTye2sIjqMPFG1PjUxsSvUsW0cC+0jAUwqfSTsEv2NSz+Nz2OKOOAkPsrytSyTJhOsskxWeSltog2D6zblIYF9gVarWqNRjHh/fQRADOkT2aiq6JzX48ezq4kKnegkWVQfS14RHQSKxaL86Bd3y6Ydo5JetEKyFTIi2P8jO7bJXH6bHLbf3nLGW05z7FXRbBRKz3CXInitnhrWZ9hI5zV7fhyPCIQBgSRUVZCc0DuN5EQYnjjOgQiECwGSE+GKB2dDBIiAAwRITiwEKUhZJ6fJZgehq3uJ3xJDdQf04QIYEkN+amysoMiUsLdK42uQP34mNbWHQVYlS2FcXq0lwfjaahhtn+ifVqSWOTnbiPQTqivyeSP9VKrWQOILxIQZo1yWKT+/Z91Wa4R9n8d5fnbSMfj80UTFVCQ+i+IcI66tMQSgd/7t2+6U7j0PlO50T93O8sM7pXd6WC45/1zp7Oyse32rL9ASbpqosM4XBLK1qqLV8+T4RKBVCFSrqjDyklGWgNLkBA4ZhP9zKsjYk5wIEl32TQSiiQDJiWjGjbMmAolGgOTEwvAj4dxRkjf2dX/gFHV/f65mstmPAYOQGPJjXvX66OlJSTrdHQlyAsSBrkppVyeuQR74LSlRb7/g5VLLOEXPn6PeXjD/jv0AWTK0co+HTlVVgjhYyQSnHg/VpJ9wL8YwRvG60inYag2nOPC64BHAs6yTnCkl+2WSNiAcSz4V0/NmpMHPiCMQgcYQQMXE9d/5nmT2PlQ6O52bxhbGRqVveqdccv55kdKvx3emISogA2WeYVZGNbaPeHe8EFhYVRFN+SeSE3pfkpyI1/PJ1RABPxAgOeEHiuyDCBCBpiJAcqK55ARelAcGciqZjVP2QbRMJi0gJ5C4hpRMFCoQSonolKB6AtiE2awWiUsQE4hnPcmlRmJca78kwfgapARkk7CXx8byC3wkNJkwoWST0KxkApLJuMeYQ1qln6yyTHheIP+El9xyWaYuRX5gDEhqFQrVZJmcVWtYCRZUZECWii3cCCDu1iQnkp5oTHKGO26cXTkC3/vhj2S4a7GjiolK7Ea2vSYnHLBETjz+uMjCWpJw61IHCUwrVUZNC/yL2IhAUhFYWFUxJ7DAikJFhSYnIO0W0ImyiGwKkhMRCRSnSQSaiADJiSaCzaGIABHwBwGSEwtxDLJyAqMNDvYqwgDSRX42vEggYY7EObSWtcRQtE7Ug1RBshgJZxjUhrE1syqlGjmRBONrPIPwazCG0c7IBPceD0b6CUQPxjBEnn21hq6kcFOtYUewhHFvc072CJTkn1IVSc6ST0WUiGDGOv4ITExMyFe/8wNZsv9hnhc7/so6ufqKSyKRqKy3SJDXJfmnysqoGZmenlK/O/yugKw3L/47EQgTAlGrqmhrg6wTyYkw7SHOhQgQgdYjQHKi9THgDIgAEXCJAMmJ1pAT2lTXP3ICL925XFolTfFybcx3XW6Hll9eIieKSkYlbM1qfA3ypxnJSCuZlQTj61qG0blcVnmS1CYTJpTMExqIOkMmVJpo478j4YwYgpgwXiF2ZILV96K8WgOm5ZB+6lB71lRrYHw7E+2w7WvOxx0C1iQn9pBpVvmnMH5+uVslr446Ar+55z55duesZPv6PC9lx+YNcsFbj5d99t7bcx9B3whfmO3bt6kKOjybmUxGli5dWpNQqVUZhUoKI+MG3wo2IpBUBKJgqo3Kiba2UlVUEmPFyokkRp1rJgK1ESA5wR1CBIhA5BAgOdF8cgKyTkgyw7zXj4akKZLmeNmGVn6xGF3JmFSqU/kLQEYHcklhacA2m02rZDaSFX4bX9dapyEnsF90Aj1a1TBuYhgUmQBJJuwpNG1KbyUTSibaJTIBlRRjKtZokBrLZjPqRK1Vlgn7AdUXIFTw7MGvAg0SQBgD5qyVJtpu8OC14UcAsYa2PYjVhRr30+pzDIlOnsYOfyzjNsOvfvu7kt370IaWNTszI5nCVrnovLMb6ieIm7dv3y73PPSIbHxtSOa6c9KmTHHnZG5mUrp3TcoRB62UE95wrPT01DcBx2c5nl9tql06hY2DJCW/mXBWcwaBLfskApUI6O8w+Jzpf9HERau9KiDrlCI5sbSXG5YIEAEiUIYAyQluCCJABCKHAMmJ6iHrLB2G9T2m/f1Z1efISOPkBJKmOEmOlwQYMofZp8EJkEgQQJoqTCRLM4yva2EDMkv7IRRkejo8hI2TeLq5xlqZ4I1MyCs5MzT4VIDkqkUmWE20a5EJuVxGmbTrao3xeX3y7u6U4N+cmmi7wYLXRhcBIxuDv/HZYRo+m0unsfU+ZSMCQSJw3TdukcH9Dm94iF1/XC/vv/j8hvvxqwN8D952509ky9i0DOy5j3Sluqt2PT46IhM7tsiJrztQTjnpRMfD47kt+c10lplql4iK6cjJZjoGgBcSAQcIhKOqAuSEPpyV5MbKiSRHn2snAtURIDnBnUEEiEDkECA5UT1kQZITOJ2NZOjwcN7zfqk8yQ+ZmTjID4SNnCg3vp6SQkHLBTWz9fZm5k9youIGiRlIFOFvc4KtmfMJYiwnZILTygS/yAQ8Y1YT7ZGRkvSTvYl2dd+LIDBjn+FHAJ8fJY37EuONz2pI0SDRGXVCOfxRSO4M//n6m2XJAa9rGIDp116Uqy65oOF+/OgAz803V98uc/17S08u56jL4dc2y6HLsvKO09/q6HrrRch5moqKSsLRKv/UDIlH15PnDUSgSQgsNNVGRUVzqip05QTJiSaFmsMQASIQEQRITkQkUJwmESACJQRITlTfDUGSEybZPDQ05mkrQpYGp8LxNxJbqJiIi2QIknnAB9JUSEa3sjXT+LraOq3G19VOYyPmpdPYU5E9xVmPTAA2qKQw+wGa4lqWqV2RNGNjugLJK5mAvrQkWnHeq6W274W1ksJqop1S0k9oIAuN70Ur9zDHDg8CdqexDeFoTmTH5bM8PMgndybXfeM7MrifdzNsg9zctpfkyove03IgUb1203/dLpO55ZLO6ApUpw0ExXEHLJM3nniC01uqXmdHOFr9ZuJ0cKAhsHhzYhFopqk2yQkRVk4k9lHjwomALQIkJ7g5iAARiBwCJCeqhyys5AQqC+B9gGQqErOtOMkf5CbXiedMy9fWCuNrK661jK+xBwxZAbxMwylOo29v5I2CjFWjfWMPo4oIp1IrTakzmR5BdYKWsxqfN0cvl34qKtICrZxMmFbySybJi+oHSDDVNtEuzHu1WH0vQJLl8yXyw8l8Ya7N0/CN7o543293Ght7Fs+CqaqIQzVcvCMZ7tV9/ebVklp+cEOniqcmi7JkbkTOe+dZLV/ss394Tn7+2B9k0Z7ezLl3rH9Grr3iQkmlUr6sxfjNmO9jc3q7/OAA5J9oqu0L4OwkkggsrKqYE/NI+FHxQHKC5EQkHwxOmggEjADJiYABZvdEgAj4jwDJieaTE/BUQIIZsk5uTsnCWwIeE7gHpARO2satabPirEqyGwPjZq6xlcbXZp2Ir1Pja5ATSIygygPmy6aF3cSzlim1IROQmEWi3xAt8H1AxRCa1ZS6nEyYVP+GpsmPnHrWKskP9AMpKZBAY2MlMsHO9wLkR39/dRNtu/k2c99yrGgjoE9jp2jGG+0whm72jz3+hDzwwjbpX7zE89y2v/yCvP+c02XRokWe+/Drxhtv/Z60LT2gzMvFTd9jQzvkDfv0y0knHO/mNsfX2h8c0KbaqKggce0YTl4YUwT8rqro6KjuORNT+Koui5UTSYo210oEnCFAcsIZTryKCBCBECFAcqJ6MHAgPSgJU1Q+IAmqNeznHO0Gcw+S1pBxiqu+sU4CZ9WLPNbZzLbQ+Hqi6Z4O2A9zczhl6WxfWPHBKU6T4ESSxJxIs8pNhIHQwtyQ0AfeVlPqcjJhRhET5vmAXBKIuVpkAqSUIM2EtpD8ABGo0bIjE9A/KjbQysmPTkWYuZlvM/ctx4oXAvbyT/CpgKk2/GZmXBHb8UKIq3GKAKrpvvLt1Z5NsZFEnH3tBfngpRc6HTKw64aHh+WGH/xClq48pKExxjc9K1dffnFD1SROJoDvIKvfjPX7uCTHCN8o99/1TsbnNUQgCgjYVVW4qaggOcHKiSjsdc6RCDQbAZITzUac4xEBItAwAiQnqkMYJDkBuRqcdIf0TD3ZDiScUWmBE/IgJPJ5JMzj+zKLF5KBgZxKvmGtzWpdXR3qVH4r5bJAIiD53tbWeHyxDpAAkDOCbBL2EZqRm4AkGIiKZu8lzAceE5jf+Hihqo8Ekq+QcsI2B0HY25tTSR5UUOhKCi2RUW6iPa6qbdCs5IediTaSdtXJj11qbHO6Fc9pLpfdPV9n5Eez9izHiT8CeE5SKci44TnunD8xTtmY+MferxX+/O5fy/qxNsn1D7jucsfml+RPTjhCVh3aGCHgeuAqN9xz/wOydseMZHK9DXWHSpCr3n2m9Pf3N9SPm5vNc9zVheqo8udYy7hNqz9RkGN0s25eSwTcIGB+j1r/dmKqTXKC5ISbfcZriUBSECA5kZRIc51EIEYIkJxoBTnRrZLGo6OFmi+jkPpAwhyJ5VZUErRim7eCnAiT8XVQmJfkJlKqqsAQFc3Utwcph8qESh8JTSbk1D5v1JTakB9YnzMTbWfkh9X3wo78CCp27JcIGATqycaA2ItrVR13gTcEQHp/67u3yXTvCklnnZtID2/bKquWpOXM09/qbWCf7/rRz++Sbe0D0tnZ1VDPOzZvlEvefpLsueeeDfXTyM2QYCxVVZR8o0C8a6JCV0exEYEkI7BQ/gmVxVqy09pITpCcSPJzwrUTATsESE5wbxABIhA5BEhONJ+cgHwM/CPGxgq2iaTyhPmUMohOShsc7FW4AJ+gm6liQcUCZIGandirZXwd1Nq1vn3Xbn37cp8Kbajtf4LTmSn1hJJ5QrP6SGDvgxxAq22i7Zb8gCdFrxoLiSBUUpgTe6jugMdFpYm2HfkRVKzYLxGwQ6AkG5NSezisMm6MYOsRwGf6d3/wIxnt6JO+RbX9J/AZuHPLRjlsRb+8421vDVz+yCk6P/zpz2Vn1xJVRdpI27HlZbn49ONl+fIVjXTj2712Mm66OkpXVOCPUwlQ3ybGjohAiBAol3/SVcCmiJzkBMmJEG1VToUIhAYBkhOhCQUnQgSIgFMESE5URypIWSdjbA3Zomqn40zCHD++cU2zE+ZO905Q1zWDnEAiL5dLKxNpnFYEztqEunnNjfF1ULMyiRFjqO13grO2j4T/ptSVZILVRBvkkxPyA0SKkZHSvjB6X9hVfgQVG/ZLBJwioGVjNOGIP+Y5Lpd/mmKC0ymgMbwOn2MPPPI7eerZF2WyMyMDe+xdluifnpqU4a2vSH/nLjnluKPlsFWHhgqFX/32HnlxrF3SGefVH9UWsGPTenn/2W+TwcHBUK3PTMb6HOP72TRIERqiImm/CUMZKE6qpQhYyYq2tlRL5xKGwWmIHYYocA5EIFwIkJwIVzw4GyJABBwgQHKiOkh4J7S8FzpA0vklSAQj0YlkKQxOTdMJ8x51CrZVCXPnqwjuSnhO4JQgPDmCaDhxDLks/A1yCHFoto1HGIiJSmxrJThNUsSNT4WdKXVtH4lugfm1JuYK8xVDIJHqm1JrTwpDJiDG8KWoZaIN6adCQZtoIxHU15fbXUkxrfZfvUqKIPYn+yQCjSJQTcYNfTLB2Siy0b8fn2kbN74sD/7+CZmcnpWZ2Vnp6uiQvlyPvOmE42Tp0qWhXOSrr74qt/7yQVmy9/4NzW9041q55spL5v1bGuos4JtRJWLICjzTpuE7znwno7qi2b9fAl42uycCdREo7XlUUpXLPNW9OYYXkJyIYVC5JCLQIAIkJxoEkLcTASLQfARITlTHPEhyAi+b2WxaJUWNiS8SuSAmkCBtVcK8+buv+oj9/TlYN8vIiP/kBF7wgT0S8cXi1LwhczPX7qfxdZDzhpE2iDTsV3OCE4ktJDi1/BOkJqpXm9j7SEBKCQRAZ00ppXJTaquJtjNTaiMjBZJPm2jPKqislRTl5EeHmhfWieoK/BtaLRmpILFn30TALwTsEpwlfftpJR/DllwElJTTzp2Sz+fVXkin07Jo0SLJZDKhAuU/bvqupFcc4llqqpAflYP62uSMt5wWqnU5mYyz6ij772QnY/AaIhAFBEhMLIwSyYko7FzOkQg0FwGSE83Fm6MRASLgAwIkJ6qDGCw5gQR5jxQKk+pkeCrVqSopdMJ8UiYmkuMvUQ39/n7INrQJJHX8bPAL6OnR5d8TE8C+uQk5rRkNndzmykf5gaH2qUjt9qkoaX5bDbWN1ESjUkqaTKgtpWRnSg1TbUN+gETRlRTAXdQz57aSAkQZkrsgYkCYmEoKPzBlH0Sg2Qjg+SidxC6Xf/JSHdXs+XM8fxEAEfH4U0/L7595VgpzKZHOtLS1t4mAdJ7Myx79PXLqicfJ3nvt5ZkQ8HPGjz3+hDzwwh+lf7G36o7tG56Vj1x0jmRdGIP7OX9sjT1QAAAgAElEQVQ/+ypVR3WVyXOBiC9VVdBU20/M2VfrESAxUT0GJCdavzc5AyIQNgRIToQtIpwPESACdREgOdF8cgIvlaiSQIIchAQ8KJD0HB8vVvWgqBvEmF2g5XvaZHjYP3IiicbXQW0LOyNeEAogXlAVEaSUkp0pNUgEEBOYX7mJtkhvb27eR8JKfsCcvrqMVPVKiqAwZb9EoBUI2Onbo3rPJDhN1VEr5scxg0PgmbXPyi/uf0RSi5ZL78DiquTD7MyMDL+2SXrbJuWSd5/d8qQ+COf/VNUTB0tnlzud+bGhHbJ/r8g7zzwjOFBb1HPpO7lLff+WvKPKTbVJrrcoQBzWJwRwuAcSTpRyqgSU5IRPW4zdEIEYIUByIkbB5FKIQFIQIDnRfHICp9B7ezPqdDheKiGNA0Nmc1o8KXvPbp3ABhgNDY01DMVCH49C001hkajX1RL6BH+cmpGagPwTZKCsRrwmuQmiyQ0BUG6iXe4jkcn0qCojJFlQyYAx0LzISGFOICfw/FllpJCwhSwU5gE/kokJ7UnBRgTijICujtIybkhwmsaT2PGL+u9+/7jc+/SLsmSfAx0tDmbZ+c3PywcvPFd6e/sc3RPURWNjo3LD6jukb59DHRMUY8NDMrhrRC45/7xQVIAEhQ36xfeWtaqiXJKxVFVB0jHIKLBv/xEgMVELU5IT/u849kgEoo4AyYmoR5DzJwIJRIDkRPWgBynrZConMDJOAubzRcrFWMLgFzkRBh+PMBpf+/0xVy6lNCuQd4JUmUmKYDzgoCXLioocApmRyy0kABaaaJeklIyPBMgEVD+UZKRSivxAA5mAcdC8VVKklfyTNuQeb7r0l9+xYX9EwAsCeHatRrw8ie0FxXDe89zzz8uP739clux7sKsJzkxPycSW5+VDl75Xuru7Xd3r98X5/JjcdNudMp0elP6le9oSDjMz0zL06suy/+KMnPfOsyJhgu03VvakozbVhrSXIfn9Hpv9EQF/ECAxUQ9HkhP1EOK/E4HkIUByInkx54qJQOQRIDlRPYRtbUhu+h9eqyGzNuv13/TZ/1k3t0dIXgEnyDp5lSGg8XVzYobEhzGSLpdS0t4PiANiaJKbmJWpGNIEQEFJMKFZfSQWmlLrvpz6SKCKA/JgGBfG84XChBpDEym9qjIH0jUgOcwey+UyyjBbkx/jaiw2IpB0BPBdiOfJkBXlJ7Gt8k/R89JJWmzxWffVb90q2X1WeaogGB8dkcOXdMmb33RKy6HDyf91zz4rDz+xRoan2yXdv1i6Ut0yt2uXTBWLMj26TVYsysmbTzpeli9f3vL5hmECdqQj9oVVyg3fgWxEIBwIkJhwEgeSE05Q4jVEIFkIkJxIVry5WiIQCwRITjSPnIC3BGRkTLIWp9XgM8FWjgBOruPkPQyxjZmxG4ysOMN0vNmnAqNsfO0GZ6v8EZL/IAE0AdC+25S6RABoI169/60VFUYyBs8EzKq1lFJB+bGgLaykAJmgZ2kqKTTJBxPtWfXfyw25C1IsavIDlRQwuMb4lUQK+sJ60Ifed0zOuNkLvDY5CEDyqST/VGLwzbM8OTlNYi+k2+GllzbID+9/Uhat2NfzDEdfXivXXnmpLbmBz/LJyUkpFovqszadTqvP/iDb9u3b5cUNGyU/Pi6dHZ3S35eTVYccosZms0cAz7EhHvFdaxqqEqemptRvJ1OhSByJQPMRIDHhFHOSE06R4nVEIDkIkJxITqy5UiIQGwRITlQPpd+VE9ksXtC7VNIThASki3BSDV4TbOUIGKxGRsZdJ4nDYXxtPCbiG1m3RtLaRyKrEiFIdoAcQCUE/lh9KvBMoGoCUhNIgsLIGsQG5KAg2YRW7kmhqx8MiQViCySHN0Pu8kqK+EaPKyMC/iCA5DMk2oxPRUn+SUvGGNkYQyj6Myp78YrATf/1fZldtK+0t3svC925dZO868TD5aADy/0qkMx+/Mmn5PF1z0thRqStM6WqGOZmp2Wwp1NOPPoIOWzVqkRKK3mNVzPvA3lvJR2rP8sznqtZm7kWjhUHBEhMuIkiyQk3aPFaIpAMBEhOJCPOXCURiBUCJCeCJSeQWIVMEV78kJRFghWJ08HBXvX/x8YKsdpPfizGEAyQ1nFqEl5ufD2rSB8vVReNzF+Ptyv2L+9W+SOrkbSdjwQSmKhYwDOAZCXuMVJKpvrB/H8rUWFigYoMY0pt9ZFAMswqi1ZeSTE2v3eslRRWGSk7SapG9gDvJQJJRQDPbsmnokuRimiUjAnHjkAc/vWGW2TxAa9raEI4YJHJb5ELzzt7Pr7/fd8D8uTzG6Szf5n0DS5Z0D/GHtm2VaSwU958/NFy1OuPaGgOvDlYBGo9y5A7NMSj099nwc6WvccPARITbmNKcsItYryeCMQfAZIT8Y8xV0gEYocAyYngyAkkP3GSG0maSgknkBOQwRgdJTlRGQGcyoc0E4gbJ5ICNL5uzscSEhZW+SMtpaTlj1CtUM1IGtUPqJgAQWHvI4HnQEspoZIik9GeI9aGigo8L5AHqayksBpyV/pIuK2kaA6SHIUIxB8BPMOGrACpaBolY1oTe5C5/3bz7bJ0v1UNT6Bj50a57ILzFPH0g5/8TDYX2qR/yZ6O+t25+SU57qAV8qaTT3J0PS9qPQJ2z7KRctMVUvRoan2k4jADEhNeokhywgtqvIcIxBsBkhPxji9XRwRiiQDJCfuwdpbnR13FH6fIkWRHg+a90b03nQwM5NTJfhpiL4TVDTkRDuPrOZVYb2vbbYbgaqdE4+JyH4lptW+rG0nn5wml7u6UoMrCq48EvCdA8BnJGIMUsMbzhIQI5gDjbRBUVh8JXAtSBGSGJgFLRIpdJUU0IsFZEoHoIYDnE8+ifpY75qXc8CybU9jN9gaKHoqNzRgeEF/9zh2yeL9DG+sI0no7Nsrl7z1PfvbLX8n6kVnpXbTUVZ87tmyQNx9xgBx79FGu7uPFrUeglqm29Vk2vw9aP2POIDoIGGIC/iclD5TozL91MyU50TrsOTIRCCsCJCfCGhnOiwgQAVsESE7Ybw6v5ISRJcLLGWScpqe1Ua+19fdn1f+FrwJbOQLG0BrSTLVO47Xa+BqzRnINJFOciYna1Q8lHwlT/QBc8AygAgLPAGScTOIRZBKqL5DggOk1CAi0Wj4S6Af9oS8QDTiFbZV/wv+2EhNeKin4DBIBItAcBKySMSArKj1njBFvs2X5mrP61o2Cz89/ueEWWdKgrBP66R7ZJG9700ny7Z/8tyxbebCnRW1/cY187MqLAjfL9jQ53uQIAXizGUNtPMv4XjcNv93gHUVTbUdQ8iIhMdHIJiA50Qh6vJcIxBMBkhPxjCtXRQRijQDJCfvwuiUnyn0Pdu32PdCyN5VNS920yfBwPtb7y8vinJATJYNxTQA5kX/yMhe7e3TiLP7G1+XVDxMW74f23RUL9j4SIG5AWJjYmL6AaaGAviYVvDhVrasfTF95MQa65T4SqH6YVclMxL+7W1cmVSY3cTIbSRKnlRR+7gv2RQSIgDsEtGSMrqrAZ4FpRtt+cnJaPfdsjSNwwy2rpXPPg+c/M730OLztNTntsL3khQ0vy0hqiXSlUl66kbHhnXLsXr1y8okneLqfN4UPAVPpWK3akRVS4YtXeGZEYqLRWJCcaBRB3k8E4ocAyYn4xZQrIgKxR4DkhH2I3ZATbn0PenszSt5iaGgs9nvM7QIhiYWT8uPjxfkT96YPGl+7RdP79U6qH5z4SGAG1uqHhZUUuQU+ErUqKSp9JNA/kpvYN+bkJk73Gm17nOCEvBQqQCo9KbyjwzuJABHwGwEQlHiOK5Ob8LbRyc0pats3APoza9fK3U9ukME9lnvuZWjDM/Jnl5wv/3HrD2TRfod57gc3jr+yTq6+4pKGyJKGJsCbA0MAh2+M5wyqKxZWSOmqChxiYEsyAiQm/Ig+yQk/UGQfRCBeCJCciFc8uRoikAgESE40Tk6kUjDxTauXL2jhmxPhtTYQyQl7dPBCi5PxhUJRcGrWtEoCCLJPzW5IeuuX6fj6SwBTU7FgV/3gxUeiViUFql9AdKDpSope9TeSkVZflmqVFLgH1TbZbEbdDwICJAXIP2sDWZHPjze9yqbZe5TjEYE4IFBKbqYE1RXW5Ca17b1FGJ/BX/nmrdK/3+GeOihOFGTvrgnZZ8We8pu1m2VgyTJP/Zibtr/yolzxp2+RJUuWNNQPbw4/AiVT7VRFhdTsvO8MqqXYkoQAiQm/ok1ywi8k2Q8RiA8CJCfiE0uuhAgkBgGSE/ah7uiAZEztrWDMm5G0RjJ9asrZy1Uu16MSLpB1onFgOcYge3A6vlCYVNI8aGExvp6bizcxUV6xoI2kzcnG2pUUpvrBvY+E35UUxqcEJ7CzWS2fhmfMJDexHpBePIWdmK85LjQGCJhT2FZt+1KFlH6eUWGRpIbPsk2bNsnI6KhMoUIs0yN77rmn9Pf328LwyKOPyYPPbZHBPfd2BRXGGnrpGfnwJe+Rx554Sp4dmpWebM5VH5UXb391k5z/piNl5cqVDfXDm6OFACqkzPOMQwTW72Z8fxvykb+NoxVXd7MlMeEOr9pXk5zwE032RQTigQDJiXjEkasgAolCgOSEN3ICpAUS6Eia46Udp/jdJEaMZ8LICJK/8T6F7/aBAqYgb1CBgkoUGl+7RdDb9U68H9xVPzj3kcCMrdUPflZSoC+QXNbkJk9he9sjvIsIhAGBkrZ9qqxCCt4UJrFpSMowzNfvOYyPj8uDv3tMnn3pFZnqyklnd4+0d3TIzPS0zBZGZHG6XU5+w1FyyMHV/SV+fvev5bntRRlY5kzeadeuWdm+fq1cevYZsmL5Crn7v++Rlwqd0p3uaWhpO7ZukXNOXCUHHnhgQ/3w5ugigO/ikvxTZ1VpRjzTbn5fRxeNpMycxITfkSY54Tei7I8IRB8BkhPRjyFXQAQShwDJCffkBCRjkDxHMldLxUy4rn7AKXSc7IZkDV+6ymOAxBNkr0BMGGkPJMXhQUHj62A+okAI9fa2rvrB6kmBZ2J6Wst5lc+rqMzP0Wp5UpT3la+qUW93Ctt6apNa2MHsNfZKBPxEAN/H1uRm6RT2nPocidsp7Ice+Z3c/+QfJLvHvpLJ9VaFEp9dw398VVJTw/K+95wjfX19ZdfhRPpv73tAHn3uZelfvtKWZMB1Y0M7ZHb4Vbn47LNkjz20jBPm8Pst45Lrs6/QcBLjHVtelovedpysWLGXk8t5TQIQwHc+PCq070xJmjEpxGP8Q0xiIogYk5wIAlX2SQSijQDJiWjHj7MnAolEgOSEO3LCKi+E09iQHvLSMplu6e5OyehoQfDSxVZCwJATSLAg8QR8QAA1u8JEj7fLNfEUtVjWrljws/rBXV94PmBkjbawksL0NSWQhZrbXXxk50lRKyYwykYiBGQh5CZMg/41EpuQgOIzGrVdzfkmEQFUNJrE5kL5p9LzHFXi8df33CtPbxqSwT33cRTemZlpGdm4Tt5/wTkyODi44J6hoSG596FH5KVXt4tkF0t3DyowOmVmekqKo0OSlUk59ohVcvTrj1C4mrZ161b5zi/ulyX7HOBoHnYX7diwTj566XsknU431A9vjicCdsQjSLNShRRMtVl9HI0dQGIiqDiRnAgKWfZLBKKLAMmJ6MaOMycCiUWA5IR96Cs9J6zyQpAcspo1u91AxqtibKzQ9GoAt3Nt9vVG1gnjwsPDnJZv5jySYnwNabKenrQiYBr1frBWLISpLzf7BtVQqVRKkRXYh6ahugma9kiIxFkuxg1WvJYIhB0Be+Ixeia8jz/5lPz26fWyaIU7f4bZmRkZe2Wd/NllF9qSAKgwee75F2RoZFQmpyYll8nIPnutkBUrVtiG+D9v+q50rzhk3i/A7V4AAdJb/KO899yz3d7K6xOIgB3xCCjMQQJ8Pze7ujaBofC4ZBITHoFzdBvJCUcw8SIikCgESE4kKtxcLBGIBwIkJ+zj2N4ugj9oxiPCL3khQ3SgIoDJzlIMrJUpOK2OypJmN5zCi7vxNTC1qzJIp7uVnwpaecVCh/T1oWKhXSXqnVQs+FmV4aySYlrGxmAy3/iuMZJiICuwL62mnSDNtKH2tC9jNT5b9kAEiEAtBDTxaORiKp9nLf8U1ucZvzu+8q1bpX/l4Z6CPD42IqsGO+Wtp73J0/3Vbvr9E0/I/c//UfoXL/XU5/ZXXpRL3/EmZeDNRgTcIlDynYH8U+kgAZ4Va1WFH78F3M6N1y9EQMcBL1S7X6oIkq8IkJzwFU52RgRigQDJiViEkYsgAslCgOSEfbxBTHR2tqlELV6EcCILyVo/SsghIQPfCfSHRCebNkRGRQlO8SMRjBdM+Ew0s+HFFvFta/Mhu93MibsYC0l3kAx4oceJw9HRkim7qaQABkjyG+LMzvsBfcGrAv9e2Ze/lRRpQX/VKzyySv4L1Uzj48GQWbXkYko+FVO+fDa4CCUvJQJEwAMC5Sa8XcrbCA2fL2H0nVm77ln55ZPrZdChgXU1SEZfXifXXnmJ50qHyj7xef/Vb90quX1WSYclOewkHMWJgnSPvSpXXnyBk8t5DRGoiQCeX6ucmzlIENbnOWnhJDERfMRJTgSPMUcgAlFDgORE1CLG+RIBIiAkJ+w3QSoFY+a0Snz6nSjHCU5UYxQKxYbkoeKyhSsrU2CIjSQRKkua0TThZCommjFia8aAp4KpfoBnCqofTOvryypJI0gYgbAwPgtOKylgZG2aXVWGl+oH0xeII8zLyDZY+yoUJhQ50awGMsacwrb6VFiJChrdNysaHIcINIaA3fMcFrmYG275L+nc86CGiIWdWzfJn55wmBx80EGNgWW5e+fOnXLjbT+SRfu/rsyvp9YAk8UJmX5tvXzwkgvoNeFbJNiRFQH753lWVUdRnrF5+4XERHOwJjnRHJw5ChGIEgIkJ6IULc6VCBABhQDJCfuNsGhRVknYIOlZLE75umNSqU5VkQFDbSSJk9pwwi2XW1iZMjjYq5LQ8OQIuiXF+BrJdCT6gTlIMST00ayVFEiugwDAiUM0t5UU6Bvkh/tKClP9UJz3GCnvCxJfqPDYpeaFqqNqlRRB75Vq/YOcMIbaVnkJkDvGUBtJTjYiQATCj4B5nit9Z6xyMXium9Uw7r9+41ZZcoA3SSczT/STHX9V3nvuu3yd+vbtO+SWH/5UUov3lWxfn23f+E4Z3blDuovb5X3nnyuZTMbXebAzIlD9+9lOzg1VUpqowB/zm4co+ocAiQn/sKzXE8mJegjx34lA8hAgOZG8mHPFRCDyCJCcsA9hV1e7dHa2B+IJYUyfgyA+orIpQfyAmKhWmdIsciIpxteQy0IyHy2fL8wTYnaVFJAxApHhrpKiXfr6el15UnippMjlMoJqjspKijDse+xlU1Gx0KeilAgJw1w5ByJABGojYJV/wnO9UC5mSiU2/ZB6tJtJoVCQr63+kSxZeUjD4eoc2iiXnn9ew/1UdlAsFuXhRx+Tp1/YIDOpPulfuny+kgLG10NbN0uubUrecMShcvSRry/zCPB9MuyQCNggoJ/nTunqSqm/8X2Nht+BOAxjiApTNUogvSNAYsI7dl7uJDnhBTXeQwTijQDJiXjHl6sjArFEgOSEfViRoO3oCCbs8LCAdBEqMpopRxPMatz3ajW+LhYnZWKivHpkYCC3O/kcXOVEUoiJbDajvDyQzIeMk/GRaH0lRX0fCewNkCloupIiq7SlkUiwVlK434HB32ESIdpQu1LXflrJufHEZvBx4AhEwC8ErLr2INdNs/pU+J3YjAI5YXDAd+qL69fL0+uek0lUl7SJZHrSctyRR8iKFSv8CgP7IQK+IIBKR3OYAL/JTYMkoyYqpgI5nOTL5EPcCYmJ5geH5ETzMeeIRCDsCJCcCHuEOD8iQAQWIEBywn5TBElOILGBRCsknSDtlKRmNb6GvFA1Q3CQE0h0jIyUfAz8xCgJxtdIjuvqhy7lH6F9JLQskttKCtxj70mREhAgaDB4B6GApvd4Tp2gxYs+DLZ3q0WpeaFqws5HAnOHubUh7nDCsb/f2td45GQYtA42Tmx2KWzQSic29Qls+lT4+ZSzLyIQHAJIZpYSm50ViU39PBsiuJFZhF3WqZG18V4iEBYE7Koetal2qeoxyCqpsGDRyDz0b7w2/AJspBve6xIBkhMuAePlRCABCJCcSECQuUQiEDcESE7YR7Q55MS00v9PSrMaX8Ps2i4Z29+fVZD4TU4kxfgaL9ogBpBAW+gj4b2SAt4JumKh3JNC6YmPoipDa7EjEd/bm1N+FhMTjflIYA1YC9ZkraSI8jNTSmymVIxMK0lLTM0bf0d5nZw7EUgCAvicM8SjVc4Nn4tGKqaRKim/DLHfefwqOeTgg5MQEq6RCDSEQEmesXSYAB3iN5B5pvF9zVZCgMRE63YDyYnWYc+RiUBYESA5EdbIcF5EgAjYIkByojXkBJIZOAmOl5zx8fiTE3bG13bo45Q+MBoezvv29CbF+Lo8mT8l+byuPqlVSQEPB5hfoznxpMB1pvoBBJOuytAv6n76SFilp1CVAaIjbs2c2Ozu7lJa7EbX3hjwQv7JkD5xWzvXQwTihgAONVjln6rr2k+5qpJau3ad3P3USzKwbLlnuEZfXifXXnnJ/OeL5454IxFIGAKo/rR6SZnlm+9oUyWVZFNtEhOtfShITrQWf45OBMKIAMmJMEaFcyICRKAmAiQnWkNOIAEJ6SKcakcFQZxbLeNru3X39WWUHNDQ0Jgv0ICYmJuDpJE+8R/XVu4jMTFfleOskmJOSS9V86SwVj+ANEJVBE4IV1ZSwHQ7k0kruSL4W+ClHU1XUoBwKq9+qOUj0dOTVoQJ+gLBgiR93FstA14/TmDHHT+ujwiEDQFdJaXl3Mp17UsGvPXkn5AE/fI3b5WB/Q73tLzxsRFZNdghbz3tVE/38yYiQAQ0Atbv6IVeUjPzElBJkmgkMdH6p4PkROtjwBkQgbAhQHIibBHhfIgAEaiLAMkJe4iClHXCqIODvUq6ZWwsONPnuhsg4AtSqU6VrMYLHfwDYADupMEsHIkcP8iJpBhflyfzC8rPBM1aSYH/BtJAv2Sj+iFX1ZPCWkkB7wcTNxBG2keiXZlFQsrJtHqVFG58JHK5jGAO2pNiXJEgSWzmtCb+Lj+BPTNvqA2M2IgAEQg/Ana69niGtak2vCpmqvrp/P6JJ+W3T78ki/da6WqhszMzMvbyOvmz910o6XTa1b28mAgQgdoIaC+prt1eUlZTbefkY5QxJjERjuiRnAhHHDgLIhAmBEhOhCkanAsRIAKOECA5URumzpLPpSM83VwEckIbFceTnOjpSakEM8gBO+NrO7xyuR512n54eGzeRNkNtubaJBhfY63lyfz8vF+Bt0qKHgHRgWoTayWFMx+Jck8KEFOopqispLDzkaiUnhoZgb8Fk++Isd0JbO1ToQ14qYHt5VOC9xCB5iOAzzqd2ERVRacj8vFXv71H1mwalsHl+zia8MzMtAxvXCcfuOAcGRwcdHQPLyICRMAbAji0gd9cqKiwes/gt5TVVDsu8k8lYqJ9twm2N9x4V+MIkJxoHEP2QATihgDJibhFlOshAglAgORE68gJyDrhpcV6+jwuW86p8XV9ciJf9RRpPZySYnztXBbJz0qKCWVMjYaXcV1J0aGS4yAz9AurM8LE6iNRS3qqXryT9u8mCYLEJkgL41MBKQlDVNSTikkaZlwvEQgzAnYnsDX5OK2ea/zvhx75ndz/5B8ku8e+ksn1Vl0SCN3hP74qqclhed/550hfX1+Yl865EYHYIVAiH3VVhal8xEJ1lRSe6el5r66oAUBiIlwRIzkRrnhwNkQgDAiQnAhDFDgHIkAEXCFAcqJ15ER/f1YNPjJSksZxFbwQXgw/AvgEIGGKRAr8NLycEjPkhj45784nIinG1wuJgfF5rO1kkewrKdoUyQBDZrw4w+DaxA3xtK+k0D4SVk8K54RJyUfCTnoqhFs8dFMyGtgw1MaJzZKhtj6tCSkvxNTLcxi6xXJCRCABCNiRj8aAd+fOIbnngYdk3UubZLorJ13pHmlv71DP++z4iCzuaZeT33CUHHzQQWVJ0QRAxyUSgVAioCsfNVGB31mm4UCBtaoilJOvmBSJifBFieRE+GLCGRGBViNAcqLVEeD4RIAIuEaA5ETryIm+PiR222R4OO86bmG8Aafnc7m0SobgRNj4eNHzNCEHhGQrqkrcGAsmxfjam8F0t2Szmd0G0/UrKRC8ej4SuAbVD6aSArHv77dWUngnTDxvnoTfaOdTUTqtOeWa8Es4pFw+EWgZArUMeEE8vvjietm2bYcUp6Ykm8nI8j33kIGBgZbNlwMTASJQGwH87tff06ky+SccILBWVYRR0pLERDh3N8mJcMaFsyICrUSA5EQr0efYRIAIeEKA5ERt2Do6tHFwEM1P0+cg5uemT6/G13ZjZDLd0t2dckVOJMX4GrigMgKtUJhQRuNoTokBGGIbyZ/ySoqi6k/3VaqkgBk1KilMBYu9j0SnaMKtXZEV+bz2UqnlI2E13sb1xsTbzd7jtfYI2EvFlAy14XvDRgSIQDQQKD3TKSWrZxo+p41UDL1nohFLzpIIAAHjU4G/y5/pckm3VqNFYqLVEbAfn+REeGPDmRGBViFAcqJVyHNcIkAEPCNAcqI2dCQn6m+tnp5uSadT6kQ+qiX80Lo3fY6NFRyZ/CbF+Brm0iAHFhpMOyMGQDKYShRgjP7QrMQAKmC0j0S7IgtAZphmKimAN/oySTBDmICIsPeRmFZkUz25qPo7jld4QQBxNVUVSHCaBnLCJDX9eHa9zI33EAEi4B4Bu2fayD+Z59p9z7yDCBCBViBgfaatflLWZ7oVMo0kJlqxG5yPSXLCOVa8kggkBQGSE0mJNNdJBGKEAMmJ1iy5+8cAACAASURBVJETuVyPKumGrFNU9eDhR4CqCbw4wV/CjQRTLeRBdiB5jqT59HTtk91JISasEkswnq5ODBTKKim0j4TWIi8nBjIKX2BnraTQclE5VTmx0Ecip/ZrZSUF/CiwDxYSJprk0JUUU5LPa5IDlUgYA4lyJMathEmMPlpDvRQtK5HafWKz0+JTAUNtbdSJPWPMzUO9GE6OCBAB9QxbJd2M94yWioH3jH6m3Xo4EVoiQARag0AtSTdrpZRfv7vtVkliojXxdzMqyQk3aPFaIpAMBEhOJCPOXCURiBUCJCdaR040Yvrc6k2I5CbIFZzyasT42m4dJXJiwrYSQydZ5mRubler4Qh0fG0wXZ0YsJdYshIDVokle2LAKrFk9ZFYaLwNMk0vudx4u0SYeDHeDhREdm6LAMgiGGmj+gV/49lGM/rXqJ4BWRFVApWhJwJJRKCa9wxwsGraU9ItiTuDa44qAkbSDd/TOHRiWpDVj6UDChgvII3bqAYkRPMmORGiYHAqRCAkCJCcCEkgOA0iQAScI0ByojZWQco6eTV9dh7dYK7ESxGIFT+Mr+1mCDNs4IMk+dTUzILLNDGxK/YJU6vE0tSUllgyL4v2Ektdkstl1Ulae4kl7SNRT2LJarwNb4vx8ZKPBPwl8JIMckp7UmiSyItcVDA7lb16QcBO095qqB30SU0v8+Y9RIAIVEcA39mGrOjstEq6oVJKk4+UdOPuIQLRQQC/v60yjdZKKVP92OihAhIT0dkPJCeiEyvOlAg0CwGSE81CmuMQASLgGwIkJ1pJTmjTZ6e+Cr4FvYGO/Da+rkdOFApFJUdhbUkxvnYmsVRJDJQkliCjZLBDcspILNn5SCDhrCWWtIyW1XjbWkmBl2IjF4WXX02Y6FKKbNadXFQDW5G3NgEBkGMgCpEEKU9qzqq9hcQmzXebEAgOQQR8QsAuqQnCH7JPJrHJSimfAGc3RCBgBEz1oyEr8IybBtLRPNduvqtJTAQcNJ+7JznhM6DsjgjEAAGSEzEIIpdABJKGAMmJ2hHHb3zL73xft4db02dfB/fQWRDG13bTAAkCH4NKcgIJFC3jtFtXyMM6onBLsyWWKn0k/JWLSinSAs1KckQhDpxjCQH7pGbJpwKJTTYiQASigYBdUhPEBBKZpqqClVLRiCdnSQSAgF2lVLmpdi1PKfzOhoQTpZyisqNITkQlUpwnEWgeAiQnmoc1RyICRMAnBEhOtI6ccOKr4FOYG+7GmHf7bXxtNzFUDWBMSAnBTBktKcbXIGVgMg0iBsbXRm6jdiWFvcQSiAEkm2AujqoJNKtclF0lBfBGJYU5bWf1kSiXi9KeGDhZj7la5aIymR4lz4Xx8d8pHdLwoxiKDmqZ7/olKRGKhXISRCBBCOikZmp3pVRzNO0TBC+XSgSajgA8pCC/aaoqjPzTddddJ0899bScdNJJcuKJJ8uKFSt2z43ERNOD5MOAJCd8AJFdEIGYIUByImYB5XKIQBIQIDnROnKinq9CGPZf0MbX9uREhzJbBjlRKEwmxPi6lll19eoDnGbv788psqFSYslqVg3pJSvJATIBL6kTE0VVzYBWbrztTC7KCclRKRcVhn3NOfiLAIgzyIAhAWIkJfTp6xm1LyEBZTxJ/B2ZvREBIhAEArUrpfBcT6nvFMo/BYE++yQCwSBgPKX+5//8K/npT386P8gBBxwgp5xyipxwwsny+tcfI52dXcFMgL0GggDJiUBgZadEINIIkJyIdPg4eSKQTARITrSOnEAiD8bS1XwVwrAbm2F8bbdOjN3ba8iJidgnQKw+DpXVB6aSAkkgkAxGOgeVCjClxr3F4qSqjDAkA8yysb/gH6F9JLRZdblcVGG+KqWjQ/tIlEgOmGXr6FhJjtHRcZVwRrNWUmAPFwrVSA5dSaENzNmSgIDd6WurTIwb7eskYMY1EoEwI6ArpTpVVQWSm1YCEt9XplqKBGSYo8i5EYESAvg9uWHDS/Lwww/JfffdK08++eT8AYJcLqeqKd74xlPlxBPfKAMDA4Qu5AiQnAh5gDg9ItACBEhOtAB0DkkEiEBjCJCcqI1fkJ4TJV+FyXm5ncai6d/dSDxnMt27T9eXpJX8G6F2TzpZnlWkhD55jVOatTRymzUz/8dpxKwaSaPx8YKqMEFzQnJUl4vSJAf6QX9o6NtKcoyMgGRYSHKUy0XZkxz+I8cew44AnmMtJ5FSOthGUgJkmU5o6tPXbESACEQHAXP6Gs82CG3TNAGpn2sSkNGJJ2eadATmZHh4VB5++GG5//575eGHH5R8Pj//m/J1rztCERX4c8ABB85/jycdtTCtn+REmKLBuRCBcCBAciIcceAsiAARcIEAyYnaYMEw0vLu7QLZ+pdW81Wof1fwVzTT+NpuNUiggxyB9FXlKU0QFUiAxEFOorz6YEJV0aBBTsv4OHgzq56SfH58Hl4QPUgQV0osQYoHlRFoqHyoTnJMCyomDN61PTEWkhzB71iOEAUE7Hwq8KyDeDSnr+PwXEchHpwjEfADATsC0rn5rh+zYB9EgAh4Q2ChxwR+cz799JPywAP3yQMP3CsbN26Y73qPPfaUv/mbz8lRRx3tbTjeFQgCJCcCgZWdEoFII0ByItLh4+SJQDIRIDlRO+5BkhNGugiGzyYp3Opd2Gzj62rrrTS+Lp3STAkSIWhazx6nNKciq2cP02sk+v02qwbJ4B/JUZKLAu6opAChoUmOsXm5KDuSo9X7meOHFwFj0FnpU0GZmPDGjDMjArUQsCMg8R1Xeq6nKPPHbUQEQoGAM/PrzZs3zRMVa9Y8LX/xF38lZ575J6FYASehESA5wZ1ABIhAJQIkJ7gniAARiBwCJCdaR04Y6SJUAmjT59a1VhlfW1esfQnwsqSlg6o1rWdfkokx11iNd+GzEPbmxMfBm1l1YV4izIlZNYggeEIYCQ4nlRyVnhiZTFoyGU2yWD0xwh4Dzi88CMA/BVVSC2ViSobaUXiuw4MoZ0IEWo9AtYMFmJX5vka1FOWfWh8nziCJCDgjJpKITBTXTHIiilHjnIlAsAiQnAgWX/ZOBIhAAAiQnKgNapCVE4acwAv6+LiW82lF08bXPUpKaHJyev7UfTPnoomJXa6kmqxyEkiCmIYkJtYRRt1rnCyFxFJXlzartvNxgO8DKmrQvJhVo3+Mg/Gckxzdks1mXFVylJMsJZKjmXuHY8ULAf1cpxRRUflcG+kn+lTEK+ZcTfwRAFluqqXKn+tdStYN39n4m40IEIGgETDEBCqRdTUyW7QRIDkR7fhx9kQgCARITgSBKvskAkQgUARITtSGN0hyAmRAf39Oaa23ipxotfE10MeJe220DILCWwOW1oSmMd5Fv4aoaHVCE94ZiDeSNEjCOPdxyCniyItZdeMkR6f09prxizI+PqECZCVZcPIV1RfGLNtbBHkXEViIgH6udaUUEprW57pEVMB/hugRASIQFQTwXINAR7UU/jbPNX4LmOc6Lr5SUYkJ55kUBEhMxDHSJCfiGFWuiQg0hgDJicbw491EgAi0AAGSE/VB7ywdyq9/sYsr8EI+MJBTWsz5vE76NrOFxfhayzj5l12sZbyrEx/aULuZDbI1qGQAQVEslnwcQH4h+Y8ELCopkOSHnwOa1ccBpADuQ0Mf2izbLcmx0Ky61vjpdEpVUqBVjm9IFuAIKSeaGDdzNyVzLOxVJDLN6Ws8B2glPXv9XOsqLDYiQASigkA1/xnM3eo/Q1m3qEST8wwvAiQmwhubxmZGcqIx/Hg3EYgjAiQn4hhVrokIxBwBkhP1AxwUOYGRBwd7leby2Fih/kR8ugJJPsg44SQyTruDGDEJcZ+GcNRNpfG1o5s8XGRvvKulJII+oWlIBpAmSPJDZgmtnGSYUcSESfLDwwFeDpU+DiAkQExUJzmy6oS5nVm1Hr8wb77udHzMy1Sd2I3vISy8hQg0hICdnr3VeLcVn2sNLYo3E4GEI1DyleoSkPqmgZygrFvCNweX3wACJCYaAC/0t5KcCH2IOEEi0HQESE40HXIOSASIQKMIkJyoj2CQ5AQqJ7QpcXPICW18nVE+BiBFQEw0+9S7E+Pr+lHxdkW1hCbWD4NOQ1T4KU9kZxZtTfLDEB3VB6b19mZV1YQmGVBJoQ2+IYGRy2kfiXKSAz4WqKToVCRCOclR3azay/hWs2zr+N4iwbuIgH8IQCrNGGpXS2ji2cYzzkYEiEB0EACBbvWpKMm6zSlpRENWNPs3THQQ5EyJABAgMRH3fUByIu4R5vqIgHsESE64x4x3EAEi0GIESE7UD0Dw5MSc8h8IukXV+DooXPQJzZRKaiK5aVqJqJhqqKLEkAyafCqZRVuT/IXCxLwBufZxyKmKFsxB+zhoiZqenrSqdkESJp8fV0QKGuaNe0A22ZEcQY4fVGzYLxHwioB9QnNXmZ691/55HxEgAs1HoJasG74vDVHBaqnmx4YjhhkBEhNhjo5fcyM54ReS7IcIxAcBkhPxiSVXQgQSgwDJifqhDpKc6O/PqgmMjARLTiABD48JtImJKZXIbnbzw/g6qDkjuW+IisqT18ZQG5UmTlo5yVBuFl1OMhTm42AlGeCJoX0c9GiodEmnu3dX2NiRHEUB0YFWe/xugWQUWj5vHV/7WGAe2kcCElPVxh/nCXQnm4DXhAIBq/8M/CpQOYZG491QhIeTIAKeEcD3tKmqwEED0yj/5BlS3hg7BEhMxC6kNgsiOZGUSHOdRMA5AiQnnGPFK4kAEQgJAiQn6gcCh+pxai+Ipk2S22R4OB9E96rPMBhfh5mYqATenLwGoYMEiJGSwIlMY6ZtPBgq7wXJ4TbJj0oJmGJjH8CPApJJaJpkyCoTYBAjupJCm2WDrEAlBRp8JIpFTTYtHL9kVg1za+wF9AHyw6xBj2/MssvHx383Zt0jI6XxA9us7JgIBIiAlnXT1VJWQ208X3i2QUT6KesW4FLYNREgArsRwLNslXUryT+VqqXwfUf5J26Z5CBAYiI5sRYhOZGkaHOtRMAZAiQnnOHEq4gAEQgRAiQn6gcjSHKitzcjOPU3NDRWfyIur7AaXyOxjqR3KyQPmmV87RIeR5ebk9dIfIAkqJb0QKUBWi2SwS7JX04yTEixOKn6QrKlv99ayWAlGXqUzBMkn1DhUI1kQD+ojEDDPgD5YUgG7WOhSQ5j1o3/jf1hHV/7WHQs8LFwBBwvIgIhR6BkvJtS+9w0TVRAz35KkYJsRIAIRAeBWtVS+K408k8kIaMTU87ULQIkJtwiFvXrSU5EPYKcPxHwHwGSE/5jyh6JABEIGAGSE/UBjiI5kXTj6/pRdX9FSfM6pRL9VokYSEkY3wr7JP+08hYxpzdR+VCNZEC1hq6oaVdkgRuSQZtlF2RiwpAc/pplu0eNdxCB8CNQ7+Q1ZPDsqqXCvzrOkAgkFwFdLdWl/pR7S+lqKZAVJCGTuz/it3ISE/GLaf0VkZyojxGvIAJJQ4DkRNIizvUSgRggQHKifhCDJCdyuR514h6yTn5JDtD4un5M/bjCSMSk06n5igrE0JzORHUCKmOqkwyQS0qpCgZdyaBPaJtKBk0yTCiZJzQQIbqSoXNBJUMmk1Y+Ehgbck2mksNPs2w/8GIfRCAKCFhPXiOhaaql6FMRhehxjkTAHgHjLYXnGr+TalVCEkciEEUEtFdY++4/UVwB5+wFAZITXlDjPUQg3giQnIh3fLk6IhBLBEhO1A9rkORENptWJ/q0nv9uB+L6U7K9otz4elJpqDe7YR1zc5ANanw9zZ67m/G0XFKJZJienlZEk/V0JvoDWYBqBhARfpMMuVxWQI5AogIkhzkBij2FuSH5AqPsQkGTHLXMsq0SU1azbDeY8FoiEDcEzKlrXS2FpI821KZETNwiHb31gNQeGRmRycmidHR0SjabVX/Y6iNQi4TUz7auqvDjd1n92fAKItA4AiQmGscwqj2QnIhq5DhvIhAcAiQngsOWPRMBIhAQAiQn6gMbJDmBU+8gFCD306gfRCbTrU7eI3GGU/fT083XS4+S8XX9yNtfUYtkMHJNwMKczERPSCS1tbUrggIyMahyMM0ZyVBURAOaF5Khllm3ncRUIxjxXiIQNwS0T4U21C6XiNFa9iCDTRVU3NbO9YQHARAS9zz4sLy0ZbvMdqZlrg2k2ZzMTU/KQHe7nHTMEXLYqlXzZFp4Zh7emZhKSC3/pElItJkZPtvhjRpnZhAgMZHsvUByItnx5+qJQDUESE5wXxABIhA5BEhO1A8ZDsvuPjBb/2KXV/T0dKuT72NjBc+6x5XG1/n8hDpJ3+wWZeNrN1jVkkuqJBlw6hKJzO7ubpXwMGQFiCh9MnNGQFAhMYKqB1Q/mNjZVTIsJBmC8bFwgwmvJQJJQ8AqEYPn17TSsz1Nn4qkbYqA14vqvO//+GeyeXhCevfYR7rTPQtGBCk+sm2rzI3vkLNOPVEOPeSQgGcVv+7xHQ+SAt/dkFIsf7an1Xc3PWjiF/eorojERFQj59+8SU74hyV7IgJxQYDkRFwiyXUQgQQhQHKifrDDTE5AZgS+FUiU4WV5fLzom3dFfWT0FVr2wEg5Ob0rmteVyyW5r2RAxQRihmRmeVXFLiX9ZPwiWm2WHc3ocNZEoDUIoBpKyz+lyp5tfDYioawNtadFJ5HYiIB7BCYnJ+Vbq2+XuYF9pCeXq9sBSIodr7wobz7qEHnDMUfVvZ4XVEfA7tmmBw13TBgQIDERhii0fg4kJ1ofA86ACIQNAZITYYsI50MEiEBdBEhO1IVIVU0EVTmBqglUT6Dawe1JPEiMgJhAkhtyIsZXoP6K/LsiScQE4gTjaTSrJ0PtSoaMii9wGhvLz8cY5AQ8IUBUWOWf8L/xB/8d8jDaLFtXwZSbZRdkYmJS/fdaElM9PWkB0eHGLNu/3cGeiEDyEEAlW1cXiAr9p7pPxRS17JO3NTyvGN8F3159u0z3rZB0xp2nxLaNz8k5px0nBx94oOfxeWMJATsPGlQ+4nABqioalegk3kTACQIkJpyglIxrSE4kI85cJRFwgwDJCTdo8VoiQARCgQDJifphCJKcgGwAZH3gEQGJH6ctLMbXIruaXqnhFCM/r8vlMgKZJUguwSvCEElWkgFkAaof0LRZdk4lJ52QDEhmptP65LWpqCiZ7upqCxAjbkgG65ytZtl6zjlFakxMFNXeYyMCRCAYBLSWvSYqrD4VVkNt+lQEg31cen38ySfl3mdflYGle7hekvrOeHmtXPv+y8qq9Vx3xBsWIKA9aPT3Nv63aXieNVFBaTdum2AQ0MREm4iU9l0wI7HXKCBAciIKUeIciUBzESA50Vy8ORoRIAI+IEByoj6IQZITeLHNZtOq6gHVD06a1fgaFRc4sdfslhTjaxAFqHCoRTIAeyT4i0VTydAufX05laxAAhLEAPBCAxFVj2RAQgPJjcpkJvrAGCBBQJKA0Ojry6qEE/ZPuVl2Vv37Qh+LlGSzGTUX65ybvX84HhFIIgL2WvZMZiZxPzhd89dv/q6klh/imVzYuXWTvOvEw+UgVk84hdz1dThAYEhIq2yjkXYzZIX5LeB6AN5ABHYjQGKCW6ESAZIT3BNEgAhUIkBygnuCCBCByCFAcqJ+yHAKviOgw0mpVKeS3SkUJpUuea2GJDSIDLz4QjagdcbXcyo53tYWbwF1JBvsSYYeRTRUVjKAkMA9uBfxRJWFaSA5IM0E7KyVDLV9LDTJYJV+Qn+IPyofNMlQkGJR753yOU/L6GjJLBukiJkzxncrI1b/SeEVRIAIOEVAa9mnVEKzPJm5a/7UtfGgcdonr4sfAlu3bpXv/OI+WbKPd1km9X29Y4NcedH58QMohCuqJe02MzMz/3xT/imEwQv5lEhMhDxALZoeyYkWAc9hiUCIESA5EeLgcGpEgAhUR4DkRP2dESQ5gaQUfCNwGt4kmKvNKAzG15gXkhw4CRh3YsJKMqBaAR4TphmSAYkF7QmhK1fKSYaJeQ8QkEogLBDrhZUM3YqcQrP6WCDe/f05JQODBCVIDvSj5bzS8zr2uM9ISKBv9IV7nc65/u7nFUSACASNAJ5tENXaUBs+FZp41NJuMNTWEjE8dR10JMLX/50/v0u2t/VLZ1eqocltX79WPvH+i6Szs7OhfnizewSAOX4f4PvbKu1W8qmYFpAWbESgFgIkJrg/7BAgOcG9QQSIQCUCJCe4J4gAEYgcAiQn6ocsSHICSfDe3owiJozBceWMyo2vp1SVRbNbkoyvy42nJ5QvAxoShvBq0CSDlmvSuIgyvYZcEpKHtc2yIfGko4frq5llI5EBuaZ6JAMICMzFeuoa/aIiAhJP+LucGCmfc7P3EMcjAkTAGQIln4qUdHS0q5vw2aKTmVOKqOCpa2dYRv2q1T/4kUz2793wMna8/IJ8+IKzJJfrbbgvduAdATzPRv4J3/XGYwoHP0o+FSAivY/BO+OHAImJ+MXUzxWRnPATTfZFBOKBAMmJeMSRqyACiUKA5ET9cAdJTuBFFYloSABVIx1ofF0/Pn5e4cwTYkrJJZlW2yzbGE97McsuJ0a0xFQ1YiStKibMqWqroTb+G0gOXX1RIkb8xIx9EQEiEBwCdqa7pVPXUy3xHQpuxezZisCt3/+hTA/s2zAo219+QT70nndIX19fw32xA38Q0BVTMNSGtFtlxVRJ/gnEBVtyESgREyCqdVUdGxGwIkBygvuBCBCBSgRITnBPEAEiEDkESE7UD1mQ5ISW78mq5PH4uD6hbxqNr+vHxs8rcrmspNMLPSFwihkVE6icQBUFjKTRvJlla4knkAxezLIrfSysxAgIE1R0INGRTneXVVRoeZgZRYJRHsbPXcO+iEDzEDCmuyCt7U5d06eiefFoxki33fljyWeWl0n5eRl3+4Zn5drL3iPd3d1ebo/lPSMjI/LE08/IyNiYqkTKZnpk1cEHyj577+3ZfLwRoEoVU9Xkn/R3N0hJtuQgQGIiObFuZKUkJxpBj/cSgXgiQHIinnHlqohArBEgOeEsvEHJNCPhDW+BqamZsqR3WIyv5+ZwYi/e+gJOPSFASkBKCc2p8TS8IkyysJZZdjnJkJ9PQDglRkZGIDGlT1caWSr8bzNfaNmXy8OAqNA69jyV6ewzgFcRgTAhYD11DULSWjFl5GFIRIYpYt7m8szatfKrpzbIwLLl3jrYfdf4K+vk6isuaUnSvaGJ+3wziPrnnn9eHnzsSdk5MSuZJSukO90jbe1tMj01JWM7XpOeuaIcs+ogOfboo5QPTCualn9K7a6qKPmEWOWfSES2IjLNG5PERPOwjvpIJCeiHkHOnwj4jwDJCf8xZY9EgAgEjADJCWcAB0VOIKE0MJBTp9rz+QmV9IZBNl5M8d+QEG+F9nBSjK+1rFa58bSRR4JUEsyn4SsBSSTEA61xs+yi8oRA08RIVkk6LDTLTilfCjR7YkT7SJg528lSmXlrCYmUWoNpqLbQRMUUdeydfRzwKiIQOgSMPAz+xvcImvapIBEZumC5mBC+i7/yzVulf7/DXdxVfunY0E45du9eOfnEEzz3EYcbYS6/+gd3yvaZlAwsW1GzGmVsaIfMDm+Ry99ztgwODrZ0+bWISPwuMT40xgOrpZPl4L4gQGLCFxgT0wnJicSEmgslAo4RIDnhGCpeSASIQFgQIDnhLBJBkRMYfXCwVyWmccodCXG8iNp5UDibrferkmR8rasStPE0zMjHxwsKOMh4QcYJSb7Z2VmV/Dfms5BTgfwTYgTCwJhl1zKehul1JtOj+raaZWtJr9rECJKLGL8aMVJb4qlUfVFtN9idysR6DVFB+QjvzxHvJAKtRED7VOhT1+VEZMlQm893KyPkbuxf/Oo3smGiU3oyOXc37r5654Z18tHLzk+0pBNIum999zaZ6dtLenLOcJydmZGdG9bKB997TssJCmvgtfyTfr5NRST+3UpE4rucLZoIxI2YeO65Z+VrX/uyPP30k8oz45hj3iAf+9gnZd9995sP0MjIsHzta1+RBx64RwqFghxxxJFyzTWflIMPPiSaQWzyrElONBlwDkcEIoAAyYkIBIlTJAJEoBwBkhPOdkSQ5AQqJ5CENrIcSJQjQdzM1v7yRmn7w3PStu012TU4KLtWrpTZQ1c1cwpNHcsqfVRelWDvCYEqCmM8nc+Pz8doYfVFyXgalQ8gJ3D6FRJPJZKhU1VMgKAAKQXSwjQQJpgfCBFNjOgkAxIR+DfsE1ReFArao6RW9YUTUCEtZpWPMPsQczZEhZm3k/54DREgAuFBQBORpYop83zj80XLP03Nfy6FZ9aciRWB8fFx+Y/v3CaL9j/CtffE6I5tcsjilJz5trckGtTb7vyJbJ/LSabXnSE4CIrxTc/KRy6/WFU4hq1pIlKbasOHxjQ+32GLlLP5xI2YeOWVl+Wqqy5XxOhFF12qfq/eeuvNSi72xhu/I0uXLhNUNF177Ydl/foX5KKLLpOBgUH53vduldHREbnhhptlr732dgZegq8iOZHg4HPpRMAGAZIT3BpEgAhEDgGSE85CFjQ5gR/sqFpAorxpJ1pnZ6Xrjh9I9w1fl/b1L0r7tm3SNjenHCbmBgZkdr/9ZfK9F0rx8itEevTJ/zg0VDFA/giEUHCeELWqL1ICj4mgqy+8xMpOPoI6117Q5D1EIFwImOcbFWBItJaIyDmVINLyMDPzMnHhmn2yZ7N582a59Se/liUHHO6YoBgbHpLFMiYXvfucRHtNwPj6htt/Jkv2O9TTJhrduUNOOmCxHHfsMZ7ub9ZN+qCBJiJRXUEfmmYh7884cSMmgMqXvvRFueOO2+T662+SVasOU0CtW/eMfPjDVyqy4uMf/3P58Y/vkC9+8XPyxS/+s7zpTaepa7Zv3yaXXnqBnHrqm+Uzn/k7fwCOcS8kJ2IcXC6NCHhEgOSER+B4GxEgAq1DgOSEM+w7wcIS0wAAIABJREFUOrTcj58NL465XFqddtPyPYWmmRO3r1sruQ99QNpfeknaivoEfrU219EhsytXyvjnPi/Tb3+Hn8tvSV9+ViWk0+49IazVF1ZipLz6YkqRJsZrpOR9UVl90aH8MqpVX/gFrp2OPQ13/UKY/RCB1iFg93xrHXtNVlDHvnXxqRx5y6tbZPWPfynppSsl29dvOzFU2w29+rLstygt573zLMdkRnhW6u9MfvyLu+XV2YwyvvbS8PusuPk5+cgVF3u5vWX32PvQQN6NPlMtC0yVgUvecvAD8/llo4UL/fM//5isW7dWfvazX5fN4k//9HQ56KBD5brr/l0++cmPCiosvv/9n5Rd84Uv/K385jd3y49/fHeiJemchI/khBOUeA0RSBYCJCeSFW+ulgjEAgGSE87C6Dc5gWQ0ks7425gZDw/nnU2mwas6Hv2dZK/6gHS88rLjnmaX7SHjn/3/ZerCixzfE6YLcaIQiXwQQdBlhlySSbpBdgnyS4iD1RPCiVl2q6ovrBJPVu+LIDE3Otc4dW013GUiM0jU2TcRaA4C+vnW8jAd+MLb3ahj3xz8nY4yMTEhjzz2e1nzwkaZ7uqV7OBi6UqlZNfsrBQnClLcuVX26E3LKSccKyv33TfRFRPAFPv3K99eLYMNGIqjn+2bXpKLTj9R9tprL6ehCtV1JfmnVJkPDYgsc9iA8o2tCVlciQmg+S//8o/y/e9/T374w5/LokWLFcDDw8Ny7rnvkDPOOFM+85m/l7POeosce+zx8oUv/FNZAG6//b/U/d/4xs1yyCHxlZn1Y9eRnPADRfZBBOKFAMmJeMWTqyECiUCA5ISzMPtJTiAJlM2mVdKgWJxSL4r4MzQ05mwyDVzVtmmT9J77Lul4ab3rXmaXL5ex//i6zJz8Rtf3tvIGJNpATIBsqGUibfWEsJplB+kJ4af3RTMxNoa7ICqsiUwrUWFMxJs5L45FBIhA4whonwptuIvPQtOYyGwcW796ADG+/qWX5MUNL8t4YULJdA3098rRR7xOcg4Nn/2aS5j72bZtm9z0s3tlyd77NzTNiUJeDu1vl7ecekpD/YThZhwuMESkVf4JBza0vJv+Yw7OhGHOcZ1DnIkJxGzr1q1y7bUfUr4RkHDCd8v/+T//LE899aT8+79fL/vuu1LOPPM0ueCCi+RTn/qLsjD/9re/kb/+67+Qf/iHL8mppybbM6fe/ic5UQ8h/jsRSB4CJCeSF3OumAhEHgGSE85C6Bc5gWR0T09KDWqMr3t7e9SJ/maQE5kPXCndP/yBs0VXuWr6+BNk5Kc/93x/s2+0VhhMTBSVpwcaiCFIPOHfkXDTxtO71L8ZwkB7QhRUnNDqVV/AywLNWn2BJEB/P4iRDvWyr+Wa4OohYud94ZRMGR0dV6dCW91MIhNEhdWQE94pWsN+unk+Kq0Gg+MTgZghoHXsS0RFyafCGGpPq4RmKckWMwC4nEgjsGnTJvnebx+XxcsbM9WdmZ6SZTIm73rHGZHGo3LyeJ6tVVPWqkj8vsD39+TkdNMkR2MFbt3FzMncHCSc4iXlVLnsH/3oDvnf//uL879Xscc++9nPy+mnv122b98u5513llx22ZXy0Y9+vOzWhx56QD796U/I3/zN5+TMM8+qi2aSLyA5keToc+1EoDoCJCe4M4gAEYgcAiQnnIXMD3ICJsxI4FYaX+dyPerlELJOgZ5Uy+el77RTpGPDS84WXeWq2cVLZPTOH8nsId6MJT0P7OHGdBpyTZowAMmAKhU0vBhpiacOlVRDkr9EGKQVaVAp11SLMIAkFKShYBptrb5Aor6vL1vVE8J4X+CekREQI7Nqbjj9inuQMCgUilIoVCdTcA/uDVszJzINUWESmSB+DFFB6YiwRY3zIQLOEIDvEj6jQODibxAXaPi81FVTUyqRGej3mLOp8ioioBDYsmWzrP71o7J4xb4NITI1WZR9UkV5x+lvbaifsN9sL+9Wkn8Kw6GIsONYf37JICauv/5r8s1vXi9HHHGknHfe+dLe3iE/+cmd8vjjj8pf/uVfy0knvVHOO+9P5H3ve79cffXHymB7+OEH5X/8j4/LZz/7OXn720lO1NpTJCfqP3G8gggkDQGSE0mLONdLBGKAAMkJZ0Fsb0dS29m1lVdp42tUR3So0/k4WW81GYXEE07w64SzPlUfROv+53+Sns9/TtoaPOJafPd7JP+f1wcxRd/6LBEGczI2lleJMzTEwM5E2koYoJICJ//RtMQTjKfbpLz6QtR/r199MaHuQ8NewPjos9L7whmZov0yopD8w1qBDYgKJDKrnbjGqUw2IkAEoolAKZGZUnIdplHeLZrxjOOsoW//jTt+KUv2Paih5Y2NDMkb9uqVk044vqF+onSzrorUPjQ4bMGqKb+ilwxiIp/PyznnvENJN11//bfnK2vx+/VTn7pW1qx5Um655Xa54IJ3yQUXXCyf+tSnywA2sk7/+I//Km9845v8Aj+W/ZCciGVYuSgi0BACJCcago83EwEi0AoESE44Q90rOYGXOxATOFGOhA1khSq5AVNRgRP8Qen045Q9vCZS99/nbME1rpo5/HUy/Nt7G+4niA5wsteeMOiSXE5XJVhNpMsJAy3xZKoSygmDCYH/BFp59UU5YdDTk1YVGwurL3TFRkniCSSDRgHX4z6QU3ZkSqVfRhD4BdVnrRPXRt+aGtdBoc9+iUDwCOBzDUSkSWSaEVEVhmoKLe/Wehm64JHgCGFCAN/D/3HTdyWzd2OGuts2PCsfufDsxPp5mMMG2oemWtWUfsbDWNEZpv0okgxiApivW/eMfPjDV6qKCFRGWNtdd/1c/u7v/pfyk/j85/9Wjj/+RPn7v/9i2TXGEPvGG2+Rgw8Of7V2K/cZyYlWos+xiUA4ESA5Ec64cFZEgAjUQIDkhLPt4YWcqDS+Nt4FlSNCEiidTsnYWMF3bX5diYGXoV3Sf8bbpOvJJ5wtuMZVM/vsK8O/b7yfhidS0YFTwiCfH1fJMjSQR34SBrlcRkBo4AV9YfWFlnjCPoDMlGmmYgPElPa+0BUbVr8MyDtB5ikuDc8GpGGwRqvGtfXEdZBVRHHBkesgAmFEwN5wt+RTwaqpMEYunnN6+HePyu9eHpK+wSWeFojv5NTwK3LZe9/t6f443mQv/6R9Kug1VS3qySEmsPoXX3xBrrzyYvnIR66Vyy//QBkgd931M/m7v/uMfP7z/yjf//5tsnXrFlm9+o6ya77whb+Vu+++S+6667dlfmZxfJ4aXRPJiUYR5P1EIH4IkJyIX0y5IiIQewRITjgLsVtyAmQDSAec2isUJtWLml0LipzQyd1d8xJAA8ceLZ2vvOxswTWu2jUwKDuff7HhfvzswCrXVFlhUJswMHJN5YQBfB9gAuuUMNDVF1l1ohByUNbqC2OwjfWCZDAkFe6BWTbkEmpJPFkNtv3ELCx9IXaGqMDpa9OsGvY8jRmWaHEeRMAdAtYT1yAjjTQMvhtZNeUOS17tDQF4S33l2/8li/Y/3FMH2zdvlPecdozst3Klp/vjfhO+t438E0gL0/C9bX3G445D7fUli5gAFoj/+ee/S9LptNx443fU3+a/f+pT18jTTz8pt9/+Y7nnnv+WL33pH+Sf/uk6OfnkU9Q127dvk0svvUBOPfU0+cxn/j7ZW8fB6klOOACJlxCBhCFAciJhAedyiUAcECA54SyKbsgJO+Nru5EMkZHPT8x7Iziblf1VICZQLYGqCdMGDz9UOrZta7Rr2ZXNys4160RyuYb78qMDuwqDWnJNVsIAEk8luSbtCQHCAMlxq78DSCR4WSCpZiUMrBUbeBGHKXZ9g21UbPSqyo1KMsVO4skPrMLeh500DAgfY7ZrKkvCvhbOjwgQgYUI2FVNgaDF5yeq2khGcuf4jcCjjz8h967ZIIv3ckcwjI8OyxIZkwvOPXueWPN7bnHqrxYZCZIIzzf+TlZlZPKICbOn77vvt/LXf/2XynfiXe86Vxli/+pXd8maNU/JRz/6cbnssivV4Zyrrrpcmddfeunl0tvbK9/73ndldHRUeVXstdfecXpEAlkLyYlAYGWnRCDSCJCciHT4OHkikEwESE44i7sTcqLc+HpWQDY4eQGDTjcIDSTJp6Ya1+RGYlwndyzm2rt2ycDJJ0jH+vXS5mzJtlfNLlokw/fcL3N77NFgT43fbvV3sBIGC+WarIRBj8J7oSeENsuuRhhYqy9APjTbYLtxpKLXA0gfrWGfUkbm5sQ1yAlzGtPEIXqr44yJABHAc61PXOtn3DRDRlIahnvETwR+c+/98sSGbY4JirHhIemdHpLLLjhPeUWxuUfAVFRYJRzRS0nCcXpeytJ971G4I7nEhInO448/Jt/85vWydu0aVY184IEHysUXv09OP/3M+QAODe2UL3/5X+WBB+5TB6sOP/z1cs01n5CDDjo4CkFu+RxJTrQ8BJwAEQgdAiQnQhcSTogIEIF6CJCcqIeQ/ncY+tZ6N3VifG03El7astm08hQwXgjOZrXwKpASIETa2izEBC6bmZHcJRdK94MPStukNnX20uZQUbDqcMnffLPsavFppnK5pvF5s1WczIWPA5LbqIgAaWGaM3+HopJfMnG3M9i2Vmw4Ndj2UrHhJU5xuwfEhCEqEF9DVFA2Im6R5nqSioA9GWmkYaZ8qyxMKsZct8hjqKD4/TPS0bdM+hYtrloNUciPSWH7Zjl4xWL50zPPmPdFIn6NIVAiI7vKPASQsEZlJMjIeB04MMREu4jgDxsRCAYBkhPB4MpeiUCUESA5EeXoce5EIKEIkJxwFvha5IRT42u7kVKpToGUD7wpIPHjpVmNr+3uz77/Ckk9cL90DA15GULds6u3V/7xmivksSPbJDXTJyfvcaK8+8iTpLury3Ofbm/04u/Q3t4mIBkQq1r+DjCqLhZ1DJwabKOSwniK1DLYzmTcV2y4xSYJ1+NZNKetq2vY6yTHXAU/lwRsuEYiEAcE7KRh8D0HSRhTOWXk8+KwZq6heQhgDz215hl5dM2zMj7bLm0dKUFJ6dzsjKTmpuTQlXvJyce/QXIhka5sHjLNGwm/r6w+FaUDB3F5xklMNG83cSSSE9wDRIAIVCJAcoJ7gggQgcghQHLCWcjsyAk3xtd2IyFhnsv1KKNkkxh3Nit9VaXxtd29Pf/z/5Wuhx6Wruf+4Kl6YldXl8zut79c9r/OEukukSht0z1yWPYYueSYt8jigF/mG5Vrwum80dHxeYjs/B28G2y7q9jQVR7GlLuopL3Y3CFQTTYCSUuroTaTmO4w5dVEIEwI1H7GNVlBn4owRSw6c8mjSqIACc5ZSad7pK+vj5USTQ4ffl93dUHeTf8BcYGG722rxBsqLKLRSExEI07xmSXJifjEkishAn4hQHLCLyTZDxEgAk1DgOSEM6irkROQYsKLFMgBJJXxEuWlIRHe25tRxAQICjetmvG13f3tjzwsuc9+VtqKBel87jlpm3JepQE5p9l99pFdixfLX33gbHll8asLhpnb1S69MyvkyMWHyzsOO1aW9va5WUrda53INSFBBRNrEwu75D/i6USuCUkLyG2h4WQfZKEQc/SPcUxCzMg14RpUX5g4lptya4Nt40MCYgsG22hWU+66QPACWwQQb1NVASKrMsFBs11uHiIQbQQ6Ozt3S7x1lfkAWA214UvDRgSIQDQR0PJPKfVdbvWiiYbfFImJaO66aM+a5ES048fZE4EgECA5EQSq7JMIEIFAESA54QxeKznh1fjabiRdDZBVkk6QdnLaqhpf17p51y7JfuiD0rF9m7QVCtLxhz9IW7FY1yB7rrtbZlaulLllywQkxeh1/yZ3j2yXuzbcK+OpLVVHnNvVJpmZZbJqYJWccfCxsv+S/8veeUBJUXxd/C3L5iWKCmJAFIkKovyVjAnMEUSSiOQkSBDJCEiWLEmCBEUUEBX1EzGgCCKiYiAoYAJEMiwbYeE7t9qasOwsE3pmp3tuncNZYLurq36ve3e6br37LvZ2Wrke59/if5yyy0JzXfyHxRMKX2ORC7vrIRjonfUJCTgnUf3btcC2u8XTaZV9oc9BcW1YNp1fYBtxRYHtaLWzNyUF1zGm52rxhOvby2c5oFCbdjK4uxbU1h1zEdM0xOyIBPKVAH536kVMCJO62dfDPl9x8+IkEHICnu2fzqrPTfjcjK/hkR1JYSLkNwgvqAhQnOCNQAIkkJMAxQneEyRAApYjQHHC+5AVLIii2AWUBRNemPBCdOpU4DY86KtIkSS1gJ2aauzSv1DzWPj6AicWfO9dSZw2TaRQkkh2thTYv18KHDokUenpEuWy2/RcgQJyLj5ezhYvLmevuAI59yKnUiWrUUPJ6NXXcZUf9/4lK7Z9KgejdklUAc8p9wUzi8lViddIvTJV5aYrr/bJNsGfxf9A7ZpQR0ILBq4WTzkLbLsX5c6ZsWFYPCGLAtkUunkqyn2hmPP7/hNwLbbrvoiZrZ47LHD4m/nk/6h4JgmQgFkEIDrrrCk8404PexTbPaMK7qLWAGvRmEWc/ZBAaAngmcazjc0q+Opq/2TYOOanxRuFidDeDbyaKwGKE7wfSIAEchKgOMF7ggRIwHIEKE54H7KEBBSujleLHv5YMHm6EhZVihRJVgso3tQc8FeY0NePn/SSxH74AXyNjP86d06iUlLUHzlzRqRgQTmXkCDnihWDl5E6JOrUKcmqcoOkDx8hkpR03lSOpZ6Sj3Z8Lz8c+kVOFNgnUdGebTWishKldOw1UvvKG6T2NRWkYIFoj0HQC/m+2TXBeilWsHsWWQna4gMLV+gP8YNVEyyb1Nxc7JpwrHGOIbS4noPYpKc7LZ6Q7QKfZE8WTzgf1/DG4sn7u5BHBkrAWMQ0LCPOX8Q0hApmsgRKmeeTQP4RyMvDXteiMepU/JfKln9D5ZVJgAT8JOC0ccxp8WZsOoAgGZpNBxQm/AwhTzOJAMUJk0CyGxKwEQGKEzYKJqdCApFCgOKEd5GOiysohQsb1j2wXsKLj1kNi+NFiyZfMBPDWEjBS1CARQHPnpW4l6dJ3DurRFDAOtqzOKDEivQMOX3zzZLx/AA5V/jCdSROZWTI2p1bZcuBn+WI/C1SMI/aFqfj5NLoq+WmkpXk9vLXS2JsnEMwgCUSXj5hw+Neq8E/uyZYKaF5tmvKafEUr2yhDIunVEG9AjQj08XVrikwiyez7iP24zsBPHuuxXadu61RUFsLFdxt7TtZnkEC4UMgt1o0GJ1zt3WWQ5AOn1FzJCRAAt4SMCzeUFA7VtWpcM+cMjIqgpM5RWHC2xjxuOARoDgRPLbsmQSsSoDihFUjx3GTQAQToDjhXfANASFB7YIPxk6sYsUKqX5TUpz2P64jM4SJs6b66kZ/+63EvzJbovfsMQSKxERRBShwrcwMOZedLWcvu1yyHnxQTt97n0icIRz40s5kZ8v63Ttk498/yr6s3+Vs7CmPp5/Ljpbk7JJSodh18tCNtaVC6dLn1WrwZNeE+gJGfYcCauc7bJl0Qw0J1JJA9oUnu6ac53iya0KdCmRMQKA43+IpSVDkOvcsj9wtnnxhyWODT8BVqHC3jIBQYSxwhIe3dfBZ8AokYEcCzlo0KLbrWqdCW7ydVoI4GwmQgDUJeNp0gN/droJk4JlTFCaseYfYb9QUJ+wXU86IBAIlQHEiUII8nwRIIOQEKE54j9xlHcP7k7w8EpkTxqL2+eKEz4Wvvbym47BDhyRuySIp+OtvIlmZSoTILllKsh55VM5WroxUAV979Hg8alR8snuL/J76m5yJO55nv7FZF0m5QuXl7utqyLWXXqosmXyza4JzVbLaTZeXXROsl2DzhJbT4unEiVMqLmgorpycbNhCBWrxZBpQdhQ0ArnttsaziIVLLVToeyNog2DHJEACQSOQV7Fd7V9vZpZk0CbCjkmABDwS8JQ5hd/l+jn3fdMRhQnecuFDgOJE+MSCIyGBcCFAcSJcIsFxkAAJeE2A4oTXqFRywX8lGLw/ycsjDXHinJw86dzxj1Pxf4aNk/28sXcc2C9rf9siu0/tkoyYwxIV5XmOMVnFpWKxytKwQg25ptjFjt3r8fFOiyfv7ZpwTuJ/dk1pKtMCDQtVyL6AJQDS/xELvUs+IcFp8YTsC71g5Y/Fk5e3BA8LIwK4J3SdCvxdN6dQQVuYMAoXh0ICPhNw3W2NWkKoTYNm7LZm5pTPQHkCCYQhAWRO6QxJiBa6YaOBL4LkOfVxFRt3zNu8E4a4OCSLEKA4YZFAcZgkEEICFCdCCJuXIgESMIcAxQnvOQZTnChSBEWmowQ79V1fliBO5LVo7/3ow/vI1Owso07Fvp/k8Nm/8qxTUSArWUrHlpUG194kd1e7SaKjCkhKyilHEWMsHkNkgHCQl12TJ4un8+2aEgUiSE67Jn8snsI7ChydNwQMb2tnQW19DrJzjIyKUBXh9Ga0PIYESMAfAsZua+M5xzOPZmROwf4pSy1kZmcHWP/Jn4HxHBIgAVMIQICEEImsWHzVdSrwnH/77RbZtWuX3HRTDSlevLjb9ShMmIKfnZhIgOKEiTDZFQnYhADFCZsEktMggUgiQHHC+2gHU5ww6hhEyfHjsBEyqfC191PLtyORieK0XoKt1SnJzMqSz379WTbu2yoHsn8XKZjpeXxnYuXiqKukesnKcleFqlI0OVnZP+ElMy+7JlxHLyxh8Umfk9OuybCSilELUkZRbm3xFCuoS+GLxVO+QeaFg0YAz6yrUKEXN3BvGbswsxyiWdAGwY5JgASCSsDInHIW29UXM4QKCpJBhc/OSSBEBFxrTjVv3ly+//57deXrr79e6tatJzVr1pIyZcpKVBSyJ5kxEaKw8DJeEKA44QUkHkICEUaA4kSEBZzTJQE7EKA44X0UgylOFCqUqOyEjhw5aXrha+9nGNojsbBr2CgVVAu4WPx32ijFSWJigpzOzpZ3N38tX/zxnfyb/Yeci0n3OEgU1C4ml0v7Wx6TCpdc5sGuKed1nHZNnm2hArd4Ci1ZXi0/CHgqwumrXUR+jJ3XJAES8I4AMvKw0xoLmfjdpQVJ/Zwjewo2UGwkQALWJXDw4AF5//335Ysv1smvv/7qmMill5aUOnXqSe3a9aRatepqcwIbCeQ3AYoT+R0BXp8Ewo8AxYnwiwlHRAIkcAECFCe8v0WCK04kqIWOlJQ0tdtaL9J7PzprHZmX9RLqQSQkGDZKrtZLEDN+PrhP1u7cLLtO/ipnYo/lOumorESZ1miAsnVyvU7edk2pqtAxmvfnnFIZFRc6x1qR4WjNIuDchRnr5l/v6mtt9+fcLJbshwTCkYAnQRLPNZ/zcIwYx0QCvhP4999/ZePGDUqo2LLlW8dnxYSERLnllppSu3ZdqVmzjhQtWtT3znkGCZhAgOKECRDZBQnYjADFCZsFlNMhgUggQHHC+ygXKICiyd4f78uRqGmQkGDswDIKcJ5RIgV2YdptAdPVRskf6yV9zu6D/8raXd/Lryd+lbSYfx21OVCTYvo9A9TOVm8snlDnQ9s1+WPx5OkcX+LPY+1NQPvXY8c1RDP359ywhTHs3NhIgASsSsDVFsb1OYfwbdSjOe34XWPVOXLcJBBpBFxrTKSmnpJvvvla1q//Qr7++is5ceKEwoHnvUqVG5RQcd99D1GoiLSbJJ/nS3EinwPAy5NAGBKgOBGGQeGQSIAE8iZAccL7OyRY4gQWxrEwGRNjFNrFAmY00jQcBTj1wob1FzCREYHMCAgunm2Uzrd4utA5ew8fkRXffikHTh2RByreKlXLlJWkpIQLXMezXZM/Fk+nTqWqBSg2EsiLgOFf7/6c43hDkDSEChba5T1EAtYm4Ok5dy2orTPvrD1Tjp4E7Esgr+LX2dnZ8vPPP8lXX62Tr776Uv788w8F4o47GsoLL4yyLxTOLOwIUJwIu5BwQCSQ7wQoTuR7CDgAEiABXwlQnPCemNniRF6FryFOGL7WscpmSDfXjAq929/7GeTvkSggjQyRnHZN7jZKWYJFft28OydTCR25nXPypD92TYGdk7+UeXUrEYiOdgqSsHXTjQuYVooix0oCeRMwnnPj9zmyqHSDCAkxEqIkfrezkQAJhA8BQ5iIEhHnZ/C8Rvf333/Jt99+I9dfX1WuvbZc+EyEI7E9AYoTtg8xJ0gCPhOgOOEzMp5AAiSQ3wQoTngfATPFCUOYOOuVZZPnBUxnRkU477SGLzfslbA4g51mKHytxxuo9VIgtlDqtTPH2DxZPOV1HddzvL+beCQJuBOALQSeB4iSroV2uYDJO4UE7ENA16mIizOECmdBbdg5npbMzCwlVNjNztE+EeRMIoGAr8JEJDDhHMOXAMWJ8I0NR0YC+UWA4kR+ked1SYAE/CZAccJ7dGaJE1h0MLIefPeYxwKmzqhw3YGpd1rDVggCQLg0jLdw4WSV/YGFF2Qy6EWXhIT4fLBeSlOLP2h5j813+6lwYc5xWJ+A5wVM7LQ2vOvxh40ESMDaBDzVqXC1eWM9GmvHmKO3FgEKE9aKF0crQnGCdwEJkEBOAhQneE+QAAlYjgDFCe9DFhUl8l8pCO9PynEkFhnOnfNPmMh50QIFohze9e47rbP/K76ZJfnpaY0xFS6cpESAjIzwsl5yt5LyfWwQOFJSnPZTft8QPJEELkAAP3diYpBRgZ3WKKgNmwlRIp+rUMGd1ryVSMDaBLDhQIsVuu4UZuRaUDucNh9YmzZHTwLnE6AwwbvCigQoTlgxahwzCQSXAMWJ4PJl7yRAAkEgQHHCe6iBihO68HVUlO8ZExcaJXZau2ZUaKsIbQmDjAoscISqYSEV9SIwjtTUdElPz1CXxr8hWGCRFcIJLJ507QyMPzk5Kc9zsDATqPWSZyspkUKFkn2ynwoVT16HBDQBLGDi+cJ9DOFPCxWu9WgoVPB+IQFrE4A44Wq/5Y0JAAAgAElEQVTzpmeD34FalGSdCmvHmKMPLwJOYQK/V41NAGwkYAUCFCesECWOkQRCS4DiRGh582okQAImEKA44T1Ef8WJvApfe3917490WsLEKBHA6Wl91pFREcxFjcTEeElMTFA7u5FdoO1nsJBapEiyYNEF/4fv5W7xlKrGiWa+LZTvdk0o4p2UlKDGg8Lb2hbK+4jwSBIIDgFkJxmiZIx6rnRzFSq0+BecEbBXEiCBYBPQWZJ4zt3rVNDmLdjs2X9kEKAwERlxtussKU7YNbKcFwn4T4DihP/seCYJkEA+EaA44T14f8QJXwpfez8S74/EmA2bCGOntatQEQzvehS+xq5uLIgiK0LbSmFBBd+7sMWT85xArZfyspKCMKIFGtfr5LRrgiiB2hiIY0rKKcc53keAR5JAaAhAnNDZU7indQvXejShocKrkIC9COB3uM6eymnzht9p+B2G3+3MnrJX3Dmb4BGgMBE8tuw5NAQoToSGM69CAlYiQHHCStHiWEmABBQBihPe3wi+ihOBFL72flS+HekqVGjveiy8o1i1XtTwrUfjaMOuKVktmpxv1+Rq8ZQm6emZLud4snjybAsFkQPz8N7iyXe7JsTak8WTP3x4DgmEkgBEQFebN31tbQkTapu3UM6d1yKBSCLgrFMRK9HRhs0bms6eglABe0c2EiCB8wlQmOBdYQcCFCfsEEXOgQTMJUBxwlye7I0ESCAEBChOeA/ZF3EiHIWJnDP15F3vzKjIEuPFLe+GBREIE067plOO8zxZPJ1/Tu4WTzltoXAd7AqHmHLypOs55tk1QbQxrlNQLfAgA4S7UC90F/D74UrAUz0aZDfhWYdQgeeJjQRIwNoE8LtRF9TG7y/dIEriOc/KynJkM1p7phw9CQROgMJE4AzZQ3gQoDgRHnHgKEggnAhQnAinaHAsJEACXhGgOOEVJsdBLu/7Hk8MZuFr30br/dHG7stYtds6Z5HdvGwiDLumZMGCPjIiUlPTHBcNJ4snb+2aILAYQksBlUkCcYSNBOxCQNej0QuYTps3Z/YUhApvREm7MOE8SMCOBPB73LWgdrAtHe3IkHOyLwEKE/aNbSTOjOJEJEadcyaBvAlQnOAdQgIkYDkCFCd8C1le4kSoC1/7NnLvj3YW2XXaRCBzwLXILv4dHx8rSUmJquPU1HRBjQc0sy2esMACoQP94jrp6RmO67haPCHDQdtXuJ6TlpYuaWn6HM92Te5CS4a6FhsJ2JmAFinw1RdR0s5MODcSsBsBT6Ikfo+71p5ihqDdIs/55EaAwgTvC7sRoDhht4hyPiQQOAGKE4EzZA8kQAIhJkBxwjfgnsSJ/C587dssvD/asIkwMiqQVYBmWFadU9kF+Lur9ZI/Fk9YFC1SxNUWKneLp1On0lQ2AxrOcVo8uVsvxcfD4ilBHed+jme7Jk9Ci/ekeCQJWJtAbt71eL7PnEGRXVjCnFaF7tlIgASsTQCFtI2aNO6iJJ51bfXGZ93aMebocyfgzArE59koYiIBWxCgOGGLMHISJGAqAYoTpuJkZyRAAqEgQHHCN8q5iRNYqD93Dot2XhRo8O1yYXU0xAksaGDxX++yxgB1RgUWM5KSkv6zeHLPPPBk8YQsjcKFcU4BlXkBMUG35OREdS30i/oSWDhBg2ACYcI4J0tOnXJaL0GUSEiIV+dANMHY0PKya0pMTBDUxsBCLLIv9DlhBZ+DIYEQEnB618eq5003V6ECPvZsJEAC1iagNyBAqHB/1rNVjQqIFWfO8Fm3dpQ5ehCgMMH7wK4EKE7YNbKcFwn4T4DihP/seCYJkEA+EaA44Rv4nOKEFQpf+zZDz0e7ForWOyyNBQ1n4U1tEwErJVgseW/x5G7XBMECuzuxAHrixCnHjm1/7ZogZmAssHfC2HTTognGathCcRHGrPuF/diDALKhkD2FZw/ZFbqxyK494stZkIAmYDzryKgwREldpwK/Hw37pyyK97xdLEmAwoQlw8ZBe0mA4oSXoHgYCUQQAYoTERRsTpUE7EKA4oRvkYSzUdR/meBWLHzt22ydR+eVeaAzHCBM6MUMnInFS/wbGQ5Y2EhJOeXYuYZMBWQs5LSFcrdrOq0yJrQPdkIC7JoS1b+9t2tyWjyhWDcyLdDcRRPDFsqw5mIjARLwRAACpatQ4Vpk17B+4uIl7x4SsAMBXacC2ZLYKOB81lF/yrB5wx/WqbBDtO0+B2Q344M7rZzsHulInR/FiUiNPOdNAp4JUJzg3UECJGA5AhQnfAsZxAnjZVxbOfl2vhWPds9WyDvzAPZWWLxEDQcIGs6dl7CIOK1qRsB2KS4u9j+7plMOywh3uybPFk/e2jU5LZ5QF8Np15RXXQwrxodjJoH8IOCpyC5EPr3LGl/ZSIAErE/AyKg4v06FYevImjTWj7BdZ0Bhwq6R5bycBChO8G4gARLISYDiBO8JEiAByxGgOOFbyAoUiCxhAtkKyHBA85StAIsn18wDCA/IpkCDGIFsCNjBuGZVIOsE/enFS+zOTE5OUsekprpaPIkUKpSsFkWQiWFYLxlFeX0RTbRdE8YBKyeMKT09U5BNwUYCJBA4Ac+LlxAlucs6cMLsgQTCgwCsHHVBbWxC0M21oDYtEsMjVpE9CgoTkR3/yJk9xYnIiTVnSgLeEqA44S0pHkcCJBA2BChO+BaKqKhslTkRFQWR4j9/J9+6sMzRsFCCOOFvcWlkOGjxoWDBAlK4cCElCrjaP6FviA0QDQy7plS1kInmbvFkCCDaQgKFspEZgeYqmuRl1+QqmqDuBMQJNhIgAfMJ4HnW3vXIVELDs+ssqJ1FGzXzsbNHEgg5gbxq0uiMCmRXsJFAaAlQmAgtb14tPwlQnMhP+rw2CYQnAYoT4RkXjooESCAPAhQn/Lk9IExg975Ro8BuQgUW+JFdEIxshYwMI1sBHtYQC3ANnVGBxUtkWmBBA6IFilhDoMD/QejQzTu7pixVr0I3TzUu/Ik+zyEBEvCeAOzaYPWGndY5d1nrOhU6G8r7XnkkCZBAuBEwatIYBbVdsyXx+9wpVKBORbiNnOOxFwEKE/aKJ2dzIQIUJy5EiN8ngcgjQHEi8mLOGZOA5QlQnAg0hPYSKrzNVnAtLo0FCVgvYTHCk8WTYdeU5shWMDIckpRIAfuHM2ey1fm4PprOrsgpTOAcLHzktHgy7JogZkRJenqGsobSDXZRqIGBBRJkX+BabCRAAqEnoHdZQ6iANYxueJ61UMHnM/Rx4RVJwGwCUVGifr/j93VsrPvvdqNOhd6IQKXCbPaR3R+FiciOf2TOnuJEZMadsyaBvAhQnOD9QQIkYDkCFCfMDJm1hYq8ClI7LZ5yFpeOVhkOWHTEYoM32QoQIIoUwTnRcvr0aXWOtmtKTk6Q+Ph4N+snfA+LGbiGcY67xZOrXRNECWRnoLkKIFjwNOpiGPUq2EiABPKXAH4OYJe1Fip0BhWyKPTCJe1g8jdGvDoJmEUgN6s39O0sqJ3lqCdl1jXZT6QRoDARaRHnfA0CFCd4J5AACeQkQHGC9wQJkIDlCFCcCFbIchMq1JJ5sC4YUL/uxaXTJS0tQ/WH3Y+eClLnla0AWyiIBjmzFfISQFBEG7UkdI0LXN9YvIx1y6jAYoa2f0pIiBdYNkHAcK1x4SqAwE4C39MCSECgeDIJkIDpBCBMaKECu621UOFqB6Pr15h+cXZIAiQQUgLYZKALaufMoMJzjiwqZGGykYD3BChMeM/K/yPxO1lnOPvfC880mwDFCbOJsj8SsD4BihPWjyFnQAIRR4DiRChCDqFCixXG9cKpTgUW+FHHwShInaYW/tG8t3jKma2gLZ7csxV0hoNh8YSC1N4JIMjMwDkQJWDbpH3rtfWTIYCkOhYz8hJAQhFtXoMESMB/Au52MDHqmUfD86596/GVYqP/jHkmCYQLAZ1BBXHSU50KCpPhEq1wHYcWJmALaliDsplPAIIhxMTMzAzZuvUH+eOP36VMmavVn0suudT8C7JHrwlQnPAaFQ8kgYghQHEiYkLNiZKAfQhQnAh1LMNLqHDNVnCtx+C6wO9fQWpkK5xyFL50FUByZjhAfMD1cto1IYsCogmaa40LvBwhMwM2T64N58O7HiJITgEk1FHm9UiABMwhYNjBGAW1XWvSuNrBnD1L33pzaLMXEsg/AjqDyiiq7cygojCZfzEJ/ytTmAhFjPDZGhuD0tLSpH//PrJ9+y+Snp6mLj1nzqtSsWLlUAyD1/BAgOIEbw0SIIGcBChO8J4gARKwHAGKE/kZsvwTKvKqx5C3xZMuSG0Ul8YLC5q7xVOmEhN0C6YAghelmBhj4TKnPURGBgpu0sc6P+9wXpsEzCQAEVMLFTqDCv27FthFzQo2EiAB6xPwJEyihhR+t8P+iXWkrB9n/2dAYcJ/dt6fqbOU8cx169ZBDhz4R+699wG57roK6rN/3boNvO+MRwaFAMWJoGBlpyRgaQIUJywdPg6eBCKTAMWJcIl76IQKZBwYRayjlU2Kaz0GzxZPUeocCABmFKT2JIAgGrpeBRYZzxdAktTu6fR0zwIIdlFjEVM314UMLaaES9Q5DhIgAf8IePKt1887frbh72wkQALWJ2AIk8ioiM3l9/tpJVbwebd+nL2fAYUJ71n5d6QWJfTZc+bMkHffXSnt2nWSBx54xGGxmpKSov4f9aIuvvgSue22O/27IM/ymwDFCb/R8UQSsC0BihO2DS0nRgL2JUBxIhxjGzyhwshwMBb4MzIyVY0J3dwzHJw1HLAIaIgZBVQ9CogZuiUmJvhckDohIU5wHpprjQsjm0PXqzijhAlt1+JeryJNiRNoOAfzwaIFhIcTJ3COUbBPF9PGooYusItjsNuSCxnheN9zTCTgHwE870aBXWPh0vm8n1XPOoQKiKpsJEAC1ifg6XnH736joHYWn3frhzmPGVCYCFZ4jx8/Lr/9tkNq1Lj1vEv0799bfv99j8yatUCKFi0qf/31p2ze/LUsX75M9u7923F8z5595bHHHg/WENlvLgQoTvC2IAESyEmA4gTvCRIgAcsRoDgR7iEzT6jQC/yYcVoaClI7F/gLF05Su55cF/hxnHuGQ4Y6TzdPGQ7IrkB/uQkgSUmJAnECiwgQOfSCoZHNUUgJIFhMRIFr3RIT45WYgV1c3tarcI0qFiox95wFN5GZoa0hUOiPjQRIwPoEtG89nnkW2LV+PDkDEsiLAOtURNr9YT9h4sSJ4/LKKzPlyy8/VzUdrr76GpWd8L//OQUCHDNr1suyYcMX6pgqVW6QLl16SLly15l6A+zYsV0mTRonjzzSWO6++z7V9759e6V06culV69uqgg2xpaYmCgLF86TXbt+k8svv0Jq1LhFypa9RiZOHKfsniZNelkKFSpk6tjYmWcCFCd4d5AACVCc4D1AAiRgeQIUJ6wUQi1U6K/IHMDfo/KcBISA999/T8qWvVrq1at33gJ/kSKGxdPp06eVKAARAM21ILV/GQ4QQDJUX1FRsGtKdmQ4GHZNhje8e72KDElNdQog/tSr8GYhI7eFS51RwR3WVnomOFYS8EwAP3cgumpxUmdUsMAu7xoSsCcBXUwbX7FBAg3Pu1GXBlmTrFNh3cjbT5iA0NChQ2tVx6FJk2Zy0UUXyXvvrVIZCljgv+mmGuqzedeu7WXPnl3StGkLKVq0mLz11lI5efKEzJu3RAkHZrVNmzZKnz7PSJkyV0vr1m1lxYo3pUKFStK5c3fZuPErGT/+RTlx4oTKTsRzdd99D8oTT7SUUqVKSVxcvIwcOVTWrftMli5dKSVKlDBrWOznAgQoTvAWIQESoDjBe4AESMDyBChOWDWE3gkV6enpMnr0SPnkk0+kbt26Mn78REcRa7xcFCtWOIAMB9SrOCX/aRnK3snXDIf4+FhBNgUaRAlYTRliBiyejGwO+EgbFk+GmJFXvQpfoulpxyWtIXyhyGNJwDoEDKEC9k+5LVwaBXa1OGudWXGkJEACuRFAFqdh7xjj8MfHcciUNOyfTjs+D5FguBOwnzAB4siYQAbChAlT5dZba6kgpKWlStOmj8hVV5WR6dPnyOrVq2TMmJEyZsxEqVOnnjrm8OFD0rx5Y6lbt74MHjzctOBlZmaqDI7x40f9N5Y06dmzjzz2WFNBbYnt23+RVatWyDXXXKsyJVzrS/z77wEZNKif+tz+0kvTJCHBsG9lCz4BihPBZ8wrkIDVCNDWyWoR43hJgASE4oQdboLchYojR47I88/3k23bfpHy5cvLuHHjpUSJS9SE165dI+PGjZX+/fvLvffeny8ZDq71KpCxgd1haNjtqLM5zi/YnXu9CjOiqGtU4MWqQAEjGwU1L7RnPcbCRgIkYA8CWLjUQgUyx9AgTOiC2li41IKoPWbMWZBA5BKAZSRq0mh7R01C2zuyLk043xv2FCbw++axx+6XK6+8SiZPnuEWgDVrPhR8hm/WrKX06NFZ/v77L1m58n23Y0aNekE++2ytrF69VuLi4kwLIMbVsmUTVVOiSJGi8vTTHeTRR5uc1z9sYPEHz9XJkydlxYplsnjxAmnVqo20adPetPGwowsToDhxYUY8ggQijQDFiUiLOOdLAjYgQHHCBkF0m4IhVPz2207p16+3HDx4UOrXx86qoZKQkKgW3xYuXCCvvDJHvVBMm/ayVKlyverh0KFD8t13m6Vx48ZSoEC0ylZwWjyZm+HguV6FUXw793oVCZKQEK8EA2RsBNN+yZM1hLPYJnZY2+3e4XxIIDIJQJxwLaitKXCHdWTeD5y1vQlg84HxOz5nXRrYP+mC2vwdHx53gT2FCbD955/90qTJg6p2RPPmrRRu2DyhnoNru/vuBlK9eg0ZNWq82//Dcgn1IebPX6LqPJjVtm79QebNmyXFi18ksHnCeCA43H//QwJRX4v2b7/9lqxf/4WymUJB7N27f5N69W6TYcNeNGso7MdLAhQnvATFw0gggghQnIigYHOqJGAXAhQn7BJJ5zw2bFgvQ4f2F1g6PfFEM+UVi12DSNceN260fPTR/0nx4sVl3LgJUrFiJXUiiuA991wftVPr9deXylVXXe3oMCnJEAUgVASa4WDYNSWrOhNY+DPsmoxVfle7Jlg8eVOvIhTRw1ixiIHFS3cPa8MWAoIFrWBCEQlegwSCTwDPuBYq8Ozrhh2i2goGP7vYSIAErE9A16XRGxJyr1OR5ficYv0ZW2sGxiYQ1A4x6ofYqX3zzdeqyPSQISPljz/2KLsk1JG45JJLpX37znLPPfcrsaJhw3rSuHFT6dmzr9v0Udth4MC+Mnr0BKlbt4HfaCA26Pted4Ii2ElJyfLzz1uVpRQyilu3flruv/9hJVBkZGTI+vXrZN682bJ//z657rrycuuttaVt245+j4Mn+k+A4oT/7HgmCdiVAMUJu0aW8yIBGxOgOGGf4GKBfPnyZTJt2kRVs6FHjz6OVOxjx45I//595Oeff5JrrrlGxo6dIKVKlVTFtL/44nMZNmyoEi/atWsnTz3VVp0PcWPixPHyzz//yOLFSwRFsbFAh4aXE9SEyD3DIVESEuLU7qqUFNg1GQt5EEggTGCXsmHX5KxXAfEDIgjmgHO0hRJ2OOIcXA/9uGZz5EfknFYwsWo+aM5im/Ssz4+Y8JokECwCnndYn/1PqMgKagZXsObFfkmABHInYGxGMOrSaLs3HOksqJ0lsIJiCz4BOwsToPfJJx+rjURXXHGlshNs1eopiY9PkOXL35Bt236WgQOHSY0at8rDD98tLVq0VhuNXNvXX29QxashbjRseLdfAcFnen2fQ2RITT2lCmwnJiap/vAe8M03G2XixLHqfeHJJ59WRbDj4+PV9/AOcPToEUlKSpLChYv4NQaeFDgBihOBM2QPJGA3AhQn7BZRzocEIoAAxQl7BBk7eadMeUmQZo2XiuHDRzuK6/3++x557rmeKoW8Ro1bZMSIsZKcnCTnzmXLkiULZfbsmWpX1MCBg+SuuxopIEeOHJbnn39Otm3bJtWqVZOXX56pXkzQUBCvdOnLpGzZsqqItTcZDnjhL1QIdk0QPTLUebolJydKfLwhZkB8wEsaGl6YDDEDWR9ZSrQIp1awYLQjo8Lds/7MfxkV3G0ZTvHiWEggEAIQbF3t3vBvNGR+0QomELI8lwTCkwB+r+uC2tiYoJvOomKdiuDFze7CBMj93/+9LyNHDlUL+6+/vkIuuqiEAoo6Zy1aNJasrEyZN2+JPPzwPdKy5VPSqVM3N+CwXOrdu7sMHTpS7rrLd3HCNWNi+vTJ8umnH8uhQwelYsXK0qDB7dK8+ZPqepmZGbJ58yaZMGGM2qCEGhTI1Ni5c7sSJ265peZ5mRfBuzPYc24EKE7wviABEshJgOIE7wkSIAHLEaA4YbmQnTdg7HQaMmSAbNq0QUqWLCXjxk2SsmWvVcdt3vy1DBrUT1JTU+Whhx6VZ5997r8shNMyfvwo+eCD96RQocIydux4ueGGquqcPXt+k+ee6ysHDhyQ+vUbyKBBQ5TnLDIEFi1aIHPmzJG6devKxImTvcpwiIuLFQgQaBAlMjIy1d+xuIfaE3j5xwvPiROweDJ2JOYlZoRjxDx51hu7LY2MChbXDcfIcUwk4B8BT3Vp8MxDTKXdm39ceRYJhCMBLMLqZx6fT5zipJFFpf+E49itNqZIECYQk88//0R9Pm/U6B4ZPHiEW5jmzJkhixbNlwULXpc2bZpL48ZPSM+efdyO0bZO48ZNllq16vgd5smTJ6hi1hUqVFR1Jn7++UdJSUlR2Rqwl8K9j8zq7777VmVQwP4VRbz37Nkljz3WVHr06O33tXmiOQQoTpjDkb2QgJ0IUJywUzQ5FxKIEAIUJ6wf6Bkzpsjrry+WSpWqyJgxL6mXC7R33lmpXiSwKN61aw9p2rSFeqE+efKkDBr0nHrRuPzyKwQvNnjRQNu4cb0SOtLT06RFi5bSsWMniY4uqBbYx48fIx988IEUK1ZMJkyYqF5k0H777VeZPn2qdO7cWWrU+J9bhkNiYrwkJuZm12RYPCH7ALuOUcviQsW3rRIpZHroGhWuuy2R3WLUqKAthFViyXGSgDcEnFYw7nZvzmee4qQ3HHkMCViBgJFFZdSiQtYpMkLRDItH1qIKJIaRIkyAEaybOnR4Spo1a6U+o7s2WDtBNJg1a4GybjKynse4HaMLYi9Y8JqUK1fea+yuVk5//fWHdOvWUWVNI1MC2Rs//bRViSawa2rWrKV06NBVbWrCZ1eMGRkUyK7GhqaxYyd5fV0eGDwCFCeCx5Y9k4BVCVCcsGrkOG4SiGACFCesH3yIA/CeffzxJyQuLl5NaOHCefLKKzOVLyz8aOvVM4rlochd37495K+//pSqVW+UUaPGS5EiRdX3sHMK1lBoKLz36KONYVoix48fk4EDn5etW39QVk7jxr0kpUqVUsdt3PiVDB48SHnPjho1SurXv139P15iDhzYLzfeWO2/QtpOuyYIEhAmcqtXASEDgoZRfPuU5f3cPRXXhXWVzqjQdTysfydyBiRAAobdGzzrY5X4qhvFSd4bJGBPAoY4GftfnQpnLSr9ex5ZFaxTceHYR5IwARr43HzffXfITTfVkPHjp7gBQu24Zctel1WrPpQRI4aqz9PLlq1yO2bUqBdk7do1smbNOiUe+No+/XStJCQkqE1MuH6ZMlerLGZkAu/Zs1u9Kxw8+K80afKEdOrUXd3jaCjSjXeJcuWu8/WSPD5IBChOBAksuyUBCxOgOGHh4HHoJBCpBChO2DPynTu3VTUmxoxxZjj8+OMP0r9/bzlx4oQ0anSv9Os3SL1s4GVk2rRJqghfQkKiqldRs2ZtBQYiBl5Q8CJy8801ZMSIUVKoUCElHqC+xaRJk5TI8Pzz/eXee+9X5xw7psWMraqQ9rXXllO+7GhYtIOVE3YepqWlS1pahiMA+H9YQOElHsKE3RbtjeK6sRIXF6NeJLUtBOapMyp0vQ173pWcFQlEFgGdRYWfe1jA1I3PfGTdB5xt5BDwLE5iQ4KROcnf8+ffD5EmTGgCKIj9+eefyty5ixzZDydOHJfmzR+T0qWvkDlzXpVVq1bIhAmjlYCgP5sfPnxImjdvLHXr1jvPEsqbpw2WUoMHPy/FixeX2Nh4mTt3oWOjkq5FgayKPn16qHcJ2Dd17tzNsQHKm2vwmNARoDgROta8EglYhQDFCatEiuMkARJwEKA4Yc+bAf6wEA1gOYB26tQpefjhuyUjI0PateskrVu3/U8gSJNhwwbKhg1fyiWXXKosniAmoH3//RYZMKCvpKSclPvue1D69Omv+jtz5vR/xbeXS3JysowaNUZuuukmVTDbEDN6y969e6VWrVrqezExsUrMWL36XfX9wYMHq9oT8GVHwyI9MimweIfdxRAmtJhhz+gYc4ZIYdhCuAoV8K82alSABRsJkIA9CGhxUgsVrp71WpxEvQo2EiABexDQdSpybkjA4i/rVDhjbAgTsMZyZprZ4w648CxQ261jx9YqS7hx46aqOPbbby9XGQvTps2RypWrqM+Cbdu2kv3790nz5q3UBqG33npDWbRC1Chd+vILXyjHETh3ypQJ8vXXX6lrv/jiWKlR41ZlA4v7Vn/FxiTYSu3d+7fceWcjef75QRQofKYd/BMoTgSfMa9AAlYjQHHCahHjeEmABITiRGTcBHjRQHZEtWo3OqyX8HLSo0cnVTOifPmKyju2RIkSCsiHH66WsWNHqpeijh27ScuWrdWCOopvDx06QNlIOYtvl1X2T1u2fCuDBvVXhfQaN24i3bv3UBkC6GPq1MmyYsVy1f8777z334uoSEZGmhQpUli9bOFlPSXllBgvqpHTDP/qGCVWQPzhomXkxJ4zjUwC+pnXBXZZXDcy7wPOOnIIeHrmsXHDVajQtbcihUwkCxM6xgcO/COzZk2XTZs2qt8ShowAACAASURBVM/LlSpVVnUeIEzoduzYUZk+fbJs2LBezp07K5UqXS9dujzj2Ezkzf3iem8Z2cupMm3aZFm9epXK0pgwYYqqQ5dToICA0q5dSylUqLAsXvymXxZS3oyPx/hPgOKE/+x4JgnYlQDFCbtGlvMiARsToDhh4+BeYGrr138hzz/fS+rWbSBDhoxQ3rN4eZk/f44sWPCKxMbGyaBBL8jtt9+pevr33wPy3HPPyu7dv0nFipVl7NiJjuLb77//rowb96J6qXnmmZ7SuPHjapE9PR1ixhDZsGGDXH755aqQ9hVXXKn6+/7776R//35SsWJFmTPnFZVNEektKkqUQAF7KyxcctEy0u8Izj8SCGiRAl+xaxUt0hctIyHunGPkEvD0zDtr05xWn6fs3ChMBD+6WmjQV0JmLjJ2UbgdnzVR92LGjKmyatVyueyy0jJhwlT1GT2nQAFxJD4+Qb0nsIUfAYoT4RcTjogE8psAxYn8jgCvTwIk4DMBihM+I7PNCVj8gs0SXkT0gtjrry9SLyrFihWX0aNfkipVrlfz3bFju/Tr96wcOXJYGjS4XQYNGq6KbeMFZu7cWbJo0XyJi4tTIodRFPucYDcYztm9e7dUrVpVXnxxtOoX7aOPPpRRo15UdSUGDBjoqFdhG7gmTcS5gBErsIVBg+UVXixhi4Udl2wkQAL2IaCL6yKTylWogPWG9qy3u+2dfaLJmZDAhQkYdSqMDQn4u26uBbXtVqeCwsSF74tAj8BnfL3BZd26z+TLLz+Xbdt+lsKFi6isjNtuu1OqVLlBMjMzZNasl1XdOdi7vvTSNFUcO6dAEeh4eH7wCFCcCB5b9kwCViVAccKqkeO4SSCCCVCciODg5zL19evXyerV78gzz/RWu6jQNm5crwrnoV5F8+ZPSqdO3dSiGepajBr1gnzyyRolOiCTolIlIw3dEDN6ypEjR1TmxcCBQ1Q2gJGZ8YosWDBfiRsvvDBC6tSpyyB4QQCLljqjIvfd1VkRZ4nlBTYeQgKWJaAXLSFUREc7Fy1dhYrsbHvvrrZs8DhwEvCDQHR0ASVS6HpUugs851qctHptGqcwgSwxY9MFW/AIrFixTNm6Fi9+kbJjxWf3X3/dIQkJidKzZx+5994HlJ3U7NkvyxtvLJESJS5WGRTXXHOt+syuBY7gjZA9B0qA4kSgBHk+CdiPAMUJ+8WUMyIB2xOgOGH7EAc8wfbtn5Rff90pvXs/Lw8++Ijq79ixYzJgQG/56acfpUyZsjJ+/GQpVeoy9T0IHCiyDTGjRYvW0rFjV4eYMXr0cFm79iMpXry4jB8/UcqXryBRUSgywRdUXwKV1+5qnVERad7VvvDjsSRgNQLGomWsqk2DWj662Xl3tdVixPGSgJkEPNejMrInYdGTlXVGLSBbpVGYCG2kNm/+Wvr376PsW594oqX6zI0GG9b33lulPosvXfq2JCYmqkxmLVDgmAULXlcCBVv4E6A4Ef4x4ghJINQEKE6EmjivRwIkEDABihMBI7R9B3/99YfaVVW2rPGSgr8/9VQz+eOP3+Xmm/8nI0aMVQWt0d566w2ZOvUlJUa4ihnHjx+XAQP6yI8//qDSxcePnyKlSpVS9k/OP0Khwo+7CQuVWLDEwiUWMNGwWKF3V0OssNLihR8IeAoJRBQB/HzF7motVOidrcbuasPuzeq7qyMqoJwsCXhBwFOdCqtYvlGY8CLIfhyCjUCHDh101HNz7WLmzGny9tvLZcyYl6R69ZvVtyBYwL4Vm4zmzVushK6UlJNSrlx59f1p0ybK2rVrZO7cRXLxxZf4MSKeEmoCFCdCTZzXI4HwJ0BxIvxjxBGSAAnkIEBxgreErwQgTnTr1kEqVKgo3bo9q3bxwpsWosTy5cskKSlJRo4cKzVq3Kq6/vvvv6Rv3x6yd+/fctNNNWTkyHEOMcN5bVeRwtgFyIwKXyMjyq9a767WNjAQJrC7WmdU2L3Ipu/UeAYJWJeA593V2gYGO6xZm8a6EebISeB8Akb2JDYluFu+uRbUxk74cGkUJoITCVg0tW7dTGrWrC1t23aU5ORkx4UQ/x49Osvx48dkyZK31P9v2rRRIFj8888+mTlznsp8fuaZTuo81IxLTExSx6WkpOTyOT04c2CvgROgOBE4Q/ZAAnYjQHHCbhHlfEggAghQnIiAIIdgit9/v0W6d++oiulNmDDFkWWxdesP0r9/bzl58oTyte3bd4DExMRcYEQUKswIGcQJnVHhWmTT2GWZJZmZp5WoxEYCJGAPAlFRon6+ojYNvhYoYNjlQaA0/OqNP8ykske8OQsSAAH8rtdCBUQL3bA4rZ/5/MykojARvPt03769KmMZm4Xuuutut9pEuOqQIf3lm2++VkIEsiOmTp0of/75u8ycOV+uvbacyoTGZqP9+/fJm2++o35vuNY3Ct7I2bOZBChOmEmTfZGAPQhQnLBHHDkLEogoAhQnIircQZtsZmaGrFnzf1KrVh256KIS6joQLHr16qZSxtu16yStW7f1o7AehQozgubZr/6MEikgVrCwrhmk2QcJhA8BLFRCqMDCJaygtFBhFRuY8CHJkZCANQhAkET2JJ55PP/a8g0bEZxCBQTK0MyHwkTwOaemnpK4uHiVxbxjxzZVww1iBdrSpUtkxowp0qDBHQIhA8LEyy/PdXwfx6CuHDIwUGOCwkTw4xWMK1CcCAZV9kkC1iZAccLa8ePoSSAiCVCciMiwh2TS77//rrJ66t27vzRseLcJ16RQYQJEtUipMypcd1mysK4ZdNkHCYQnAWdtGvedscykCs94cVQkECiBvDKpXJ/7YGVSUZgINIK+nb9nzy5l8XTLLTWVxVPFipUFwsXAgc/Jli2blVA1duxEqVmzjqPjDRvWy6hRw6RWrboqsxm/J7Sg5dvVeXR+EqA4kZ/0eW0SCE8CFCfCMy4cFQmQQB4EKE7w9ggmAezW0zt2zb8OxArYErFGhb9sPe2y1HYQqFMB0YKNBEjAPgSclm8xajFKNy1QIpsqnPzq7UOeMyGB/CPgrFMRK8im1M01k8qsDEpnZka02snPFnwCqOu2ePEC+fjj/5P//e9Wla0MgeLrrzfIwoXzZOfO7fLkk0/LDTdUk8qVr5e1az+Sd95ZqerBTZ8+22HHGvyR8gpmE6A4YTZR9kcC1idAccL6MeQMSCDiCFCciLiQ23TCFCoCDayzsC786p2757BYAdsnWELkp291oPPj+SRAAucTcM2kQm0avWs2XPzqGTMSIAHzCeBZ13UqXAVKPPeG1eNpVY/An0Zhwh9qvp+DjJecWQ4HD/4rr722UFatWqEEinbtOkv58hVU3YmlSxfLt99+oy4UHx+vrJxKlLhYhg4dKVWr3uj7AHhG2BCgOBE2oeBASCBsCFCcCJtQcCAkQALeEqA44S0pHmcdAhQqAo2VFir04kVO32pkVFCoCJQyzyeB8CKA59zV8i03v3osWrKRAAnYhwAESteC2oE89xQmQnNf6KxkiBEHDvyjsh9Kl75CCRHp6WmyZMmrsnz5Mqle/Wbp2LGrVKhQSdLSUuXTTz+W7du3SUZGhsqgqFatulx1VZnQDJpXCRoBihNBQ8uOScCyBChOWDZ0HDgJRC4BihORG/vImHluQgVmTpsBb+Pv6luNBYxAFi68vSaPIwESyF8CeO6NBUujuK5+7rFb1yisa2RThaqwbv7S4NVJIDIIeNqYoJ/7tLQ0SUlJlcTExFyAnJNz5/DZilZOwbxbtDCxc+cOGTNmuOzZs1vwf0lJSdKrVz9p2PAeOXDggKxc+aYsW/aaEiCefrqjVK1aTQ0rt4yLYI6XfQefAMWJ4DPmFUjAagQoTlgtYhwvCZCAUJzgTRA5BNyFCiVRROH/KFT4cg/oHZb4quuJ6IULI6OCC5a+8OSxJGAFAp6e+1AU1rUCH46RBOxIABaPcXGGQInf93369JH3339fqlWrJvXq1ZdatWpL6dKXq9pfFCZCdwf8+ecf0rVre7nkkkvlttvukOuuqyDbt/+iimGjzgQaMipQUwJ2TsiSeOqpdiqTgs1+BChO2C+mnBEJBEqA4kSgBHk+CZBAyAlQnAg5cl4wLAhAlNBihTEgChW+BybnwgV6cO6sNnyr8W82EiAB+xDIrbAunnPXgtrYyctGAiRgHwKoU/HFF1/IzJkvy549exwTu+aaa6RWrTpSp04DtTCuNy3YZ+bhMxPj5+wZmTJlgnz00YcycOBQadDgjlwHiOy26OhomTt3lixf/oZcddXVyuKpRo1bwmdCHIkpBChOmIKRnZCArQhQnLBVODkZEogMAhQnIiPOnGVeBChUmHF/eFqwxM5qZFRQqDCDMvsggfAigMUvXacCi5e6YQENzzyK66LILhsJkIB9COzb97d89dVX8sUX6+SHH35wbEK46KISUrt2Xalbt75Ur15D4uLi7DPpEM9k6ND+UqdOfbnrrrvPu3LHjm2USDFv3mL1PfzdtbD5xx//nyxY8IpMnTpLYmJi5M03l8qiRfNlypSZzJ4IcRxDcTmKE6GgzGuQgLUIUJywVrw4WhIgARHaOvEuIAE3AhQqzLghsEiprSCweImmd/xhsRI7+s6eZUaFGazZBwmECwHsmHYtqK3HBXHCECqyVHYFGwmQgB0IGFZOR48elw0b1suXX66TzZu/kaysTDW5hIREZTMEoaJmzdpSuHARO0w6JHP46qsvZeDAvsqKqVmzVkpgwM9XiBApKSnSpk1zufjii+WVVxYpK01837VNmfKSypYYN26S1KxZRw4fPiwpKSfl6qvLhmT8vEhoCVCcCC1vXo0ErECA4oQVosQxkgAJuBFg5gRvCBLwRIBChRn3hqed1a5e9bSAMYM0+yCB8CFQoECUo5g2sqp0QW0861qowM8ANhIgASsSyL3GRHp6umzevEnWr18nX331hZw4cUJNDp8D7r33AenXb5AVJxvSMc+aNV3ZY5UqVUqKFy8hJUqUEHBNSEhwjGPEiCGC7Ig5cxZKhQoVHUWudbHs/fv3yRNPPCItWrRWVk5s9iZAccLe8eXsSMAfAhQn/KHGc0iABPKVAMWJfMXPi1uGAIUKM0IVHV1ALVhid7WrBQF2A+qMiuxsetWbwZp9kEC4EIAw4VpQ2ylUnFO7fpFRga8sTxMuEeM4SCAvAt4Vv8bv9Z9//lFlVECouPTSkspWiM0zgRkzpsjSpUuUqPD00x3U5yVkPbRt20KaN39SmjZtoU7+4IP3ZPTo4XLVVWVk+PDRUrbstW7WTsi8eP75XtKv30C5//6HidzmBChO2DzAnB4J+EGA4oQf0HgKCZBA/hKgOJG//Hl1KxLQQoX+ymLa/kTRkwWMa1FdetX7Q5bnkEB4E3AVKnTxXNi+GUIFbN8gVND2LbyjyNFFJgHvhInIZBPYrP/443fp2rWdlC9fSRW6Rv0OZEL89NNW6datg+q8e/de8vjjzdTfJ0wYI++8s0LKlr1GZaRUqlRF/f+ePbtk4cJ5snHjBmXrVK1a9cAGxrPDngDFibAPEQdIAiEnQHEi5Mh5QRIggUAJUJwIlCDPj2wCFCrMiL+2gNEZFXpnNcQJnVFBr3ozSLMPEggvArB8MsSKWEFmFZp7fZrTaoGOjQRIIL8JaGECz6nxrLKZQ+D48eOSkZEhTZo8IOXKXSfTp7+iskvnzp0lHTp0kU2bNsrw4YMkLS1NOnXqpjIr0MaOHSmrV7+j6lHUq3eb+ln6yy+/CAqWd+nSQ5o1a2nOANlLWBOgOBHW4eHgSCBfCFCcyBfsvCgJkEAgBChOBEKP55KAKwEKFWbcDxAmXIvqOoUKeNVnKbECdhFsJEAC9iJQsGC0o04F/q4bbd/sFWfOxooEKEwEK2ozZkyVDRu+lJkz58uUKRPko48+kDvuaCjff/+tFCpUWAYOHKZqUKCOx8iRwyQ19ZS0bdtRFctGe+utN2T9+i9k587tqrYPMinuued+uf/+h4I1ZPYbZgQoToRZQDgcEggDAhQnwiAIHAIJkIBvBChO+MaLR5OAdwQoVHjHKe+jtFd9XFys5CyqqzMqWFTXDNLsgwTCi4CuT4OdwHj2dWM2VXjFiaOJBAIUJoIV5XfeWSkTJoxWxcKffPJpKVKkqIwa9YISIpBN1rp1O2nV6inH5Tdu/EpGjhwiJ0+eVOIERAo0/BuiBQqPx8fHS+HCRYI1ZPYbhgQoToRhUDgkEshnAhQn8jkAvDwJkIDvBChO+M6MZ5CAbwQoVPjGK/ejo6LEsasaC5bOorrIqDC86uFZz0YCJGAvAtr2TQsV7tlUqFGBgtrMprJX1Dmb8CBAYSJYcTh16pQMGdJftm37SUaNmiDVq9+sfpa1b99a/vzzd4EQ26DBHdK+fSe58soyjmFs3vy1jBgxVI4dO6oEjfbtO7sNEbZ4+mdksMbOfsOLAMWJ8IoHR0MC4UCA4kQ4RIFjIAES8IkAxQmfcPFgEgiQAIWKAAE6TsdCpZFRESNYvEQ7e/acEirwgo+vbCRAAvYioLOpdFHtnCKl8fzz2bdX1Dmb/CFAYSLY3AcN6ifr1n2qClffcEM16du3p2RkpMvdd98nO3Zsl48//j+pX/82JUJcd10Fx3C+++5beeGFQXL06BFVfwJ1KNgilwDFiciNPWdOAp4IUJzgvUECJGA5AhQnLBcyDthWBCBWoNgrvopEReGrsdDO5j0BvVCJrygMiYbdg65CxTkDMRsJkICNCDif/ViHSOl89g2hAv9mIwES8IUAhQlfaPl77OeffyKoOZGZmSkJCQly5MgRee65ASpjIjU1VWbMmCIffrha6tZtoASKChUqOi71448/yLBhA+XQoYMyZsxEqV27rr/D4HkWJ0BxwuIB5PBJIAgEKE4EASq7JAESCC4BihPB5cveScB7AhQqvGfl+Uj408OrGUW1XYUKWD4ZdSq4WGkGZ/ZBAuFGwPOzf8YhVCK7io0ESCAvAhQmQnl/fPDBezJp0njJyspUGRPIgihWrLgSVY8cOSzz58+R995bJbVq1ZHWrdtKpUpVHMP74Yfv5Pvvt0ibNu1DOWReK8wIUJwIs4BwOCQQBgQoToRBEDgEEiAB3whQnPCNF48mgdAQoFBhBueCBQsqkQJiBQrsouGFH/70sH6CWMFd1WaQZh8kEF4EChaMdoiUKBKrm/HsG9Zv2dnIWmMjARJwEqAwEaq74ezZs2oDRbt2T8rOndulaNFicvZstvTo0Vdq1qwthQoVUkM5fPiwLFw4T1atWi633lpLFcmuUuX6UA2T17EAAYoTFggSh0gCISZAcSLEwHk5EiCBwAlQnAicoZk9bN36vdoltW3bL+olpVy58mqnFF5U2CKVQG5CBVjQ/smXOyK3xUoIE2fOnPkvoyJL1axgIwESsBcBiBNGjZoYgWCp25kz2Y76NPg7GwlENgEKE/kRf9g2IUOiSJGisnTpYjl+/Lh06dJdbrvtTklKSlZDQm2JRYsWyIoVy6RGjVulRYsn5aabauTHcHnNMCRAcSIMg8IhkUA+E6A4kc8B4OVJgAR8J0BxwndmwTpjx45t0rFjGylV6jJ54IGH1SLK+++/K7//vkdGjhwr9evfHqxLs1/LEHAXKjBs1qnwPXhYrNQZFRAtdHPNqMCuRjYSIAF7EcBOZVehQhfURhYFsimQVYGfA2wkEFkEKEyEIt46W8LTtT766ANZtGi+Eis6deoud97ZSJKTDYHi2LFj8tprC2XZstekY8eu0rLlU6EYMq9hAQIUJywQJA6RBEJMgOJEiIHzciRAAoEToDgROEOzeujSpZ389defsnTpSkc6d0ZGhjzxxCNy8uRJtaASExMrderUVy8mRYsWNevS7MeSBCBUaLHCmACFCt8DCbsnXaPCfVe1M6OC9i++c+UZJBDuBCBMGEJFrKBehRYqsIBoWD8Zf9hIwN4EKEyEIr7Z2dmiLeY2bdooe/f+JQcOHJAqVW6Qq64qI2XKXK0yOVEkGzZO//77r/qs37DhPY53AmRQbNmyWe666+5QDJnXsAgBihMWCRSHSQIhJEBxIoSweSkSIAFzCFCcMIdjoL1kZmZIo0YN5J577pd+/QY5ukM2RYcOTwkWS9q166T88Zcte12KFy8u8+YtkX379kq7dq2kefMnpUOHLoEOg+dblgCFCjNCh13VOqMCi5W6afsX1KjAAgMbCZCAvQhERYnExGihIkYKFDBs8/A711WoYI0ae8Wds8E9DgqoyWTUZWIzn4BrxsTYsSPls88+kfT0NFVzAoIEMqa7du0p9evfpj7vf/nl5zJ//iuyf/8+9dm+UaN7pXDhwuYPjD3aggDFCVuEkZMgAVMJUJwwFSc7IwESCAUBihOhoHzha+Bl5J9/9isrp0svLek44ZlnOsnPP/+o7Cbee+9jKVasmGzcuF769u0pPXv2lQ8+eFd+/XWnPPnk0xQnLow5Qo6gUGFGoLE46ZpR4bR/yXbUqKBPvRmk2QcJhB8BiJPIqEBmBRYQ0SBMuFq/UagIv7hxRL4RoDDhG69Aj548eYIqbP3gg4+ojIgSJS6Rt99+S15/fZHqeuLEaaqmBNq6dZ+qOhPIqG7evJU0bdpcEhOTAh0Cz7chAYoTNgwqp0QCARKgOBEgQJ5OAiQQegIUJ0LP3NsrYod2nz7PyHfffSulSpWWN95YqU5NS0uThg3rSfnyFWXPnl1y+vRpKVmylBw48M95XeOYefMWe3tJHmc7AhQqzAgphAnXjAr61JtBlX2QgDUIYNOA8fzHOGxZMHLWqLFG/DjK3AlQmAjtnfHbb7/Ks892lVtuqSmdO3eXEiUuVlkTn366VkaOHCI33/w/mThxuiqIrW1bv/rqS5k4cayUK3edjBkzMbQD5tUsQ4DihGVCxYGSQMgIUJwIGWpeiARIwCwCFCfMIml+P3hp6d27u/KXHThwmLJ8Qtu69Qfp2rWd2s359NMdZO7cWRIfHy833FBNpX7rBhEDLza//bZDCRpXX32Nsob63/+MXVlskUaAQoUZEXf61KMGTMx5PvWZmVksqGsGaPZBAmFIAJ7xWqgsWDDaMUJav4VhsDgkjwQoTIT+5tiwYb306/esjBs3WWrWrC3p6emCAthz5syQyy4rLXPnLpLPPlsrn3yyRlq3bqcECbRt236WSpWqhH7AvKJlCFCcsEyoOFASCBkBihMhQ80LkQAJmEWA4oRZJM3tB8LEsGED5PPPP5U772wkw4a9KIcOHZSffvpRpk2bKEePHpVq1W6U558fLE2aPKgu/swzveTxx5urv0OM6NChtcqmaNKkmVx00UXy3nur5Pff98ikSS/LTTfVMHfA7M1iBLRQob+ymLY/AXT1qceuahbU9YcizyEBaxLwVKMGWY+oU4EaNfhdzkYC4USAwkT+RAN1JAYM6Cvjx0+RW2+tJe+//67MmDFFSpa8TF55ZaHacDRv3mx59dW5MnXqLLnxxpvyZ6C8quUIUJywXMg4YBIIOgGKE0FHzAuQAAmYTYDihNlEA+8Pu6kGDeonmzZtUC8wo0e/pKwkbr+9llroMHZux8rSpStVcV4tTrz00jSVLo72yiszZeHCeTJhwlTVB+pZ6OM8jXDAgKFy770PBD4B9mAxAhQqzAoYBArjT6yjoO7Zs/Cpx0JlllqwZCMBErAfAU/Wb6gnZQgVzKiyX9StNyMKE6GNmWsh7K1bv5du3TrI7bffJZUrV5HFi1+V4sUvUsIEPjOgoR7FSy+NlWHDRskdd9wV2sHyapYlQHHCsqHjwEkgaAQoTgQNLTsmARIIFgGKE8Ei61+/KSkp0rdvD1UEu06dejJixFhlHZOZmamK4yF7Ytas6aowZ/fuz0q9erc5RIcVK1arYtqpqanSqtXjcuWVV8nkyTPUQCB4fPHFZ/LTT1vl1KlTKqUcDeLGlCkTlOAxf/5rKrWcLZIJUKgwK/qeCupioVL/YUFds2izHxIIHwLa+k2Llc6MKqdQCcHSWChmI4HQEDDutygRcdqRhebKkXMVVzEit1kPHTpAPv30YyVGoFbcwoVvCGra6DZmzAhZv/4LwWaj8uUrRA44zjQgAhQnAsLHk0nAlgQoTtgyrJwUCdibAMWJ8IlvZmaG9OjRRQkTjRrdI/37D3V7aYGQ0KlTG0lISJT09DT544/fZfbsBfLkk08oceGRRxrLmjUfKvEBrW7d+irrAg02T4mJiedNdty4F+Xdd99WL0rR0QVVGnm3bj3kyivLhA8YjiSfCFCoMAs8hAosVMbFIaOigOoWwgQK6uqMCgoVZtFmPyQQXgScGVUxfP7DKzQRMxoKE8EPdc4siT17dsv27b/ItdeWU5+pkcWMotiTJo1TG4VatnxKmjVrJYULF5asrCxZs+YDmT17hlSpcoOMGDHG7fN/8EfPK1iZAMUJK0ePYyeB4BCgOBEcruyVBEggiAQoTgQRro9dT5gwWlatWqGEiYEDX3AsYuhukAI+f/5smTFjrqCw3oIFr8iQIcNl+PAh6pCqVW9UAsXOnTtk6dLFjv9DnYmTJ0/IJZdcKu3bd3YU1t60aaMquI3MjLZtOyqBY+nSJXLmzGkpU6as/PbbTklKSlZWUSikjawMtkglQKHCrMijiC5ECixYwq7NVagwMiqyBFZQbCRAAvYjoIVKY0OAU6iEZSNqVOBnABY52UjALAIUJswi6bkfbC7QGVL4HA1b1dRUY6MQGjYlPPTQo9KrVz/57rtvZfbsl2XHjm1y+eVXSOXK18vff/8pEDPwOXvWrPmSmJgU/EHzCrYhQHHCNqHkREjANAIUJ0xDyY5IgARCRYDiRKhI532dffv2SrNmj0rBgjHSs2cfiYuLkxMnjsvixQukWrXqUqdOfXnnnZXy448/5NkRiugdO3ZMhg7tr7IhsNDZrVtPKV68hCxf/oZs2/azDBw4TAkUjz/+kOzfv09efHG8+aQdCwAAIABJREFU1K9/m+oX1xg/fpQ6t0WL1ipL4+23l0t29hmZMWOelCxJgSI87pj8HAWFCrPoQ6jAsxYX5y5UnDmT7cio4EKlWbTZDwmEFwHj+Tdq1ODvurkKFciYZCMBfwlQmPCXnH/nIRMZn6Fr1aojDz/8mBQrVlz2798v06ZNlMOHD8kddzSUYcNelAMH/lGfrVEUG5nNpUuXlqpVq0unTt0kOTnZv4vzrIglQHEiYkPPiZOARwIUJ3hzkAAJWI4AxYnwCNkHH7wno0a9kOdgRo2aIAkJCepFZvz4F9Wu6y5desiIEUOkYcN7lOBQvnxF2bDhSxk5cqgSOFCrQosPECpatGgsWVmZMnHidGndupnKmvjss42O6+L/du/+Te3kgmUUsjmQibF3799So8YtMnz4aHUshJNZs16WDRu+UONBGjrGUq7cdeEBlKMIEQG9wx87fY2/R0XhK3yt2XwhgOcZIkXOhUpYP+mCuhQqfCHKY0nAOgSQRYFnH2IFsit0gzhhZFRkCURLNhLwloBTmECGDn8ne8vN3+NQE65Xr24SGxsn/fsPUXZOumEjED7joyh206Yt1KYhNGwmwjMOayd8BtDZlP6OgedFJgGKE5EZd86aBPIiQHGC9wcJkIDlCFCcCO+QrV+/Tp5/vrdcc005uf/+hyQjI0PeeWeFHD16RCZMmCqlSl2mCmI/+eTT0qFDFzWZzz//RAYN6ifVq9+s0scHDXpB7r77PvW9OXNmyKJF89XurU8+WaPS0N955/+kePGL1E6uxo0fUP/XsOHdcuONNwuK811/fVWpVKmyLF++TN5//xMlenTt2l727NmlXrKKFi0mb721VFlHzZu3REqXvjy8oXJ0QSQAYYJCRaCAPS1UYnESi5SoU5GdTeuXQDnzfBIIRwIFCkS5CRXOgtpnHUIFREs2EvBEgMJE6O8NWKE+/XRLadOmvTz9dAdVVwoNmwogOuAzdvfuHVXNuPHjp0jFipXV93QdqtCPmFe0CwGKE3aJJOdBAuYRoDhhHkv2RAIkECICFCdCBDqAy6C+BPxr8eKDTAfUlmjbtpOUL19BduzYLu3atZJKlarInDmvqqvAuqlDh6dUcevvv98iL788V6pWraa+B2unyZMnSHx8vFSoUFn++WefEhO6d++lMiaQcYEXpQceeFgVysbLFcQJZGa89NIY1dfff/8hY8aMlDFjJkqdOvVUv0hXb968sSrCPXjw8ABmy1PtQ4BChRmxxPOoi2mfv6M6S2VVcEe1GaTZBwmEHwEIE64FtZ1CxTn17EOsxFc2EtAEKEyE9l7Q9SY2b/5aevXqrixRYc/k2pAdAYEC1qnISIa9qt40FNrR8mp2JEBxwo5R5ZxIIDACFCcC48ezSYAE8oEAxYl8gG7iJf/5Z7/KnIiLi5cVK1ZL0aJFJT09Xe6993aJiiogF11UQt54Y6UjVRy+t8uWva5GgJcjeFtDdMBX3VAEG4X87r33Adm8eZOULFlKFcWeO3eWDB8+RmVu/P33X7Jy5ftuM0HK+mefrZXVq9eq7Ao2EnASoFBhxt3gaUc1Fj609ROFCjNIsw8SCE8CrkKF3nGNxdHTp087CmrrHdvhOQOOKpgEKEwEk27efaN2XOvWTyib0xdfHCf4LK2bzpD4+usN0rdvD2XrhMxjNhIwgwDFCTMosg8SsBcBihP2iidnQwIRQYDihPXD/M03X0vv3t1VBgQK8EFoQKYFRIq+fQfIQw89qiaJOhHNmz8mBQpES0rKSWnSpJksXbpYvUjhPLzUjh79gkozx7/79OmvbJ4uvvgSVbvi1193KIuoyZPHS/XqNWTUqPFu8FaseFMmTRon8+cvkeuuq2B9sJxBkAi4CxW4COtU+I5a76iOi4tVHvXu1i/Gbmpav/jOlWeQgFUI4LnXBbVhBYdmCBVGnRpkVZw9q+sCWWVWHKe/BChM+EvO+/O08Ifft6gxceTIEWXThI1AV155lbz00lhZtWq5slpt377zeR3Pnz9HXnttoco8Rh03NhIwgwDFCTMosg8SsBcBihP2iidnQwIRQYDihD3CvGnTRiVI7Ny5XaKjC6rC1L//vkdNrnHjppKUlCRvv71cDh78Vy655FJJTi4ke/bsVi9Tc+cukoIFjQKcr746V2VIYEfmpEkvy4gRg5VlDHZmQ9Do33+wjB49QvXZs2dfN3jr1n0mAwf2ldGjJ0jdug3sAZazCDIBLJxpscK4FIUK35F7tn4568iooFDhO1eeQQJWIVCwYLSqUxEXF+NWVNdVqGCdGqtE0/dx2l2Y2LXrN2Vh2rz5k476aqCETTezZr0sGzZ8IWlpaWqzTZcuPdRn4GA0beG0ceN6mTVruvzxx+9qQw828UyePEPVXps4cZyyYX3ssabSpMkTjjpsX375ucyePUMJii+9NE2KFSsejCGyzwgkQHEiAoPOKZPABQhQnOAtQgIkYDkCFCcsFzKvB4zie3h5gnCBbAoUtX766Y7So0cnqVOnviqcDV/cli2fcvSJl6x+/XoJXrx0g7DRrduzMnbsSBkyZIQMHz5Yeep27tzdbSxIV+/T5xkZMmSkKqjNRgK+EaBQ4Rsvz0frGhX46u5Rb2RU0KPeLNLshwTCjwCyKLRQoTceYJTYaKAzKmj/Fn5x83dEdhcm8Pm1Q4fW8uuvO1VGQocOXRQqWJl17dpe9uzZpSySihYtJm+9tVQJBPPmLXGIAv5y9XTeli2bpV+/Z+Xqq6+RevVuk7Nns9Vn7Pvvf0guvbSkfPfdt+qz9/btv0jp0lfIVVddpQSMn3/+SXU5depMKVeuvNnDYn8RTIDiRAQHn1MnAQ8EKE7w1iABErAcAYoTlgtZQAP+668/lbXT4483kzffXCodO3aVVq3auPW5Zs2HSoBASjqyLUqVukwaNbpHJkwwCmJ37dpOCRo5C/5BBIG91NChI+WuuyhOBBSoiD+ZQoVZt4Anj3pdowILPMbiFhsJkIDdCCAL0hArY1SGpBYrkUWhi2kzq8q6UXf+7I5G3qF1J5LHyJHRi8xg/K5yFSdWr14lY8aMVBZJderUUz0cPnxImjdvLHXr1pfBg4ebziMlJUUGDOgjhw4dUpnEVaveqK4BG9WEhATH9X744Tv5/vst8sEH7ynrp2LFiknlyterz9vByuowfbLs0DIEKE5YJlQcKAmEjADFiZCh5oVIgATMIkBxwiyS1ujnp5+2SufObaV37+dl0aL5Eh8fLwsWvK6+okGYQB0KpKqjwHaHDk+pdHW9G+z115fL3XffJo0bPyE9e/Zxm7S2dRo3brLUqlXHGkA4SgsQoFBhVpDgUY8aFVisdC2mq7Mp8JXFdM2izX5IILwIOOvUxEhMjGtWlWH/xqyq8IrXhUYTCcLE7t27lJ1T69ZtleWoqzjRo0dn+fvvv2TlyvfdUI0a9YJ89tlaWb16rcTFxV0Io0/fR0Zyq1ZNpVGje6VPn+dzPXfFimVy9OhRtcHn1KlTcuTIYSlSpKgkJMRLXJzxWZuNBMwkQHHCTJrsiwTsQYDihD3iyFmQQEQRoDgRUeF2m+z69etk4MDnVN0JpKOjUPacOS+rHWBIm8dLIApiJycny59//qFeDp96qp0SJ1DIb8SIMW796YLYCxa8xpT1yL2tgjxzChVmAc6rmG5mpmH/RKHCLNrshwTCi0BUlCiBAvZPhlhp7LrHM0+xMrxildtoIkGYgFVSx45tpHjx4tKrVz9p0uRBN3Hi7rsbSPXqNWTUqPG5fhadP3+JXHddBVODiVoSTz/dUp54oqV07drjvL5hKTVgQF/ZuvV7ee215erzNRsJBJsAxYlgE2b/JGA9AhQnrBczjpgEIp4AxYnIvgWQdo6U+W3bfhbYPFx88cWyb99eufnm/8ltt90pM2dOVUUG8YI3bdpslbbeo0cXOXBgvyxbtsoNHnarrV27RtasWecosB3ZdDn74BKgUGEW39yK6WKREotDmZnYUZ0lZ8/S+8ks3uyHBMKNgCFWGgW1XbOqXAtq82dAuETtnJw7BzHJvlZOIA0rp9dfXySLF78p2dnZbuIEPpc2bFhPGjduKj179nULjM7iHT16gtSt28DUoB08+K+0bPm4lClztQwfPlpKlix1Xv8rV74lkyaNkxkz5sr111c19frsjARyI0BxgvcFCZBATgIUJ3hPkAAJWI4AxQnLhSzoA/7007WyZMkCQX0KLEoWL36RejksVKiQuvaqVStkwoTRMn78FKlZs7b6P6fPbz0ZPHhE0MfIC5CAOwEtVOivIlFR+Ls9PbiDGf3o6Gi1QImFSogWuhmLlFlKrEBxTzYSIAF7EshNrMRM9c8AZFZgMwNbfhCIDGFiz57d0rZtS3n22efkwQcfkX/+2e8mThw+fFgefvhuadGitXTu3N0tEF9/vUH69HlGhgwZKQ0bml//bMGCVwR/cG1kFGtbVAj6sE5DPbdp0ybKzJnzpUqV6/PjJuE1I4wAxYkICzinSwJeEKA44QUkHkICJBBeBChOhFc8wm00sHVCzYmZM+c5hobd1G3btpL9+/dJ8+atlGjx1ltvyMmTJ2Xu3EVSuvTl4TYNjieiCFCoMCvc0dEopmvspkYxXd1cMyq4SGkWbfZDAuFHwClW5vwZkO0oqH3mTHb4DdyWI4oMYQJZEp06tZHExCSZMmWmiuT54sQhefjhe6Rly6ekU6dubtHetGmj9O7dXYYOHSl33WW+OLFr128yffok2bJlsxIoHn64sZQsWVKN4ZdfflbfQ52JqVNnO/7flrcjJxU2BChOhE0oOBASCBsCFCfCJhQcCAmQgLcEKE54Syoyj8tNnACJY8eOyvTpk2XDhvVy7txZqVTpeunS5Rm59tpykQmKsw5TAhQqzAoMrF50RgUsYJxChbFIiYwKLCqxkQAJ2JOA688AZFdglzgaBEr8DEBGBbIr2IJBIDKECZBbvPhVmT9/trJFKlWqtIJ58OABVeuhadMW0qpVGyWWo+ZE48ZPSM+efdyAa1unceMmS61adYIRDPnuu29V9sQPP3wnVarcINdff4Oq24ZabqjR9sILo+X22+8MyrXZKQnkJEBxgvcECZBATgIUJ3hPkAAJWI4AxQnLhYwDJgES8IsAhQq/sOVyEornumZUOBcpsx01Krib2iza7IcEwo8AnnkU0o6LixWIlfpnACzfXAtqh9/IrTiiyBEmEJ1u3TqoRf+82tSps1Th6Ro1bpERI8a4HbpixZuq5sOCBa9JuXLlTQ24tm5Cpzt37pB16z6V5cuXSXp6mqrVct115VU2R/36t5t6XXZGAnkRoDjB+4MESIDiBO8BEiAByxOgOGH5EHICJEACPhOgUOEzMg8nYFHSNaMi525qZFTABoqNBEjAngSQQBETYwgVECz0zwAs5LoKFfg3m68EIkuYAJ0dO7ZLSspJN1DI1h0+fLA0bHiP3HPP/VK+fEUZPPh5OXBgvyxbtsrt2FGjXpC1a9fImjXr3OwI8yIPUU0Xgs95XM7vuQoUOBYWTocOHZSEhEQpXLiIFCtWzNcg83gSCIgAxYmA8PFkErAlAWZO2DKsnBQJ2JsAxQl7x5ezIwESuBABvWCGAq/G31lM+0LMcv++czd1jFqsdN1NDZEC1i+0ffGPLc8iAasQMISKGCVU6AVfLOjqgtr4WUChwptoRp4w4YlKzpoTOG7VqhUyYcJoGT9+itSsWVudevjwIWnevLHUrVtPBg8e4Q1kJZ7DJiotLVV2794lu3f/JpdeWlKKFCkqlSpVybOPvEQNry7Og0jABAIUJ0yAyC5IwGYEKE7YLKCcDglEAgGKE5EQZc6RBEjAewIQKChUeM/Lk1AhanES9k+uu6m17QsWKE+fPh3oZXg+CZBAGBPAoq8WKlBcGw3CBGzfdK0a/Exgy0mAwoQrkdzECYgKbdu2kv3790nz5q2kUKFC8tZbb8jJkydl7txFUrr05Re8rVAnCfflsWPHZPDgfrJr16+SmpqqzsPvriZNmkmbNu0lLi7ugn3xABLILwIUJ/KLPK9LAuFLgOJE+MaGIyMBEvBAgOIEbw0SIAES8ESAQoVZ94arUIGaFWhnz2I39WnJzDSK6bKRAAnYlwAWgbUFHApq64ZFZjz/ECyxWMymhYkCIoI/bLmJE6ACu6fp0yfLhg3r5dy5s1Kp0vXSpcszcu215byGlpp6Sjp2fFplTjRqdK/ccktNOXLkiMyePV1w3Zo168gLL4yShIQEr/vkgSQQSgIUJ0JJm9ciAWsQoDhhjThxlCRAAi4EKE7wdiABEiABbwhQqPCGkjfHeLJ9cfrTZwnt6b0hyWNIwJoEYPfkWqtGzwLihBYqIrNWDYWJUN/R8+fPkTfeeE26despDzzwsLIjRFYPald88ska6dz5GZWZoVvOmhOhHi+vRwI5CVCc4D1BAiSQkwDFCd4TJEACliNAccJyIeOASYAE8p2Au1CB4bBOhX9BiYkpqOwzsFCZ059eZ1TQn94/tjyLBKxAAJlUOrMKPw9ca9UYQkWk1KqhMBGs+/XEieOqhgRazjoR/fo9K3/++YfMn/+aJCYmKpuoFSuWyZtvLpXWrdtKu3adZMGCVyQpKVkef7xZsIbIfknAbwIUJ/xGxxNJwLYEKE7YNrScGAnYlwDFCfvGljMjARIIBQEIFVqsMK5HocI/7k5/+liJjjbsTFhI1z+WPIsErEgAwoQhVBh/nEKF0wIOVnD2y6yiMBGM+1VnOSxdukSuvfZaqVHjVjeBAt9v3761+j/UqTh69Ijg2DfeWCKPP95cund/VllHdejQRgoXLizz5i0OxjDZJwkERIDiRED4eDIJ2JIAxQlbhpWTIgF7E6A4Ye/4cnYkQAKhJEChwiza8KTXGRXuhXTPKG962G6gZgUbCZCAfQm4ChX2zayiMBHMOxg1JVq0aKJqRgwcOEyqVLlBli17TWrXrieXX36FDB8+WD799GPp1auf/PvvAVm0aL48+mgTefbZ5xzD6tDhKfW9pUtXSGJiUjCHy75JwGcCFCd8RsYTSMD2BChO2D7EnCAJ2I8AxQn7xZQzIgESCAcCFCrMioKnQrqnT6OQbpYSK2DVwUYCJGBfAoYFHDIq3DOrUJvCECyt+HOAwkQo7ti5c2fJwoXzpEyZqyU9PV1l5KDIdaVKVWTLls3Ss2cXZft08uQJVXeib98BjmHt3fu39OjRWcqXryijRo0PxXB5DRLwiQDFCZ9w8WASiAgCFCciIsycJAnYiwDFCXvFk7MhARIIRwIUKsyKCuyedEYFbKB0cy5QZkl2NoUKs3izHxIIRwJGZpUhVODv1vw5QGEiWPcWfh/g9wMKrCPjBmLE668vkpkzp0lMTIw0anSf9Os30HF51JRAxgTqSowdO0kqV66ivnfo0EFVe2LlyjelW7dn5ZFHGgdryOyXBPwmQHHCb3Q8kQRsS4DihG1Dy4mRgH0JUJywb2w5MxIggXAkQKHCrKhg0QmFtLFAiV3VzgXKbEdGBRan2EiABOxLQAuWECtcfw7g2dcWcGfOhNvPAQoTwbgjUUMCcYeYcOutteXKK69yXGbSpHGycuVb6t+lS18u3bv3ktq166p/79u3V957b5UsXbpYihUrLjfdVEMds2nTRtmxY5vcd9+D8txzTjEjGGNnnyTgLwGKE/6S43kkYF8CFCfsG1vOjARsS4DihG1Dy4mRAAmEPQEKFWaFqEABFNKNVWIFdszqQrpYqILdS2ZmloTfAqVZs2c/JEACIKB/DmihwllQ+6xDqIAdXP42ChPB5t+iRWM5evSoLFjwmpQsWUpmzZouZcteI/HxCbJ3718qg6JUqcukY8eucscdDdVwjh07Jlu2fCOzZ8+QgwcPKKvAsmWvlQYNbpc2bdoHe8jsnwT8JkBxwm90PJEEbEuA4oRtQ8uJkYB9CVCcsG9sOTMSIAErEdBChf4qEhWFv0dZaRJhMVYsSGJxMi7OyKhwChVnVUYFxIr8X6AMC1QcBAnYloD+OaCLarsKFfgZoP+EFgCFiWDzhqjw8suTlR1TiRIXKxFi587tMnjwcKlTp74Sr99+e7lMnDhWLr20pHTo0EUaNrzHMSzUncjIyJATJ06oc5OTk4M9ZPZPAgERoDgRED6eTAK2JEBxwpZh5aRIwN4EKE7YO76cHQmQgBUJUKgwK2oXWqBERgWFCrNosx8SCF8CWqTAV1jCocEGyFWowL+D1yhMBI+t0TPip0Uo1JFAEWyIFY891lR69OjtdvnVq1fJ2LEvysUXXyLt2nWSe+99QE6fPi1Hjx5RogUbCViFAMUJq0SK4ySB0BGgOBE61rwSCZCASQQoTpgEkt2QAAmQQFAIUKgwC2tUlKhiqMiowAJleOykNmt27IcESMBbAsio0jZwrkIFhEpDrMiSs2fNFSoM3QOiiCGMsAWHgC6GPWhQP1m37lMlRCUmJsnUqTOlXLnySqzQMf/ww9UyZswIueiiEtK48RNy7txZ2br1B2nbtqOUL18hOANkryRgMgGKEyYDZXckYAMCFCdsEEROgQQijQDFiUiLOOdLAiRgXQIUKsyMXV47qZFRgUVKNhIgAXsTKFgw2iFUREdHOybrKlRkZ58NCAKFiYDw+XXyt99+I9u3/yIpKSnyxhtLJDExUcaOnSxVq1Zzy7BYu/YjeeGFQY5r1KpVR8aOneTXNXkSCeQHAYoT+UGd1ySB8CZAcSK848PRkQAJ5EKA4gRvCxIgARKwIgEKFWZGDTupdUZF/li+mDkb9kUCJOAPgejoAg6hArUJdDtzJttRrwZ/96VRmPCFln/HumZD5NbDq6/OFdg8xcbGydixE6V69ZslOztbtBj1ww/fyZr/Z+9O4Gyq+ziO/8Y29i2ESkW0IG2yN7aI1CMpS0hZsq/ZGrLvS2RfBhFCRNmTPdWDVFTKVlQoImRfntfvP88ZMyJ3xrl3/vfcz3m9vHhmzj3n/3//bsNzvvf//61Yappn16v3asIGwasQSCQBwolEgue2CFgsQDhhcXEYGgIIXFuAcIJ3BgIIIBDsAgQVblYwesuX5OYhpT6s1EP3MtdPUjsrKvy7N72bs+FaCCCQEAENKfXnQHh4ctNE2dkGTldR6LZPurLqRv1qCCYSIh+/18QOGfbs2SWHDh2Sv/46Jvny3SeZM98iGTNmNBecPn2qTJ483mzp1LfvYClatLicPXvGhBS67ZP2m9Bt/zgQCDYBwolgqxjjRcD/AoQT/jfmDggg4LIA4YTLoFwOAQQQSHQBDSt0G5LoPdPDwvT3sEQfVTAOQLd8cVZUOJ+ydYIKf+1NH4xOjBkBLwtoMBEdVKQQDS+doGLZsmWyfv0GKVq0qDzyyKMSHp4yhoFgwv/viNgrJiZNGieLFi2UI0cOmxtrCFG8eCl59tmqUqxYSfO12bNnyIQJY0zY3LlzN/n1119k48YN0qNHX7ntttv9P2DugIAfBAgn/IDKJREIcgHCiSAvIMNHIBQFCCdCserMGQEEQkeAoMKtWkfvTR/9gPKfe9Ofk7Nnz5tmqxwIIOBdgbAwMZ+w158DPXp0l/nz55vJpkqVSooXLyERERFSuHBRSZcuA82vA/Q2iIoaL++8EyUREWWlYsVKJnzYuPFTWbRogalV376DYgKK999/T6KiJsjJkyfM6HLnziNTpsyMaZIdoCFzGwRcEyCccI2SCyHgGQHCCc+UkokgEDoChBOhU2tmigACoS5AUOHWO0C3e4peUZFCNLRwjgsXdOun82bbl5ttouvWWLkOAgj4R0C3Atq6dYusX79O1qxZI3/++ae5kYaX2tfgiSfKSKlSEZIlS1b/DICrys6dP0jbti3k4YcflSZNWpgVEPpzeO3aVdKjR6Tkz19QRo2aIGfOnJG0adMaseXLl8ju3TvN11q1am+27eJAIFgFCCeCtXKMGwH/CRBO+M+WKyOAgJ8ECCf8BMtlEUAAAasFrhVU6IDZ/im+ZdPtQ5ytn3TLF+dwmuhqWKH7mnMggIB3BfS/8e+++07Wrl0ja9aslgMHfouZrD4gf+KJ0iasuOOOXN5FSISZrV+/Rt54o4MMGvSWWR2hgdGaNZ/I2LEjTQPsKVNmyI8/7pAvvvhMnnmmquTIkTMRRsktEfCfAOGE/2y5MgLBKkA4EayVY9wIhLAA4UQIF5+pI4AAAkbAaah9ZUsi+lQk7K1xpYlu9IqKK010L8asqNDQggMBBLwlEN1jQsPdpGZboV27fpR169bIunWrZffuXTGTvfvu3CakKF++ouifORImoMb683Xx4g9lwIDeMmrURClU6CFZtWqljBkzQsLCkkhU1DRJnz6DjBo1XObNmy0jR46XAgUeTNgNeRUClgoQTlhaGIaFQCIKEE4kIj63RgCBhAkQTiTMjVchgAAC3hQgqHCrrvrgLPaKithBhTbTPnv2nBBUuKXNdRBIPIHYwcS1RvHLL/tNULF+/WrZvn2bCS90K6EPPlgqmTJlSryBB9GdnTDi6iFv2vSFtGvXQurXbyh3351Hxo0baVaqTZo0TTJlymxOnz59immE3afPIImIKBNEs2aoCNxYgHDixkacgUCoCRBOhFrFmS8CHhAgnPBAEZkCAggg4BcBggq3WDWYcJpp69ZPTlChDbQ1pNCw4vz5C27djusggECABK4EE0l82hbvyJHDsn79Wvn775NSq1ZdGjHHs07a0Pr48ePy6quNzStPnTolXbq0l2+++UrSpElr+gCNHz9FsmbNFnPlgQP7yIYN62TYsJGSN++98bwjpyNgtwDhhN31YXQIJIYA4URiqHNPBBC4KQHCiZvi48UIIIBAiAgQVLhVaCeo0LBCf8UOKpwVFQQVbmlzHQT8JxDfYMJ/IwmNK//++yFp0KCuHDt2VBo2bCIvv9zATHzp0kUSFTVeDh06KK1bt5fq1WvGgOg2T6NGvSV33XW39O07WFKlShVrDJ07AAAgAElEQVQaWMwyZAQIJ0Km1EwUAZ8FCCd8puJEBBCwRYBwwpZKMA4EEEAgWAQIKtys1JUVFcklSZLohuSXLl2Wc+eiV1ToLw4EELBLgGAicerx2Wefytixb8vevXukbt1XpHHjZmYg7733rsyaNd2sqihatITkyXOP7N//s2zZstmsphg3brJky3Zr4gyauyLgRwHCCT/icmkEglSAcCJIC8ewEQhlAcKJUK4+c0cAAQRuVoCg4mYFY7/eWU2hv2tzbT10r/UrKyrOS/RDUQ4EEEgsAYKJwMtfuHDB9OnQY8uWTfLWW4Pl55/3Sq1adaRZs9bm66tXr5S1a1fLqlUfm5+b2nMif/6CZjVF9uw5Aj9o7ohAAAQIJwKAzC0QCDIBwokgKxjDRQABEcIJ3gUIIIAAAu4IOEGF87tIWJj+OXo1AEf8BLQ3hdNQO3ZQcf68NtOOXlGhD+A4EEAgcAIEE4Gxdhpga4+OjBkzSdKkSU2ja/1dj6+++tIEFHv27JIXXqgprVq1N1/XPj7agPzEiROSJUsWyZAho6RMmTIwg+YuCCSCAOFEIqBzSwQsFyCcsLxADA8BBP4pQDjBuwIBBBBAwH0Bggo3TfUTw+Hh2qMihSRNemVFhfam0O2fNKwgqHBTnGsh8E8BgonAvis++2yDjB49Qho1aiolSjxhVk7EDii0Cfbgwf3kp5/2yosv1paWLdsGdoDcDQELBAgnLCgCQ0DAMgHCCcsKwnAQQODGAoQTNzbiDAQQQACBmxEgqLgZvatfmyxZUhNSaFjhfIpYgwnd9iR6RcU507OCAwEE3BMgmHDP0pcr6c+z+fPnmHBC+0e8/HJDKVGi1D8Ciq+//kpatGhkLlmt2gvStm1HXy7POQh4RoBwwjOlZCIIuCZAOOEaJRdCAIFACRBOBEqa+yCAAAIIiBBUuPku0HDCWVGhoYVzxF5RoduccCCAQMIFruyepv+NsU1dwiXj98q//jomq1atlIkTx0rmzLdIw4avmRUUyZMnNysoNJTV1RTDhg2UTz9dL7//fkgqV35GunR5M3434mwEgliAcCKIi8fQEfCTAOGEn2C5LAII+E+AcMJ/tlwZAQQQQODfBAgq3Hx/6HZPzooKp3GsXj/2ioqLFwkq3DTnWt4XIJgITI2dHhNX3+348b9Mg+sJE8ZKhgwZpGHDplKqVIT5Weccr7/eSs6cOSP33JNPypevIAUKPBiYQXMXBCwQIJywoAgMAQHLBAgnLCsIw0EAgRsLEE7c2IgzEEAAAQT8LUBQ4aawNtB2VlRoY23nuHDhYkyPCv3kMQcCCFxfgGAiMO8OXd2lP7N05YM2s967d7fZsq5IkeKSNWs2M4ilSxfJ+PGjJU2aNPLqq42ldOlyEh4eLl9/vdWsnKhZs45UrFjZXIcDgVASIJwIpWozVwR8EyCc8M2JsxBAwCIBwgmLisFQEEAAAQT+L6BhhX7KP7p3QliY/s52Kgl5eyRJEhZnRUVYWLSjhhNOjwoNLTgQQOCKAMFEYN4NTjCxY8d30qdPD/n5570xN9aVEho4VKv2otx22+2yZMlHJqDQn11FihSVnDlvl3Xr1siBA7/J8OGj5YEHCgRm0NwFAYsECCcsKgZDQcASAcIJSwrBMBBAwHcBwgnfrTgTAQQQQCAxBAgq3FLXYCL2ioorQcWlmBUVug0UBwKhLXBZLl/WEI8eE4F4H+zZs1uaNWtgVkmUL19RHn+8qGze/F/ZuHGDbN/+jURElJGmTVtJjhw5Ze3aVTJt2mTZtWun6T2RLl166dy5mxQrViIQQ+UeCFgnQDhhXUkYEAKJLkA4keglYAAIIBBfAcKJ+IpxPgIIIIBA4gkQVLhlr8FEihTJTVihD/mcoEI/yeysqNDG2hwIhJYAwUQg63369Gnp16+nbNr0hURGdpdSpUqb22sPiv3795kgYvnyJfL88zWkSZMW5mfVmTOn5eOPl0u2bLdK9uw5JHfuPIEcMvdCwCoBwgmrysFgELBCgHDCijIwCAQQiI8A4UR8tDgXAQQQQMAegWsFFTo6tn+Kb410pyd96BcensIEFrGDinPnzovzK77X5XwEgkuAYCLQ9dJG1q+++pIJGoYPH2Nur6u3kiWL7pVz+PAfMmhQP9m6dYu8/fZYuf/+/IEeIvdDwGoBwgmry8PgEEgUAcKJRGHnpgggcDMChBM3o8drEUAAAQTsEIgbVJiIgj4VCS6NBhTRv1KI9qzQ49Kly3L+/Hk5e/acCSs4EPCWAMFEoOupqyN++mmv1K9fS4oXLyX9+w8x28vpz53Yx4oVS6V37zelRo2XpEWLNoEeJvdDwGoBwgmry8PgEEgUAcKJRGHnpgggcDMChBM3o8drEbBL4Pjx47JkyYeSIUNGKVv2SfN/8J1PQNs1UkaDgD8FNKhwworo+xBUJNw7efJkMSsqkiRJYi6kDxWvrKg4J1eaByf8PrwSgcQTIJhILHtdOdGiRWOzQmLatNmSPn16cZpka+PrpEmTytGjf0rVqpXk2WerSfv2nRJrqNwXASsFCCesLAuDQiBRBQgnEpWfmyOAQEIECCcSosZrELBTYPv2bdK/f0/Zt+9nad68tdSsWcc8RCSgsLNejCoQAgQVbiprUKGhp/apiB1UaG8KZ0WF/szhQCB4BAgmAlErJ2i4+t8k+r9HjBgi8+bNkQoVnpKWLdtLxowZ42zttGHDOunSpb0JJqpWrR6I4XIPBIJGgHAiaErFQBEImADhRMCouRECCLglQDjhliTXQSDxBRYunC9RUePNpwyfe666tGrVPmbf5sQfHSNAILEFCCrcrIDuCa8hhYYVSZNeWVGhQYWuqtCwgqDCTXGu5b4AwYT7ptFXjN03wvmzru5ctGiB/PLLfsmRI6c88khhyZ+/gNkurnnzRvL9999K2bLlpUWLtpI1azZznd27d8mUKRNMz4kBA4ZJwYKF/DVkrotAUAoQTgRl2Rg0An4VIJzwKy8XRwABfwgQTvhDlWsiEHiBkydPyujRI8z/8deHhro1wrx5i+OEE84DAj0vU6bMUr16jX/s7Rz4kXNHBBJDgKDCTfVkyZLGrKjQbVj00GDiwoWLMSsqdKsWDgTsEXCCCQ3WosM1DncExo8fLefOnZXGjZtJ8uTatyaJ/PXXMWnZ8jXZu3dPzE2yZ88prVu3k5IlI+Tw4cPStWtH+fbbbSaYKF68pG7IJ1u3bjarQVu2bCsvvljbnQFyFQQ8JEA44aFiMhUEXBIgnHAJkssggEDgBAgnAmfNnRDwp8APP+yQnj0jJUWKcEmVKqXs3r1bBg8eLoUKPRzntrq1QunSRSVlypQyf/4SSZcunT+HxbURCAIBggo3i6ThhLOiQkML54heUXFOzp49b/aU50Ag8QQIJvxl/+uvv0iHDq1l//59UqdOfalfv4EkTZpMunXrJLt27TR9IwoVekg2btwgM2a8I6lTp5bOnbtJmTLlzWqLoUMHyubNX8jBgwckPDxc7rortzz77HPmFwcCCPxTgHCCdwUCCFwtQDjBewIBBIJOgHAi6ErGgBG4psDixR/KoEF9pWnTlvLnn3/KrFnTpU2bDvL88y+aB4H6KWZ9aLhhw1rp0uV183/0O3R4g54UvJ8QiCPgBBXO7zTTvpk3iG735PSo0BVdzqEPITWk0LDi4kWCipsx5rXxFSCYiK9YfM/ftOkLmTZtsnz11ZdSq1ZdqVbtBWnbtrk8+eRTUr9+w5h+NfPmzZbhw4eYEKJjx0ipUKGSuZUGHEePHpW0adOaX1myZI3vEDgfgZARIJwImVIzUQR8FiCc8JmKExFAwBYBwglbKsE4EEi4wKlTp2TUqLdk6dJF0r//ULMlQv36tcxWCb17DzBbOzlbOnXt2knWrl0lffoMkoiIMqIrKXTLBZpmJ9yfV3pVgKDCzcrqzxlnRYU21r4SVFw0IYX2qdBtoDgQ8J8AwYS/bFesWGqCyNKly5lbfPnlZpk8eYJ8/fVWefTRwrJz5w8yadJ002tC/3vXc/VYsOB9s1pCt3/q0KGLVKpUJc4Qr26g7a/xc10EglWAcCJYK8e4EfCfAOGE/2y5MgII+EmAcMJPsFwWgQAK7Nz5o/Tu3U2SJUsugwYNl7Awkddee0XCwpLIjBlzzYoJZx/4cuVKmH4TUVHTJUOGjAEcJbdCIJgFCCrcrF6SJGHm4WSKFMlFgwonHNWw1GmmTVDhpjjXEiGY8Ne7YMeO76VRo3qSO/c90rDha1KqVGlzKw0mpk6dJF9//ZWcP39OunfvI2XLPmk+EKH/rTv/Llm0aKEMHNjH/Exo166TPP30s/4aKtdFwHMChBOeKykTQuCmBQgnbpqQCyCAQKAFCCcCLc79EHBfQFdM6JZOL7xQS15++VVJkyat9OzZVVauXG5WUpQs+YS56WeffSodO7aRp556WiIje5jtnn76aY+cOHHS7AHNgQACvggQVPii5Os5GkxoSBEenuKqoOJSzIoK7VfBgUDCBQgmEm5341eeOvW3zJ8/1wQRd9yRS15+uUHMCgrd2mnmzOny+eefSpky5aRVq/Zyyy1ZzEVjBxTLly+RPn26m6+PGzdF8ucvcOMbcwYCCAjhBG8CBBC4WoBwgvcEAggEnQDhRNCVjAEjEEfgzJkzMmrUcFm8eKH06zdYihUrab7//vvvyYgRQ6Vt247y3HPVzSeTncBCP71YvnxFOX36tLz11iCzHVSPHv2kXLkn0UUAgXgJEFTEi+sGJztBhYYV+stZUaFBqrOigqDCTfFQuBbBhL+q/NlnGyRv3ntNTwj998RHHy2QceNGmoCiXr0GMf+m2L59m7zzziT5/PONZtumFi3aSPr0Gf4RUGjvrN27d5oAgwMBBHwTIJzwzYmzEAglAcKJUKo2c0XAIwKEEx4pJNMIWYE9e3ZJr15vim6Ton0kcua8zVjs3r3L9J0oUKCgjB072XztySefkHTp0smkSdMkc+Zb5ODBg9KpU1uztULXrj0ld+48Mb0p9HuHDh38x4oKelSE7FuNid9QgKDihkTxOEG3p0uePHpFxbWCCg0r9BcHAtcXIJjw17tDe0q0bt1UmjZtKTVqvGT+HaEBxZIlH8no0SPMv0V0Jac2wdZjx47vZMqUibJx4wbT+Lply3aSMWP01pIaPupWTxwIIBB/AcKJ+JvxCgS8LkA44fUKMz8EPChAOOHBojKlkBJYsWKZDBjQ26yOaNSoqaRMmdLM//jxv6RNm+Zy4sQJmTbtPfnuu+3Spk0zs2JCV05ok8kvvvjMbPP07LPPSevWr5sHgc5DgjlzZsrIkW+Z7RlefbXxNR8caFChh7NvdEjBM1kEbiigYcUl0b3u9QgL09/DbvgqTri2gLOaQn93HmTqz7ErKyrOy+Voag4EzH93ly/rf2/60JsH326/JX75Zb/897+fS8GCD5rVE85x9uwZWbp0sYwePdysqKhfv6FUrFjZfPvHH3fI1KlRsn79GtN7ok2b100PLD1ofO12hbheqAgQToRKpZknAr4LEE74bsWZCCBgiQDhhCWFYBgIJEBAHwKMGzdaPvhgrvTpM1BKloyI83/ye/SIlE8+WSHTps0253zwwfvSrVsv86lF3Q5q4sSxMm/ebOnUqavZasEJJi5cuGB6WOge0MOHj5GHHnrEbK/yyiu15ZFHCkvjxs1M40pny5UEDJ2XIBBiAgQVbhZcm2g7KyquDiqcFRX6sJMjVAUIJgJRef23QrJkycytoqLGmxDi9tvvkLNnz8rHHy+Tt98eJpkzZ5Z69V41/8bQfzPoqk7tTbFmzScSEVFWWrduL1mzZgvEcLkHAp4UIJzwZFmZFAI3JUA4cVN8vBgBBBJDgHAiMdS5JwLuCOzc+aN069bZPKTr12+I3Hbb7XEurA2xtc/EK680ktmzZ5hVFVFR75pPM/7++yHp0KGNXL58Sbp37yt58twTs6WTbhUVGdnRPHQYNWqCZMiQUQ4fPizPPVdJ8ucvKEWKFJNt274x369S5T9SvHhJ82fnk48acuifr15RoVs+6AOJjBkzSbFiJdxB4CoIBJ0AQYWbJdOgInpVRQpJmjT6E/L680d7U5w9e86srCCocFPc9mt5N5j4+uutMnnyBPnuu2/l0qWLZsWCrm6M/ffpX38dMx9a2LhxnZw6dUoKFHhQmjVrLXnz5vNb4bTXhH6goVChh6VLlzfNv0XOnTtnPhwxYsQQSZcug9niSQMK/XfBnj27Zdq0yeb7zZu3lpo16/htbFwYAa8LEE54vcLMD4H4CxBOxN+MVyCAQCILEE4kcgG4PQI3IaDbKgwc2EfuvPNuadaslaROnTrmwZx+QlH3eG7VqqnpR/H3339LREQZ05dCH9Rt2bJJ2rdvaR4WaNPs8PBw0W2a9MHBokULZODAvmYf6SZNWpjgYf78uaZ5tn7CUUOOe++9X77//jv59df90rBhE/OARA99IKEPCa917Nv3k7Rv31ouXDgvw4aNkrvvzn0Ts+elCHhB4FpBhc6L7Z8SUt1kyZLGrKhwwlH9eaef8D57VntUnJNLl1hRkRDbYHlN9IIZ723lpH+fv/baK5IjR0555pmq5u9lbSC9d+8es3JSVyGcP39emjdvJPoBA/37Wz8IMHfuLLPNo34w4eoPMLhVU+1RNWPGO7Jw4Tx54IEC8sYbb0quXHeZ8axevVLeemuw+feJrqB4+ulnzdh1jNq3onr1mm4Ng+sgEJIChBMhWXYmjcC/ChBO8AZBAIGgEyCcCLqSMWAE/iEQe2sF55tO0NC4cX35/vtvTWDQpk0H81BDz9dPX+rDhNdf72K+FnvVgwYe2tRSt3R65JHHzFYMzZo1lG3bvpaWLdtKtWovmocLW7dukR493pAsWbJJ5cpVZP/+/bJ162bzQER7YJQo8YTpY+Ecus90797dpXLlZ6Rx46aSOnUaqokAAjECcYMKE1HQpyLB7w8NJ8LDo1dUaGjhHLqiQkMKDSt0lReHdwS8GkxohfTv4H37fpZZs+ZLunTpTNF0e8Z69WqYXitz5y40HywYMKCPDBgwTEqWfMKcc/jwH1K7dnUpVSrCbOt4s8f1mlf/8cfv5t8U8+bNkfvue0DeeKO7+QCC/ntj7drV8tZbAyU8PKXUrVtfKld+9rofYrjZ8fF6BEJNgHAi1CrOfBG4sQDhxI2NOAMBBCwTIJywrCAMBwGXBXSrBd1yQbdyGjt2smTPnt3coV27lrJly39l9OhJUqBAQdH+FfrgQPeD7tq1owkk9HuZMmWSY8eOyTPPPGk+sTlnzsI4I9RPcmqz7ezZc8odd+SSnDlvM422jxz5Q9q372w+Jek8RJk8ebzMnfuedOnSXSpUeMo8tNAHiPSucLnoXM4DAhpUOGFF9HQIKhJeVt3uSUMKDSucPfL1arFXVFy8SFCRcOHEf6WXgwn9+7lixdJmpaP2iIp9vP32UJkzZ5YsWLBMevfuJvv375P58xfHOadfv55mBcOiRSvNKsmEHs6HHvT1GpT8+ecRSZMmjWTLdqvZ/vHo0aMyffpkef/92XLPPfmka9cekjt39JaRGzasleHDh8iRI4elf/+hMeFJQsfC6xBAIFqAcIJ3AgIIXC1AOMF7AgEEgk6AcCLoSsaAEYiXwK5dO/+/53N66ddvcMxrnZUQUVHTJV+++2K+risqpkyZKC++WEuaNm1lHuQtWPC+DB06UGrVqmu2j3JWauhWEc8/X8V8CnnIkBFSuHBRszXUjh3fS7t2zeXuu/NI376D5JZbsohuQdW9+xtmi6lOnbrJPffkjdc8OBmB0BUgqHCz9tpA21lRof0qnOPChYsxKyr05xhH8Ah4OZjQKuhqhQMHfjN/H996a/QHDJxDA4nly5fKRx99LLVqPSePPFI4zt/1ep6uZtBtGSdPfjfO3/fxqXDsFROTJo2TZcsWy6FDB80lOnaMNCsw9dCeF9OnTzXbSd11V24TUGhvDP13g/ac0hWUPXv2j8+tORcBBP5FgHCCtwcCCFwtQDjBewIBBIJOgHAi6ErGgBFIkIDzYMEJFvRTlP369ZIcOXJI7dr1JG3adObhx9ixb5t9orUnxGOPPW5WNege1t9885WMHDleHnrokZi+EtrMskePSClb9knp2bNfzNf1Hs89V9kEFUuWfGLGq5+a7N37TXn00cfNSg39dKeuxNAtnnRVBwcCCPgiQFDhi5Kv52hQoc20w8Ojt35yVnHpzy6nR4WGFhz2Cng9mPg3+cOHD0vNmlXN1ooaPFSo8IRUr17DbOEY+9BtlSIjO0j//kOkVKnSN1XMUaOGy/vvvydFihQzf58fO3ZUXn21cZwVSbractas6TJ79gyzojIysqfcd9/9JmTR/+Y4EEDAPQHCCfcsuRICXhEgnPBKJZkHAiEkQDgRQsVmqgjEEjh58qTMmTPTbAehDar14cbFixfMpxvTp09vwgld8XDixAmpXLms5MmTVyZOfMf0kHC2dtCVEKtWfSwDB74lxYuXjAkntNl2587tpWDBQjJs2EjRe+lDiqlTJ5ltnFKmTCW5ct0pu3fvNP0pOnfuJoULF7lmfbQXhh5s/cTbF4GrBQgq3HxP6M8YDSk0rNAVFVeCiksxKyr05yOHPQKhHEzoe7F9e92ecZNERvYwKxerVn1KXnrpZWnatGWcIn3++UZ5/fVW8uabfcyWigk9NOTo37+nVKhQyayk1A8YOMemTV/I6dOnzdfy5s1n/u0wc+Y0E2QkTZpMxo6NMj0oOBBAwF0Bwgl3PbkaAl4QIJzwQhWZAwIhJkA4EWIFZ7oIXCWgD//14YaunDh9+pR52KGNM7t27WWCiKVLF4nuV12jxkvSokWbmC2d/v77pNSq9bxZZfHhh8vNuc6nIp2toVq3bi/Vq9c0Wzppk+2vvvpSXnihprzySmNzL32YMWzYQLPlg+5Brf0t/u2Ivd81hUQAgdgCBBVuvh80mHBWVMQOKvRnnLOiQhtrcySeQHQwESYiV5qdJ95oAntnDSZ69HhD1qxZJeXLV5QePfqaxtdVq1aSOnXqS5MmLeIMSPtA6d/t3bv3kSefTHg4MWHCGNNPYty4KNNL4uzZs/LNN1tl6dLF8vHHy8w9despbYat99F/J+i/B3SrxxEjxsZZXRFYMe6GgHcFCCe8W1tmhkBCBQgnEirH6xBAINEECCcSjZ4bI2ClgAYGuppBe0LoA7pXXqkt2rdi+PAx8uijhWNWR6xdu0q6du0Us6WTs12UfnJSV0189dUWmTHjfbn99jvks88+lTff7CwlSjwhLVu2NSsynGP8+NHy7rtTpU+fgRIRUTbm68ePH5efftpjgg3dDkIfhHAggIAvAk5Q4fxOM21f1K53TliYmGbaGlboL2dFhQYV586dN2GFhrQcgRMI5WBC/47Vv3u/+GKjFC1a3AT7+uEADQK0abZ+IKBNm9fjFMPZ1mnQoOFmlWN8D/0Qg77vtW/FokULTRjywAMFRMOK9evXijbsvv/+/JI7dx7zgQb972XChHfktttuNwGGBha6apIDAQTcFyCccN+UKyIQ7AKEE8FeQcaPQAgKEE6EYNGZMgI+CujDt0GD+srPP+814UR4eMqYlRO6mkIfQvTtO1ieeKJ0TGjx9ddbpVOndpInzz0yevRE89Bi6tQomT17pmnSqQ9T9HBWWTgrM/STlpUqVTHfW7lyucyY8Y4JRfShhgYfuh1Eo0ZNpWTJiH9s8aTf1wcfbP3kY2E5LYQECCrcLvaVFRXJJUkS/eS+/jy7bIKKc+fOmd85/CcQysGEbpXUoUNr2b79GylZ8gnp3XugCSac46mnypgtEnv3HhCnAE5D7ClTZpiVigk9Nm7cIJ06tTUvDw8PN8GDbtHYtGkruf/+B8wHD8aMGWG2ixw3bor5YAEHAgj4V4Bwwr++XB2BYBQgnAjGqjFmBEJcgHAixN8ATB+BeAg4n548deqUVKpUxoQBy5evMaGFs+XStGmTZeLEsdK8eWupWbOO/Pbbr9K7dzcTMPTrN0SyZs0mznX01kuWfCT9+/eS9u07SdWq1U3j7MjIjpIxY0az/VPatGnlzz+PiD5c0fv16tVf8uW777qNNfU+2nCTppvxKCynhogAQYXbhXZWU+jvzs8c/fkWO6j4f9sct28dktcL5WBCg/7WrZuZYKJixUrSpUv3f2yTpN8/ePA3mT17QZz3h36YYOXKFbJixdqb3lppzZpPZMaMaXLrrbeaXlTPP1/D9KlyDr3X5s3/lZEjx5uVExwIIOBfAcIJ//pydQSCUYBwIhirxpgRCHEBwokQfwMwfQQSIKANrseNGykXL16STp0iY1ZT6MOTbt06i+5vPX36bMmV6y7zZ22crSsmOnToImnSpI0JJzRIGDp0oCxd+pEMHjxc7r47j9kS6o8/DkmvXgOlUKGHYkb3ww87pHHjl6VcuQrSpcubMZ8WbdeupZQoUUqefLKipE+fIQGz4SUIhKIAQYXbVdfeFLqdTXh43KBCt3yK7lNx3vzs40iYwJVgIsn/e00k7DrB+qohQ/rLggXzTDARGdnzmgG8fl/PGzx4hBQrVsJMVXtR1K5dXUqVekK6devtyvT13wD6wQE9nC0d9c+rVq2Ut98eKvfee5/06jXArK7gQAAB/woQTvjXl6sjEIwChBPBWDXGjECICxBOhPgbgOkj4IKAs2pCG163bPma+TTl1KkzzZZOc+a8JxMmjJb77ntAJk58x9zNOf+777abVRK6FcSwYaNE+1jogw1tzl29eg2zh7V+8vLWW7Ob13Xs2FZ27PhO5sxZKClTppRff/1FatZ8zux9nSVLFtm9e7c8+GAhefnlBnxi04W6colQESCocLvSuh2dhhQaViRNqg/TxQQT2kRbt37SsIKgwnf1UA8m9O+6WrWqSbJkyU0/iWs99C9VqrR5vzVoUNesWKxdu66kS+gzOEIAACAASURBVJdO5s59T7SH06RJ01z7e9FZ/bhlyybTCDt79hxy6NBB82EEfe+PHRsVp7eU75XmTAQQiK8A4UR8xTgfAe8LEE54v8bMEAHPCRBOeK6kTAiBRBP4669jMnPmdMmRI6dUrfq8CQ/69HlTvv12u9nOSftKaFNtPfRhiTbXXLXqY2nWrJXUqPGS2f5pxYplkiVLVvNpz9SpU0v+/AXl4YcflQIFHpT3339Ptm/fJkOHjjQNuz/88AMZPLifaeB91113S6ZMmeXLLzdLx46Rpg/Gvx2xt5ZKNDBujIB1AgQVbpckWbKkMSsqnKbA+vNHP3EevaLinOlZwXFtgVAPJlRFtz/U7ZL+7XjvvQ/k9tvvkKNH/5RRo4aL9oe4fPmSPPBAQfN3rP6d6eahfaM+/3yjdOvWybyHM2TIYD6E0KlTV/P3PQcCCARGgHAiMM7cBYFgEiCcCKZqMVYEEDAChBO8ERBAwF8CBw78Jl26vG7ChQMHfpX9+/dJ+fIVTe8I3ZNam2driNC9e1/zcCMysoP89ttvMnfuQhNs6CcytTn2zz//JClTppIzZ06bhy+6ykIDEN3SadOmz6VNmw7y/PMvmsBj376fpUCBgj5PSVdx6OE8NPT5hZyIQEgI6EPzS/q5fzPbsDD9PboJNEf8BfTnjLOiQkML54i9okIf+nJECxBM2P9O0L+fjxw5bPpE6QqK1KnT2D9oRoiAhwQIJzxUTKaCgEsChBMuQXIZBBAInADhROCsuRMCoSqgnxDes2eXvP32MBNIaDihWzn95z/V5Nlnn5PMmW8xNO3bt5Jdu36QMWOi4mw/odtFrF69UjZsWGdeq402NfioXft509dC/3fshpz/5qyfWNZPlv7++yG55558N2wOumzZYnPfVKlSSenS5Ux/Cw4EQlOAoMLNuut2T06PCt0Kxzlir6jQvj6hehBMhGrlmTcCCMRHgHAiPlqci0BoCBBOhEadmSUCnhIgnPBUOZkMAtYLaCigKyi0L4V+0jL2MWbMCJk1610ZNmykFC5cNM73dGWFPsg7e/as2W97wYL3TTPtunVfkcaNm8Xs367hxdWHfhI5SZIkJiCZPn2q2frp1KlT5rTChYtIjRq1pVChh2MadevXtYnt+vVrpXv3Lqb5tgYoGpJoEPLQQ49Y78wAEfCvAEGFm77688lZUaGNtZ3jwoWLMT0qnFVebt7X1msRTNhaGcaFAAK2CRBO2FYRxoNA4gsQTiR+DRgBAgjEU4BwIp5gnI4AAn4T2Lt3j3Tu3E7OnDkjjRo1lQcffMhsEzFz5jRZvfoTqVixslSr9oJphq2rLL75Zqv06zfEBAxOAHG9welKi9dee8WsmihWrKTkynWnnD59yjThTpcuvdla6r777o/z8p49u8qmTV9IkyYtJF++e832Uk8++ZTf5s+FEQhOAYIKN+uWJElYnBUVTuCq4YTTo0JDC68eBBNerSzzQgABfwgQTvhDlWsiENwChBPBXT9Gj0BIChBOhGTZmTQC1gps2LBWRowYKn/+ecQEE9pH4tixo6ZJdseOb5hgQVdf1KpVTe69934ZMGDYdbd0cppeHz16VMaPH2Wair78cgNp0OA1M39dHfHZZ59Knz7dJVu2WyUqarpZldGuXQtzj8OHD8sDDxQwKzk4EEDAF4G4QYW+gj4Vvrhd+xwNJmKvqLgSVFwyKyrOnTsv2q/CK0d0MKGH9uOgt4lX6so8EEDAfwKEE/6z5coIBKsA4USwVo5xIxDCAoQTIVx8po6ApQInT56UVas+NqsWtIFs/vwF5aGHHpa8ee81I166dJH069dTXnrpZbOq4XqHE058/vlGE0AULFhI2rbtYIII3dfd2ed9wIDepvH20KEjzb2mT59i7nHw4AGz1VPu3PdIy5Zt5dFHC5ueF1cfzn3067pCQ1dn6CqQDBkyyiOPPCapU6e2VJphIeBPAX3S7IQV0fchqEi4t/7sSZEiuQkrdKs552eRrhrTkOLs2XNBHVQQTCT8vcErEUAgdAUIJ0K39swcgesJEE7w3kAAgaATIJwIupIxYARCSkC3MtGAQg8nBGjRorF8++02s2qiSJFi/7qlkz64mzFjmkyYMFo6dYqUSpWeibmeE1BMmjRO3nknyny/SpWqZtXE4MH9ZNu2b6RYsRJy6tTfphl2pUpVrhtM6OqMWbOmyUcfLZSTJ0+YQEIftl28eMEEFDVr1pGHH37UPFC8VsARUkVlsiEoQFDhZtE1I9WAIjw8hQksrg4qNKzQX8FyEEwES6UYJwII2CZAOGFbRRgPAokvQDiR+DVgBAggEE8Bwol4gnE6AggkqoA2xO7bt4f88cch028iU6bMcRpZXz043bpJt4lavnyJ9O49QIoWLf6P8Q8c2EcWLVooo0ZNlEKFHpLvvtsuXbt2knvuySft2nWUtGnTmdekTZv2mvc6ePCgtG3bTH75Zb/cd98DUrt2XUmZMpUcOXJY9u7dbVZlpEiRUrp27WEabztH7BUXiYrKzREIqABBhdvcGlBE/0oh2rNCj0uXLput63RFhc1BBcGE2+8GrocAAqEkQDgRStVmrgj4JkA44ZsTZyGAgEUChBMWFYOhIICAzwI3aoCtF3JWXURGdpD169fKyJHjTTigKyZ0NYZ+2liDhT593pT9+/fJuHGTTZ+LhQvnybBhg6RhwyZSt+4r/7qVk27jNGHCGBNAVK1aXVq3bh+zXZQzhs2b/ysagOge8TNnzjM9MpyxrVu3RvLnLyC33JLF57lzIgLeESCocLuWyZMni1lRkSRJEnN5DUKd1RT6u/5vO47Lcvmyhin0mLCjHowCAQSCTYBwItgqxngR8L8A4YT/jbkDAgi4LEA44TIol0MAAesEoqLGy9Spk6RPn0ESEVHGjM/Z0mnx4g9l0KC+Ur58RenWrZccP/6XDB06QDRQ6NGjrxQuXPRfV2bMmPGO6PUfeugRadeuk9x++x1mmyl9+OdsR6X3mzNnpowc+ZY0bdrKrKzQ49SpU1KxYoRkz55TZsyYaz71zIFA6AoQVLhdew0qovtU6IqKK0GFNtF2VlQkXlBBMOF2vbkeAgiEngDhROjVnBkjcCMBwokbCfF9BBCwToBwwrqSMCAEEHBZQJtTv/baK5I5c2azsqFAgUKSLl062b59m/TsGWkaX48fP0UeeKCA7NjxndnSKVeuO6Vjx66SPXv2f4QTznZMx44dky5d2ssPP3xvgg3tS3F1Pwnn3C1bNkm7di3MtlL9+w81DwpXrFgmvXt3k+rVa5px+bIaxGUaLoeApQJOUOH8TjPtmy1UsmRJ/7+iIoUkTRo3qIheVXHObAUVmINgIjDO3AUBBLwuQDjh9QozPwTiL0A4EX8zXoEAAoksQDiRyAXg9gggEBCBVatWyrBhAyRJkqSml8Tff5+UnTt/kGTJkku1ai9IkyYtzFZLS5d+JIMG9ZNXX20sderUj7NFkzNQJ0T44ovP5I03Xpd7771fevXqL1myZL3uXLRhtq6eyJIli1SoUNmEI+3atZRNmz6XwYNHmNAidvPvgKBwEwSCQoCgwu0yaVChK7XCw5PHrPDSIPXChYsxKyr055x/DoIJ/7hyVQQQCEUBwolQrDpzRuDfBQgneIcggEDQCRBOBF3JGDACCCRQ4Icfdph+Etu2fW0aVt95511SunRZKVkywlxRA4RRo96SjRs3mC2dihQp9q93crZqqlHjJWnUqImEh6f81/NPnz5tVkyEh4eLNvYuX76k3HFHLpk0abqkTp065rU0yk5ggXlZCAgQVLhdZN1+TkMKDSs0tHAO3fpJV1To9k/uBRUEE27Xj+shgEBoCxBOhHb9mT0C1xIgnOB9gQACQSdAOBF0JWPACCDggoAGEZkyZYpzpR07vpcePSIlR44c0rGj/p7zuv0mNECYNetdGTv2bWnZsp1Ur14jZk/3fxues+pCV3J0795F/vOfavL6611MWHHkyGHJmfM2F2bHJRAIBQGCCrerrNs9OSsqkiVLFnN5XVGh2z5pUHHxYkJXVBBMuF0vrocAAggQTvAeQACBqwUIJ3hPIIBA0AkQTgRdyRgwAgi4JHD1CgUnMHjxxdpmm6fkyZNf807O9kszZ06TsWNHmnDixRdr/WvjbOdCzms7d24nn366Xvr3H2JWbmgwEhnZQbJnzyF9+w6WjBkz/uPebPvkUuG5jAcFCCrcLmr0Kq/oFRXaWDv2zzCnmbaGFr4dBBO+OXEWAgggED8Bwon4eXE2AqEgQDgRClVmjgh4TIBwwmMFZToIIHBTAj/9tNesgNCG2Dc65s2bLcOHD5F27TrJc89Vv2FD6wsXLpgeFvq7bul0663ZzZZO2n/i44+XmV4XlSo9LU2atDTbPDnn//nnEcmc+ZYbDYfvI4CAESCocPuNkCRJmAkpUqRIboKKsLAwcwsNTJ2tn64fVDjBhDbhjm7EzYEAAggg4I4A4YQ7jlwFAS8JEE54qZrMBYEQESCcCJFCM00EEHBdYP/+fVK37otSoMCDMnTo26bnhG7b5Dy4c37/8ccdcuedd5teE3qsW7fGrJKoUuU/0qlTV9FeFBMmjJH58+dInz4DpVSp0uY8Zwsop3H25MnvSt689/5jHvqAUA/dO54DAQRiC2hQYf5r+n9oIRIWpl+LfrjOEX8B/bmmIUV4ePSKCv3fr732mnz//fcSEVHa/CpQoKAJYjUounxZrQkm4i/NKxBAAIEbCxBO3NiIMxAINQHCiVCrOPNFwAMChBMeKCJTQACBRBHQlQ3Dhw+WhQvnm9UTVas+HxNMOAPSrZu6deskOXPeLsOHj5EsWbJI164dZe3a1dKrV38pU6a87N69SwYM6CVnzpyR/v2Hyu233xETTPz990l56aUX5NSpU7J48cqYraZOnjwpf/zxu1nhca1QwtkC6sCB3+Tbb7eZB4WlS5dLFCduioA9AhpMEFS4VQ8nqBg7drRMnz7d9KXQQ/v5lC5dWooXLyWPPVZEkiePDmY5EEAAAQTcFSCccNeTqyHgBQHCCS9UkTkgEGIChBMhVnCmiwACrgpoE+t+/XrJ1q1bpHz5CqZ/hIYLqVKlkjVrVsm7704x2548++xz0rJlW9OXoly5knLLLbfIpEnTJEOGjLJy5XIZMKC3PP30s2ZLJ32ts6XTmjWfSLdunaVs2SelZ89+JsD44ovP5N13p4oGD9rA9t57HzANuR977PGYptxOOKErNHSlRo8efaVcuQo+9cVwFYiLIWCtAEGFm6X5+++/ZdOm/5qfN+vXrzeBqh5p06aVEiVKSUREOSlSpKhZYcaBAAIIIOCOAOGEO45cBQEvCRBOeKmazAWBEBEgnAiRQjNNBBDwm8CePbtlzpyZsnr1Sjl//oKkTJnShAunT5+StGnTSd26r0iNGrXNCocNG9ZJly7t5amnnpbIyB5y9uwZmThxnMydO8uED87qBidc6N27m6xYsSxmlYX+eciQ/pI5c2YpWrS4CSM2btwgJ0+eME28q1SpaubpNPt+6qkypn/FhAlTJUuWrIQTfnsXcOHgFiCocK9+l+XMmbOyadNmWb16lXz66TrRlV56aPBatGgJKV26rBQrVkJSp07j3m25EgIIIBCCAoQTIVh0pozADQQIJ3iLIIBA0AkQTgRdyRgwAghYKnD06J+yevUnsmPHd+bTwXnz5pNHHy0st912e8yIe/SIlE8+WSHdu/eR8uUrys8//yT9+/eS48f/Mls63XnnXTFbOuknj2vXft6EHB9+uNxcc9y4UTJjxjumN0VERFk5depv2bfvZ7O6QrduGjx4hGTPnkMmT54gy5YtNls/aeDRu/cAS9UYFgK2CcQNKnR09KnwtUb/7DFx/vx52bJlk6xdu0rWr18jx44dMxfTBtuFCxeRypWfMT/LOBBAAAEE4i9AOBF/M16BgNcFCCe8XmHmh4AHBQgnPFhUpoQAAoku4Kx8uHog5cqVkMyZs5iVDLov+/bt20xz7IIFH5QOHd4w2zzpvu364E77Umh/Cn1wp2GEXlO3edKAIyKijLRv31kyZcpsbvH220Nl7tz3ZMyYSVKwYCFZvnyJWWGhKzj0V8mST0jTpi0lV6674gxJm27rL13V4TTwTnQ8BoCANQIaVDhhRfSgCCquV5wbN7/Wn0XffPOV+TmmP990Wzw95s9fLNmy3WpN1RkIAgggECwChBPBUinGiUDgBAgnAmfNnRBAwCUBwgmXILkMAgggcAOBH3/cIQ0a1DXbmQwaNNycfejQQale/RkpVOhhGTVqQpwr6PZPug2U0zhbv6kNsgcP7m9WX2hvi/r1G5qVEeHh4fLTT3tNg2zd6kmPihUjJGnSZFKhQiUTPLzwQk3JmfM28z29zuXL0fvBcyCAgC8CBBXXV7pxMHH1azUU/fbbbfLXX8dMrx4OBBBAAIH4CxBOxN+MVyDgdQHCCa9XmPkh4EEBwgkPFpUpIYCAtQLa0Fq3NcmePbtZsaC9Ijp2bCu7d+80QcPjjxczgYGufIiKGm/6VyxcuNz0jTh69KhZbfHbb7+ahthLly6SNGnSSNWq1aV27XrmHKeR9tdffyUtWjSSJ598St58s7ccP35c0qdPb5rU6nV/+OF7+f33Q5I+fQYTXmgPDP2+06vCAbz6f1sLy8AQCKgAQcUV7vgHEwEtFTdDAAEEPCxAOOHh4jI1BBIoQDiRQDhehgACiSdAOJF49twZAQQQUIEvv9wsgwf3k19+2W/6U+j2TdpnQoOEIkWKmV4Uhw8flgkTRkvevPeaFRB6bN78X5kyZaLZJqVKlf9Iu3adJHny5OZ7Awf2lUWLFkiXLm+aPd310JUbI0YMNefrdXTlhfbJ0B4ZxYuXlO7d+8asuri6MhpS6C9nVQaVQwABRyCUgwqCCf47QAABBBJTgHAiMfW5NwJ2ChBO2FkXRoUAAv8iQDjB2wMBBBBIfAFdRbFx43r59tvtUqZMOVm0aKF88MH70qlTpFSpUlV27vxBmjdvLI8/XkT69BkUM+Dvv//WNNQ+cOCATJo0zTTU1qNKlfK6O75ERU2XW2/Nbr6mvS3WrVsjbdq8Ls8/X8N87eDBA7Jw4XyzEkNXbjRo8Jr5uva9+PTTdXLPPfnkjjtyJT4QI0AgKARCKaggmAiKtySDRAABTwsQTni6vEwOgQQJEE4kiI0XIYBAYgoQTiSmPvdGAAEEri2wa9dOmTdvtjRv3sZs86ThRceObeSLLz6TyMgeUrx4KbMN0/nz56V79zdk+/ZvpEePvvLII4/Jtm1fS7NmDU3TbCfI0MbbLVs2lqxZs0m3br1M6JAqVaqYmzdqVM/8eejQUea6er22bVuYHhW6LdS6datNY+7cufPEGbCu8tB+Fqyo4J2MwNUC3g4qtGeNiPa3ie5xw4EAAgggEHgBwonAm3NHBGwXIJywvUKMDwEE/iFAOMGbAgEEEAgOgd27d0n37l3kxIkTJoTImjWraIixadMXpm9Ew4ZNJEeOnDJkyABZuHCedOjwhjz77HOmD8WMGe/IpEnjzESzZMkqDz5YSB566FHJmzef5MmTV7p27SRbtvxXZs9eYFZazJ37nrz77hTT5+Lee++T3bt3y/nz52JWcmhYcnUgca2vBYcso0TA3wJOUOH8LhIWpn8O8/eN/XJ9ggm/sHJRBBBAIN4ChBPxJuMFCHhegHDC8yVmggh4T4Bwwns1ZUYIIOBdgT17dsuHH34gq1d/bHpTaENrDRg6doyUNGnSmolXq/a0nD59WqZPnyNZsmQxX2vbtrlouKHbNu3du1s++eRjOXbsqGTOfIt5/d69e8x58+YtkrNnz8qAAb1l5crlUqxYSfMabdy9desWsx3UwYO/me9pj4zbb88l5ctXkPvvz+9ddGaGgKsCwR1UEEy4+mbgYggggMBNCRBO3BQfL0bAkwKEE54sK5NCwNsChBPeri+zQwAB7wrs379PUqZMabZqco5ff/1FatZ8TnLlulPGjZsi6dKlM9+qWbOanD79tyxcuDzm3B9+2CFLlnwoGzd+agKHQoUeluHDx5igomvXjpI0aVKzBVTs4EFXaXTp0t5s5ZQr112mobb+KlOmvOlloWEJBwII+CoQXEEFwYSvdeU8BBBAIDAChBOBceYuCASTAOFEMFWLsSKAgBEgnOCNgAACCHhH4OTJk9K/f0/T+FoDgzp1Xpa8ee+V3r3flM8++1TGj59igourj99++9WspHjggQJmZcbgwf2kVq260rhxM0mWLJlcvnxZTp8+JcOGDZK1a1eb/hZ67v79P8uyZYvlo48WyEsvvSxNmrTwDiYzQSCgAnYHFQQTAX0zcDMEEEDAJwHCCZ+YOAmBkBIgnAipcjNZBLwhQDjhjToyCwQQQMAROHjwoMyfP0e2bftKWrVqb1Y+LF78odmqqWzZ8qbJdrZst5rTd+78QVasWCbFi5eUhx9+1PSn6N+/l6xYsVRGjZpgVlPo4fSTaNeuhelxMWjQW2bLJz20L0Xjxi/LuXPnZP78xaYXha6s4EAAgYQK2BVUEEwktI68DgEEEPCvAOGEf325OgLBKEA4EYxVY8wIhLgA4USIvwGYPgIIhIzAqFHDZf78uXLffffLgw8+JLrKYuPG9fLHH7/La681lzp16psG29ocOzw8hYwaNTFmWygHSUMOvc7ly5ekXr1XpWzZCpItWzZznZ9//kkqVqxsGm5zIICAWwIaVOhxSUSi/xzIZtrRwYSGjUndmhDXQQABBBBwSYBwwiVILoOAhwQIJzxUTKaCQKgIEE6ESqWZJwIIhLrAiRMnzIqIDz54X44cOWw4tGF2zZp15IknypggYsGCeTJ06ACpVauONGvW+ppkU6ZMlHfeiTINuatU+Y80btxcMmXKFOq8zB+BAAloWhCYoIJgIkAl5TYIIIBAAgUIJxIIx8sQ8LAA4YSHi8vUEPCqAOGEVyvLvBBAAIHrCxw+fFj+/POw3H13HkmePLk5Ubd0GjSoryxfvsQ0xtZtnpxj376fZPPmTRIRUUZuuSWLWSUxdeokWblyuVkp0aXLm/L440UhRwCBgAr4L6ggmAhoIbkZAgggkCABwokEsfEiBDwtQDjh6fIyOQS8KUA44c26MisEEEAgvgLaFLt166Zmu6f33psvGTJkjLnEmjWfmJ4Vbdt2NFs36aHnz5s3R+bMmSmVKlWR9u07S3h4eHxvy/kIIOCKgHtBBcGEKwXhIggggIDfBQgn/E7MDRAIOgHCiaArGQNGAAHCCd4DCCCAAAKOgDa3/uWXfVKwYCHzpcuXL5vm1tu3b5OmTV+VUqVKS79+g+OAVawYIWnSpJXp02eb3zkQQCCxBeIGFToaX/tUXAkmkvy/10Riz4X7I4AAAghcT4BwgvcGAghcLUA4wXsCAQSCToBwIuhKxoARQACBgApcunTJBBRvvz1MPvxwvgkodHsnXVmxbdvXMmnSuGuGFgEdJDdDAIHrCGhQ4YQV0adcL6ggmOBNhAACCASXAOFEcNWL0SIQCAHCiUAocw8EEHBVgHDCVU4uhgACCHhW4MCB32T27BmyePFHphl2kiRhcvbsWSlWrIQ0bNhE8uW7z7NzZ2IIeEPg+kEFwYQ3KswsEEAgtAQIJ0Kr3swWAV8ECCd8UeIcBBCwSoBwwqpyMBgEEEDAeoEzZ87Ixo0b5ODBA5I/f0HJk+ceSZuW7ZysLxwDRCCOwNVBRZiIsJUTbxIEEEAgmAQIJ4KpWowVgcAIEE4Expm7IICAiwKEEy5icikEEEAAAQQQQCDoBDSo0EMDCg4EEEAAgWARIJwIlkoxTgQCJ0A4EThr7oQAAi4JEE64BMllEEAAAQQQQAABBBBAAAEEEAiQAOFEgKC5DQJBJEA4EUTFYqgIIBAtQDjBOwEBBBBAAAEEEEAAAQQQQACB4BIgnAiuejFaBAIhQDgRCGXugQACrgoQTrjKycUQQAABBBBAAAEEEEAAAQQQ8LsA4YTfibkBAkEnQDgRdCVjwAggQDjBewABBBBAAAEEEEAAAQQQQACB4BIgnAiuejFaBAIhQDgRCGXugQACrgoQTrjKycUQQAABBBBAAAEEEEAAAQQQ8LsA4YTfibkBAkEnQDgRdCVjwAggQDjBewABBBBAAAEEEEAAAQQQQACB4BIgnAiuejFaBAIhQDgRCGXugQACrgoQTrjKycUQQAABBBBAAAEEEEAAAQQQ8LsA4YTfibkBAkEnQDgRdCVjwAggQDjBewABBBBAAAEEEEAAAQQQQACB4BIgnAiuejFaBAIhQDgRCGXugQACrgoQTrjKycUQQAABBBBAAAEEEEAAAQQQ8LsA4YTfibkBAkEnQDgRdCVjwAggQDjBewABBBBAAAEEEEAg2AUOHjwoY8aMkC+/3CTnz5+Xxx57XFq2bCfZs+cI9qkxfgQQQOCaAoQTvDEQQOBqAcIJ3hMIIBB0AoQTQVcyBowAAggggAACCCAQS+D48b+kYcN6cvr0aalevYYkS5ZM3ntvhqRIkUKmTJkp6dOnxwsBBBDwnADhhOdKyoQQuGkBwombJuQCCCAQaAHCiUCLcz8EEEAAAQQQQAABNwUmThwr06dPkaiodyVv3nzm0jt3/igNGtSRevVelYYNm7h5O66FAAIIWCFAOGFFGRgEAlYJEE5YVQ4GgwACvggQTviixDkIIIAAAggggAACtgq8+OJ/JGvWbDJ69MQ4Q2zVqokcOnRQZs9eYOvQGRcCCCCQYAHCiQTT8UIEPCtAOOHZ0jIxBLwrQDjh3doyMwQQQAABBBBAwOsCx48fl8qVy0qNGrVNj4nYx+jRI2TWrOmyZMkqtnby+huB+SEQggKEEyFYdKaMwA0ECCd4iyCAQNAJEE4EXckYMAIIIIAAAggggMD/Bfbs2SX16tWUFi3aSM2adeK4zJ49Q0aOfMv0nXC2ewIOAQQQ8IoA4YRXOfppVQAAHMJJREFUKsk8EHBPgHDCPUuuhAACARIgnAgQNLdBAAEEEEAAAQQQcF1g+/ZvpEmTV+X11ztL1arV41x/wYL3ZciQATJ2bJQULFjI9XtzQQQQQCAxBQgnElOfeyNgpwDhhJ11YVQIIPAvAoQTvD0QQAABBBBAAAEEglVg27avpWnTBvL6612katXnrwon5smQIf1l3LjJUqDAg8E6RcaNAAIIXFOAcII3BgIIXC1AOMF7AgEEgk6AcCLoSsaAEUAAAQQQQAABBP4vsGvXTqlfv5a0bNlWatR4KY6Ls63TtGmzJXfuPJghgAACnhIgnPBUOZkMAq4IEE64wshFEEAgkAKEE4HU5l4IIIAAAggggAACbgqcPHlSnnqqtNSuXVeaNWsd59I0xHZTmmshgIBtAoQTtlWE8SCQ+AKEE4lfA0aAAALxFCCciCcYpyOAAAIIIIAAAghYJVCjRlXJnj2njBgxJs64WrVqIocOHZTZsxdYNV4GgwACCLghQDjhhiLXQMBbAoQT3qons0EgJAQIJ0KizEwSAQQQQAABBBDwrMC4caNk1qzpMnnyDMmT5x4zz507f5QGDepI3bqvSKNGTT07dyaGAAKhK0A4Ebq1Z+YIXE+AcIL3BgIIBJ0A4UTQlYwBI4AAAggggAACCMQSOH78L6lXr6ZcvHhRatWqKyKXZdasdyVlylQSFTVN0qfPgBcCCCDgOQHCCc+VlAkhcNMChBM3TcgFEEAg0AKEE4EW534IIIAAAggggAACbgv8+usvMmrUW7J58yZJkSK5PPzwY9K8eWvJkSOn27fieggggIAVAoQTVpSBQSBglQDhhFXlYDAIIOCLAOGEL0qcgwACCCCAAAIIIIAAAggggIA9AoQT9tSCkSBgiwDhhC2VYBwIIOCzAOGEz1SciAACCCCAAAIIIIAAAggggIAVAoQTVpSBQSBglQDhhFXlYDAIIOCLAOGEL0qcgwACCCCAAAIIIIAAAggggIA9AoQT9tSCkSBgiwDhhC2VYBwIIOCzAOGEz1SciAACCCCAAAIIIIAAAggggIAVAoQTVpSBQSBglQDhhFXlYDAIIOCLAOGEL0qcgwACCCCAAAIIIIAAAggggIA9AoQT9tSCkSBgiwDhhC2VYBwIIOCzAOGEz1SciAACCCCAAAIIIIAAAggggIAVAoQTVpSBQSBglQDhhFXlYDAIIOCLAOGEL0qcgwACCCCAAAIIIIAAAggggIA9AoQT9tSCkSBgiwDhhC2VYBwIIOCzAOGEz1SciAACCCCAAAIIIIAAAggggIAVAoQTVpSBQSBglQDhhFXlYDAIIOCLAOGEL0qcgwACCCCAAAIIIIAAAggggIA9AoQT9tSCkSBgiwDhhC2VYBwIIOCzAOGEz1SciAACCCCAAAIIIIAAAggggIAVAoQTVpSBQSBglQDhhFXlYDAIIOCLAOGEL0qcgwACCCCAAAIIIIAAAggggIA9AoQT9tSCkSBgiwDhhC2VYBwIIOCzAOGEz1SciAACCCCAAAIIIIAAAggggIAVAoQTVpSBQSBglQDhhFXlYDAIIOCLAOGEL0qcgwACCCCAAAIIIIAAAggggIA9AoQT9tSCkSBgiwDhhC2VYBwIIOCzAOGEz1SciAACCCCAAAIIIIAAAggggIAVAoQTVpSBQSBglQDhhFXlYDAIIOCLAOGEL0qcgwACCCCAAAIIIIAAAggggIA9AoQT9tSCkSBgiwDhhC2VYBwIIOCzAOGEz1SciAACCCCAAAIIIIAAAggggIAVAoQTVpSBQSBglQDhhFXlYDAIIOCLAOGEL0qcgwACCCCAAAIIIIAAAggggIA9AoQT9tSCkSBgiwDhhC2VYBwIIOCzAOGEz1SciAACCCCAAAIIIIAAAggggIAVAoQTVpSBQSBglQDhhFXlYDAIIOCLAOGEL0qcgwACCCCAAAIIIIAAAggggIA9AoQT9tSCkSBgiwDhhC2VYBwIIOCzAOGEz1SciAACCCCAAAIIIIAAAggggIAVAoQTVpSBQSBglQDhhFXlYDAIIOCLAOGEL0qcgwACCCCAAAIIIIAAAggggIA9AoQT9tSCkSBgiwDhhC2VYBwIIOCzAOGEz1SciAACCCCAAAIIIIAAAggggIAVAoQTVpSBQSBglQDhhFXlYDAIIOCLAOGEL0qcgwACCCCAAAIIIIAAAggggIA9AoQT9tSCkSBgiwDhhC2VYBwIIOCzAOGEz1SciAACCCCAAAIIIIAAAggggIAVAoQTVpSBQSBglQDhhFXlYDAIIOCLAOGEL0qcgwACCCCAAAIIIIAAAggggIA9AoQT9tSCkSBgiwDhhC2VYBwIIOCzAOGEz1SciAACCCCAAAIIIIAAAggggIAVAoQTVpSBQSBglQDhhFXlYDAIIOCLAOGEL0qcgwACCCCAAAIIIIAAAggggIA9AoQT9tSCkSBgiwDhhC2VYBwIIOCzAOGEz1SciAACCCCAAAIIIIAAAggggIAVAoQTVpSBQSBglQDhhFXlYDAIIOCLAOGEL0qcgwACCCCAAAIIIIAAAggggIA9AoQT9tSCkSBgiwDhhC2VYBwIIOCzAOGEz1SciAACCCCAAAIIIIAAAggggIAVAoQTVpSBQSBglQDhhFXlYDAIIOCLAOGEL0qcgwACCCCAAAIIIIAAAggggIA9AoQT9tSCkSBgiwDhhC2VYBwIIOCzAOGEz1SciAACCCCAAAIIIIAAAggggIAVAoQTVpSBQSBglQDhhFXlYDAIIOCLAOGEL0qcgwACCCCAAAIIIIAAAggggIA9AoQT9tSCkSBgiwDhhC2VYBwIIOCzAOGEz1SciAACCCCAAAIIIIAAAggggIAVAoQTVpSBQSBglQDhhFXlYDAIIOCLAOGEL0qcgwACCCCAAAIIIIAAAggggIA9AoQT9tSCkSBgiwDhhC2VYBwIIOCzAOGEz1SciAACCCCAAAIIIIAAAggggIAVAoQTVpSBQSBglQDhhFXlYDAIIOCLAOGEL0qcgwACCCCAAAIIIIAAAggggIA9AoQT9tSCkSBgiwDhhC2VYBwIIOCzAOGEz1SciAACCCCAAAIIIIAAAggggIAVAoQTVpSBQSBglQDhhFXlYDAIIOCLAOGEL0qcgwACCCCAAAIIIIAAAggggIA9AoQT9tSCkSBgiwDhhC2VYBwIIOCzAOGEz1SciAACCCCAAAIIIIAAAggggIAVAoQTVpSBQSBglQDhhFXlYDAIIIAAAggggAACCCCAAAIIIIAAAggggAACCHhfgHDC+zVmhggggAACCCCAAAIIIIAAAggggAACCCCAAAIIWCVAOGFVORgMAggggAACCCCAAAIIIIAAAggggAACCCCAAALeFyCc8H6NmSECCCCAAAIIIIAAAggggAACCCCAAAIIIIAAAlYJEE5YVQ4GgwACCCCAAAIIIIAAAggggAACCCCAAAIIIICA9wUIJ7xfY2aIAAIIIIAAAggggAACCCCAAAIIIIAAAggggIBVAoQTVpWDwSCAAAIIIIAAAggggAACCCCAAAIIIIAAAggg4H0Bwgnv15gZIoAAAggggAACCCCAAAIIIIAAAggggAACCCBglQDhhFXlYDAIIIAAAggggAACCCCAAAIIIIAAAggggAACCHhfgHDC+zVmhggggAACCCCAAAIIIIAAAggggAACCCCAAAIIWCVAOGFVORgMAggggAACCCCAAAIIIIAAAggggAACCCCAAALeFyCc8H6NmSECCCCAAAIIIIAAAggggAACCCCAAAIIIIAAAlYJEE5YVQ4GgwACCCCAAAIIIIAAAggggAACCCCAAAIIIICA9wUIJ7xfY2aIAAIIIIAAAggggAACCCCAAAIIIIAAAggggIBVAoQTVpWDwSCAAAIIIIAAAggggAACCCCAAAIIIIAAAggg4H0Bwgnv15gZIoAAAggggAACCCCAAAIIIIAAAggggAACCCBglQDhhFXlYDAIIIAAAggggAACCCCAAAIIIIAAAggggAACCHhfgHDC+zVmhggggAACCCCAAAIIIIAAAggggAACCCCAAAIIWCVAOGFVORgMAggggAACCCCAAAIIIIAAAggggAACCCCAAALeFyCc8H6NmSECCCCAAAIIIIAAAggggAACCCCAAAIIIIAAAlYJEE5YVQ4GgwACCCCAAAIIIIAAAggggAACCCCAAAIIIICA9wUIJ7xfY2aIAAIIIIAAAggggAACCCCAAAIIIIAAAggggIBVAoQTVpWDwSCAAAIIIIAAAggggAACCCCAAAIIIIAAAggg4H0Bwgnv15gZIoAAAggggAACCCCAAAIIIIAAAggggAACCCBglQDhhFXlYDAIIIAAAggggAACCCCAAAIIIIAAAggggAACCHhfgHDC+zVmhggggAACCCCAAAIIIIAAAggggAACCCCAAAIIWCVAOGFVORgMAggggAACCCCAAAIIIIAAAggggAACCCCAAALeFyCc8H6NmSECCCCAAAIIIIAAAggggAACCCCAAAIIIIAAAlYJEE5YVQ4GgwACCCCAAAIIIIAAAggggAACCCCAAAIIIICA9wUIJ7xfY2aIAAIIIIAAAggggAACCCCAAAIIIIAAAggggIBVAoQTVpWDwSCAAAIIIIAAAggggAACCCCAAAIIIIAAAggg4H0Bwgnv15gZIoAAAggggAACCCCAAAIIIIAAAggggAACCCBglQDhhFXlYDAIIIAAAggggAACCCCAAAIIIIAAAggggAACCHhfgHDC+zVmhggggAACCCCAAAIIIIAAAggggAACCCCAAAIIWCVAOGFVORgMAggggAACCCCAAAIIIIAAAggggAACCCCAAALeFyCc8H6NmSECCCCAAAIIIIAAAggggAACCCCAAAIIIIAAAlYJEE5YVQ4GgwACCCCAAAIIIIAAAggggAACCCCAAAIIIICA9wUIJ7xfY2aIAAIIIIAAAggggAACCCCAAAIIIIAAAggggIBVAoQTVpWDwSCAAAIIIIAAAggggAACCCCAAAIIIIAAAggg4H0Bwgnv15gZIoAAAggggAACCCCAAAIIIIAAAggggAACCCBglQDhhFXlYDAIIIAAAggggAACCCCAAAIIIIAAAggggAACCHhfgHDC+zVmhggggAACCCCAAAIIIIAAAggggAACCCCAAAIIWCVAOGFVORgMAggggAACCCCAAAIIIIAAAggggAACCCCAAALeFyCc8H6NmSECCCCAAAIIIIAAAggggAACCCCAAAIIIIAAAlYJEE5YVQ4GgwACCCCAAAIIIIAAAggggAACCCCAAAIIIICA9wUIJ7xfY2aIAAIIIIAAAggggAACCCCAAAIIIIAAAggggIBVAoQTVpWDwSCAAAIIIIAAAggggAACCCCAAAIIIIAAAggg4H0Bwgnv15gZIoAAAggggAACCCCAAAIIIIAAAggggAACCCBglQDhhFXlYDAIIIAAAggggAACCCCAAAIIIIAAAggggAACCHhfgHDC+zVmhggggAACCCCAAAIIIIAAAggggAACCCCAAAIIWCVAOGFVORgMAggggAACCCCAAAIIIIAAAggggAACCCCAAALeFyCc8H6NmSECCCCAAAIIIIAAAggggAACCCCAAAIIIIAAAlYJEE5YVQ4GgwACCCCAAAIIIIAAAggggAACCCCAAAIIIICA9wUIJ7xfY2aIAAIIIIAAAggggAACCCCAAAIIIIAAAggggIBVAoQTVpWDwSCAAAIIIIAAAggggAACCCCAAAIIIIAAAggg4H0Bwgnv15gZIoAAAggggAACCCCAAAIIIIAAAggggAACCCBglQDhhFXlYDAIIIAAAggggAACCCCAAAIIIIAAAggggAACCHhfgHDC+zVmhggggAACCCCAAAIIIIAAAggggAACCCCAAAIIWCVAOGFVORgMAggggAACCCCAAAIIIIAAAggggAACCCCAAALeFyCc8H6NmSECCCCAAAIIIIAAAggggAACCCCAAAIIIIAAAlYJEE5YVQ4GgwACCCCAAAIIIIAAAggggAACCCCAAAIIIICA9wUIJ7xfY2aIAAIIIIAAAggggAACCCCAAAIIIIAAAggggIBVAoQTVpWDwSCAAAIIIIAAAggggAACCCCAAAIIIIAAAggg4H0Bwgnv15gZIoAAAggggAACCCCAAAIIIIAAAggggAACCCBglQDhhFXlYDAIIIAAAggggAACCCCAAAIIIIAAAggggAACCHhfgHDC+zVmhggggAACCCCAAAIIIIAAAggggAACCCCAAAIIWCVAOGFVORgMAggggAACCCCAAAIIIIAAAggggAACCCCAAALeFyCc8H6NmSECCCCAAAIIIIAAAggggAACCCCAAAIIIIAAAlYJEE5YVQ4GgwACCCCAAAIIIIAAAggggAACCCCAAAIIIICA9wUIJ7xfY2aIAAIIIIAAAggggAACCCCAAAIIIIAAAggggIBVAoQTVpWDwSCAAAIIIIAAAggggAACCCCAAAIIIIAAAggg4H0Bwgnv15gZIoAAAggggAACCCCAAAIIIIAAAggggAACCCBglQDhhFXlYDAIIIAAAggggAACCCCAAAIIIIAAAggggAACCHhfgHDC+zVmhggggAACCCCAAAIIIIAAAggggAACCCCAAAIIWCVAOGFVORgMAggggAACCCCAAAIIIIAAAggggAACCCCAAALeFyCc8H6NmSECCCCAAAIIIIAAAggggAACCCCAAAIIIIAAAlYJEE5YVQ4GgwACCCCAAAIIIIAAAggggAACCCCAAAIIIICA9wUIJ7xfY2aIAAIIIIAAAggggAACCCCAAAIIIIAAAggggIBVAoQTVpWDwSCAAAIIIIAAAggggAACCCCAAAIIIIAAAggg4H0Bwgnv15gZIoAAAggggAACCCCAAAIIIIAAAggggAACCCBglQDhhFXlYDAIIIAAAggggAACCCCAAAIIIIAAAggggAACCHhfgHDC+zVmhggggAACCCCAAAIIIIAAAggggAACCCCAAAIIWCVAOGFVORgMAggggAACCCCAAAIIIIAAAggggAACCCCAAALeFyCc8H6NmSECCCCAAAIIIIAAAggggAACCCCAAAIIIIAAAlYJEE5YVQ4GgwACCCCAAAIIIIAAAggggAACCCCAAAIIIICA9wUIJ7xfY2aIAAIIIIAAAggggAACCCCAAAIIIIAAAggggIBVAoQTVpWDwSCAAAIIIIAAAggggAACCCCAAAIIIIAAAggg4H0Bwgnv15gZIoAAAggggAACCCCAAAIIIIAAAggggAACCCBglQDhhFXlYDAIIIAAAggggAACCCCAAAIIIIAAAggggAACCHhfgHDC+zVmhggggAACCCCAAAIIIIAAAggggAACCCCAAAIIWCVAOGFVORgMAggggAACCCCAAAIIIIAAAggggAACCCCAAALeFyCc8H6NmSECCCCAAAIIIIAAAggggAACCCCAAAIIIIAAAlYJEE5YVQ4GgwACCCCAAAIIIIAAAggggAACCCCAAAIIIICA9wUIJ7xfY2aIAAIIIIAAAggggAACCCCAAAIIIIAAAggggIBVAoQTVpWDwSCAAAIIIIAAAggggAACCCCAAAIIIIAAAggg4H0Bwgnv15gZIoAAAggggAACCCCAAAIIIIAAAggggAACCCBglQDhhFXlYDAIIIAAAggggAACCCCAAAIIIIAAAggggAACCHhfgHDC+zVmhggggAACCCCAAAIIIIAAAggggAACCCCAAAIIWCVAOGFVORgMAggggAACCCCAAAIIIIAAAggggAACCCCAAALeFyCc8H6NmSECCCCAAAIIIIAAAggggAACCCCAAAIIIIAAAlYJEE5YVQ4GgwACCCCAAAIIIIAAAggggAACCCCAAAIIIICA9wUIJ7xfY2aIAAIIIIAAAggggAACCCCAAAIIIIAAAggggIBVAoQTVpWDwSCAAAIIIIAAAggggAACCCCAAAIIIIAAAggg4H0Bwgnv15gZIoAAAggggAACCCCAAAIIIIAAAggggAACCCBglQDhhFXlYDAIIIAAAggggAACCCCAAAIIIIAAAggggAACCHhfgHDC+zVmhggggAACCCCAAAIIIIAAAggggAACCCCAAAIIWCVAOGFVORgMAggggAACCCCAAAIIIIAAAggggAACCCCAAALeFyCc8H6NmSECCCCAAAIIIIAAAggggAACCCCAAAIIIIAAAlYJEE5YVQ4GgwACCCCAAAIIIIAAAggggAACCCCAAAIIIICA9wUIJ7xfY2aIAAIIIIAAAggggAACCCCAAAIIIIAAAggggIBVAoQTVpWDwSCAAAIIIIAAAggggAACCCCAAAIIIIAAAggg4H2B/7VnBzUAADAIxDL/pmeDXOoAyhPnRH9jDQkQIECAAAECBAgQIECAAAECBAgQIECAwJSAc2JqDmEIECBAgAABAgQIECBAgAABAgQIECBAgEBfwDnR31hDAgQIECBAgAABAgQIECBAgAABAgQIECAwJeCcmJpDGAIECBAgQIAAAQIECBAgQIAAAQIECBAg0BdwTvQ31pAAAQIECBAgQIAAAQIECBAgQIAAAQIECEwJOCem5hCGAAECBAgQIECAAAECBAgQIECAAAECBAj0BZwT/Y01JECAAAECBAgQIECAAAECBAgQIECAAAECUwLOiak5hCFAgAABAgQIECBAgAABAgQIECBAgAABAn0B50R/Yw0JECBAgAABAgQIECBAgAABAgQIECBAgMCUgHNiag5hCBAgQIAAAQIECBAgQIAAAQIECBAgQIBAX8A50d9YQwIECBAgQIAAAQIECBAgQIAAAQIECBAgMCXgnJiaQxgCBAgQIECAAAECBAgQIECAAAECBAgQINAXcE70N9aQAAECBAgQIECAAAECBAgQIECAAAECBAhMCTgnpuYQhgABAgQIECBAgAABAgQIECBAgAABAgQI9AWcE/2NNSRAgAABAgQIECBAgAABAgQIECBAgAABAlMCzompOYQhQIAAAQIECBAgQIAAAQIECBAgQIAAAQJ9AedEf2MNCRAgQIAAAQIECBAgQIAAAQIECBAgQIDAlIBzYmoOYQgQIECAAAECBAgQIECAAAECBAgQIECAQF/AOdHfWEMCBAgQIECAAAECBAgQIECAAAECBAgQIDAl4JyYmkMYAgQIECBAgAABAgQIECBAgAABAgQIECDQF3BO9DfWkAABAgQIECBAgAABAgQIECBAgAABAgQITAk4J6bmEIYAAQIECBAgQIAAAQIECBAgQIAAAQIECPQFnBP9jTUkQIAAAQIECBAgQIAAAQIECBAgQIAAAQJTAs6JqTmEIUCAAAECBAgQIECAAAECBAgQIECAAAECfQHnRH9jDQkQIECAAAECBAgQIECAAAECBAgQIECAwJSAc2JqDmEIECBAgAABAgQIECBAgAABAgQIECBAgEBfwDnR31hDAgQIECBAgAABAgQIECBAgAABAgQIECAwJeCcmJpDGAIECBAgQIAAAQIECBAgQIAAAQIECBAg0BdwTvQ31pAAAQIECBAgQIAAAQIECBAgQIAAAQIECEwJOCem5hCGAAECBAgQIECAAAECBAgQIECAAAECBAj0BZwT/Y01JECAAAECBAgQIECAAAECBAgQIECAAAECUwLOiak5hCFAgAABAgQIECBAgAABAgQIECBAgAABAn0B50R/Yw0JECBAgAABAgQIECBAgAABAgQIECBAgMCUwE2lEYYAAQIECBAgQIAAAQIECBAgQIAAAQIECBDICzxdeVaVmU3hBwAAAABJRU5ErkJggg==\" width=\"1200\">"
      ],
      "text/plain": [
       "<IPython.core.display.HTML object>"
      ]
     },
     "metadata": {},
     "output_type": "display_data"
    }
   ],
   "source": [
    "# plot clusters and centroids\n",
    "%matplotlib notebook\n",
    "fig = plt.figure(figsize = (12,10))\n",
    "ax = fig.add_subplot(111, projection = '3d')\n",
    "#syntax\n",
    "##ax.scatter(x , y , z , c = , cmap = , marker = , edgecolor = , s = , alpha)\n",
    "ax.scatter(x[:,0], x[:,1], x[:,2], c=model.labels_, cmap='viridis', marker='o', edgecolor='k', s = 100, alpha = 0.5)\n",
    "ax.scatter(model.cluster_centers_[:,0], model.cluster_centers_[:,1], model.cluster_centers_[:,2], s = 100, c = 'r', marker='o', label = 'Centroid')\n",
    "ax.set_title(\"3D Kmeans clustering\")\n",
    "ax.set_xlabel(\"X\")\n",
    "ax.set_ylabel(\"Y\")   \n",
    "ax.set_zlabel(\"Z\")\n",
    "plt.show()"
   ]
  },
  {
   "cell_type": "markdown",
   "id": "1fdd8fe2",
   "metadata": {},
   "source": [
    "## Cluster Evaluation"
   ]
  },
  {
   "cell_type": "markdown",
   "id": "8c23ee00",
   "metadata": {},
   "source": [
    "**Silhouette coefficient:**  \n",
    "\n",
    "Silhouette coefficient is a Metric it is used for calculating goodness of clustering technique and the value ranges is (-1 to +1). It tells how similar an object is to its own cluster (cohesion) compared to other clusters (separation).\n",
    "\n",
    "A score of 1 denotes the best meaning that the data point is very compact within the cluster to which it belongs and far away from the other clusters. \n",
    "\n",
    "Values near 0 denote overlapping clusters.\n"
   ]
  },
  {
   "cell_type": "code",
   "execution_count": 99,
   "id": "5052fb99",
   "metadata": {},
   "outputs": [],
   "source": [
    "from sklearn import metrics"
   ]
  },
  {
   "cell_type": "code",
   "execution_count": 100,
   "id": "04a0a981",
   "metadata": {},
   "outputs": [
    {
     "data": {
      "text/plain": [
       "0.13538248885189821"
      ]
     },
     "execution_count": 100,
     "metadata": {},
     "output_type": "execute_result"
    }
   ],
   "source": [
    "metrics.silhouette_score(df_norm, model.labels_)"
   ]
  },
  {
   "cell_type": "markdown",
   "id": "63be1e47",
   "metadata": {},
   "source": [
    "**Calinski Harabasz:**\n",
    "\n",
    "Higher value of CH index means cluster are well separated. There is no acceptable ot cut-off value defined."
   ]
  },
  {
   "cell_type": "code",
   "execution_count": 101,
   "id": "205e412d",
   "metadata": {},
   "outputs": [
    {
     "data": {
      "text/plain": [
       "4.6853045407324245"
      ]
     },
     "execution_count": 101,
     "metadata": {},
     "output_type": "execute_result"
    }
   ],
   "source": [
    "metrics.calinski_harabasz_score(df_norm, model.labels_)"
   ]
  },
  {
   "cell_type": "markdown",
   "id": "8ed328fb",
   "metadata": {},
   "source": [
    "**Davies-Bouldin Index:**\n",
    "\n",
    "Unlike the previous two metrics, this score measures the similarity of clusters.\n",
    "\n",
    "The lower the score the better separation there is between your clusters."
   ]
  },
  {
   "cell_type": "code",
   "execution_count": 102,
   "id": "e0784481",
   "metadata": {},
   "outputs": [
    {
     "data": {
      "text/plain": [
       "1.7894357851399423"
      ]
     },
     "execution_count": 102,
     "metadata": {},
     "output_type": "execute_result"
    }
   ],
   "source": [
    "metrics.davies_bouldin_score(df_norm, model.labels_)"
   ]
  },
  {
   "cell_type": "markdown",
   "id": "4335760e",
   "metadata": {},
   "source": [
    "### Evaluation of Number of Clusters using Silhouette Coefficient Technique"
   ]
  },
  {
   "cell_type": "code",
   "execution_count": 111,
   "id": "5629a913",
   "metadata": {},
   "outputs": [],
   "source": [
    "from sklearn.metrics import silhouette_score\n",
    "\n",
    "silhouette_coefficients = []\n",
    "\n",
    "for k in range (2, 11):\n",
    "    kmeans = KMeans(n_clusters = k, init = \"random\", random_state = 1)\n",
    "    kmeans.fit(df_norm)\n",
    "    score = silhouette_score(df_norm, kmeans.labels_)\n",
    "    k = k\n",
    "    Sil_coff = score\n",
    "    silhouette_coefficients.append([k, Sil_coff])"
   ]
  },
  {
   "cell_type": "code",
   "execution_count": 112,
   "id": "e3a9688f",
   "metadata": {},
   "outputs": [
    {
     "data": {
      "text/plain": [
       "[[2, 0.23298515684997942],\n",
       " [3, 0.09962726110001235],\n",
       " [4, 0.10154034415233065],\n",
       " [5, 0.1196212003353939],\n",
       " [6, 0.11875660299293125],\n",
       " [7, 0.15239447678689935],\n",
       " [8, 0.140173657016193],\n",
       " [9, 0.15798578318720788],\n",
       " [10, 0.16929930844849875]]"
      ]
     },
     "execution_count": 112,
     "metadata": {},
     "output_type": "execute_result"
    }
   ],
   "source": [
    "silhouette_coefficients"
   ]
  },
  {
   "cell_type": "markdown",
   "id": "b9e3050a",
   "metadata": {},
   "source": [
    "Shilhouette Coeffficients shows, the number of clusters `k = 2` as the best value"
   ]
  }
 ],
 "metadata": {
  "kernelspec": {
   "display_name": "Python 3 (ipykernel)",
   "language": "python",
   "name": "python3"
  },
  "language_info": {
   "codemirror_mode": {
    "name": "ipython",
    "version": 3
   },
   "file_extension": ".py",
   "mimetype": "text/x-python",
   "name": "python",
   "nbconvert_exporter": "python",
   "pygments_lexer": "ipython3",
   "version": "3.9.12"
  }
 },
 "nbformat": 4,
 "nbformat_minor": 5
}
